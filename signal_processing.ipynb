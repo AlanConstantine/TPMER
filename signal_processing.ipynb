{
 "cells": [
  {
   "cell_type": "code",
   "execution_count": 2,
   "metadata": {},
   "outputs": [],
   "source": [
    "import pandas as pd\n",
    "import numpy as np\n",
    "import os\n",
    "import zipfile\n",
    "from tools import *\n",
    "from CONSTANT import *\n",
    "import gc\n",
    "from tqdm import tqdm\n",
    "\n",
    "signals = ['BVP', 'EDA', 'HR', 'TEMP']\n",
    "\n",
    "import matplotlib.pyplot as plt\n",
    "from sklearn.cluster import KMeans\n",
    "\n",
    "# pd.set_option(\"display.max_info_columns\", 1300)\n",
    "\n",
    "import gc\n",
    "\n",
    "%matplotlib inline"
   ]
  },
  {
   "cell_type": "code",
   "execution_count": 2,
   "metadata": {},
   "outputs": [],
   "source": [
    "wesad_path = r'./WESAD/WESAD/'\n",
    "ppg_path = r'./PPGFieldStudyDataset/PPG_FieldStudy/'"
   ]
  },
  {
   "cell_type": "code",
   "execution_count": 3,
   "metadata": {},
   "outputs": [],
   "source": [
    "def extract_E4zip(folderpath):\n",
    "    for root, dir, files in os.walk(folderpath):\n",
    "        for file in files:\n",
    "            if '.zip' not in file and 'E4' not in file:\n",
    "                continue\n",
    "            filename = os.path.join(root, file)\n",
    "            with zipfile.ZipFile(filename,\"r\") as zip_ref:\n",
    "                zip_ref.extractall(filename.replace('.zip',''))\n",
    "    print(filename, 'done')"
   ]
  },
  {
   "cell_type": "code",
   "execution_count": 4,
   "metadata": {},
   "outputs": [],
   "source": [
    "# extract_E4zip(wesad_path)\n",
    "# extract_E4zip(ppg_path)"
   ]
  },
  {
   "attachments": {},
   "cell_type": "markdown",
   "metadata": {},
   "source": [
    "# get label"
   ]
  },
  {
   "cell_type": "code",
   "execution_count": 5,
   "metadata": {},
   "outputs": [],
   "source": [
    "# label_file = r'./WESAD/WESAD/S10/S10_quest.csv'\n",
    "\n",
    "def get_label(quest_file):\n",
    "    labels = pd.read_csv(quest_file)\n",
    "    conditions = labels.loc[0].values[0].replace('# ORDER;', '').replace(';bRead;fRead;sRead;;;;;;;;;;;;;;;;;;', '').split(';')\n",
    "    starts = [float(t) * 60 for t in labels.iloc[1].values[0].split(';')[1:6]]\n",
    "    ends = [float(t) * 60 for t in labels.iloc[2].values[0].split(';')[1:6]]\n",
    "    va = [sc[0].replace('# DIM;', '')[:3].split(';') for sc in labels.iloc[16: 21].values]\n",
    "    valence = [float(sc[0]) for sc in va]\n",
    "    arousal = [float(sc[1]) for sc in va]\n",
    "    return conditions, starts, ends, valence, arousal\n"
   ]
  },
  {
   "cell_type": "code",
   "execution_count": 7,
   "metadata": {},
   "outputs": [],
   "source": [
    "def signal_process(signal_name, raw_signal, valence, arousal, starts, ends, subject, conditions, win_size=4, step=2, output_fs=32):\n",
    "    \n",
    "    if signal_name == 'HR':\n",
    "        raw_signal = raw_signal.iloc[2:, 0].values\n",
    "    else:\n",
    "        raw_signal = raw_signal.iloc[2+SAMPLERATE[signal_name]*10:, 0].values\n",
    "    base_condition = raw_signal[int(starts[0]*SAMPLERATE[signal_name]): int(ends[0]*SAMPLERATE[signal_name])+1]\n",
    "    baseline = base_condition.mean()\n",
    "\n",
    "    signal_df = []\n",
    "    \n",
    "    for i in range(1, 5):\n",
    "        condition_signal = raw_signal[int(starts[i]*SAMPLERATE[signal_name]): int(ends[i]*SAMPLERATE[signal_name])+1]\n",
    "        # if i == 0:\n",
    "        #     condition_signal = raw_signal\n",
    "        # else:\n",
    "        condition_signal = condition_signal - baseline\n",
    "        signal = (condition_signal - condition_signal.min()) / (condition_signal.max() - condition_signal.min())\n",
    "        condition = conditions[i]\n",
    "\n",
    "        if signal_name == 'EDA':\n",
    "            signal = butter_lowpass_filter(signal, cutOff=CUTOFF['EDA'], fs=SAMPLERATE['EDA'])\n",
    "            signal = resample_by_interpolation(signal, input_fs=SAMPLERATE['EDA'], output_fs=output_fs)\n",
    "        elif signal_name in ['TEMP', 'BVP']:\n",
    "            signal = butter_bandpass_filter(signal, lowcut=CUTOFF[signal_name][0], highcut=CUTOFF[signal_name][1], fs=SAMPLERATE[signal_name])\n",
    "            signal = resample_by_interpolation(signal, input_fs=SAMPLERATE[signal_name], output_fs=output_fs)\n",
    "        elif signal_name == 'HR':\n",
    "            # signal = chauvenet_filter(signal)\n",
    "            # print(signal)\n",
    "            signal = resample_by_interpolation(signal, input_fs=SAMPLERATE[signal_name], output_fs=output_fs)\n",
    "        else:\n",
    "            pass\n",
    "\n",
    "        segments = np.array(segment_generator(signal, win_size=win_size*output_fs, step=step*output_fs))\n",
    "        seg_cols = ['{}_seg{}'.format(signal_name, i) for i in range(segments.shape[1])]\n",
    "        segment_df = pd.DataFrame(columns=seg_cols, data=segments)\n",
    "\n",
    "        segment_df['segment_id'] = segment_df.index.tolist()\n",
    "        segment_df['condition'] = condition\n",
    "        segment_df['valence_rating'] = valence[i]\n",
    "        segment_df['arousal_rating'] = arousal[i]\n",
    "        segment_df['participant_id'] = subject\n",
    "\n",
    "        signal_df.append(segment_df)\n",
    "    return pd.concat(signal_df)"
   ]
  },
  {
   "cell_type": "code",
   "execution_count": 8,
   "metadata": {},
   "outputs": [
    {
     "name": "stdout",
     "output_type": "stream",
     "text": [
      "Mem. usage decreased to 41.15 Mb (74.9% reduction)\n",
      "Final (13918, 1540)\n"
     ]
    },
    {
     "data": {
      "text/plain": [
       "0"
      ]
     },
     "execution_count": 8,
     "metadata": {},
     "output_type": "execute_result"
    }
   ],
   "source": [
    "subjects = ['S6', 'S9', 'S2', 'S13', 'S11', 'S10', 'S8', 'S14',\n",
    "            'S15', 'S5', 'S17', 'S16', 'S3', 'S7', 'S4']\n",
    "\n",
    "valences = []\n",
    "arousals = []\n",
    "\n",
    "all_signals_df = []\n",
    "\n",
    "\n",
    "for subject in subjects:\n",
    "      quest_file = os.path.join(wesad_path, subject, '{}_quest.csv'.format(subject))\n",
    "      conditions, starts, ends, valence, arousal = get_label(quest_file)\n",
    "      e4_path = os.path.join(wesad_path, subject, '{}_E4_Data'.format(subject))\n",
    "      valences.extend(valence)\n",
    "      arousals.extend(arousal)\n",
    "\n",
    "      hr_signal = pd.read_csv(os.path.join(e4_path, '{}.csv'.format('HR')))\n",
    "      eda_signal = pd.read_csv(os.path.join(e4_path, '{}.csv'.format('EDA')))\n",
    "      bvp_signal = pd.read_csv(os.path.join(e4_path, '{}.csv'.format('BVP')))\n",
    "      temp_signal = pd.read_csv(os.path.join(e4_path, '{}.csv'.format('TEMP')))\n",
    "\n",
    "      # hr_signal_ts = hr_signal.columns.tolist()[0]\n",
    "      # eda_signal_ts = eda_signal.columns.tolist()[0]\n",
    "      # temp_signal_ts = temp_signal.columns.tolist()[0]\n",
    "      # bvp_signal_ts = bvp_signal.columns.tolist()[0]\n",
    "      # print(hr_signal_ts, eda_signal_ts, temp_signal_ts, bvp_signal_ts)\n",
    "\n",
    "      hr_df = signal_process('HR', hr_signal, valence, arousal, starts, ends, subject, conditions, win_size=12, step=2)\n",
    "      eda_df = signal_process('EDA', eda_signal, valence, arousal, starts, ends, subject, conditions, win_size=12, step=2)\n",
    "      temp_df = signal_process('TEMP', temp_signal, valence, arousal, starts, ends, subject, conditions, win_size=12, step=2)\n",
    "      bvp_df = signal_process('BVP', bvp_signal, valence, arousal, starts, ends, subject, conditions, win_size=12, step=2)\n",
    "\n",
    "      # condition_shap = {'TSST': float('inf'), 'Medi 1': float('inf'), 'Medi 2': float('inf'), 'Fun': float('inf')}\n",
    "      condition_shap = {}\n",
    "\n",
    "      for cond in ['TSST', 'Medi 1', 'Medi 2', 'Fun']:\n",
    "            condition_shap[cond] = min(hr_df['condition'].value_counts().to_dict()[cond], \n",
    "            eda_df['condition'].value_counts().to_dict()[cond],\n",
    "            temp_df['condition'].value_counts().to_dict()[cond],\n",
    "            bvp_df['condition'].value_counts().to_dict()[cond]\n",
    "            )\n",
    "\n",
    "      def reshape_df(df):\n",
    "            dfs = []\n",
    "            for cond in condition_shap.keys():\n",
    "                  dfs.append(df[df['condition']==cond].iloc[:condition_shap[cond]])\n",
    "            return pd.concat(dfs)\n",
    "\n",
    "      hr_df = reshape_df(hr_df)\n",
    "      eda_df = reshape_df(eda_df)\n",
    "      temp_df = reshape_df(temp_df)\n",
    "      bvp_df = reshape_df(bvp_df)\n",
    "\n",
    "      bvp_eda_df = bvp_df.merge(eda_df, on=['segment_id', 'condition', 'valence_rating', 'arousal_rating', 'participant_id'], how='left')\n",
    "      bvp_eda_hr_df = bvp_eda_df.merge(hr_df, on=['segment_id', 'condition', 'valence_rating', 'arousal_rating', 'participant_id'], how='left')\n",
    "      bvp_eda_hr_temp_df = bvp_eda_hr_df.merge(temp_df, on=['segment_id', 'condition', 'valence_rating', 'arousal_rating', 'participant_id'], how='left')\n",
    "\n",
    "      del bvp_eda_hr_temp_df['segment_id']\n",
    "\n",
    "      # print(bvp_eda_hr_temp_df.isnull().sum().sum(), bvp_eda_hr_temp_df.shape)\n",
    "\n",
    "      all_signals_df.append(bvp_eda_hr_temp_df)\n",
    "\n",
    "      # bvp_eda_hr_temp_df = reduce_mem_usage(bvp_eda_hr_temp_df, un_process=['segment_id', 'participant_id', 'condition'])\n",
    "      # gc.collect()\n",
    "\n",
    "      # print(hr_df.shape, eda_df.shape, temp_df.shape, bvp_df.shape)\n",
    "\n",
    "\n",
    "      # print(hr_df['condition'].value_counts().to_dict(), \n",
    "      #       eda_df['condition'].value_counts().to_dict(), \n",
    "      #       temp_df['condition'].value_counts().to_dict(), \n",
    "      #       bvp_df['condition'].value_counts().to_dict())\n",
    "      # print()\n",
    "\n",
    "      # break\n",
    "\n",
    "all_signals_df = pd.concat(all_signals_df)\n",
    "all_signals_df = reduce_mem_usage(all_signals_df, un_process=['participant_id'])\n",
    "gc.collect()"
   ]
  },
  {
   "cell_type": "code",
   "execution_count": 9,
   "metadata": {},
   "outputs": [
    {
     "name": "stderr",
     "output_type": "stream",
     "text": [
      "/home/alan/anaconda3/lib/python3.7/site-packages/ipykernel_launcher.py:1: PerformanceWarning: DataFrame is highly fragmented.  This is usually the result of calling `frame.insert` many times, which has poor performance.  Consider joining all columns at once using pd.concat(axis=1) instead.  To get a de-fragmented frame, use `newframe = frame.copy()`\n",
      "  \"\"\"Entry point for launching an IPython kernel.\n",
      "/home/alan/anaconda3/lib/python3.7/site-packages/ipykernel_launcher.py:2: PerformanceWarning: DataFrame is highly fragmented.  This is usually the result of calling `frame.insert` many times, which has poor performance.  Consider joining all columns at once using pd.concat(axis=1) instead.  To get a de-fragmented frame, use `newframe = frame.copy()`\n",
      "  \n"
     ]
    }
   ],
   "source": [
    "all_signals_df['arousal'] = all_signals_df['arousal_rating'].astype(float)\n",
    "all_signals_df['valence'] = all_signals_df['valence_rating'].astype(float)"
   ]
  },
  {
   "cell_type": "code",
   "execution_count": 10,
   "metadata": {},
   "outputs": [
    {
     "data": {
      "text/plain": [
       "0"
      ]
     },
     "execution_count": 10,
     "metadata": {},
     "output_type": "execute_result"
    }
   ],
   "source": [
    "all_signals_df.isnull().sum().sum()"
   ]
  },
  {
   "cell_type": "code",
   "execution_count": 11,
   "metadata": {},
   "outputs": [
    {
     "data": {
      "text/html": [
       "<div>\n",
       "<style scoped>\n",
       "    .dataframe tbody tr th:only-of-type {\n",
       "        vertical-align: middle;\n",
       "    }\n",
       "\n",
       "    .dataframe tbody tr th {\n",
       "        vertical-align: top;\n",
       "    }\n",
       "\n",
       "    .dataframe thead th {\n",
       "        text-align: right;\n",
       "    }\n",
       "</style>\n",
       "<table border=\"1\" class=\"dataframe\">\n",
       "  <thead>\n",
       "    <tr style=\"text-align: right;\">\n",
       "      <th></th>\n",
       "      <th>BVP_seg0</th>\n",
       "      <th>BVP_seg1</th>\n",
       "      <th>BVP_seg2</th>\n",
       "      <th>BVP_seg3</th>\n",
       "      <th>BVP_seg4</th>\n",
       "      <th>BVP_seg5</th>\n",
       "      <th>BVP_seg6</th>\n",
       "      <th>BVP_seg7</th>\n",
       "      <th>BVP_seg8</th>\n",
       "      <th>BVP_seg9</th>\n",
       "      <th>...</th>\n",
       "      <th>TEMP_seg376</th>\n",
       "      <th>TEMP_seg377</th>\n",
       "      <th>TEMP_seg378</th>\n",
       "      <th>TEMP_seg379</th>\n",
       "      <th>TEMP_seg380</th>\n",
       "      <th>TEMP_seg381</th>\n",
       "      <th>TEMP_seg382</th>\n",
       "      <th>TEMP_seg383</th>\n",
       "      <th>arousal</th>\n",
       "      <th>valence</th>\n",
       "    </tr>\n",
       "  </thead>\n",
       "  <tbody>\n",
       "    <tr>\n",
       "      <th>count</th>\n",
       "      <td>13918.000000</td>\n",
       "      <td>13918.000000</td>\n",
       "      <td>13918.000000</td>\n",
       "      <td>13918.000000</td>\n",
       "      <td>13918.000000</td>\n",
       "      <td>13918.000000</td>\n",
       "      <td>13918.000000</td>\n",
       "      <td>13918.000000</td>\n",
       "      <td>13918.000000</td>\n",
       "      <td>13918.000000</td>\n",
       "      <td>...</td>\n",
       "      <td>13918.000000</td>\n",
       "      <td>13918.000000</td>\n",
       "      <td>13918.000000</td>\n",
       "      <td>13918.000000</td>\n",
       "      <td>13918.000000</td>\n",
       "      <td>13918.000000</td>\n",
       "      <td>13918.000000</td>\n",
       "      <td>13918.000000</td>\n",
       "      <td>13918.000000</td>\n",
       "      <td>13918.000000</td>\n",
       "    </tr>\n",
       "    <tr>\n",
       "      <th>mean</th>\n",
       "      <td>0.000177</td>\n",
       "      <td>0.000527</td>\n",
       "      <td>0.001268</td>\n",
       "      <td>0.001275</td>\n",
       "      <td>0.000340</td>\n",
       "      <td>-0.000506</td>\n",
       "      <td>-0.000761</td>\n",
       "      <td>-0.000777</td>\n",
       "      <td>-0.000860</td>\n",
       "      <td>-0.000929</td>\n",
       "      <td>...</td>\n",
       "      <td>-0.006363</td>\n",
       "      <td>-0.006382</td>\n",
       "      <td>-0.006405</td>\n",
       "      <td>-0.006428</td>\n",
       "      <td>-0.006443</td>\n",
       "      <td>-0.006462</td>\n",
       "      <td>-0.006485</td>\n",
       "      <td>-0.006504</td>\n",
       "      <td>4.088806</td>\n",
       "      <td>5.976649</td>\n",
       "    </tr>\n",
       "    <tr>\n",
       "      <th>std</th>\n",
       "      <td>0.035828</td>\n",
       "      <td>0.036407</td>\n",
       "      <td>0.039734</td>\n",
       "      <td>0.039978</td>\n",
       "      <td>0.036285</td>\n",
       "      <td>0.036804</td>\n",
       "      <td>0.037476</td>\n",
       "      <td>0.037415</td>\n",
       "      <td>0.037689</td>\n",
       "      <td>0.037842</td>\n",
       "      <td>...</td>\n",
       "      <td>0.096863</td>\n",
       "      <td>0.096863</td>\n",
       "      <td>0.096863</td>\n",
       "      <td>0.096802</td>\n",
       "      <td>0.096741</td>\n",
       "      <td>0.096741</td>\n",
       "      <td>0.096619</td>\n",
       "      <td>0.096558</td>\n",
       "      <td>2.610416</td>\n",
       "      <td>1.806939</td>\n",
       "    </tr>\n",
       "    <tr>\n",
       "      <th>min</th>\n",
       "      <td>-0.322510</td>\n",
       "      <td>-0.354980</td>\n",
       "      <td>-0.401367</td>\n",
       "      <td>-0.436523</td>\n",
       "      <td>-0.451416</td>\n",
       "      <td>-0.412598</td>\n",
       "      <td>-0.396973</td>\n",
       "      <td>-0.489746</td>\n",
       "      <td>-0.490967</td>\n",
       "      <td>-0.386719</td>\n",
       "      <td>...</td>\n",
       "      <td>-0.387939</td>\n",
       "      <td>-0.387939</td>\n",
       "      <td>-0.387695</td>\n",
       "      <td>-0.387695</td>\n",
       "      <td>-0.387695</td>\n",
       "      <td>-0.387695</td>\n",
       "      <td>-0.387695</td>\n",
       "      <td>-0.387695</td>\n",
       "      <td>1.000000</td>\n",
       "      <td>1.000000</td>\n",
       "    </tr>\n",
       "    <tr>\n",
       "      <th>25%</th>\n",
       "      <td>-0.012672</td>\n",
       "      <td>-0.012466</td>\n",
       "      <td>-0.012510</td>\n",
       "      <td>-0.012489</td>\n",
       "      <td>-0.012386</td>\n",
       "      <td>-0.012625</td>\n",
       "      <td>-0.012733</td>\n",
       "      <td>-0.013046</td>\n",
       "      <td>-0.013168</td>\n",
       "      <td>-0.013197</td>\n",
       "      <td>...</td>\n",
       "      <td>-0.047272</td>\n",
       "      <td>-0.047318</td>\n",
       "      <td>-0.047295</td>\n",
       "      <td>-0.047256</td>\n",
       "      <td>-0.047333</td>\n",
       "      <td>-0.047256</td>\n",
       "      <td>-0.047264</td>\n",
       "      <td>-0.047295</td>\n",
       "      <td>2.000000</td>\n",
       "      <td>5.000000</td>\n",
       "    </tr>\n",
       "    <tr>\n",
       "      <th>50%</th>\n",
       "      <td>0.000126</td>\n",
       "      <td>0.000241</td>\n",
       "      <td>0.000186</td>\n",
       "      <td>0.000237</td>\n",
       "      <td>0.000193</td>\n",
       "      <td>-0.000083</td>\n",
       "      <td>-0.000044</td>\n",
       "      <td>-0.000037</td>\n",
       "      <td>0.000004</td>\n",
       "      <td>-0.000101</td>\n",
       "      <td>...</td>\n",
       "      <td>-0.001260</td>\n",
       "      <td>-0.001244</td>\n",
       "      <td>-0.001229</td>\n",
       "      <td>-0.001245</td>\n",
       "      <td>-0.001314</td>\n",
       "      <td>-0.001297</td>\n",
       "      <td>-0.001274</td>\n",
       "      <td>-0.001217</td>\n",
       "      <td>3.000000</td>\n",
       "      <td>6.000000</td>\n",
       "    </tr>\n",
       "    <tr>\n",
       "      <th>75%</th>\n",
       "      <td>0.012077</td>\n",
       "      <td>0.012548</td>\n",
       "      <td>0.012526</td>\n",
       "      <td>0.012650</td>\n",
       "      <td>0.012527</td>\n",
       "      <td>0.012251</td>\n",
       "      <td>0.012306</td>\n",
       "      <td>0.012327</td>\n",
       "      <td>0.012344</td>\n",
       "      <td>0.012236</td>\n",
       "      <td>...</td>\n",
       "      <td>0.041931</td>\n",
       "      <td>0.042046</td>\n",
       "      <td>0.042084</td>\n",
       "      <td>0.042046</td>\n",
       "      <td>0.042053</td>\n",
       "      <td>0.042053</td>\n",
       "      <td>0.042084</td>\n",
       "      <td>0.042015</td>\n",
       "      <td>7.000000</td>\n",
       "      <td>7.000000</td>\n",
       "    </tr>\n",
       "    <tr>\n",
       "      <th>max</th>\n",
       "      <td>0.394775</td>\n",
       "      <td>0.399902</td>\n",
       "      <td>0.431152</td>\n",
       "      <td>0.413330</td>\n",
       "      <td>0.367676</td>\n",
       "      <td>0.354980</td>\n",
       "      <td>0.386719</td>\n",
       "      <td>0.473145</td>\n",
       "      <td>0.427490</td>\n",
       "      <td>0.383301</td>\n",
       "      <td>...</td>\n",
       "      <td>0.462402</td>\n",
       "      <td>0.459473</td>\n",
       "      <td>0.456543</td>\n",
       "      <td>0.453613</td>\n",
       "      <td>0.450684</td>\n",
       "      <td>0.447754</td>\n",
       "      <td>0.444824</td>\n",
       "      <td>0.441895</td>\n",
       "      <td>9.000000</td>\n",
       "      <td>9.000000</td>\n",
       "    </tr>\n",
       "  </tbody>\n",
       "</table>\n",
       "<p>8 rows × 1540 columns</p>\n",
       "</div>"
      ],
      "text/plain": [
       "           BVP_seg0      BVP_seg1      BVP_seg2      BVP_seg3      BVP_seg4  \\\n",
       "count  13918.000000  13918.000000  13918.000000  13918.000000  13918.000000   \n",
       "mean       0.000177      0.000527      0.001268      0.001275      0.000340   \n",
       "std        0.035828      0.036407      0.039734      0.039978      0.036285   \n",
       "min       -0.322510     -0.354980     -0.401367     -0.436523     -0.451416   \n",
       "25%       -0.012672     -0.012466     -0.012510     -0.012489     -0.012386   \n",
       "50%        0.000126      0.000241      0.000186      0.000237      0.000193   \n",
       "75%        0.012077      0.012548      0.012526      0.012650      0.012527   \n",
       "max        0.394775      0.399902      0.431152      0.413330      0.367676   \n",
       "\n",
       "           BVP_seg5      BVP_seg6      BVP_seg7      BVP_seg8      BVP_seg9  \\\n",
       "count  13918.000000  13918.000000  13918.000000  13918.000000  13918.000000   \n",
       "mean      -0.000506     -0.000761     -0.000777     -0.000860     -0.000929   \n",
       "std        0.036804      0.037476      0.037415      0.037689      0.037842   \n",
       "min       -0.412598     -0.396973     -0.489746     -0.490967     -0.386719   \n",
       "25%       -0.012625     -0.012733     -0.013046     -0.013168     -0.013197   \n",
       "50%       -0.000083     -0.000044     -0.000037      0.000004     -0.000101   \n",
       "75%        0.012251      0.012306      0.012327      0.012344      0.012236   \n",
       "max        0.354980      0.386719      0.473145      0.427490      0.383301   \n",
       "\n",
       "       ...   TEMP_seg376   TEMP_seg377   TEMP_seg378   TEMP_seg379  \\\n",
       "count  ...  13918.000000  13918.000000  13918.000000  13918.000000   \n",
       "mean   ...     -0.006363     -0.006382     -0.006405     -0.006428   \n",
       "std    ...      0.096863      0.096863      0.096863      0.096802   \n",
       "min    ...     -0.387939     -0.387939     -0.387695     -0.387695   \n",
       "25%    ...     -0.047272     -0.047318     -0.047295     -0.047256   \n",
       "50%    ...     -0.001260     -0.001244     -0.001229     -0.001245   \n",
       "75%    ...      0.041931      0.042046      0.042084      0.042046   \n",
       "max    ...      0.462402      0.459473      0.456543      0.453613   \n",
       "\n",
       "        TEMP_seg380   TEMP_seg381   TEMP_seg382   TEMP_seg383       arousal  \\\n",
       "count  13918.000000  13918.000000  13918.000000  13918.000000  13918.000000   \n",
       "mean      -0.006443     -0.006462     -0.006485     -0.006504      4.088806   \n",
       "std        0.096741      0.096741      0.096619      0.096558      2.610416   \n",
       "min       -0.387695     -0.387695     -0.387695     -0.387695      1.000000   \n",
       "25%       -0.047333     -0.047256     -0.047264     -0.047295      2.000000   \n",
       "50%       -0.001314     -0.001297     -0.001274     -0.001217      3.000000   \n",
       "75%        0.042053      0.042053      0.042084      0.042015      7.000000   \n",
       "max        0.450684      0.447754      0.444824      0.441895      9.000000   \n",
       "\n",
       "            valence  \n",
       "count  13918.000000  \n",
       "mean       5.976649  \n",
       "std        1.806939  \n",
       "min        1.000000  \n",
       "25%        5.000000  \n",
       "50%        6.000000  \n",
       "75%        7.000000  \n",
       "max        9.000000  \n",
       "\n",
       "[8 rows x 1540 columns]"
      ]
     },
     "execution_count": 11,
     "metadata": {},
     "output_type": "execute_result"
    }
   ],
   "source": [
    "all_signals_df.describe()"
   ]
  },
  {
   "cell_type": "code",
   "execution_count": 12,
   "metadata": {},
   "outputs": [
    {
     "data": {
      "text/plain": [
       "384"
      ]
     },
     "execution_count": 12,
     "metadata": {},
     "output_type": "execute_result"
    }
   ],
   "source": [
    "len([fea for fea in all_signals_df.columns if 'BVP' in fea])"
   ]
  },
  {
   "cell_type": "code",
   "execution_count": 13,
   "metadata": {},
   "outputs": [],
   "source": [
    "all_signals_df.to_pickle(r'./processed_signal/WESAD/384_12s_step_2s.pkl')"
   ]
  },
  {
   "attachments": {},
   "cell_type": "markdown",
   "metadata": {},
   "source": [
    "# generating train_test spliter"
   ]
  },
  {
   "cell_type": "code",
   "execution_count": 14,
   "metadata": {},
   "outputs": [
    {
     "data": {
      "text/plain": [
       "(13918, 1542)"
      ]
     },
     "execution_count": 14,
     "metadata": {},
     "output_type": "execute_result"
    }
   ],
   "source": [
    "# all_signals_df = pd.read_pickle(r'./processed_signal/WESAD/384_12s_step_2s.pkl')\n",
    "all_signals_df.shape"
   ]
  },
  {
   "cell_type": "code",
   "execution_count": 14,
   "metadata": {},
   "outputs": [],
   "source": [
    "from sklearn.model_selection import StratifiedKFold\n",
    "from sklearn.model_selection import StratifiedGroupKFold\n",
    "\n",
    "feature_cols = [fea for fea in all_signals_df.columns.values if fea.split('_')[0] in SIGNALS]\n",
    "target_cols = ['arousal_rating', 'valence_rating']\n",
    "group_cols = ['participant_id', 'condition']\n",
    "\n",
    "spliter = {'cv': [], 'loso': [], 'loao': []}"
   ]
  },
  {
   "cell_type": "code",
   "execution_count": 15,
   "metadata": {},
   "outputs": [],
   "source": [
    "skf = StratifiedKFold(n_splits=5, shuffle=True, random_state=31)\n",
    "for train_index, test_index in skf.split(all_signals_df[feature_cols], all_signals_df['valence_rating']):\n",
    "    spliter['cv'].append({'train_index': train_index, 'test_index': test_index})\n",
    "\n",
    "loso_skgf = StratifiedGroupKFold(n_splits=5, shuffle=True, random_state=31)\n",
    "for train_index, test_index in loso_skgf.split(all_signals_df[feature_cols], all_signals_df['valence_rating'], groups=all_signals_df['participant_id']):\n",
    "    spliter['loso'].append({'train_index': train_index, 'test_index': test_index})\n",
    "\n",
    "loao_skgf = StratifiedGroupKFold(n_splits=5, shuffle=True, random_state=31)\n",
    "for train_index, test_index in loao_skgf.split(all_signals_df[feature_cols], all_signals_df['valence_rating'], groups=all_signals_df['condition']):\n",
    "    spliter['loao'].append({'train_index': train_index, 'test_index': test_index})"
   ]
  },
  {
   "cell_type": "code",
   "execution_count": 16,
   "metadata": {},
   "outputs": [
    {
     "name": "stdout",
     "output_type": "stream",
     "text": [
      "./processed_signal/WESAD/768_12s_step_2s_spliter10.pkl saved done!\n",
      "11128 2790\n",
      "10890 3028\n",
      "11134 2784\n"
     ]
    }
   ],
   "source": [
    "save_model(r'./processed_signal/WESAD/768_12s_step_2s_spliter10.pkl', spliter)\n",
    "print(len(spliter['loso'][0]['train_index']), len(spliter['loso'][0]['test_index']))\n",
    "print(len(spliter['loao'][0]['train_index']), len(spliter['loao'][0]['test_index']))\n",
    "print(len(spliter['cv'][0]['train_index']), len(spliter['cv'][0]['test_index']))"
   ]
  },
  {
   "attachments": {},
   "cell_type": "markdown",
   "metadata": {},
   "source": [
    "# get determine threshold"
   ]
  },
  {
   "cell_type": "code",
   "execution_count": 17,
   "metadata": {},
   "outputs": [
    {
     "data": {
      "text/plain": [
       "array([5.53287136, 4.92536287])"
      ]
     },
     "execution_count": 17,
     "metadata": {},
     "output_type": "execute_result"
    },
    {
     "data": {
      "image/png": "[encoded data removed]",
      "text/plain": [
       "<Figure size 432x288 with 1 Axes>"
      ]
     },
     "metadata": {
      "needs_background": "light"
     },
     "output_type": "display_data"
    }
   ],
   "source": [
    "av_rating = pd.DataFrame()\n",
    "av_rating['valence_rating'] = all_signals_df['valence_rating']\n",
    "av_rating['arousal_rating'] = all_signals_df['arousal_rating']\n",
    "\n",
    "colors = [\"#8ECFC9\", \"#FF9C34\", \"#4E9A06\"]\n",
    "\n",
    "kmeans = KMeans(n_clusters=2, random_state=0).fit(av_rating[['valence_rating', 'arousal_rating']])\n",
    "plt.scatter(y=av_rating['arousal_rating'], x=av_rating['valence_rating'], \n",
    "            facecolors='none', edgecolors=['#8ECFC9' if i==0 else '#FFBE7A' for i in kmeans.labels_ ], s=4)\n",
    "plt.ylabel('arousal')\n",
    "plt.xlabel('valence')\n",
    "plt.plot(kmeans.cluster_centers_.T[0], kmeans.cluster_centers_.T[1], c='#FA7F6F', marker=\"o\", markersize=3)\n",
    "threshold = kmeans.cluster_centers_.sum(axis=0)/2\n",
    "plt.plot(threshold[0], threshold[1], c='red', marker=\"+\", markersize=20)\n",
    "kmeans.cluster_centers_.sum(axis=0)/2"
   ]
  },
  {
   "cell_type": "code",
   "execution_count": 18,
   "metadata": {},
   "outputs": [
    {
     "data": {
      "text/html": [
       "<div>\n",
       "<style scoped>\n",
       "    .dataframe tbody tr th:only-of-type {\n",
       "        vertical-align: middle;\n",
       "    }\n",
       "\n",
       "    .dataframe tbody tr th {\n",
       "        vertical-align: top;\n",
       "    }\n",
       "\n",
       "    .dataframe thead th {\n",
       "        text-align: right;\n",
       "    }\n",
       "</style>\n",
       "<table border=\"1\" class=\"dataframe\">\n",
       "  <thead>\n",
       "    <tr style=\"text-align: right;\">\n",
       "      <th></th>\n",
       "      <th>valence_rating</th>\n",
       "      <th>arousal_rating</th>\n",
       "      <th>valence_label</th>\n",
       "      <th>arousal_label</th>\n",
       "    </tr>\n",
       "  </thead>\n",
       "  <tbody>\n",
       "    <tr>\n",
       "      <th>0</th>\n",
       "      <td>6.0</td>\n",
       "      <td>3.0</td>\n",
       "      <td>1</td>\n",
       "      <td>0</td>\n",
       "    </tr>\n",
       "    <tr>\n",
       "      <th>1</th>\n",
       "      <td>6.0</td>\n",
       "      <td>3.0</td>\n",
       "      <td>1</td>\n",
       "      <td>0</td>\n",
       "    </tr>\n",
       "    <tr>\n",
       "      <th>2</th>\n",
       "      <td>6.0</td>\n",
       "      <td>3.0</td>\n",
       "      <td>1</td>\n",
       "      <td>0</td>\n",
       "    </tr>\n",
       "    <tr>\n",
       "      <th>3</th>\n",
       "      <td>6.0</td>\n",
       "      <td>3.0</td>\n",
       "      <td>1</td>\n",
       "      <td>0</td>\n",
       "    </tr>\n",
       "    <tr>\n",
       "      <th>4</th>\n",
       "      <td>6.0</td>\n",
       "      <td>3.0</td>\n",
       "      <td>1</td>\n",
       "      <td>0</td>\n",
       "    </tr>\n",
       "  </tbody>\n",
       "</table>\n",
       "</div>"
      ],
      "text/plain": [
       "   valence_rating  arousal_rating  valence_label  arousal_label\n",
       "0             6.0             3.0              1              0\n",
       "1             6.0             3.0              1              0\n",
       "2             6.0             3.0              1              0\n",
       "3             6.0             3.0              1              0\n",
       "4             6.0             3.0              1              0"
      ]
     },
     "execution_count": 18,
     "metadata": {},
     "output_type": "execute_result"
    }
   ],
   "source": [
    "midpoint = kmeans.cluster_centers_.sum(axis=0)/2\n",
    "av_rating['valence_label'] = av_rating['valence_rating'].apply(lambda x: 1 if x>midpoint[0] else 0)\n",
    "av_rating['arousal_label'] = av_rating['arousal_rating'].apply(lambda x: 1 if x>midpoint[1] else 0)\n",
    "av_rating.head()"
   ]
  },
  {
   "cell_type": "code",
   "execution_count": 19,
   "metadata": {},
   "outputs": [
    {
     "data": {
      "text/plain": [
       "1    9149\n",
       "0    4769\n",
       "Name: valence_label, dtype: int64"
      ]
     },
     "execution_count": 19,
     "metadata": {},
     "output_type": "execute_result"
    }
   ],
   "source": [
    "av_rating['valence_label'].value_counts()"
   ]
  },
  {
   "cell_type": "code",
   "execution_count": 20,
   "metadata": {},
   "outputs": [
    {
     "data": {
      "text/plain": [
       "0    9059\n",
       "1    4859\n",
       "Name: arousal_label, dtype: int64"
      ]
     },
     "execution_count": 20,
     "metadata": {},
     "output_type": "execute_result"
    }
   ],
   "source": [
    "av_rating['arousal_label'].value_counts()"
   ]
  },
  {
   "cell_type": "code",
   "execution_count": 21,
   "metadata": {},
   "outputs": [
    {
     "data": {
      "text/plain": [
       "array([5.56666667, 4.89166667])"
      ]
     },
     "execution_count": 21,
     "metadata": {},
     "output_type": "execute_result"
    },
    {
     "data": {
      "image/png": "[encoded data removed]",
      "text/plain": [
       "<Figure size 432x288 with 1 Axes>"
      ]
     },
     "metadata": {
      "needs_background": "light"
     },
     "output_type": "display_data"
    }
   ],
   "source": [
    "av_rating = pd.DataFrame()\n",
    "av_rating['valence_rating'] = valences\n",
    "av_rating['arousal_rating'] = arousals\n",
    "\n",
    "colors = [\"#8ECFC9\", \"#FF9C34\", \"#4E9A06\"]\n",
    "\n",
    "kmeans = KMeans(n_clusters=2, random_state=0).fit(av_rating[['valence_rating', 'arousal_rating']])\n",
    "plt.scatter(y=av_rating['arousal_rating'], x=av_rating['valence_rating'], \n",
    "            facecolors='none', edgecolors=['#8ECFC9' if i==0 else '#FFBE7A' for i in kmeans.labels_ ], s=4)\n",
    "plt.ylabel('arousal')\n",
    "plt.xlabel('valence')\n",
    "plt.plot(kmeans.cluster_centers_.T[0], kmeans.cluster_centers_.T[1], c='#FA7F6F', marker=\"o\", markersize=3)\n",
    "threshold = kmeans.cluster_centers_.sum(axis=0)/2\n",
    "plt.plot(threshold[0], threshold[1], c='red', marker=\"+\", markersize=20)\n",
    "kmeans.cluster_centers_.sum(axis=0)/2"
   ]
  },
  {
   "cell_type": "code",
   "execution_count": 22,
   "metadata": {},
   "outputs": [
    {
     "data": {
      "text/html": [
       "<div>\n",
       "<style scoped>\n",
       "    .dataframe tbody tr th:only-of-type {\n",
       "        vertical-align: middle;\n",
       "    }\n",
       "\n",
       "    .dataframe tbody tr th {\n",
       "        vertical-align: top;\n",
       "    }\n",
       "\n",
       "    .dataframe thead th {\n",
       "        text-align: right;\n",
       "    }\n",
       "</style>\n",
       "<table border=\"1\" class=\"dataframe\">\n",
       "  <thead>\n",
       "    <tr style=\"text-align: right;\">\n",
       "      <th></th>\n",
       "      <th>valence_rating</th>\n",
       "      <th>arousal_rating</th>\n",
       "      <th>valence_label</th>\n",
       "      <th>arousal_label</th>\n",
       "    </tr>\n",
       "  </thead>\n",
       "  <tbody>\n",
       "    <tr>\n",
       "      <th>0</th>\n",
       "      <td>8.0</td>\n",
       "      <td>2.0</td>\n",
       "      <td>1</td>\n",
       "      <td>0</td>\n",
       "    </tr>\n",
       "    <tr>\n",
       "      <th>1</th>\n",
       "      <td>6.0</td>\n",
       "      <td>3.0</td>\n",
       "      <td>1</td>\n",
       "      <td>0</td>\n",
       "    </tr>\n",
       "    <tr>\n",
       "      <th>2</th>\n",
       "      <td>6.0</td>\n",
       "      <td>2.0</td>\n",
       "      <td>1</td>\n",
       "      <td>0</td>\n",
       "    </tr>\n",
       "    <tr>\n",
       "      <th>3</th>\n",
       "      <td>8.0</td>\n",
       "      <td>2.0</td>\n",
       "      <td>1</td>\n",
       "      <td>0</td>\n",
       "    </tr>\n",
       "    <tr>\n",
       "      <th>4</th>\n",
       "      <td>8.0</td>\n",
       "      <td>1.0</td>\n",
       "      <td>1</td>\n",
       "      <td>0</td>\n",
       "    </tr>\n",
       "  </tbody>\n",
       "</table>\n",
       "</div>"
      ],
      "text/plain": [
       "   valence_rating  arousal_rating  valence_label  arousal_label\n",
       "0             8.0             2.0              1              0\n",
       "1             6.0             3.0              1              0\n",
       "2             6.0             2.0              1              0\n",
       "3             8.0             2.0              1              0\n",
       "4             8.0             1.0              1              0"
      ]
     },
     "execution_count": 22,
     "metadata": {},
     "output_type": "execute_result"
    }
   ],
   "source": [
    "midpoint = kmeans.cluster_centers_.sum(axis=0)/2\n",
    "av_rating['valence_label'] = av_rating['valence_rating'].apply(lambda x: 1 if x>midpoint[0] else 0)\n",
    "av_rating['arousal_label'] = av_rating['arousal_rating'].apply(lambda x: 1 if x>midpoint[1] else 0)\n",
    "av_rating.head()"
   ]
  },
  {
   "cell_type": "code",
   "execution_count": 23,
   "metadata": {},
   "outputs": [
    {
     "data": {
      "text/plain": [
       "1    57\n",
       "0    18\n",
       "Name: valence_label, dtype: int64"
      ]
     },
     "execution_count": 23,
     "metadata": {},
     "output_type": "execute_result"
    }
   ],
   "source": [
    "av_rating['valence_label'].value_counts()"
   ]
  },
  {
   "cell_type": "code",
   "execution_count": 24,
   "metadata": {},
   "outputs": [
    {
     "data": {
      "text/plain": [
       "7.0    27\n",
       "8.0    14\n",
       "6.0    14\n",
       "5.0     9\n",
       "4.0     4\n",
       "3.0     3\n",
       "9.0     2\n",
       "2.0     1\n",
       "1.0     1\n",
       "Name: valence_rating, dtype: int64"
      ]
     },
     "execution_count": 24,
     "metadata": {},
     "output_type": "execute_result"
    }
   ],
   "source": [
    "av_rating['valence_rating'].value_counts()"
   ]
  },
  {
   "cell_type": "code",
   "execution_count": 25,
   "metadata": {},
   "outputs": [
    {
     "data": {
      "text/plain": [
       "0    58\n",
       "1    17\n",
       "Name: arousal_label, dtype: int64"
      ]
     },
     "execution_count": 25,
     "metadata": {},
     "output_type": "execute_result"
    }
   ],
   "source": [
    "av_rating['arousal_label'].value_counts()"
   ]
  },
  {
   "attachments": {},
   "cell_type": "markdown",
   "metadata": {},
   "source": [
    "# get E4"
   ]
  },
  {
   "cell_type": "code",
   "execution_count": 13,
   "metadata": {},
   "outputs": [],
   "source": [
    "eda_file = r'./WESAD/WESAD/S10/S10_E4_Data/EDA.csv'\n",
    "eda = pd.read_csv(eda_file)"
   ]
  },
  {
   "cell_type": "code",
   "execution_count": 14,
   "metadata": {},
   "outputs": [],
   "source": [
    "eda_raw_signal = eda.iloc[2:].values"
   ]
  },
  {
   "cell_type": "code",
   "execution_count": 15,
   "metadata": {},
   "outputs": [
    {
     "data": {
      "text/plain": [
       "27287"
      ]
     },
     "execution_count": 15,
     "metadata": {},
     "output_type": "execute_result"
    }
   ],
   "source": [
    "len(eda_raw_signal)"
   ]
  },
  {
   "cell_type": "markdown",
   "metadata": {},
   "source": [
    "# parse pkl"
   ]
  },
  {
   "cell_type": "code",
   "execution_count": 6,
   "metadata": {},
   "outputs": [],
   "source": [
    "pkl_path = r'./WESAD/WESAD/S10/S10.pkl'\n",
    "\n",
    "with open(pkl_path, 'rb') as file:\n",
    "    s10_data = pickle.load(file, encoding='latin1')"
   ]
  },
  {
   "cell_type": "code",
   "execution_count": 10,
   "metadata": {},
   "outputs": [
    {
     "data": {
      "text/plain": [
       "3847200"
      ]
     },
     "execution_count": 10,
     "metadata": {},
     "output_type": "execute_result"
    }
   ],
   "source": [
    "len(s10_data['label'])"
   ]
  },
  {
   "attachments": {},
   "cell_type": "markdown",
   "metadata": {},
   "source": [
    "# PPG data"
   ]
  },
  {
   "cell_type": "code",
   "execution_count": 15,
   "metadata": {},
   "outputs": [],
   "source": [
    "ppg_subject = ['S1','S2','S3','S4','S5','S6','S7','S8','S9','S10','S11','S12','S13','S14','S15']\n"
   ]
  },
  {
   "cell_type": "code",
   "execution_count": 16,
   "metadata": {},
   "outputs": [],
   "source": [
    "def ppg_aff_signal_process(signal_name, raw_signal, subject, win_size=4, step = 2, output_fs=32):\n",
    "    \n",
    "    if signal_name == 'HR':\n",
    "        raw_signal = raw_signal.iloc[2:, 0].values\n",
    "    else:\n",
    "        raw_signal = raw_signal.iloc[2+SAMPLERATE[signal_name]*10:, 0].values\n",
    "\n",
    "    signal_df = []\n",
    "\n",
    "    signal = (raw_signal - raw_signal.min()) / (raw_signal.max() - raw_signal.min())\n",
    "\n",
    "    if signal_name == 'EDA':\n",
    "        signal = butter_lowpass_filter(signal, cutOff=CUTOFF['EDA'], fs=SAMPLERATE['EDA'])\n",
    "        signal = resample_by_interpolation(signal, input_fs=SAMPLERATE['EDA'], output_fs=output_fs)\n",
    "    elif signal_name in ['TEMP', 'BVP']:\n",
    "        signal = butter_bandpass_filter(signal, lowcut=CUTOFF[signal_name][0], highcut=CUTOFF[signal_name][1], fs=SAMPLERATE[signal_name])\n",
    "        signal = resample_by_interpolation(signal, input_fs=SAMPLERATE[signal_name], output_fs=output_fs)\n",
    "    elif signal_name == 'HR':\n",
    "        signal = resample_by_interpolation(signal, input_fs=SAMPLERATE[signal_name], output_fs=output_fs)\n",
    "    else:\n",
    "        pass\n",
    "\n",
    "    segments = np.array(segment_generator(signal, win_size=win_size*output_fs, step=step*output_fs))\n",
    "    seg_cols = ['{}_seg{}'.format(signal_name, i) for i in range(segments.shape[1])]\n",
    "    segment_df = pd.DataFrame(columns=seg_cols, data=segments)\n",
    "\n",
    "    segment_df['segment_id'] = segment_df.index.tolist()\n",
    "    segment_df['participant_id'] = subject\n",
    "\n",
    "    signal_df.append(segment_df)\n",
    "    return pd.concat(signal_df)"
   ]
  },
  {
   "cell_type": "code",
   "execution_count": 17,
   "metadata": {},
   "outputs": [
    {
     "name": "stderr",
     "output_type": "stream",
     "text": [
      "100%|██████████| 15/15 [00:03<00:00,  4.67it/s]\n"
     ]
    },
    {
     "name": "stdout",
     "output_type": "stream",
     "text": [
      "Mem. usage decreased to 199.37 Mb (74.9% reduction)\n",
      "Final (67699, 1537)\n"
     ]
    },
    {
     "data": {
      "text/plain": [
       "(67684, 1537)"
      ]
     },
     "execution_count": 17,
     "metadata": {},
     "output_type": "execute_result"
    }
   ],
   "source": [
    "\n",
    "\n",
    "all_signals_df = []\n",
    "\n",
    "for subject in tqdm(ppg_subject):\n",
    "    e4_path = os.path.join(ppg_path, subject, subject+'_E4')\n",
    "\n",
    "    hr_signal = pd.read_csv(os.path.join(e4_path, '{}.csv'.format('HR')))\n",
    "    eda_signal = pd.read_csv(os.path.join(e4_path, '{}.csv'.format('EDA')))\n",
    "    bvp_signal = pd.read_csv(os.path.join(e4_path, '{}.csv'.format('BVP')))\n",
    "    temp_signal = pd.read_csv(os.path.join(e4_path, '{}.csv'.format('TEMP')))\n",
    "\n",
    "    hr_df = ppg_aff_signal_process('HR', hr_signal, subject, win_size=12, step = 2)\n",
    "    eda_df = ppg_aff_signal_process('EDA', eda_signal, subject, win_size=12, step = 2)\n",
    "    temp_df = ppg_aff_signal_process('TEMP', temp_signal, subject, win_size=12, step = 2)\n",
    "    bvp_df = ppg_aff_signal_process('BVP', bvp_signal, subject, win_size=12, step = 2)\n",
    "\n",
    "    bvp_eda_df = bvp_df.merge(eda_df, on=['segment_id', 'participant_id'], how='left')\n",
    "    bvp_eda_hr_df = bvp_eda_df.merge(hr_df, on=['segment_id', 'participant_id'], how='left')\n",
    "    bvp_eda_hr_temp_df = bvp_eda_hr_df.merge(temp_df, on=['segment_id', 'participant_id'], how='left')\n",
    "\n",
    "    del bvp_eda_hr_temp_df['segment_id']\n",
    "\n",
    "\n",
    "    all_signals_df.append(bvp_eda_hr_temp_df)\n",
    "\n",
    "all_signals_df = pd.concat(all_signals_df)\n",
    "all_signals_df = reduce_mem_usage(all_signals_df, un_process=['participant_id'])\n",
    "gc.collect()\n",
    "all_signals_df.isnull().sum().sum()\n",
    "all_signals_df.dropna(inplace=True)\n",
    "all_signals_df.shape"
   ]
  },
  {
   "cell_type": "code",
   "execution_count": 18,
   "metadata": {},
   "outputs": [],
   "source": [
    "sig_features = [fea for fea in all_signals_df.columns if fea.split('_')[0] in ['BVP', 'EDA', 'HR', 'TEMP']]\n",
    "# for sig in ['BVP', 'EDA', 'HR', 'TEMP']:\n",
    "#     for i in range(0, 400):\n",
    "#         sig_features.append('_'.join([sig, 'seg'+str(i)]))\n",
    "\n",
    "# all_signals_df = all_signals_df[['participant_id']+sig_features]"
   ]
  },
  {
   "cell_type": "code",
   "execution_count": 37,
   "metadata": {},
   "outputs": [
    {
     "data": {
      "text/plain": [
       "['participant_id']"
      ]
     },
     "execution_count": 37,
     "metadata": {},
     "output_type": "execute_result"
    }
   ],
   "source": [
    "# [fea for fea in all_signals_df.columns if fea.split('_')[0] not in ['BVP', 'EDA', 'HR', 'TEMP']]"
   ]
  },
  {
   "cell_type": "code",
   "execution_count": 19,
   "metadata": {},
   "outputs": [],
   "source": [
    "all_signals_df.to_pickle(r'./processed_signal/PPG/384_12s_step_2s.pkl')"
   ]
  },
  {
   "attachments": {},
   "cell_type": "markdown",
   "metadata": {},
   "source": [
    "# Aff_road"
   ]
  },
  {
   "cell_type": "code",
   "execution_count": 20,
   "metadata": {},
   "outputs": [],
   "source": [
    "aff_path = r'./AffectiveROAD_Data/Database/E4/'\n",
    "aff_subject = [1, 2, 3, 4, 5, 6, 7, 8, 9, 10, 11, 12, 13]"
   ]
  },
  {
   "cell_type": "code",
   "execution_count": 40,
   "metadata": {},
   "outputs": [],
   "source": [
    "for subject in aff_subject:\n",
    "    e4_path = os.path.join(aff_path, '{}-E4-Drv{}'.format(subject, subject))\n",
    "    for hand in ['Left', 'Right']:\n",
    "        filename = os.path.join(e4_path, '{}.zip'.format(hand))\n",
    "        if subject == 2 and hand == 'Left':\n",
    "            continue\n",
    "        with zipfile.ZipFile(filename, \"r\") as zip_ref:\n",
    "            zip_ref.extractall(filename.replace('.zip',''))"
   ]
  },
  {
   "cell_type": "code",
   "execution_count": 21,
   "metadata": {},
   "outputs": [],
   "source": [
    "\n",
    "\n",
    "def get_sub_signal(subjects, hand):\n",
    "    all_signals_df = []\n",
    "\n",
    "    for subject in tqdm(subjects):\n",
    "        if subject == 2:\n",
    "            continue\n",
    "        e4_path = os.path.join(aff_path, '{}-E4-Drv{}'.format(subject, subject))\n",
    "\n",
    "        e4_path = os.path.join(e4_path, hand)\n",
    "\n",
    "        hr_signal = pd.read_csv(os.path.join(e4_path, '{}.csv'.format('HR')))\n",
    "        eda_signal = pd.read_csv(os.path.join(e4_path, '{}.csv'.format('EDA')))\n",
    "        bvp_signal = pd.read_csv(os.path.join(e4_path, '{}.csv'.format('BVP')))\n",
    "        temp_signal = pd.read_csv(os.path.join(e4_path, '{}.csv'.format('TEMP')))\n",
    "\n",
    "        hr_df = ppg_aff_signal_process('HR', hr_signal, subject, win_size=12, step = 2)\n",
    "        eda_df = ppg_aff_signal_process('EDA', eda_signal, subject, win_size=12, step = 2)\n",
    "        temp_df = ppg_aff_signal_process('TEMP', temp_signal, subject, win_size=12, step = 2)\n",
    "        bvp_df = ppg_aff_signal_process('BVP', bvp_signal, subject, win_size=12, step = 2)\n",
    "\n",
    "        bvp_eda_df = bvp_df.merge(eda_df, on=['segment_id', 'participant_id'], how='left')\n",
    "        bvp_eda_hr_df = bvp_eda_df.merge(hr_df, on=['segment_id', 'participant_id'], how='left')\n",
    "        bvp_eda_hr_temp_df = bvp_eda_hr_df.merge(temp_df, on=['segment_id', 'participant_id'], how='left')\n",
    "\n",
    "        del bvp_eda_hr_temp_df['segment_id']\n",
    "\n",
    "\n",
    "        all_signals_df.append(bvp_eda_hr_temp_df)\n",
    "\n",
    "    all_signals_df = pd.concat(all_signals_df)\n",
    "    all_signals_df['hand'] = hand\n",
    "    all_signals_df = reduce_mem_usage(all_signals_df, un_process=['participant_id'])\n",
    "    gc.collect()\n",
    "    all_signals_df.isnull().sum().sum()\n",
    "    all_signals_df.dropna(inplace=True)\n",
    "    # sig_features = []\n",
    "    # for sig in ['BVP', 'EDA', 'HR', 'TEMP']:\n",
    "    #     for i in range(0, 400):\n",
    "    #         sig_features.append('_'.join([sig, 'seg'+str(i)]))\n",
    "\n",
    "    sig_features = [fea for fea in all_signals_df.columns if fea.split('_')[0] in ['BVP', 'EDA', 'HR', 'TEMP']]\n",
    "    \n",
    "\n",
    "    all_signals_df = all_signals_df[['participant_id','hand']+sig_features]\n",
    "\n",
    "    return all_signals_df"
   ]
  },
  {
   "cell_type": "code",
   "execution_count": 22,
   "metadata": {},
   "outputs": [
    {
     "name": "stderr",
     "output_type": "stream",
     "text": [
      "100%|██████████| 13/13 [00:01<00:00,  6.95it/s]\n"
     ]
    },
    {
     "name": "stdout",
     "output_type": "stream",
     "text": [
      "Mem. usage decreased to 120.39 Mb (74.9% reduction)\n",
      "Final (40776, 1538)\n"
     ]
    },
    {
     "name": "stderr",
     "output_type": "stream",
     "text": [
      "100%|██████████| 13/13 [00:01<00:00,  7.08it/s]\n"
     ]
    },
    {
     "name": "stdout",
     "output_type": "stream",
     "text": [
      "Mem. usage decreased to 120.32 Mb (74.9% reduction)\n",
      "Final (40752, 1538)\n"
     ]
    }
   ],
   "source": [
    "all_signals_df = []\n",
    "for hand in ['Left', 'Right']:\n",
    "    hand_signals_df = get_sub_signal(aff_subject, hand)\n",
    "    all_signals_df.append(hand_signals_df)"
   ]
  },
  {
   "cell_type": "code",
   "execution_count": 23,
   "metadata": {},
   "outputs": [
    {
     "data": {
      "text/plain": [
       "0"
      ]
     },
     "execution_count": 23,
     "metadata": {},
     "output_type": "execute_result"
    }
   ],
   "source": [
    "all_signals_df = pd.concat(all_signals_df)\n",
    "all_signals_df.isnull().sum().sum()"
   ]
  },
  {
   "cell_type": "code",
   "execution_count": 24,
   "metadata": {},
   "outputs": [
    {
     "data": {
      "text/plain": [
       "(81509, 1538)"
      ]
     },
     "execution_count": 24,
     "metadata": {},
     "output_type": "execute_result"
    }
   ],
   "source": [
    "all_signals_df.shape"
   ]
  },
  {
   "cell_type": "code",
   "execution_count": 25,
   "metadata": {},
   "outputs": [],
   "source": [
    "all_signals_df.to_pickle(r'./processed_signal/AffectiveRoad/384_12s_step_2s.pkl')"
   ]
  },
  {
   "attachments": {},
   "cell_type": "markdown",
   "metadata": {},
   "source": [
    "# Combination"
   ]
  },
  {
   "cell_type": "code",
   "execution_count": 26,
   "metadata": {},
   "outputs": [],
   "source": [
    "# kec = pd.read_pickle(r'./processed_signal/KEmoCon/KEC_400.pkl')\n",
    "wesad = pd.read_pickle(r'./processed_signal/WESAD/384_12s_step_2s.pkl')\n",
    "ppg = pd.read_pickle(r'./processed_signal/PPG/384_12s_step_2s.pkl')\n",
    "aff = pd.read_pickle(r'./processed_signal/AffectiveRoad/384_12s_step_2s.pkl')\n",
    "\n",
    "sig_features = [fea for fea in all_signals_df.columns if fea.split('_')[0] in ['BVP', 'EDA', 'HR', 'TEMP']]\n",
    "\n",
    "\n",
    "# sig_features = []\n",
    "# for sig in ['BVP', 'EDA', 'HR', 'TEMP']:\n",
    "#         for i in range(0, 400):\n",
    "            # sig_features.append('_'.join([sig, 'seg'+str(i)]))"
   ]
  },
  {
   "cell_type": "code",
   "execution_count": 27,
   "metadata": {},
   "outputs": [],
   "source": [
    "# kec['source'] = 'kec'\n",
    "# kec = kec[['participant_id', 'source'] + sig_features]\n",
    "\n",
    "wesad['source'] = 'wesad'\n",
    "wesad = wesad[['participant_id', 'source'] + sig_features]\n",
    "\n",
    "ppg['source'] = 'ppg'\n",
    "ppg = ppg[['participant_id', 'source'] + sig_features]\n",
    "\n",
    "aff['source'] = 'aff'\n",
    "aff = aff[['participant_id', 'source'] + sig_features]"
   ]
  },
  {
   "cell_type": "code",
   "execution_count": 28,
   "metadata": {},
   "outputs": [
    {
     "data": {
      "text/plain": [
       "(163111, 1538)"
      ]
     },
     "execution_count": 28,
     "metadata": {},
     "output_type": "execute_result"
    }
   ],
   "source": [
    "all_signal = pd.concat([wesad, ppg, aff])\n",
    "# all_signal = pd.concat([kec, wesad, ppg, aff])\n",
    "\n",
    "all_signal.shape"
   ]
  },
  {
   "cell_type": "code",
   "execution_count": 29,
   "metadata": {},
   "outputs": [
    {
     "data": {
      "text/plain": [
       "0"
      ]
     },
     "execution_count": 29,
     "metadata": {},
     "output_type": "execute_result"
    }
   ],
   "source": [
    "all_signal.isnull().sum().sum()"
   ]
  },
  {
   "cell_type": "code",
   "execution_count": null,
   "metadata": {},
   "outputs": [],
   "source": [
    "all_signal.to_pickle(r'./processed_signal/all_384_12s_step_2s.pkl')\n",
    "all_signal.shape"
   ]
  },
  {
   "cell_type": "code",
   "execution_count": 5,
   "metadata": {},
   "outputs": [],
   "source": [
    "all_signal = pd.read_pickle(r'./processed_signal/all_384_12s_step_2s.pkl')"
   ]
  },
  {
   "cell_type": "code",
   "execution_count": 6,
   "metadata": {},
   "outputs": [],
   "source": [
    "sampledf = all_signal.sample(frac=0.005)"
   ]
  },
  {
   "cell_type": "code",
   "execution_count": 57,
   "metadata": {},
   "outputs": [],
   "source": [
    "sampledf.to_pickle(r'./processed_signal/all_384_12s_step_2s_sampled.pkl')"
   ]
  },
  {
   "cell_type": "code",
   "execution_count": null,
   "metadata": {},
   "outputs": [],
   "source": []
  }
 ],
 "metadata": {
  "kernelspec": {
   "display_name": "base",
   "language": "python",
   "name": "python3"
  },
  "language_info": {
   "codemirror_mode": {
    "name": "ipython",
    "version": 3
   },
   "file_extension": ".py",
   "mimetype": "text/x-python",
   "name": "python",
   "nbconvert_exporter": "python",
   "pygments_lexer": "ipython3",
   "version": "3.7.6"
  },
  "orig_nbformat": 4,
  "vscode": {
   "interpreter": {
    "hash": "b336b2e25951ee9709258584149b22d89d818b16e72dafb499a0c2ddcae7c098"
   }
  }
 },
 "nbformat": 4,
 "nbformat_minor": 2
}
