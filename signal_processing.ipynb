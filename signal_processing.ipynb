{
 "cells": [
  {
   "cell_type": "code",
   "execution_count": 1,
   "metadata": {},
   "outputs": [],
   "source": [
    "import pandas as pd\n",
    "import numpy as np\n",
    "import os\n",
    "import zipfile\n",
    "from tools import *\n",
    "from CONSTANT import *\n",
    "import gc\n",
    "\n",
    "signals = ['BVP', 'EDA', 'HR', 'TEMP']\n",
    "\n",
    "import matplotlib.pyplot as plt\n",
    "from sklearn.cluster import KMeans\n",
    "\n",
    "# pd.set_option(\"display.max_info_columns\", 1300)\n",
    "\n",
    "import gc\n",
    "\n",
    "%matplotlib inline"
   ]
  },
  {
   "cell_type": "code",
   "execution_count": 2,
   "metadata": {},
   "outputs": [],
   "source": [
    "wesad_path = r'./WESAD/WESAD/'\n",
    "ppg_path = r'./PPGFieldStudyDataset/PPG_FieldStudy/'"
   ]
  },
  {
   "cell_type": "code",
   "execution_count": 4,
   "metadata": {},
   "outputs": [],
   "source": [
    "# def extract_E4zip(folderpath):\n",
    "#     for root, dir, files in os.walk(folderpath):\n",
    "#         for file in files:\n",
    "#             if '.zip' not in file and 'E4' not in file:\n",
    "#                 continue\n",
    "#             filename = os.path.join(root, file)\n",
    "#             with zipfile.ZipFile(filename,\"r\") as zip_ref:\n",
    "#                 zip_ref.extractall(filename.replace('.zip',''))\n",
    "#     print(filename, 'done')"
   ]
  },
  {
   "cell_type": "code",
   "execution_count": 5,
   "metadata": {},
   "outputs": [],
   "source": [
    "# extract_E4zip(wesad_path)\n",
    "# extract_E4zip(ppg_path)"
   ]
  },
  {
   "attachments": {},
   "cell_type": "markdown",
   "metadata": {},
   "source": [
    "# get label"
   ]
  },
  {
   "cell_type": "code",
   "execution_count": 3,
   "metadata": {},
   "outputs": [],
   "source": [
    "# label_file = r'./WESAD/WESAD/S10/S10_quest.csv'\n",
    "\n",
    "def get_label(quest_file):\n",
    "    labels = pd.read_csv(quest_file)\n",
    "    conditions = labels.loc[0].values[0].replace('# ORDER;', '').replace(';bRead;fRead;sRead;;;;;;;;;;;;;;;;;;', '').split(';')\n",
    "    starts = [float(t) * 60 for t in labels.iloc[1].values[0].split(';')[1:6]]\n",
    "    ends = [float(t) * 60 for t in labels.iloc[2].values[0].split(';')[1:6]]\n",
    "    va = [sc[0].replace('# DIM;', '')[:3].split(';') for sc in labels.iloc[16: 21].values]\n",
    "    valence = [float(sc[0]) for sc in va]\n",
    "    arousal = [float(sc[1]) for sc in va]\n",
    "    return conditions, starts, ends, valence, arousal\n"
   ]
  },
  {
   "cell_type": "code",
   "execution_count": 4,
   "metadata": {},
   "outputs": [],
   "source": [
    "def signal_process(signal_name, raw_signal, valence, arousal, starts, ends, subject, conditions, win_size=4, step = 2):\n",
    "    \n",
    "    if signal_name == 'HR':\n",
    "        raw_signal = raw_signal.iloc[2:, 0].values\n",
    "    else:\n",
    "        raw_signal = raw_signal.iloc[2+SAMPLERATE[signal_name]*10:, 0].values\n",
    "    base_condition = raw_signal[int(starts[0]*SAMPLERATE[signal_name]): int(ends[0]*SAMPLERATE[signal_name])+1]\n",
    "    baseline = base_condition.mean()\n",
    "\n",
    "    signal_df = []\n",
    "    \n",
    "    for i in range(1, 5):\n",
    "        condition_signal = raw_signal[int(starts[i]*SAMPLERATE[signal_name]): int(ends[i]*SAMPLERATE[signal_name])+1]\n",
    "        # if i == 0:\n",
    "        #     condition_signal = raw_signal\n",
    "        # else:\n",
    "        condition_signal = condition_signal - baseline\n",
    "        signal = (condition_signal - condition_signal.min()) / (condition_signal.max() - condition_signal.min())\n",
    "        condition = conditions[i]\n",
    "\n",
    "        if signal_name == 'EDA':\n",
    "            signal = butter_lowpass_filter(signal, cutOff=CUTOFF['EDA'], fs=SAMPLERATE['EDA'])\n",
    "            signal = resample_by_interpolation(signal, input_fs=SAMPLERATE['EDA'], output_fs=100)\n",
    "        elif signal_name in ['TEMP', 'BVP']:\n",
    "            signal = butter_bandpass_filter(signal, lowcut=CUTOFF[signal_name][0], highcut=CUTOFF[signal_name][1], fs=SAMPLERATE[signal_name])\n",
    "            signal = resample_by_interpolation(signal, input_fs=SAMPLERATE[signal_name], output_fs=100)\n",
    "        elif signal_name == 'HR':\n",
    "            # signal = chauvenet_filter(signal)\n",
    "            # print(signal)\n",
    "            signal = resample_by_interpolation(signal, input_fs=SAMPLERATE[signal_name], output_fs=100)\n",
    "        else:\n",
    "            pass\n",
    "\n",
    "        segments = np.array(segment_generator(signal, win_size=win_size*100, step=step*100))\n",
    "        seg_cols = ['{}_seg{}'.format(signal_name, i) for i in range(segments.shape[1])]\n",
    "        segment_df = pd.DataFrame(columns=seg_cols, data=segments)\n",
    "\n",
    "        segment_df['segment_id'] = segment_df.index.tolist()\n",
    "        segment_df['condition'] = condition\n",
    "        segment_df['valence_rating'] = valence[i]\n",
    "        segment_df['arousal_rating'] = arousal[i]\n",
    "        segment_df['participant_id'] = subject\n",
    "\n",
    "        signal_df.append(segment_df)\n",
    "    return pd.concat(signal_df)"
   ]
  },
  {
   "cell_type": "code",
   "execution_count": 5,
   "metadata": {},
   "outputs": [
    {
     "name": "stdout",
     "output_type": "stream",
     "text": [
      "Mem. usage decreased to 43.58 Mb (74.9% reduction)\n",
      "Final (14158, 1604)\n"
     ]
    },
    {
     "data": {
      "text/plain": [
       "0"
      ]
     },
     "execution_count": 5,
     "metadata": {},
     "output_type": "execute_result"
    }
   ],
   "source": [
    "subjects = ['S6', 'S9', 'S2', 'S13', 'S11', 'S10', 'S8', 'S14',\n",
    "            'S15', 'S5', 'S17', 'S16', 'S3', 'S7', 'S4']\n",
    "\n",
    "valences = []\n",
    "arousals = []\n",
    "\n",
    "all_signals_df = []\n",
    "\n",
    "\n",
    "for subject in subjects:\n",
    "      quest_file = os.path.join(wesad_path, subject, '{}_quest.csv'.format(subject))\n",
    "      conditions, starts, ends, valence, arousal = get_label(quest_file)\n",
    "      e4_path = os.path.join(wesad_path, subject, '{}_E4_Data'.format(subject))\n",
    "      valences.extend(valence)\n",
    "      arousals.extend(arousal)\n",
    "\n",
    "      hr_signal = pd.read_csv(os.path.join(e4_path, '{}.csv'.format('HR')))\n",
    "      eda_signal = pd.read_csv(os.path.join(e4_path, '{}.csv'.format('EDA')))\n",
    "      bvp_signal = pd.read_csv(os.path.join(e4_path, '{}.csv'.format('BVP')))\n",
    "      temp_signal = pd.read_csv(os.path.join(e4_path, '{}.csv'.format('TEMP')))\n",
    "\n",
    "      # hr_signal_ts = hr_signal.columns.tolist()[0]\n",
    "      # eda_signal_ts = eda_signal.columns.tolist()[0]\n",
    "      # temp_signal_ts = temp_signal.columns.tolist()[0]\n",
    "      # bvp_signal_ts = bvp_signal.columns.tolist()[0]\n",
    "      # print(hr_signal_ts, eda_signal_ts, temp_signal_ts, bvp_signal_ts)\n",
    "\n",
    "      hr_df = signal_process('HR', hr_signal, valence, arousal, starts, ends, subject, conditions, win_size=4, step = 2)\n",
    "      eda_df = signal_process('EDA', eda_signal, valence, arousal, starts, ends, subject, conditions, win_size=4, step = 2)\n",
    "      temp_df = signal_process('TEMP', temp_signal, valence, arousal, starts, ends, subject, conditions, win_size=4, step = 2)\n",
    "      bvp_df = signal_process('BVP', bvp_signal, valence, arousal, starts, ends, subject, conditions, win_size=4, step = 2)\n",
    "\n",
    "      # condition_shap = {'TSST': float('inf'), 'Medi 1': float('inf'), 'Medi 2': float('inf'), 'Fun': float('inf')}\n",
    "      condition_shap = {}\n",
    "\n",
    "      for cond in ['TSST', 'Medi 1', 'Medi 2', 'Fun']:\n",
    "            condition_shap[cond] = min(hr_df['condition'].value_counts().to_dict()[cond], \n",
    "            eda_df['condition'].value_counts().to_dict()[cond],\n",
    "            temp_df['condition'].value_counts().to_dict()[cond],\n",
    "            bvp_df['condition'].value_counts().to_dict()[cond]\n",
    "            )\n",
    "\n",
    "      def reshape_df(df):\n",
    "            dfs = []\n",
    "            for cond in condition_shap.keys():\n",
    "                  dfs.append(df[df['condition']==cond].iloc[:condition_shap[cond]])\n",
    "            return pd.concat(dfs)\n",
    "\n",
    "      hr_df = reshape_df(hr_df)\n",
    "      eda_df = reshape_df(eda_df)\n",
    "      temp_df = reshape_df(temp_df)\n",
    "      bvp_df = reshape_df(bvp_df)\n",
    "\n",
    "      bvp_eda_df = bvp_df.merge(eda_df, on=['segment_id', 'condition', 'valence_rating', 'arousal_rating', 'participant_id'], how='left')\n",
    "      bvp_eda_hr_df = bvp_eda_df.merge(hr_df, on=['segment_id', 'condition', 'valence_rating', 'arousal_rating', 'participant_id'], how='left')\n",
    "      bvp_eda_hr_temp_df = bvp_eda_hr_df.merge(temp_df, on=['segment_id', 'condition', 'valence_rating', 'arousal_rating', 'participant_id'], how='left')\n",
    "\n",
    "      del bvp_eda_hr_temp_df['segment_id']\n",
    "\n",
    "      # print(bvp_eda_hr_temp_df.isnull().sum().sum(), bvp_eda_hr_temp_df.shape)\n",
    "\n",
    "      all_signals_df.append(bvp_eda_hr_temp_df)\n",
    "\n",
    "      # bvp_eda_hr_temp_df = reduce_mem_usage(bvp_eda_hr_temp_df, un_process=['segment_id', 'participant_id', 'condition'])\n",
    "      # gc.collect()\n",
    "\n",
    "      # print(hr_df.shape, eda_df.shape, temp_df.shape, bvp_df.shape)\n",
    "\n",
    "\n",
    "      # print(hr_df['condition'].value_counts().to_dict(), \n",
    "      #       eda_df['condition'].value_counts().to_dict(), \n",
    "      #       temp_df['condition'].value_counts().to_dict(), \n",
    "      #       bvp_df['condition'].value_counts().to_dict())\n",
    "      # print()\n",
    "\n",
    "      # break\n",
    "\n",
    "all_signals_df = pd.concat(all_signals_df)\n",
    "all_signals_df = reduce_mem_usage(all_signals_df, un_process=['participant_id'])\n",
    "gc.collect()"
   ]
  },
  {
   "cell_type": "code",
   "execution_count": 6,
   "metadata": {},
   "outputs": [
    {
     "name": "stderr",
     "output_type": "stream",
     "text": [
      "/home/alan/anaconda3/lib/python3.7/site-packages/ipykernel_launcher.py:1: PerformanceWarning: DataFrame is highly fragmented.  This is usually the result of calling `frame.insert` many times, which has poor performance.  Consider joining all columns at once using pd.concat(axis=1) instead.  To get a de-fragmented frame, use `newframe = frame.copy()`\n",
      "  \"\"\"Entry point for launching an IPython kernel.\n",
      "/home/alan/anaconda3/lib/python3.7/site-packages/ipykernel_launcher.py:2: PerformanceWarning: DataFrame is highly fragmented.  This is usually the result of calling `frame.insert` many times, which has poor performance.  Consider joining all columns at once using pd.concat(axis=1) instead.  To get a de-fragmented frame, use `newframe = frame.copy()`\n",
      "  \n"
     ]
    }
   ],
   "source": [
    "all_signals_df['arousal'] = all_signals_df['arousal_rating'].astype(float)\n",
    "all_signals_df['valence'] = all_signals_df['valence_rating'].astype(float)"
   ]
  },
  {
   "cell_type": "code",
   "execution_count": 7,
   "metadata": {},
   "outputs": [
    {
     "data": {
      "text/plain": [
       "0"
      ]
     },
     "execution_count": 7,
     "metadata": {},
     "output_type": "execute_result"
    }
   ],
   "source": [
    "all_signals_df.isnull().sum().sum()"
   ]
  },
  {
   "cell_type": "code",
   "execution_count": 8,
   "metadata": {},
   "outputs": [
    {
     "data": {
      "text/html": [
       "<div>\n",
       "<style scoped>\n",
       "    .dataframe tbody tr th:only-of-type {\n",
       "        vertical-align: middle;\n",
       "    }\n",
       "\n",
       "    .dataframe tbody tr th {\n",
       "        vertical-align: top;\n",
       "    }\n",
       "\n",
       "    .dataframe thead th {\n",
       "        text-align: right;\n",
       "    }\n",
       "</style>\n",
       "<table border=\"1\" class=\"dataframe\">\n",
       "  <thead>\n",
       "    <tr style=\"text-align: right;\">\n",
       "      <th></th>\n",
       "      <th>BVP_seg0</th>\n",
       "      <th>BVP_seg1</th>\n",
       "      <th>BVP_seg2</th>\n",
       "      <th>BVP_seg3</th>\n",
       "      <th>BVP_seg4</th>\n",
       "      <th>BVP_seg5</th>\n",
       "      <th>BVP_seg6</th>\n",
       "      <th>BVP_seg7</th>\n",
       "      <th>BVP_seg8</th>\n",
       "      <th>BVP_seg9</th>\n",
       "      <th>...</th>\n",
       "      <th>TEMP_seg392</th>\n",
       "      <th>TEMP_seg393</th>\n",
       "      <th>TEMP_seg394</th>\n",
       "      <th>TEMP_seg395</th>\n",
       "      <th>TEMP_seg396</th>\n",
       "      <th>TEMP_seg397</th>\n",
       "      <th>TEMP_seg398</th>\n",
       "      <th>TEMP_seg399</th>\n",
       "      <th>arousal</th>\n",
       "      <th>valence</th>\n",
       "    </tr>\n",
       "  </thead>\n",
       "  <tbody>\n",
       "    <tr>\n",
       "      <th>count</th>\n",
       "      <td>14158.000000</td>\n",
       "      <td>14158.000000</td>\n",
       "      <td>14158.000000</td>\n",
       "      <td>14158.000000</td>\n",
       "      <td>14158.000000</td>\n",
       "      <td>14158.000000</td>\n",
       "      <td>14158.000000</td>\n",
       "      <td>14158.000000</td>\n",
       "      <td>14158.000000</td>\n",
       "      <td>14158.000000</td>\n",
       "      <td>...</td>\n",
       "      <td>14158.000000</td>\n",
       "      <td>14158.000000</td>\n",
       "      <td>14158.000000</td>\n",
       "      <td>14158.000000</td>\n",
       "      <td>14158.000000</td>\n",
       "      <td>14158.000000</td>\n",
       "      <td>14158.000000</td>\n",
       "      <td>14158.000000</td>\n",
       "      <td>14158.000000</td>\n",
       "      <td>14158.000000</td>\n",
       "    </tr>\n",
       "    <tr>\n",
       "      <th>mean</th>\n",
       "      <td>0.000140</td>\n",
       "      <td>0.000216</td>\n",
       "      <td>0.000334</td>\n",
       "      <td>0.000504</td>\n",
       "      <td>0.000747</td>\n",
       "      <td>0.000998</td>\n",
       "      <td>0.001238</td>\n",
       "      <td>0.001383</td>\n",
       "      <td>0.001458</td>\n",
       "      <td>0.001378</td>\n",
       "      <td>...</td>\n",
       "      <td>-0.000580</td>\n",
       "      <td>-0.000582</td>\n",
       "      <td>-0.000583</td>\n",
       "      <td>-0.000585</td>\n",
       "      <td>-0.000587</td>\n",
       "      <td>-0.000588</td>\n",
       "      <td>-0.000590</td>\n",
       "      <td>-0.000591</td>\n",
       "      <td>4.080520</td>\n",
       "      <td>5.981565</td>\n",
       "    </tr>\n",
       "    <tr>\n",
       "      <th>std</th>\n",
       "      <td>0.036041</td>\n",
       "      <td>0.035950</td>\n",
       "      <td>0.036102</td>\n",
       "      <td>0.036377</td>\n",
       "      <td>0.036957</td>\n",
       "      <td>0.038025</td>\n",
       "      <td>0.039307</td>\n",
       "      <td>0.040100</td>\n",
       "      <td>0.040680</td>\n",
       "      <td>0.040009</td>\n",
       "      <td>...</td>\n",
       "      <td>0.110840</td>\n",
       "      <td>0.110840</td>\n",
       "      <td>0.110840</td>\n",
       "      <td>0.110840</td>\n",
       "      <td>0.110840</td>\n",
       "      <td>0.110840</td>\n",
       "      <td>0.110840</td>\n",
       "      <td>0.110840</td>\n",
       "      <td>2.608014</td>\n",
       "      <td>1.805437</td>\n",
       "    </tr>\n",
       "    <tr>\n",
       "      <th>min</th>\n",
       "      <td>-0.322754</td>\n",
       "      <td>-0.327393</td>\n",
       "      <td>-0.323975</td>\n",
       "      <td>-0.349365</td>\n",
       "      <td>-0.370605</td>\n",
       "      <td>-0.387939</td>\n",
       "      <td>-0.398193</td>\n",
       "      <td>-0.402588</td>\n",
       "      <td>-0.403809</td>\n",
       "      <td>-0.437988</td>\n",
       "      <td>...</td>\n",
       "      <td>-0.387695</td>\n",
       "      <td>-0.387695</td>\n",
       "      <td>-0.387695</td>\n",
       "      <td>-0.387695</td>\n",
       "      <td>-0.387695</td>\n",
       "      <td>-0.387695</td>\n",
       "      <td>-0.387695</td>\n",
       "      <td>-0.387695</td>\n",
       "      <td>1.000000</td>\n",
       "      <td>1.000000</td>\n",
       "    </tr>\n",
       "    <tr>\n",
       "      <th>25%</th>\n",
       "      <td>-0.012657</td>\n",
       "      <td>-0.012640</td>\n",
       "      <td>-0.012566</td>\n",
       "      <td>-0.012512</td>\n",
       "      <td>-0.012428</td>\n",
       "      <td>-0.012390</td>\n",
       "      <td>-0.012436</td>\n",
       "      <td>-0.012367</td>\n",
       "      <td>-0.012327</td>\n",
       "      <td>-0.012350</td>\n",
       "      <td>...</td>\n",
       "      <td>-0.046135</td>\n",
       "      <td>-0.046135</td>\n",
       "      <td>-0.046135</td>\n",
       "      <td>-0.046074</td>\n",
       "      <td>-0.046051</td>\n",
       "      <td>-0.046021</td>\n",
       "      <td>-0.046021</td>\n",
       "      <td>-0.046074</td>\n",
       "      <td>2.000000</td>\n",
       "      <td>5.000000</td>\n",
       "    </tr>\n",
       "    <tr>\n",
       "      <th>50%</th>\n",
       "      <td>0.000138</td>\n",
       "      <td>0.000171</td>\n",
       "      <td>0.000132</td>\n",
       "      <td>0.000154</td>\n",
       "      <td>0.000157</td>\n",
       "      <td>0.000134</td>\n",
       "      <td>0.000098</td>\n",
       "      <td>0.000188</td>\n",
       "      <td>0.000238</td>\n",
       "      <td>0.000272</td>\n",
       "      <td>...</td>\n",
       "      <td>-0.000034</td>\n",
       "      <td>0.000000</td>\n",
       "      <td>0.000009</td>\n",
       "      <td>0.000017</td>\n",
       "      <td>0.000038</td>\n",
       "      <td>0.000024</td>\n",
       "      <td>0.000015</td>\n",
       "      <td>0.000019</td>\n",
       "      <td>3.000000</td>\n",
       "      <td>6.000000</td>\n",
       "    </tr>\n",
       "    <tr>\n",
       "      <th>75%</th>\n",
       "      <td>0.012032</td>\n",
       "      <td>0.012373</td>\n",
       "      <td>0.012419</td>\n",
       "      <td>0.012367</td>\n",
       "      <td>0.012505</td>\n",
       "      <td>0.012686</td>\n",
       "      <td>0.012611</td>\n",
       "      <td>0.012548</td>\n",
       "      <td>0.012619</td>\n",
       "      <td>0.012869</td>\n",
       "      <td>...</td>\n",
       "      <td>0.044525</td>\n",
       "      <td>0.044556</td>\n",
       "      <td>0.044586</td>\n",
       "      <td>0.044609</td>\n",
       "      <td>0.044548</td>\n",
       "      <td>0.044609</td>\n",
       "      <td>0.044617</td>\n",
       "      <td>0.044640</td>\n",
       "      <td>7.000000</td>\n",
       "      <td>7.000000</td>\n",
       "    </tr>\n",
       "    <tr>\n",
       "      <th>max</th>\n",
       "      <td>0.450439</td>\n",
       "      <td>0.406982</td>\n",
       "      <td>0.408691</td>\n",
       "      <td>0.410156</td>\n",
       "      <td>0.385498</td>\n",
       "      <td>0.409180</td>\n",
       "      <td>0.422607</td>\n",
       "      <td>0.430420</td>\n",
       "      <td>0.433105</td>\n",
       "      <td>0.427246</td>\n",
       "      <td>...</td>\n",
       "      <td>0.795898</td>\n",
       "      <td>0.795898</td>\n",
       "      <td>0.795410</td>\n",
       "      <td>0.795410</td>\n",
       "      <td>0.795410</td>\n",
       "      <td>0.794922</td>\n",
       "      <td>0.794922</td>\n",
       "      <td>0.794922</td>\n",
       "      <td>9.000000</td>\n",
       "      <td>9.000000</td>\n",
       "    </tr>\n",
       "  </tbody>\n",
       "</table>\n",
       "<p>8 rows × 1604 columns</p>\n",
       "</div>"
      ],
      "text/plain": [
       "           BVP_seg0      BVP_seg1      BVP_seg2      BVP_seg3      BVP_seg4  \\\n",
       "count  14158.000000  14158.000000  14158.000000  14158.000000  14158.000000   \n",
       "mean       0.000140      0.000216      0.000334      0.000504      0.000747   \n",
       "std        0.036041      0.035950      0.036102      0.036377      0.036957   \n",
       "min       -0.322754     -0.327393     -0.323975     -0.349365     -0.370605   \n",
       "25%       -0.012657     -0.012640     -0.012566     -0.012512     -0.012428   \n",
       "50%        0.000138      0.000171      0.000132      0.000154      0.000157   \n",
       "75%        0.012032      0.012373      0.012419      0.012367      0.012505   \n",
       "max        0.450439      0.406982      0.408691      0.410156      0.385498   \n",
       "\n",
       "           BVP_seg5      BVP_seg6      BVP_seg7      BVP_seg8      BVP_seg9  \\\n",
       "count  14158.000000  14158.000000  14158.000000  14158.000000  14158.000000   \n",
       "mean       0.000998      0.001238      0.001383      0.001458      0.001378   \n",
       "std        0.038025      0.039307      0.040100      0.040680      0.040009   \n",
       "min       -0.387939     -0.398193     -0.402588     -0.403809     -0.437988   \n",
       "25%       -0.012390     -0.012436     -0.012367     -0.012327     -0.012350   \n",
       "50%        0.000134      0.000098      0.000188      0.000238      0.000272   \n",
       "75%        0.012686      0.012611      0.012548      0.012619      0.012869   \n",
       "max        0.409180      0.422607      0.430420      0.433105      0.427246   \n",
       "\n",
       "       ...   TEMP_seg392   TEMP_seg393   TEMP_seg394   TEMP_seg395  \\\n",
       "count  ...  14158.000000  14158.000000  14158.000000  14158.000000   \n",
       "mean   ...     -0.000580     -0.000582     -0.000583     -0.000585   \n",
       "std    ...      0.110840      0.110840      0.110840      0.110840   \n",
       "min    ...     -0.387695     -0.387695     -0.387695     -0.387695   \n",
       "25%    ...     -0.046135     -0.046135     -0.046135     -0.046074   \n",
       "50%    ...     -0.000034      0.000000      0.000009      0.000017   \n",
       "75%    ...      0.044525      0.044556      0.044586      0.044609   \n",
       "max    ...      0.795898      0.795898      0.795410      0.795410   \n",
       "\n",
       "        TEMP_seg396   TEMP_seg397   TEMP_seg398   TEMP_seg399       arousal  \\\n",
       "count  14158.000000  14158.000000  14158.000000  14158.000000  14158.000000   \n",
       "mean      -0.000587     -0.000588     -0.000590     -0.000591      4.080520   \n",
       "std        0.110840      0.110840      0.110840      0.110840      2.608014   \n",
       "min       -0.387695     -0.387695     -0.387695     -0.387695      1.000000   \n",
       "25%       -0.046051     -0.046021     -0.046021     -0.046074      2.000000   \n",
       "50%        0.000038      0.000024      0.000015      0.000019      3.000000   \n",
       "75%        0.044548      0.044609      0.044617      0.044640      7.000000   \n",
       "max        0.795410      0.794922      0.794922      0.794922      9.000000   \n",
       "\n",
       "            valence  \n",
       "count  14158.000000  \n",
       "mean       5.981565  \n",
       "std        1.805437  \n",
       "min        1.000000  \n",
       "25%        5.000000  \n",
       "50%        6.000000  \n",
       "75%        7.000000  \n",
       "max        9.000000  \n",
       "\n",
       "[8 rows x 1604 columns]"
      ]
     },
     "execution_count": 8,
     "metadata": {},
     "output_type": "execute_result"
    }
   ],
   "source": [
    "all_signals_df.describe()"
   ]
  },
  {
   "cell_type": "code",
   "execution_count": 10,
   "metadata": {},
   "outputs": [],
   "source": [
    "all_signals_df.to_pickle(r'./processed_signal/WESAD/400_4s_step_2s.pkl')"
   ]
  },
  {
   "attachments": {},
   "cell_type": "markdown",
   "metadata": {},
   "source": [
    "# generating train_test spliter"
   ]
  },
  {
   "cell_type": "code",
   "execution_count": 5,
   "metadata": {},
   "outputs": [],
   "source": [
    "all_signals_df = pd.read_pickle(r'./processed_signal/WESAD/400_4s_step_2s.pkl')"
   ]
  },
  {
   "cell_type": "code",
   "execution_count": 6,
   "metadata": {},
   "outputs": [],
   "source": [
    "from sklearn.model_selection import StratifiedKFold\n",
    "from sklearn.model_selection import StratifiedGroupKFold\n",
    "\n",
    "feature_cols = [fea for fea in all_signals_df.columns.values if fea.split('_')[0] in SIGNALS]\n",
    "target_cols = ['arousal_rating', 'valence_rating']\n",
    "group_cols = ['participant_id', 'condition']\n",
    "\n",
    "spliter = {'cv': [], 'loso': [], 'loao': []}"
   ]
  },
  {
   "cell_type": "code",
   "execution_count": 7,
   "metadata": {},
   "outputs": [],
   "source": [
    "skf = StratifiedKFold(n_splits=10, shuffle=True, random_state=31)\n",
    "for train_index, test_index in skf.split(all_signals_df[feature_cols], all_signals_df['valence_rating']):\n",
    "    spliter['cv'].append({'train_index': train_index, 'test_index': test_index})\n",
    "\n",
    "loso_skgf = StratifiedGroupKFold(n_splits=10, shuffle=True, random_state=31)\n",
    "for train_index, test_index in loso_skgf.split(all_signals_df[feature_cols], all_signals_df['valence_rating'], groups=all_signals_df['participant_id']):\n",
    "    spliter['loso'].append({'train_index': train_index, 'test_index': test_index})\n",
    "\n",
    "loao_skgf = StratifiedGroupKFold(n_splits=10, shuffle=True, random_state=31)\n",
    "for train_index, test_index in loao_skgf.split(all_signals_df[feature_cols], all_signals_df['valence_rating'], groups=all_signals_df['condition']):\n",
    "    spliter['loao'].append({'train_index': train_index, 'test_index': test_index})"
   ]
  },
  {
   "cell_type": "code",
   "execution_count": 8,
   "metadata": {},
   "outputs": [
    {
     "name": "stdout",
     "output_type": "stream",
     "text": [
      "./processed_signal/WESAD/400_4s_step_2s_spliter10.pkl saved done!\n",
      "13236 922\n",
      "11070 3088\n",
      "12742 1416\n"
     ]
    }
   ],
   "source": [
    "save_model(r'./processed_signal/WESAD/400_4s_step_2s_spliter10.pkl', spliter)\n",
    "print(len(spliter['loso'][0]['train_index']), len(spliter['loso'][0]['test_index']))\n",
    "print(len(spliter['loao'][0]['train_index']), len(spliter['loao'][0]['test_index']))\n",
    "print(len(spliter['cv'][0]['train_index']), len(spliter['cv'][0]['test_index']))"
   ]
  },
  {
   "attachments": {},
   "cell_type": "markdown",
   "metadata": {},
   "source": [
    "# get determine threshold"
   ]
  },
  {
   "cell_type": "code",
   "execution_count": 22,
   "metadata": {},
   "outputs": [
    {
     "data": {
      "text/plain": [
       "array([5.53387741, 4.9244803 ])"
      ]
     },
     "execution_count": 22,
     "metadata": {},
     "output_type": "execute_result"
    },
    {
     "data": {
      "image/png": "[encoded data removed]",
      "text/plain": [
       "<Figure size 432x288 with 1 Axes>"
      ]
     },
     "metadata": {
      "needs_background": "light"
     },
     "output_type": "display_data"
    }
   ],
   "source": [
    "av_rating = pd.DataFrame()\n",
    "av_rating['valence_rating'] = all_signals_df['valence_rating']\n",
    "av_rating['arousal_rating'] = all_signals_df['arousal_rating']\n",
    "\n",
    "colors = [\"#8ECFC9\", \"#FF9C34\", \"#4E9A06\"]\n",
    "\n",
    "kmeans = KMeans(n_clusters=2, random_state=0).fit(av_rating[['valence_rating', 'arousal_rating']])\n",
    "plt.scatter(y=av_rating['arousal_rating'], x=av_rating['valence_rating'], \n",
    "            facecolors='none', edgecolors=['#8ECFC9' if i==0 else '#FFBE7A' for i in kmeans.labels_ ], s=4)\n",
    "plt.ylabel('arousal')\n",
    "plt.xlabel('valence')\n",
    "plt.plot(kmeans.cluster_centers_.T[0], kmeans.cluster_centers_.T[1], c='#FA7F6F', marker=\"o\", markersize=3)\n",
    "threshold = kmeans.cluster_centers_.sum(axis=0)/2\n",
    "plt.plot(threshold[0], threshold[1], c='red', marker=\"+\", markersize=20)\n",
    "kmeans.cluster_centers_.sum(axis=0)/2"
   ]
  },
  {
   "cell_type": "code",
   "execution_count": 23,
   "metadata": {},
   "outputs": [
    {
     "data": {
      "text/html": [
       "<div>\n",
       "<style scoped>\n",
       "    .dataframe tbody tr th:only-of-type {\n",
       "        vertical-align: middle;\n",
       "    }\n",
       "\n",
       "    .dataframe tbody tr th {\n",
       "        vertical-align: top;\n",
       "    }\n",
       "\n",
       "    .dataframe thead th {\n",
       "        text-align: right;\n",
       "    }\n",
       "</style>\n",
       "<table border=\"1\" class=\"dataframe\">\n",
       "  <thead>\n",
       "    <tr style=\"text-align: right;\">\n",
       "      <th></th>\n",
       "      <th>valence_rating</th>\n",
       "      <th>arousal_rating</th>\n",
       "      <th>valence_label</th>\n",
       "      <th>arousal_label</th>\n",
       "    </tr>\n",
       "  </thead>\n",
       "  <tbody>\n",
       "    <tr>\n",
       "      <th>0</th>\n",
       "      <td>6.0</td>\n",
       "      <td>3.0</td>\n",
       "      <td>1</td>\n",
       "      <td>0</td>\n",
       "    </tr>\n",
       "    <tr>\n",
       "      <th>1</th>\n",
       "      <td>6.0</td>\n",
       "      <td>3.0</td>\n",
       "      <td>1</td>\n",
       "      <td>0</td>\n",
       "    </tr>\n",
       "    <tr>\n",
       "      <th>2</th>\n",
       "      <td>6.0</td>\n",
       "      <td>3.0</td>\n",
       "      <td>1</td>\n",
       "      <td>0</td>\n",
       "    </tr>\n",
       "    <tr>\n",
       "      <th>3</th>\n",
       "      <td>6.0</td>\n",
       "      <td>3.0</td>\n",
       "      <td>1</td>\n",
       "      <td>0</td>\n",
       "    </tr>\n",
       "    <tr>\n",
       "      <th>4</th>\n",
       "      <td>6.0</td>\n",
       "      <td>3.0</td>\n",
       "      <td>1</td>\n",
       "      <td>0</td>\n",
       "    </tr>\n",
       "  </tbody>\n",
       "</table>\n",
       "</div>"
      ],
      "text/plain": [
       "   valence_rating  arousal_rating  valence_label  arousal_label\n",
       "0             6.0             3.0              1              0\n",
       "1             6.0             3.0              1              0\n",
       "2             6.0             3.0              1              0\n",
       "3             6.0             3.0              1              0\n",
       "4             6.0             3.0              1              0"
      ]
     },
     "execution_count": 23,
     "metadata": {},
     "output_type": "execute_result"
    }
   ],
   "source": [
    "midpoint = kmeans.cluster_centers_.sum(axis=0)/2\n",
    "av_rating['valence_label'] = av_rating['valence_rating'].apply(lambda x: 1 if x>midpoint[0] else 0)\n",
    "av_rating['arousal_label'] = av_rating['arousal_rating'].apply(lambda x: 1 if x>midpoint[1] else 0)\n",
    "av_rating.head()"
   ]
  },
  {
   "cell_type": "code",
   "execution_count": 24,
   "metadata": {},
   "outputs": [
    {
     "data": {
      "text/plain": [
       "1    9325\n",
       "0    4833\n",
       "Name: valence_label, dtype: int64"
      ]
     },
     "execution_count": 24,
     "metadata": {},
     "output_type": "execute_result"
    }
   ],
   "source": [
    "av_rating['valence_label'].value_counts()"
   ]
  },
  {
   "cell_type": "code",
   "execution_count": 26,
   "metadata": {},
   "outputs": [
    {
     "data": {
      "text/plain": [
       "0    9235\n",
       "1    4923\n",
       "Name: arousal_label, dtype: int64"
      ]
     },
     "execution_count": 26,
     "metadata": {},
     "output_type": "execute_result"
    }
   ],
   "source": [
    "av_rating['arousal_label'].value_counts()"
   ]
  },
  {
   "cell_type": "code",
   "execution_count": 17,
   "metadata": {},
   "outputs": [
    {
     "data": {
      "text/plain": [
       "array([5.56666667, 4.89166667])"
      ]
     },
     "execution_count": 17,
     "metadata": {},
     "output_type": "execute_result"
    },
    {
     "data": {
      "image/png": "[encoded data removed]",
      "text/plain": [
       "<Figure size 432x288 with 1 Axes>"
      ]
     },
     "metadata": {
      "needs_background": "light"
     },
     "output_type": "display_data"
    }
   ],
   "source": [
    "av_rating = pd.DataFrame()\n",
    "av_rating['valence_rating'] = valences\n",
    "av_rating['arousal_rating'] = arousals\n",
    "\n",
    "colors = [\"#8ECFC9\", \"#FF9C34\", \"#4E9A06\"]\n",
    "\n",
    "kmeans = KMeans(n_clusters=2, random_state=0).fit(av_rating[['valence_rating', 'arousal_rating']])\n",
    "plt.scatter(y=av_rating['arousal_rating'], x=av_rating['valence_rating'], \n",
    "            facecolors='none', edgecolors=['#8ECFC9' if i==0 else '#FFBE7A' for i in kmeans.labels_ ], s=4)\n",
    "plt.ylabel('arousal')\n",
    "plt.xlabel('valence')\n",
    "plt.plot(kmeans.cluster_centers_.T[0], kmeans.cluster_centers_.T[1], c='#FA7F6F', marker=\"o\", markersize=3)\n",
    "threshold = kmeans.cluster_centers_.sum(axis=0)/2\n",
    "plt.plot(threshold[0], threshold[1], c='red', marker=\"+\", markersize=20)\n",
    "kmeans.cluster_centers_.sum(axis=0)/2"
   ]
  },
  {
   "cell_type": "code",
   "execution_count": 18,
   "metadata": {},
   "outputs": [
    {
     "data": {
      "text/html": [
       "<div>\n",
       "<style scoped>\n",
       "    .dataframe tbody tr th:only-of-type {\n",
       "        vertical-align: middle;\n",
       "    }\n",
       "\n",
       "    .dataframe tbody tr th {\n",
       "        vertical-align: top;\n",
       "    }\n",
       "\n",
       "    .dataframe thead th {\n",
       "        text-align: right;\n",
       "    }\n",
       "</style>\n",
       "<table border=\"1\" class=\"dataframe\">\n",
       "  <thead>\n",
       "    <tr style=\"text-align: right;\">\n",
       "      <th></th>\n",
       "      <th>valence_rating</th>\n",
       "      <th>arousal_rating</th>\n",
       "      <th>valence_label</th>\n",
       "      <th>arousal_label</th>\n",
       "    </tr>\n",
       "  </thead>\n",
       "  <tbody>\n",
       "    <tr>\n",
       "      <th>0</th>\n",
       "      <td>8.0</td>\n",
       "      <td>2.0</td>\n",
       "      <td>1</td>\n",
       "      <td>0</td>\n",
       "    </tr>\n",
       "    <tr>\n",
       "      <th>1</th>\n",
       "      <td>6.0</td>\n",
       "      <td>3.0</td>\n",
       "      <td>1</td>\n",
       "      <td>0</td>\n",
       "    </tr>\n",
       "    <tr>\n",
       "      <th>2</th>\n",
       "      <td>6.0</td>\n",
       "      <td>2.0</td>\n",
       "      <td>1</td>\n",
       "      <td>0</td>\n",
       "    </tr>\n",
       "    <tr>\n",
       "      <th>3</th>\n",
       "      <td>8.0</td>\n",
       "      <td>2.0</td>\n",
       "      <td>1</td>\n",
       "      <td>0</td>\n",
       "    </tr>\n",
       "    <tr>\n",
       "      <th>4</th>\n",
       "      <td>8.0</td>\n",
       "      <td>1.0</td>\n",
       "      <td>1</td>\n",
       "      <td>0</td>\n",
       "    </tr>\n",
       "  </tbody>\n",
       "</table>\n",
       "</div>"
      ],
      "text/plain": [
       "   valence_rating  arousal_rating  valence_label  arousal_label\n",
       "0             8.0             2.0              1              0\n",
       "1             6.0             3.0              1              0\n",
       "2             6.0             2.0              1              0\n",
       "3             8.0             2.0              1              0\n",
       "4             8.0             1.0              1              0"
      ]
     },
     "execution_count": 18,
     "metadata": {},
     "output_type": "execute_result"
    }
   ],
   "source": [
    "midpoint = kmeans.cluster_centers_.sum(axis=0)/2\n",
    "av_rating['valence_label'] = av_rating['valence_rating'].apply(lambda x: 1 if x>midpoint[0] else 0)\n",
    "av_rating['arousal_label'] = av_rating['arousal_rating'].apply(lambda x: 1 if x>midpoint[1] else 0)\n",
    "av_rating.head()"
   ]
  },
  {
   "cell_type": "code",
   "execution_count": 19,
   "metadata": {},
   "outputs": [
    {
     "data": {
      "text/plain": [
       "1    57\n",
       "0    18\n",
       "Name: valence_label, dtype: int64"
      ]
     },
     "execution_count": 19,
     "metadata": {},
     "output_type": "execute_result"
    }
   ],
   "source": [
    "av_rating['valence_label'].value_counts()"
   ]
  },
  {
   "cell_type": "code",
   "execution_count": 20,
   "metadata": {},
   "outputs": [
    {
     "data": {
      "text/plain": [
       "7.0    27\n",
       "8.0    14\n",
       "6.0    14\n",
       "5.0     9\n",
       "4.0     4\n",
       "3.0     3\n",
       "9.0     2\n",
       "2.0     1\n",
       "1.0     1\n",
       "Name: valence_rating, dtype: int64"
      ]
     },
     "execution_count": 20,
     "metadata": {},
     "output_type": "execute_result"
    }
   ],
   "source": [
    "av_rating['valence_rating'].value_counts()"
   ]
  },
  {
   "cell_type": "code",
   "execution_count": 43,
   "metadata": {},
   "outputs": [
    {
     "data": {
      "text/plain": [
       "0    58\n",
       "1    17\n",
       "Name: arousal_label, dtype: int64"
      ]
     },
     "execution_count": 43,
     "metadata": {},
     "output_type": "execute_result"
    }
   ],
   "source": [
    "av_rating['arousal_label'].value_counts()"
   ]
  },
  {
   "attachments": {},
   "cell_type": "markdown",
   "metadata": {},
   "source": [
    "# get E4"
   ]
  },
  {
   "cell_type": "code",
   "execution_count": 13,
   "metadata": {},
   "outputs": [],
   "source": [
    "eda_file = r'./WESAD/WESAD/S10/S10_E4_Data/EDA.csv'\n",
    "eda = pd.read_csv(eda_file)"
   ]
  },
  {
   "cell_type": "code",
   "execution_count": 14,
   "metadata": {},
   "outputs": [],
   "source": [
    "eda_raw_signal = eda.iloc[2:].values"
   ]
  },
  {
   "cell_type": "code",
   "execution_count": 15,
   "metadata": {},
   "outputs": [
    {
     "data": {
      "text/plain": [
       "27287"
      ]
     },
     "execution_count": 15,
     "metadata": {},
     "output_type": "execute_result"
    }
   ],
   "source": [
    "len(eda_raw_signal)"
   ]
  },
  {
   "cell_type": "markdown",
   "metadata": {},
   "source": [
    "# parse pkl"
   ]
  },
  {
   "cell_type": "code",
   "execution_count": 6,
   "metadata": {},
   "outputs": [],
   "source": [
    "pkl_path = r'./WESAD/WESAD/S10/S10.pkl'\n",
    "\n",
    "with open(pkl_path, 'rb') as file:\n",
    "    s10_data = pickle.load(file, encoding='latin1')"
   ]
  },
  {
   "cell_type": "code",
   "execution_count": 10,
   "metadata": {},
   "outputs": [
    {
     "data": {
      "text/plain": [
       "3847200"
      ]
     },
     "execution_count": 10,
     "metadata": {},
     "output_type": "execute_result"
    }
   ],
   "source": [
    "len(s10_data['label'])"
   ]
  },
  {
   "cell_type": "code",
   "execution_count": null,
   "metadata": {},
   "outputs": [],
   "source": []
  }
 ],
 "metadata": {
  "kernelspec": {
   "display_name": "base",
   "language": "python",
   "name": "python3"
  },
  "language_info": {
   "codemirror_mode": {
    "name": "ipython",
    "version": 3
   },
   "file_extension": ".py",
   "mimetype": "text/x-python",
   "name": "python",
   "nbconvert_exporter": "python",
   "pygments_lexer": "ipython3",
   "version": "3.7.6"
  },
  "orig_nbformat": 4,
  "vscode": {
   "interpreter": {
    "hash": "b336b2e25951ee9709258584149b22d89d818b16e72dafb499a0c2ddcae7c098"
   }
  }
 },
 "nbformat": 4,
 "nbformat_minor": 2
}
