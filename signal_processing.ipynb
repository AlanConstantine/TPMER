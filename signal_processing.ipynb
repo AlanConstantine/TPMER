{
 "cells": [
  {
   "cell_type": "code",
   "execution_count": 1,
   "metadata": {},
   "outputs": [],
   "source": [
    "import pandas as pd\n",
    "import numpy as np\n",
    "import os\n",
    "import zipfile\n",
    "from tools import *\n",
    "from CONSTANT import *\n",
    "\n",
    "signals = ['BVP', 'EDA', 'HR', 'TEMP']"
   ]
  },
  {
   "cell_type": "code",
   "execution_count": 4,
   "metadata": {},
   "outputs": [],
   "source": [
    "wesad_path = r'./WESAD/WESAD/'\n",
    "ppg_path = r'./PPGFieldStudyDataset/PPG_FieldStudy/'"
   ]
  },
  {
   "cell_type": "code",
   "execution_count": 5,
   "metadata": {},
   "outputs": [],
   "source": [
    "# def extract_E4zip(folderpath):\n",
    "#     for root, dir, files in os.walk(folderpath):\n",
    "#         for file in files:\n",
    "#             if '.zip' not in file and 'E4' not in file:\n",
    "#                 continue\n",
    "#             filename = os.path.join(root, file)\n",
    "#             with zipfile.ZipFile(filename,\"r\") as zip_ref:\n",
    "#                 zip_ref.extractall(filename.replace('.zip',''))\n",
    "#     print(filename, 'done')"
   ]
  },
  {
   "cell_type": "code",
   "execution_count": 6,
   "metadata": {},
   "outputs": [],
   "source": [
    "# extract_E4zip(wesad_path)\n",
    "# extract_E4zip(ppg_path)"
   ]
  },
  {
   "attachments": {},
   "cell_type": "markdown",
   "metadata": {},
   "source": [
    "# get label"
   ]
  },
  {
   "cell_type": "code",
   "execution_count": 6,
   "metadata": {},
   "outputs": [],
   "source": [
    "# label_file = r'./WESAD/WESAD/S10/S10_quest.csv'\n",
    "\n",
    "def get_label(quest_file):\n",
    "    labels = pd.read_csv(quest_file)\n",
    "    conditions = labels.loc[0].values[0].replace('# ORDER;', '').replace(';bRead;fRead;sRead;;;;;;;;;;;;;;;;;;', '').split(';')\n",
    "    starts = [float(t) * 60 for t in labels.iloc[1].values[0].split(';')[1:6]]\n",
    "    ends = [float(t) * 60 for t in labels.iloc[2].values[0].split(';')[1:6]]\n",
    "    va = [sc[0].replace('# DIM;', '')[:3].split(';') for sc in labels.iloc[16: 21].values]\n",
    "    valence = [float(sc[0]) for sc in va]\n",
    "    arousal = [float(sc[1]) for sc in va]\n",
    "    return conditions, starts, ends, valence, arousal\n"
   ]
  },
  {
   "cell_type": "code",
   "execution_count": 7,
   "metadata": {},
   "outputs": [],
   "source": [
    "subjects = ['S6', 'S9', 'S2', 'S13', 'S11', 'S10', 'S8', 'S14',\n",
    "            'S15', 'S5', 'S17', 'S16', 'S3', 'S7', 'S4']\n",
    "\n",
    "valences = []\n",
    "arousals = []\n",
    "\n",
    "for subject in subjects[:-2]:\n",
    "    quest_file = os.path.join(wesad_path, subject, '{}_quest.csv'.format(subject))\n",
    "    conditions, starts, ends, valence, arousal = get_label(quest_file)\n",
    "    e4_path = os.path.join(wesad_path, subject, '{}_E4_Data'.format(subject))\n",
    "    valences.extend(valence)\n",
    "    arousals.extend(arousal)"
   ]
  },
  {
   "cell_type": "code",
   "execution_count": 14,
   "metadata": {},
   "outputs": [],
   "source": [
    "win_size, step = 4, 2\n",
    "\n",
    "signals = ['BVP']\n",
    "\n",
    "sub_df = []\n",
    "for signal_name in signals:\n",
    "    signal_df = []\n",
    "    raw_signal = pd.read_csv(os.path.join(e4_path, '{}.csv'.format(signal_name))).iloc[2:, 0].values\n",
    "    base_condition = raw_signal[int(starts[0]*SAMPLERATE[signal_name]): int(ends[0]*SAMPLERATE[signal_name])+1]\n",
    "    baseline = base_condition.mean()\n",
    "    for i in range(1, 5):\n",
    "        condition_signal = raw_signal[int(starts[i]*SAMPLERATE[signal_name]): int(ends[i]*SAMPLERATE[signal_name])+1] - baseline\n",
    "        signal = (condition_signal - condition_signal.min()) / (condition_signal.max() - condition_signal.min())\n",
    "        condition = conditions[i]\n",
    "\n",
    "        if signal_name == 'EDA':\n",
    "            signal = butter_lowpass_filter(signal, cutOff=CUTOFF['EDA'], fs=SAMPLERATE['EDA'])\n",
    "            signal = resample_by_interpolation(signal, input_fs=SAMPLERATE['EDA'], output_fs=100)\n",
    "        elif signal_name in ['TEMP', 'BVP']:\n",
    "            signal = butter_bandpass_filter(signal, lowcut=CUTOFF[signal_name][0], highcut=CUTOFF[signal_name][1], fs=SAMPLERATE[signal_name])\n",
    "            signal = resample_by_interpolation(signal, input_fs=SAMPLERATE[signal_name], output_fs=100)\n",
    "        elif signal_name == 'HR':\n",
    "            # signal = chauvenet_filter(signal)\n",
    "            # print(signal)\n",
    "            signal = resample_by_interpolation(signal, input_fs=SAMPLERATE[signal_name], output_fs=100)\n",
    "        else:\n",
    "            pass\n",
    "\n",
    "        segments = np.array(segment_generator(signal, win_size=win_size*100, step=step*100))\n",
    "        seg_cols = ['{}_seg{}'.format(signal_name, i) for i in range(segments.shape[1])]\n",
    "        segment_df = pd.DataFrame(columns=seg_cols, data=segments)\n",
    "\n",
    "        segment_df['segment_id'] = segment_df.index.tolist()\n",
    "        segment_df['condition'] = condition\n",
    "        segment_df['valence_rating'] = valence[i]\n",
    "        segment_df['arousal_rating'] = arousal[i]\n",
    "        segment_df['participant_id'] = subject\n",
    "\n",
    "        signal_df.append(segment_df)\n",
    "\n",
    "    # pd.concat(signal_df)\n",
    "\n",
    "# pd.concat(sub_df, axis=1)"
   ]
  },
  {
   "cell_type": "code",
   "execution_count": 15,
   "metadata": {},
   "outputs": [
    {
     "data": {
      "text/html": [
       "<div>\n",
       "<style scoped>\n",
       "    .dataframe tbody tr th:only-of-type {\n",
       "        vertical-align: middle;\n",
       "    }\n",
       "\n",
       "    .dataframe tbody tr th {\n",
       "        vertical-align: top;\n",
       "    }\n",
       "\n",
       "    .dataframe thead th {\n",
       "        text-align: right;\n",
       "    }\n",
       "</style>\n",
       "<table border=\"1\" class=\"dataframe\">\n",
       "  <thead>\n",
       "    <tr style=\"text-align: right;\">\n",
       "      <th></th>\n",
       "      <th>BVP_seg0</th>\n",
       "      <th>BVP_seg1</th>\n",
       "      <th>BVP_seg2</th>\n",
       "      <th>BVP_seg3</th>\n",
       "      <th>BVP_seg4</th>\n",
       "      <th>BVP_seg5</th>\n",
       "      <th>BVP_seg6</th>\n",
       "      <th>BVP_seg7</th>\n",
       "      <th>BVP_seg8</th>\n",
       "      <th>BVP_seg9</th>\n",
       "      <th>...</th>\n",
       "      <th>BVP_seg395</th>\n",
       "      <th>BVP_seg396</th>\n",
       "      <th>BVP_seg397</th>\n",
       "      <th>BVP_seg398</th>\n",
       "      <th>BVP_seg399</th>\n",
       "      <th>segment_id</th>\n",
       "      <th>condition</th>\n",
       "      <th>valence_rating</th>\n",
       "      <th>arousal_rating</th>\n",
       "      <th>participant_id</th>\n",
       "    </tr>\n",
       "  </thead>\n",
       "  <tbody>\n",
       "    <tr>\n",
       "      <th>0</th>\n",
       "      <td>0.002937</td>\n",
       "      <td>0.014161</td>\n",
       "      <td>0.033500</td>\n",
       "      <td>0.063276</td>\n",
       "      <td>0.107352</td>\n",
       "      <td>0.152852</td>\n",
       "      <td>0.196990</td>\n",
       "      <td>0.222848</td>\n",
       "      <td>0.235911</td>\n",
       "      <td>0.219927</td>\n",
       "      <td>...</td>\n",
       "      <td>0.000046</td>\n",
       "      <td>-0.000036</td>\n",
       "      <td>-0.000173</td>\n",
       "      <td>-0.000444</td>\n",
       "      <td>-0.000784</td>\n",
       "      <td>0</td>\n",
       "      <td>TSST</td>\n",
       "      <td>7.0</td>\n",
       "      <td>7.0</td>\n",
       "      <td>S3</td>\n",
       "    </tr>\n",
       "    <tr>\n",
       "      <th>1</th>\n",
       "      <td>0.004982</td>\n",
       "      <td>0.003213</td>\n",
       "      <td>0.001340</td>\n",
       "      <td>-0.000667</td>\n",
       "      <td>-0.002707</td>\n",
       "      <td>-0.004710</td>\n",
       "      <td>-0.006620</td>\n",
       "      <td>-0.008337</td>\n",
       "      <td>-0.009927</td>\n",
       "      <td>-0.011247</td>\n",
       "      <td>...</td>\n",
       "      <td>0.003116</td>\n",
       "      <td>0.003515</td>\n",
       "      <td>0.003891</td>\n",
       "      <td>0.004209</td>\n",
       "      <td>0.004496</td>\n",
       "      <td>1</td>\n",
       "      <td>TSST</td>\n",
       "      <td>7.0</td>\n",
       "      <td>7.0</td>\n",
       "      <td>S3</td>\n",
       "    </tr>\n",
       "    <tr>\n",
       "      <th>2</th>\n",
       "      <td>-0.001178</td>\n",
       "      <td>-0.001589</td>\n",
       "      <td>-0.001936</td>\n",
       "      <td>-0.002203</td>\n",
       "      <td>-0.002187</td>\n",
       "      <td>-0.001987</td>\n",
       "      <td>-0.001468</td>\n",
       "      <td>-0.000570</td>\n",
       "      <td>0.000533</td>\n",
       "      <td>0.001976</td>\n",
       "      <td>...</td>\n",
       "      <td>-0.044003</td>\n",
       "      <td>-0.043729</td>\n",
       "      <td>-0.042778</td>\n",
       "      <td>-0.040655</td>\n",
       "      <td>-0.038068</td>\n",
       "      <td>2</td>\n",
       "      <td>TSST</td>\n",
       "      <td>7.0</td>\n",
       "      <td>7.0</td>\n",
       "      <td>S3</td>\n",
       "    </tr>\n",
       "    <tr>\n",
       "      <th>3</th>\n",
       "      <td>0.004756</td>\n",
       "      <td>0.004983</td>\n",
       "      <td>0.005207</td>\n",
       "      <td>0.005429</td>\n",
       "      <td>0.005667</td>\n",
       "      <td>0.005913</td>\n",
       "      <td>0.006173</td>\n",
       "      <td>0.006434</td>\n",
       "      <td>0.006687</td>\n",
       "      <td>0.006909</td>\n",
       "      <td>...</td>\n",
       "      <td>-0.015994</td>\n",
       "      <td>-0.015846</td>\n",
       "      <td>-0.015527</td>\n",
       "      <td>-0.014826</td>\n",
       "      <td>-0.013914</td>\n",
       "      <td>3</td>\n",
       "      <td>TSST</td>\n",
       "      <td>7.0</td>\n",
       "      <td>7.0</td>\n",
       "      <td>S3</td>\n",
       "    </tr>\n",
       "    <tr>\n",
       "      <th>4</th>\n",
       "      <td>-0.035110</td>\n",
       "      <td>-0.031888</td>\n",
       "      <td>-0.028757</td>\n",
       "      <td>-0.025750</td>\n",
       "      <td>-0.023169</td>\n",
       "      <td>-0.020811</td>\n",
       "      <td>-0.018811</td>\n",
       "      <td>-0.017083</td>\n",
       "      <td>-0.015472</td>\n",
       "      <td>-0.013974</td>\n",
       "      <td>...</td>\n",
       "      <td>0.004047</td>\n",
       "      <td>0.004056</td>\n",
       "      <td>0.004063</td>\n",
       "      <td>0.004063</td>\n",
       "      <td>0.004067</td>\n",
       "      <td>4</td>\n",
       "      <td>TSST</td>\n",
       "      <td>7.0</td>\n",
       "      <td>7.0</td>\n",
       "      <td>S3</td>\n",
       "    </tr>\n",
       "    <tr>\n",
       "      <th>...</th>\n",
       "      <td>...</td>\n",
       "      <td>...</td>\n",
       "      <td>...</td>\n",
       "      <td>...</td>\n",
       "      <td>...</td>\n",
       "      <td>...</td>\n",
       "      <td>...</td>\n",
       "      <td>...</td>\n",
       "      <td>...</td>\n",
       "      <td>...</td>\n",
       "      <td>...</td>\n",
       "      <td>...</td>\n",
       "      <td>...</td>\n",
       "      <td>...</td>\n",
       "      <td>...</td>\n",
       "      <td>...</td>\n",
       "      <td>...</td>\n",
       "      <td>...</td>\n",
       "      <td>...</td>\n",
       "      <td>...</td>\n",
       "      <td>...</td>\n",
       "    </tr>\n",
       "    <tr>\n",
       "      <th>197</th>\n",
       "      <td>0.012987</td>\n",
       "      <td>0.011972</td>\n",
       "      <td>0.009774</td>\n",
       "      <td>0.006846</td>\n",
       "      <td>0.002625</td>\n",
       "      <td>-0.002132</td>\n",
       "      <td>-0.007320</td>\n",
       "      <td>-0.012949</td>\n",
       "      <td>-0.018586</td>\n",
       "      <td>-0.024232</td>\n",
       "      <td>...</td>\n",
       "      <td>-0.008056</td>\n",
       "      <td>-0.008069</td>\n",
       "      <td>-0.007776</td>\n",
       "      <td>-0.007054</td>\n",
       "      <td>-0.005949</td>\n",
       "      <td>197</td>\n",
       "      <td>Medi 2</td>\n",
       "      <td>6.0</td>\n",
       "      <td>3.0</td>\n",
       "      <td>S3</td>\n",
       "    </tr>\n",
       "    <tr>\n",
       "      <th>198</th>\n",
       "      <td>0.033670</td>\n",
       "      <td>0.035068</td>\n",
       "      <td>0.036088</td>\n",
       "      <td>0.036828</td>\n",
       "      <td>0.036809</td>\n",
       "      <td>0.036239</td>\n",
       "      <td>0.035229</td>\n",
       "      <td>0.033293</td>\n",
       "      <td>0.031022</td>\n",
       "      <td>0.028319</td>\n",
       "      <td>...</td>\n",
       "      <td>-0.000042</td>\n",
       "      <td>0.000790</td>\n",
       "      <td>0.001291</td>\n",
       "      <td>0.001306</td>\n",
       "      <td>0.000818</td>\n",
       "      <td>198</td>\n",
       "      <td>Medi 2</td>\n",
       "      <td>6.0</td>\n",
       "      <td>3.0</td>\n",
       "      <td>S3</td>\n",
       "    </tr>\n",
       "    <tr>\n",
       "      <th>199</th>\n",
       "      <td>-0.004696</td>\n",
       "      <td>-0.003271</td>\n",
       "      <td>-0.001874</td>\n",
       "      <td>-0.000528</td>\n",
       "      <td>0.000528</td>\n",
       "      <td>0.001240</td>\n",
       "      <td>0.001681</td>\n",
       "      <td>0.001302</td>\n",
       "      <td>0.000553</td>\n",
       "      <td>-0.000677</td>\n",
       "      <td>...</td>\n",
       "      <td>-0.005630</td>\n",
       "      <td>-0.006337</td>\n",
       "      <td>-0.006180</td>\n",
       "      <td>-0.004745</td>\n",
       "      <td>-0.001938</td>\n",
       "      <td>199</td>\n",
       "      <td>Medi 2</td>\n",
       "      <td>6.0</td>\n",
       "      <td>3.0</td>\n",
       "      <td>S3</td>\n",
       "    </tr>\n",
       "    <tr>\n",
       "      <th>200</th>\n",
       "      <td>0.000124</td>\n",
       "      <td>-0.000832</td>\n",
       "      <td>-0.001830</td>\n",
       "      <td>-0.002828</td>\n",
       "      <td>-0.003674</td>\n",
       "      <td>-0.004319</td>\n",
       "      <td>-0.004805</td>\n",
       "      <td>-0.004786</td>\n",
       "      <td>-0.004510</td>\n",
       "      <td>-0.003900</td>\n",
       "      <td>...</td>\n",
       "      <td>-0.004074</td>\n",
       "      <td>-0.002730</td>\n",
       "      <td>-0.001612</td>\n",
       "      <td>-0.000844</td>\n",
       "      <td>-0.000605</td>\n",
       "      <td>200</td>\n",
       "      <td>Medi 2</td>\n",
       "      <td>6.0</td>\n",
       "      <td>3.0</td>\n",
       "      <td>S3</td>\n",
       "    </tr>\n",
       "    <tr>\n",
       "      <th>201</th>\n",
       "      <td>0.001340</td>\n",
       "      <td>0.005072</td>\n",
       "      <td>0.008107</td>\n",
       "      <td>0.010481</td>\n",
       "      <td>0.010409</td>\n",
       "      <td>0.007979</td>\n",
       "      <td>0.003692</td>\n",
       "      <td>-0.005322</td>\n",
       "      <td>-0.016014</td>\n",
       "      <td>-0.028871</td>\n",
       "      <td>...</td>\n",
       "      <td>-0.000158</td>\n",
       "      <td>0.001194</td>\n",
       "      <td>0.002353</td>\n",
       "      <td>0.003206</td>\n",
       "      <td>0.003304</td>\n",
       "      <td>201</td>\n",
       "      <td>Medi 2</td>\n",
       "      <td>6.0</td>\n",
       "      <td>3.0</td>\n",
       "      <td>S3</td>\n",
       "    </tr>\n",
       "  </tbody>\n",
       "</table>\n",
       "<p>929 rows × 405 columns</p>\n",
       "</div>"
      ],
      "text/plain": [
       "     BVP_seg0  BVP_seg1  BVP_seg2  BVP_seg3  BVP_seg4  BVP_seg5  BVP_seg6  \\\n",
       "0    0.002937  0.014161  0.033500  0.063276  0.107352  0.152852  0.196990   \n",
       "1    0.004982  0.003213  0.001340 -0.000667 -0.002707 -0.004710 -0.006620   \n",
       "2   -0.001178 -0.001589 -0.001936 -0.002203 -0.002187 -0.001987 -0.001468   \n",
       "3    0.004756  0.004983  0.005207  0.005429  0.005667  0.005913  0.006173   \n",
       "4   -0.035110 -0.031888 -0.028757 -0.025750 -0.023169 -0.020811 -0.018811   \n",
       "..        ...       ...       ...       ...       ...       ...       ...   \n",
       "197  0.012987  0.011972  0.009774  0.006846  0.002625 -0.002132 -0.007320   \n",
       "198  0.033670  0.035068  0.036088  0.036828  0.036809  0.036239  0.035229   \n",
       "199 -0.004696 -0.003271 -0.001874 -0.000528  0.000528  0.001240  0.001681   \n",
       "200  0.000124 -0.000832 -0.001830 -0.002828 -0.003674 -0.004319 -0.004805   \n",
       "201  0.001340  0.005072  0.008107  0.010481  0.010409  0.007979  0.003692   \n",
       "\n",
       "     BVP_seg7  BVP_seg8  BVP_seg9  ...  BVP_seg395  BVP_seg396  BVP_seg397  \\\n",
       "0    0.222848  0.235911  0.219927  ...    0.000046   -0.000036   -0.000173   \n",
       "1   -0.008337 -0.009927 -0.011247  ...    0.003116    0.003515    0.003891   \n",
       "2   -0.000570  0.000533  0.001976  ...   -0.044003   -0.043729   -0.042778   \n",
       "3    0.006434  0.006687  0.006909  ...   -0.015994   -0.015846   -0.015527   \n",
       "4   -0.017083 -0.015472 -0.013974  ...    0.004047    0.004056    0.004063   \n",
       "..        ...       ...       ...  ...         ...         ...         ...   \n",
       "197 -0.012949 -0.018586 -0.024232  ...   -0.008056   -0.008069   -0.007776   \n",
       "198  0.033293  0.031022  0.028319  ...   -0.000042    0.000790    0.001291   \n",
       "199  0.001302  0.000553 -0.000677  ...   -0.005630   -0.006337   -0.006180   \n",
       "200 -0.004786 -0.004510 -0.003900  ...   -0.004074   -0.002730   -0.001612   \n",
       "201 -0.005322 -0.016014 -0.028871  ...   -0.000158    0.001194    0.002353   \n",
       "\n",
       "     BVP_seg398  BVP_seg399  segment_id  condition  valence_rating  \\\n",
       "0     -0.000444   -0.000784           0       TSST             7.0   \n",
       "1      0.004209    0.004496           1       TSST             7.0   \n",
       "2     -0.040655   -0.038068           2       TSST             7.0   \n",
       "3     -0.014826   -0.013914           3       TSST             7.0   \n",
       "4      0.004063    0.004067           4       TSST             7.0   \n",
       "..          ...         ...         ...        ...             ...   \n",
       "197   -0.007054   -0.005949         197     Medi 2             6.0   \n",
       "198    0.001306    0.000818         198     Medi 2             6.0   \n",
       "199   -0.004745   -0.001938         199     Medi 2             6.0   \n",
       "200   -0.000844   -0.000605         200     Medi 2             6.0   \n",
       "201    0.003206    0.003304         201     Medi 2             6.0   \n",
       "\n",
       "     arousal_rating  participant_id  \n",
       "0               7.0              S3  \n",
       "1               7.0              S3  \n",
       "2               7.0              S3  \n",
       "3               7.0              S3  \n",
       "4               7.0              S3  \n",
       "..              ...             ...  \n",
       "197             3.0              S3  \n",
       "198             3.0              S3  \n",
       "199             3.0              S3  \n",
       "200             3.0              S3  \n",
       "201             3.0              S3  \n",
       "\n",
       "[929 rows x 405 columns]"
      ]
     },
     "execution_count": 15,
     "metadata": {},
     "output_type": "execute_result"
    }
   ],
   "source": [
    "pd.concat(signal_df)"
   ]
  },
  {
   "cell_type": "code",
   "execution_count": 38,
   "metadata": {},
   "outputs": [],
   "source": [
    "import matplotlib.pyplot as plt\n",
    "from sklearn.cluster import KMeans\n",
    "\n",
    "# pd.set_option(\"display.max_info_columns\", 1300)\n",
    "\n",
    "import gc\n",
    "\n",
    "%matplotlib inline"
   ]
  },
  {
   "cell_type": "code",
   "execution_count": 39,
   "metadata": {},
   "outputs": [
    {
     "data": {
      "text/plain": [
       "array([5.56666667, 4.89166667])"
      ]
     },
     "execution_count": 39,
     "metadata": {},
     "output_type": "execute_result"
    },
    {
     "data": {
      "image/png": "[encoded data removed]",
      "text/plain": [
       "<Figure size 432x288 with 1 Axes>"
      ]
     },
     "metadata": {
      "needs_background": "light"
     },
     "output_type": "display_data"
    }
   ],
   "source": [
    "av_rating = pd.DataFrame()\n",
    "av_rating['valence_rating'] = valences\n",
    "av_rating['arousal_rating'] = arousals\n",
    "\n",
    "colors = [\"#8ECFC9\", \"#FF9C34\", \"#4E9A06\"]\n",
    "\n",
    "kmeans = KMeans(n_clusters=2, random_state=0).fit(av_rating[['valence_rating', 'arousal_rating']])\n",
    "plt.scatter(y=av_rating['arousal_rating'], x=av_rating['valence_rating'], \n",
    "            facecolors='none', edgecolors=['#8ECFC9' if i==0 else '#FFBE7A' for i in kmeans.labels_ ], s=4)\n",
    "plt.ylabel('arousal')\n",
    "plt.xlabel('valence')\n",
    "plt.plot(kmeans.cluster_centers_.T[0], kmeans.cluster_centers_.T[1], c='#FA7F6F', marker=\"o\", markersize=3)\n",
    "threshold = kmeans.cluster_centers_.sum(axis=0)/2\n",
    "plt.plot(threshold[0], threshold[1], c='red', marker=\"+\", markersize=20)\n",
    "kmeans.cluster_centers_.sum(axis=0)/2"
   ]
  },
  {
   "cell_type": "code",
   "execution_count": 40,
   "metadata": {},
   "outputs": [
    {
     "data": {
      "text/html": [
       "<div>\n",
       "<style scoped>\n",
       "    .dataframe tbody tr th:only-of-type {\n",
       "        vertical-align: middle;\n",
       "    }\n",
       "\n",
       "    .dataframe tbody tr th {\n",
       "        vertical-align: top;\n",
       "    }\n",
       "\n",
       "    .dataframe thead th {\n",
       "        text-align: right;\n",
       "    }\n",
       "</style>\n",
       "<table border=\"1\" class=\"dataframe\">\n",
       "  <thead>\n",
       "    <tr style=\"text-align: right;\">\n",
       "      <th></th>\n",
       "      <th>valence_rating</th>\n",
       "      <th>arousal_rating</th>\n",
       "      <th>valence_label</th>\n",
       "      <th>arousal_label</th>\n",
       "    </tr>\n",
       "  </thead>\n",
       "  <tbody>\n",
       "    <tr>\n",
       "      <th>0</th>\n",
       "      <td>8.0</td>\n",
       "      <td>2.0</td>\n",
       "      <td>1</td>\n",
       "      <td>0</td>\n",
       "    </tr>\n",
       "    <tr>\n",
       "      <th>1</th>\n",
       "      <td>6.0</td>\n",
       "      <td>3.0</td>\n",
       "      <td>1</td>\n",
       "      <td>0</td>\n",
       "    </tr>\n",
       "    <tr>\n",
       "      <th>2</th>\n",
       "      <td>6.0</td>\n",
       "      <td>2.0</td>\n",
       "      <td>1</td>\n",
       "      <td>0</td>\n",
       "    </tr>\n",
       "    <tr>\n",
       "      <th>3</th>\n",
       "      <td>8.0</td>\n",
       "      <td>2.0</td>\n",
       "      <td>1</td>\n",
       "      <td>0</td>\n",
       "    </tr>\n",
       "    <tr>\n",
       "      <th>4</th>\n",
       "      <td>8.0</td>\n",
       "      <td>1.0</td>\n",
       "      <td>1</td>\n",
       "      <td>0</td>\n",
       "    </tr>\n",
       "  </tbody>\n",
       "</table>\n",
       "</div>"
      ],
      "text/plain": [
       "   valence_rating  arousal_rating  valence_label  arousal_label\n",
       "0             8.0             2.0              1              0\n",
       "1             6.0             3.0              1              0\n",
       "2             6.0             2.0              1              0\n",
       "3             8.0             2.0              1              0\n",
       "4             8.0             1.0              1              0"
      ]
     },
     "execution_count": 40,
     "metadata": {},
     "output_type": "execute_result"
    }
   ],
   "source": [
    "midpoint = kmeans.cluster_centers_.sum(axis=0)/2\n",
    "av_rating['valence_label'] = av_rating['valence_rating'].apply(lambda x: 1 if x>midpoint[0] else 0)\n",
    "av_rating['arousal_label'] = av_rating['arousal_rating'].apply(lambda x: 1 if x>midpoint[1] else 0)\n",
    "av_rating.head()"
   ]
  },
  {
   "cell_type": "code",
   "execution_count": 41,
   "metadata": {},
   "outputs": [
    {
     "data": {
      "text/plain": [
       "1    57\n",
       "0    18\n",
       "Name: valence_label, dtype: int64"
      ]
     },
     "execution_count": 41,
     "metadata": {},
     "output_type": "execute_result"
    }
   ],
   "source": [
    "av_rating['valence_label'].value_counts()"
   ]
  },
  {
   "cell_type": "code",
   "execution_count": 44,
   "metadata": {},
   "outputs": [
    {
     "data": {
      "text/plain": [
       "7.0    27\n",
       "8.0    14\n",
       "6.0    14\n",
       "5.0     9\n",
       "4.0     4\n",
       "3.0     3\n",
       "9.0     2\n",
       "2.0     1\n",
       "1.0     1\n",
       "Name: valence_rating, dtype: int64"
      ]
     },
     "execution_count": 44,
     "metadata": {},
     "output_type": "execute_result"
    }
   ],
   "source": [
    "av_rating['valence_rating'].value_counts()"
   ]
  },
  {
   "cell_type": "code",
   "execution_count": 43,
   "metadata": {},
   "outputs": [
    {
     "data": {
      "text/plain": [
       "0    58\n",
       "1    17\n",
       "Name: arousal_label, dtype: int64"
      ]
     },
     "execution_count": 43,
     "metadata": {},
     "output_type": "execute_result"
    }
   ],
   "source": [
    "av_rating['arousal_label'].value_counts()"
   ]
  },
  {
   "attachments": {},
   "cell_type": "markdown",
   "metadata": {},
   "source": [
    "# get E4"
   ]
  },
  {
   "cell_type": "code",
   "execution_count": 13,
   "metadata": {},
   "outputs": [],
   "source": [
    "eda_file = r'./WESAD/WESAD/S10/S10_E4_Data/EDA.csv'\n",
    "eda = pd.read_csv(eda_file)"
   ]
  },
  {
   "cell_type": "code",
   "execution_count": 14,
   "metadata": {},
   "outputs": [],
   "source": [
    "eda_raw_signal = eda.iloc[2:].values"
   ]
  },
  {
   "cell_type": "code",
   "execution_count": 15,
   "metadata": {},
   "outputs": [
    {
     "data": {
      "text/plain": [
       "27287"
      ]
     },
     "execution_count": 15,
     "metadata": {},
     "output_type": "execute_result"
    }
   ],
   "source": [
    "len(eda_raw_signal)"
   ]
  },
  {
   "cell_type": "markdown",
   "metadata": {},
   "source": [
    "# parse pkl"
   ]
  },
  {
   "cell_type": "code",
   "execution_count": 6,
   "metadata": {},
   "outputs": [],
   "source": [
    "pkl_path = r'./WESAD/WESAD/S10/S10.pkl'\n",
    "\n",
    "with open(pkl_path, 'rb') as file:\n",
    "    s10_data = pickle.load(file, encoding='latin1')"
   ]
  },
  {
   "cell_type": "code",
   "execution_count": 10,
   "metadata": {},
   "outputs": [
    {
     "data": {
      "text/plain": [
       "3847200"
      ]
     },
     "execution_count": 10,
     "metadata": {},
     "output_type": "execute_result"
    }
   ],
   "source": [
    "len(s10_data['label'])"
   ]
  },
  {
   "cell_type": "code",
   "execution_count": null,
   "metadata": {},
   "outputs": [],
   "source": []
  }
 ],
 "metadata": {
  "kernelspec": {
   "display_name": "base",
   "language": "python",
   "name": "python3"
  },
  "language_info": {
   "codemirror_mode": {
    "name": "ipython",
    "version": 3
   },
   "file_extension": ".py",
   "mimetype": "text/x-python",
   "name": "python",
   "nbconvert_exporter": "python",
   "pygments_lexer": "ipython3",
   "version": "3.7.6"
  },
  "orig_nbformat": 4,
  "vscode": {
   "interpreter": {
    "hash": "b336b2e25951ee9709258584149b22d89d818b16e72dafb499a0c2ddcae7c098"
   }
  }
 },
 "nbformat": 4,
 "nbformat_minor": 2
}
