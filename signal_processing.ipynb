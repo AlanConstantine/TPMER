{
 "cells": [
  {
   "cell_type": "code",
   "execution_count": 2,
   "metadata": {},
   "outputs": [],
   "source": [
    "import pandas as pd\n",
    "import numpy as np\n",
    "import os\n",
    "import zipfile\n",
    "from tools import *\n",
    "from CONSTANT import *\n",
    "\n",
    "signals = ['BVP', 'EDA', 'HR', 'TEMP']\n",
    "# sample_rate = {'EDA': 4, 'BVP': 64, 'TEMP': 4, 'HR': 1}"
   ]
  },
  {
   "cell_type": "code",
   "execution_count": 5,
   "metadata": {},
   "outputs": [],
   "source": [
    "wesad_path = r'./WESAD/WESAD/'\n",
    "ppg_path = r'./PPGFieldStudyDataset/PPG_FieldStudy/'"
   ]
  },
  {
   "cell_type": "code",
   "execution_count": 3,
   "metadata": {},
   "outputs": [],
   "source": [
    "def extract_E4zip(folderpath):\n",
    "    for root, dir, files in os.walk(folderpath):\n",
    "        for file in files:\n",
    "            if '.zip' not in file and 'E4' not in file:\n",
    "                continue\n",
    "            filename = os.path.join(root, file)\n",
    "            with zipfile.ZipFile(filename,\"r\") as zip_ref:\n",
    "                zip_ref.extractall(filename.replace('.zip',''))\n",
    "    print(filename, 'done')"
   ]
  },
  {
   "cell_type": "code",
   "execution_count": 6,
   "metadata": {},
   "outputs": [],
   "source": [
    "# extract_E4zip(wesad_path)\n",
    "# extract_E4zip(ppg_path)"
   ]
  },
  {
   "attachments": {},
   "cell_type": "markdown",
   "metadata": {},
   "source": [
    "# get label"
   ]
  },
  {
   "cell_type": "code",
   "execution_count": 3,
   "metadata": {},
   "outputs": [],
   "source": [
    "# label_file = r'./WESAD/WESAD/S10/S10_quest.csv'\n",
    "\n",
    "def get_label(quest_file):\n",
    "    labels = pd.read_csv(quest_file)\n",
    "    conditions = labels.loc[0].values[0].replace('# ORDER;', '').replace(';bRead;fRead;sRead;;;;;;;;;;;;;;;;;;', '').split(';')\n",
    "    starts = [float(t) * 60 for t in labels.iloc[1].values[0].split(';')[1:6]]\n",
    "    ends = [float(t) * 60 for t in labels.iloc[2].values[0].split(';')[1:6]]\n",
    "    va = [sc[0].replace('# DIM;', '')[:3].split(';') for sc in labels.iloc[16: 21].values]\n",
    "    valence = [float(sc[0]) for sc in va]\n",
    "    arousal = [float(sc[1]) for sc in va]\n",
    "    return conditions, starts, ends, valence, arousal\n"
   ]
  },
  {
   "cell_type": "code",
   "execution_count": 6,
   "metadata": {},
   "outputs": [],
   "source": [
    "subjects = ['S6', 'S9', 'S2', 'S13', 'S11', 'S10', 'S8', 'S14',\n",
    "            'S15', 'S5', 'S17', 'S16', 'S3', 'S7', 'S4']\n",
    "\n",
    "valences = []\n",
    "arousals = []\n",
    "\n",
    "for subject in subjects:\n",
    "    quest_file = os.path.join(wesad_path, subject, '{}_quest.csv'.format(subject))\n",
    "    conditions, starts, ends, valence, arousal = get_label(quest_file)\n",
    "    e4_path = os.path.join(wesad_path, subject, '{}_E4_Data'.format(subject))\n",
    "    valences.extend(valence)\n",
    "    arousals.extend(arousal)"
   ]
  },
  {
   "cell_type": "code",
   "execution_count": 50,
   "metadata": {},
   "outputs": [],
   "source": [
    "win_size, step = 4, 2\n",
    "\n",
    "signals = ['HR']\n",
    "\n",
    "sub_df = []\n",
    "for signal_name in signals:\n",
    "    signal_df = []\n",
    "    raw_signal = pd.read_csv(os.path.join(e4_path, '{}.csv'.format(signal_name))).iloc[2:, 0].values\n",
    "    baseline = raw_signal[int(starts[0]*SAMPLERATE[signal_name]): int(ends[0]*SAMPLERATE[signal_name])+1].mean()\n",
    "    for i in range(1, 5):\n",
    "        condition_signal = raw_signal[int(starts[i]*SAMPLERATE[signal_name]): int(ends[i]*SAMPLERATE[signal_name])+1] - baseline\n",
    "        signal = (condition_signal - condition_signal.min()) / (condition_signal.max() - condition_signal.min())\n",
    "        condition = conditions[i]\n",
    "\n",
    "        if signal_name == 'EDA':\n",
    "            signal = butter_lowpass_filter(signal, cutOff=CUTOFF['EDA'], fs=SAMPLERATE['EDA'])\n",
    "            signal = resample_by_interpolation(signal, input_fs=SAMPLERATE['EDA'], output_fs=100)\n",
    "        elif signal_name in ['TEMP', 'BVP']:\n",
    "            signal = butter_bandpass_filter(signal, lowcut=CUTOFF[signal_name][0], highcut=CUTOFF[signal_name][1], fs=SAMPLERATE[signal_name])\n",
    "            signal = resample_by_interpolation(signal, input_fs=SAMPLERATE[signal_name], output_fs=100)\n",
    "        elif signal_name == 'HR':\n",
    "            # signal = chauvenet_filter(signal)\n",
    "            # print(signal)\n",
    "            signal = resample_by_interpolation(signal, input_fs=SAMPLERATE[signal_name], output_fs=100)\n",
    "        else:\n",
    "            pass\n",
    "\n",
    "        segments = np.array(segment_generator(signal, win_size=win_size*100, step=step*100))\n",
    "        seg_cols = ['{}_seg{}'.format(signal_name, i) for i in range(segments.shape[1])]\n",
    "        segment_df = pd.DataFrame(columns=seg_cols, data=segments)\n",
    "\n",
    "        segment_df['segment_id'] = segment_df.index.tolist()\n",
    "        segment_df['condition'] = condition\n",
    "        segment_df['valence_rating'] = valence[i]\n",
    "        segment_df['arousal_rating'] = arousal[i]\n",
    "        segment_df['participant_id'] = subject\n",
    "\n",
    "        signal_df.append(segment_df)\n",
    "\n",
    "    # pd.concat(signal_df)\n",
    "\n",
    "# pd.concat(sub_df, axis=1)"
   ]
  },
  {
   "cell_type": "code",
   "execution_count": 51,
   "metadata": {},
   "outputs": [
    {
     "data": {
      "text/html": [
       "<div>\n",
       "<style scoped>\n",
       "    .dataframe tbody tr th:only-of-type {\n",
       "        vertical-align: middle;\n",
       "    }\n",
       "\n",
       "    .dataframe tbody tr th {\n",
       "        vertical-align: top;\n",
       "    }\n",
       "\n",
       "    .dataframe thead th {\n",
       "        text-align: right;\n",
       "    }\n",
       "</style>\n",
       "<table border=\"1\" class=\"dataframe\">\n",
       "  <thead>\n",
       "    <tr style=\"text-align: right;\">\n",
       "      <th></th>\n",
       "      <th>HR_seg0</th>\n",
       "      <th>HR_seg1</th>\n",
       "      <th>HR_seg2</th>\n",
       "      <th>HR_seg3</th>\n",
       "      <th>HR_seg4</th>\n",
       "      <th>HR_seg5</th>\n",
       "      <th>HR_seg6</th>\n",
       "      <th>HR_seg7</th>\n",
       "      <th>HR_seg8</th>\n",
       "      <th>HR_seg9</th>\n",
       "      <th>...</th>\n",
       "      <th>HR_seg395</th>\n",
       "      <th>HR_seg396</th>\n",
       "      <th>HR_seg397</th>\n",
       "      <th>HR_seg398</th>\n",
       "      <th>HR_seg399</th>\n",
       "      <th>segment_id</th>\n",
       "      <th>condition</th>\n",
       "      <th>valence_rating</th>\n",
       "      <th>arousal_rating</th>\n",
       "      <th>participant_id</th>\n",
       "    </tr>\n",
       "  </thead>\n",
       "  <tbody>\n",
       "    <tr>\n",
       "      <th>0</th>\n",
       "      <td>0.578022</td>\n",
       "      <td>0.577912</td>\n",
       "      <td>0.577802</td>\n",
       "      <td>0.577692</td>\n",
       "      <td>0.577582</td>\n",
       "      <td>0.577473</td>\n",
       "      <td>0.577363</td>\n",
       "      <td>0.577253</td>\n",
       "      <td>0.577143</td>\n",
       "      <td>0.577033</td>\n",
       "      <td>...</td>\n",
       "      <td>0.538901</td>\n",
       "      <td>0.538813</td>\n",
       "      <td>0.538725</td>\n",
       "      <td>0.538637</td>\n",
       "      <td>0.538549</td>\n",
       "      <td>0</td>\n",
       "      <td>Fun</td>\n",
       "      <td>8.0</td>\n",
       "      <td>1.0</td>\n",
       "      <td>S4</td>\n",
       "    </tr>\n",
       "    <tr>\n",
       "      <th>1</th>\n",
       "      <td>0.556044</td>\n",
       "      <td>0.555956</td>\n",
       "      <td>0.555868</td>\n",
       "      <td>0.555780</td>\n",
       "      <td>0.555692</td>\n",
       "      <td>0.555604</td>\n",
       "      <td>0.555516</td>\n",
       "      <td>0.555429</td>\n",
       "      <td>0.555341</td>\n",
       "      <td>0.555253</td>\n",
       "      <td>...</td>\n",
       "      <td>0.522308</td>\n",
       "      <td>0.522242</td>\n",
       "      <td>0.522176</td>\n",
       "      <td>0.522110</td>\n",
       "      <td>0.522044</td>\n",
       "      <td>1</td>\n",
       "      <td>Fun</td>\n",
       "      <td>8.0</td>\n",
       "      <td>1.0</td>\n",
       "      <td>S4</td>\n",
       "    </tr>\n",
       "    <tr>\n",
       "      <th>2</th>\n",
       "      <td>0.538462</td>\n",
       "      <td>0.538363</td>\n",
       "      <td>0.538264</td>\n",
       "      <td>0.538165</td>\n",
       "      <td>0.538066</td>\n",
       "      <td>0.537967</td>\n",
       "      <td>0.537868</td>\n",
       "      <td>0.537769</td>\n",
       "      <td>0.537670</td>\n",
       "      <td>0.537571</td>\n",
       "      <td>...</td>\n",
       "      <td>0.527363</td>\n",
       "      <td>0.527385</td>\n",
       "      <td>0.527407</td>\n",
       "      <td>0.527429</td>\n",
       "      <td>0.527451</td>\n",
       "      <td>2</td>\n",
       "      <td>Fun</td>\n",
       "      <td>8.0</td>\n",
       "      <td>1.0</td>\n",
       "      <td>S4</td>\n",
       "    </tr>\n",
       "    <tr>\n",
       "      <th>3</th>\n",
       "      <td>0.521978</td>\n",
       "      <td>0.522011</td>\n",
       "      <td>0.522044</td>\n",
       "      <td>0.522077</td>\n",
       "      <td>0.522110</td>\n",
       "      <td>0.522143</td>\n",
       "      <td>0.522176</td>\n",
       "      <td>0.522209</td>\n",
       "      <td>0.522242</td>\n",
       "      <td>0.522275</td>\n",
       "      <td>...</td>\n",
       "      <td>0.527473</td>\n",
       "      <td>0.527473</td>\n",
       "      <td>0.527473</td>\n",
       "      <td>0.527473</td>\n",
       "      <td>0.527473</td>\n",
       "      <td>3</td>\n",
       "      <td>Fun</td>\n",
       "      <td>8.0</td>\n",
       "      <td>1.0</td>\n",
       "      <td>S4</td>\n",
       "    </tr>\n",
       "    <tr>\n",
       "      <th>4</th>\n",
       "      <td>0.527473</td>\n",
       "      <td>0.527473</td>\n",
       "      <td>0.527473</td>\n",
       "      <td>0.527473</td>\n",
       "      <td>0.527473</td>\n",
       "      <td>0.527473</td>\n",
       "      <td>0.527473</td>\n",
       "      <td>0.527473</td>\n",
       "      <td>0.527473</td>\n",
       "      <td>0.527473</td>\n",
       "      <td>...</td>\n",
       "      <td>0.532857</td>\n",
       "      <td>0.532879</td>\n",
       "      <td>0.532901</td>\n",
       "      <td>0.532923</td>\n",
       "      <td>0.532945</td>\n",
       "      <td>4</td>\n",
       "      <td>Fun</td>\n",
       "      <td>8.0</td>\n",
       "      <td>1.0</td>\n",
       "      <td>S4</td>\n",
       "    </tr>\n",
       "    <tr>\n",
       "      <th>...</th>\n",
       "      <td>...</td>\n",
       "      <td>...</td>\n",
       "      <td>...</td>\n",
       "      <td>...</td>\n",
       "      <td>...</td>\n",
       "      <td>...</td>\n",
       "      <td>...</td>\n",
       "      <td>...</td>\n",
       "      <td>...</td>\n",
       "      <td>...</td>\n",
       "      <td>...</td>\n",
       "      <td>...</td>\n",
       "      <td>...</td>\n",
       "      <td>...</td>\n",
       "      <td>...</td>\n",
       "      <td>...</td>\n",
       "      <td>...</td>\n",
       "      <td>...</td>\n",
       "      <td>...</td>\n",
       "      <td>...</td>\n",
       "      <td>...</td>\n",
       "    </tr>\n",
       "    <tr>\n",
       "      <th>203</th>\n",
       "      <td>0.003209</td>\n",
       "      <td>0.003209</td>\n",
       "      <td>0.003209</td>\n",
       "      <td>0.003209</td>\n",
       "      <td>0.003209</td>\n",
       "      <td>0.003209</td>\n",
       "      <td>0.003209</td>\n",
       "      <td>0.003209</td>\n",
       "      <td>0.003209</td>\n",
       "      <td>0.003209</td>\n",
       "      <td>...</td>\n",
       "      <td>0.001243</td>\n",
       "      <td>0.001235</td>\n",
       "      <td>0.001227</td>\n",
       "      <td>0.001219</td>\n",
       "      <td>0.001211</td>\n",
       "      <td>203</td>\n",
       "      <td>Medi 2</td>\n",
       "      <td>5.0</td>\n",
       "      <td>2.0</td>\n",
       "      <td>S4</td>\n",
       "    </tr>\n",
       "    <tr>\n",
       "      <th>204</th>\n",
       "      <td>0.002407</td>\n",
       "      <td>0.002403</td>\n",
       "      <td>0.002399</td>\n",
       "      <td>0.002395</td>\n",
       "      <td>0.002391</td>\n",
       "      <td>0.002387</td>\n",
       "      <td>0.002383</td>\n",
       "      <td>0.002379</td>\n",
       "      <td>0.002375</td>\n",
       "      <td>0.002371</td>\n",
       "      <td>...</td>\n",
       "      <td>0.000020</td>\n",
       "      <td>0.000016</td>\n",
       "      <td>0.000012</td>\n",
       "      <td>0.000008</td>\n",
       "      <td>0.000004</td>\n",
       "      <td>204</td>\n",
       "      <td>Medi 2</td>\n",
       "      <td>5.0</td>\n",
       "      <td>2.0</td>\n",
       "      <td>S4</td>\n",
       "    </tr>\n",
       "    <tr>\n",
       "      <th>205</th>\n",
       "      <td>0.001203</td>\n",
       "      <td>0.001195</td>\n",
       "      <td>0.001187</td>\n",
       "      <td>0.001179</td>\n",
       "      <td>0.001171</td>\n",
       "      <td>0.001163</td>\n",
       "      <td>0.001155</td>\n",
       "      <td>0.001147</td>\n",
       "      <td>0.001139</td>\n",
       "      <td>0.001131</td>\n",
       "      <td>...</td>\n",
       "      <td>0.000401</td>\n",
       "      <td>0.000401</td>\n",
       "      <td>0.000401</td>\n",
       "      <td>0.000401</td>\n",
       "      <td>0.000401</td>\n",
       "      <td>205</td>\n",
       "      <td>Medi 2</td>\n",
       "      <td>5.0</td>\n",
       "      <td>2.0</td>\n",
       "      <td>S4</td>\n",
       "    </tr>\n",
       "    <tr>\n",
       "      <th>206</th>\n",
       "      <td>0.000000</td>\n",
       "      <td>0.000004</td>\n",
       "      <td>0.000008</td>\n",
       "      <td>0.000012</td>\n",
       "      <td>0.000016</td>\n",
       "      <td>0.000020</td>\n",
       "      <td>0.000024</td>\n",
       "      <td>0.000028</td>\n",
       "      <td>0.000032</td>\n",
       "      <td>0.000036</td>\n",
       "      <td>...</td>\n",
       "      <td>0.000401</td>\n",
       "      <td>0.000401</td>\n",
       "      <td>0.000401</td>\n",
       "      <td>0.000401</td>\n",
       "      <td>0.000401</td>\n",
       "      <td>206</td>\n",
       "      <td>Medi 2</td>\n",
       "      <td>5.0</td>\n",
       "      <td>2.0</td>\n",
       "      <td>S4</td>\n",
       "    </tr>\n",
       "    <tr>\n",
       "      <th>207</th>\n",
       "      <td>0.000401</td>\n",
       "      <td>0.000401</td>\n",
       "      <td>0.000401</td>\n",
       "      <td>0.000401</td>\n",
       "      <td>0.000401</td>\n",
       "      <td>0.000401</td>\n",
       "      <td>0.000401</td>\n",
       "      <td>0.000401</td>\n",
       "      <td>0.000401</td>\n",
       "      <td>0.000401</td>\n",
       "      <td>...</td>\n",
       "      <td>0.000000</td>\n",
       "      <td>0.000000</td>\n",
       "      <td>0.000000</td>\n",
       "      <td>0.000000</td>\n",
       "      <td>0.000000</td>\n",
       "      <td>207</td>\n",
       "      <td>Medi 2</td>\n",
       "      <td>5.0</td>\n",
       "      <td>2.0</td>\n",
       "      <td>S4</td>\n",
       "    </tr>\n",
       "  </tbody>\n",
       "</table>\n",
       "<p>958 rows × 405 columns</p>\n",
       "</div>"
      ],
      "text/plain": [
       "      HR_seg0   HR_seg1   HR_seg2   HR_seg3   HR_seg4   HR_seg5   HR_seg6  \\\n",
       "0    0.578022  0.577912  0.577802  0.577692  0.577582  0.577473  0.577363   \n",
       "1    0.556044  0.555956  0.555868  0.555780  0.555692  0.555604  0.555516   \n",
       "2    0.538462  0.538363  0.538264  0.538165  0.538066  0.537967  0.537868   \n",
       "3    0.521978  0.522011  0.522044  0.522077  0.522110  0.522143  0.522176   \n",
       "4    0.527473  0.527473  0.527473  0.527473  0.527473  0.527473  0.527473   \n",
       "..        ...       ...       ...       ...       ...       ...       ...   \n",
       "203  0.003209  0.003209  0.003209  0.003209  0.003209  0.003209  0.003209   \n",
       "204  0.002407  0.002403  0.002399  0.002395  0.002391  0.002387  0.002383   \n",
       "205  0.001203  0.001195  0.001187  0.001179  0.001171  0.001163  0.001155   \n",
       "206  0.000000  0.000004  0.000008  0.000012  0.000016  0.000020  0.000024   \n",
       "207  0.000401  0.000401  0.000401  0.000401  0.000401  0.000401  0.000401   \n",
       "\n",
       "      HR_seg7   HR_seg8   HR_seg9  ...  HR_seg395  HR_seg396  HR_seg397  \\\n",
       "0    0.577253  0.577143  0.577033  ...   0.538901   0.538813   0.538725   \n",
       "1    0.555429  0.555341  0.555253  ...   0.522308   0.522242   0.522176   \n",
       "2    0.537769  0.537670  0.537571  ...   0.527363   0.527385   0.527407   \n",
       "3    0.522209  0.522242  0.522275  ...   0.527473   0.527473   0.527473   \n",
       "4    0.527473  0.527473  0.527473  ...   0.532857   0.532879   0.532901   \n",
       "..        ...       ...       ...  ...        ...        ...        ...   \n",
       "203  0.003209  0.003209  0.003209  ...   0.001243   0.001235   0.001227   \n",
       "204  0.002379  0.002375  0.002371  ...   0.000020   0.000016   0.000012   \n",
       "205  0.001147  0.001139  0.001131  ...   0.000401   0.000401   0.000401   \n",
       "206  0.000028  0.000032  0.000036  ...   0.000401   0.000401   0.000401   \n",
       "207  0.000401  0.000401  0.000401  ...   0.000000   0.000000   0.000000   \n",
       "\n",
       "     HR_seg398  HR_seg399  segment_id  condition  valence_rating  \\\n",
       "0     0.538637   0.538549           0        Fun             8.0   \n",
       "1     0.522110   0.522044           1        Fun             8.0   \n",
       "2     0.527429   0.527451           2        Fun             8.0   \n",
       "3     0.527473   0.527473           3        Fun             8.0   \n",
       "4     0.532923   0.532945           4        Fun             8.0   \n",
       "..         ...        ...         ...        ...             ...   \n",
       "203   0.001219   0.001211         203     Medi 2             5.0   \n",
       "204   0.000008   0.000004         204     Medi 2             5.0   \n",
       "205   0.000401   0.000401         205     Medi 2             5.0   \n",
       "206   0.000401   0.000401         206     Medi 2             5.0   \n",
       "207   0.000000   0.000000         207     Medi 2             5.0   \n",
       "\n",
       "     arousal_rating  participant_id  \n",
       "0               1.0              S4  \n",
       "1               1.0              S4  \n",
       "2               1.0              S4  \n",
       "3               1.0              S4  \n",
       "4               1.0              S4  \n",
       "..              ...             ...  \n",
       "203             2.0              S4  \n",
       "204             2.0              S4  \n",
       "205             2.0              S4  \n",
       "206             2.0              S4  \n",
       "207             2.0              S4  \n",
       "\n",
       "[958 rows x 405 columns]"
      ]
     },
     "execution_count": 51,
     "metadata": {},
     "output_type": "execute_result"
    }
   ],
   "source": [
    "pd.concat(signal_df)"
   ]
  },
  {
   "cell_type": "code",
   "execution_count": 38,
   "metadata": {},
   "outputs": [],
   "source": [
    "import matplotlib.pyplot as plt\n",
    "from sklearn.cluster import KMeans\n",
    "\n",
    "# pd.set_option(\"display.max_info_columns\", 1300)\n",
    "\n",
    "import gc\n",
    "\n",
    "%matplotlib inline"
   ]
  },
  {
   "cell_type": "code",
   "execution_count": 39,
   "metadata": {},
   "outputs": [
    {
     "data": {
      "text/plain": [
       "array([5.56666667, 4.89166667])"
      ]
     },
     "execution_count": 39,
     "metadata": {},
     "output_type": "execute_result"
    },
    {
     "data": {
      "image/png": "[encoded data removed]",
      "text/plain": [
       "<Figure size 432x288 with 1 Axes>"
      ]
     },
     "metadata": {
      "needs_background": "light"
     },
     "output_type": "display_data"
    }
   ],
   "source": [
    "av_rating = pd.DataFrame()\n",
    "av_rating['valence_rating'] = valences\n",
    "av_rating['arousal_rating'] = arousals\n",
    "\n",
    "colors = [\"#8ECFC9\", \"#FF9C34\", \"#4E9A06\"]\n",
    "\n",
    "kmeans = KMeans(n_clusters=2, random_state=0).fit(av_rating[['valence_rating', 'arousal_rating']])\n",
    "plt.scatter(y=av_rating['arousal_rating'], x=av_rating['valence_rating'], \n",
    "            facecolors='none', edgecolors=['#8ECFC9' if i==0 else '#FFBE7A' for i in kmeans.labels_ ], s=4)\n",
    "plt.ylabel('arousal')\n",
    "plt.xlabel('valence')\n",
    "plt.plot(kmeans.cluster_centers_.T[0], kmeans.cluster_centers_.T[1], c='#FA7F6F', marker=\"o\", markersize=3)\n",
    "threshold = kmeans.cluster_centers_.sum(axis=0)/2\n",
    "plt.plot(threshold[0], threshold[1], c='red', marker=\"+\", markersize=20)\n",
    "kmeans.cluster_centers_.sum(axis=0)/2"
   ]
  },
  {
   "cell_type": "code",
   "execution_count": 40,
   "metadata": {},
   "outputs": [
    {
     "data": {
      "text/html": [
       "<div>\n",
       "<style scoped>\n",
       "    .dataframe tbody tr th:only-of-type {\n",
       "        vertical-align: middle;\n",
       "    }\n",
       "\n",
       "    .dataframe tbody tr th {\n",
       "        vertical-align: top;\n",
       "    }\n",
       "\n",
       "    .dataframe thead th {\n",
       "        text-align: right;\n",
       "    }\n",
       "</style>\n",
       "<table border=\"1\" class=\"dataframe\">\n",
       "  <thead>\n",
       "    <tr style=\"text-align: right;\">\n",
       "      <th></th>\n",
       "      <th>valence_rating</th>\n",
       "      <th>arousal_rating</th>\n",
       "      <th>valence_label</th>\n",
       "      <th>arousal_label</th>\n",
       "    </tr>\n",
       "  </thead>\n",
       "  <tbody>\n",
       "    <tr>\n",
       "      <th>0</th>\n",
       "      <td>8.0</td>\n",
       "      <td>2.0</td>\n",
       "      <td>1</td>\n",
       "      <td>0</td>\n",
       "    </tr>\n",
       "    <tr>\n",
       "      <th>1</th>\n",
       "      <td>6.0</td>\n",
       "      <td>3.0</td>\n",
       "      <td>1</td>\n",
       "      <td>0</td>\n",
       "    </tr>\n",
       "    <tr>\n",
       "      <th>2</th>\n",
       "      <td>6.0</td>\n",
       "      <td>2.0</td>\n",
       "      <td>1</td>\n",
       "      <td>0</td>\n",
       "    </tr>\n",
       "    <tr>\n",
       "      <th>3</th>\n",
       "      <td>8.0</td>\n",
       "      <td>2.0</td>\n",
       "      <td>1</td>\n",
       "      <td>0</td>\n",
       "    </tr>\n",
       "    <tr>\n",
       "      <th>4</th>\n",
       "      <td>8.0</td>\n",
       "      <td>1.0</td>\n",
       "      <td>1</td>\n",
       "      <td>0</td>\n",
       "    </tr>\n",
       "  </tbody>\n",
       "</table>\n",
       "</div>"
      ],
      "text/plain": [
       "   valence_rating  arousal_rating  valence_label  arousal_label\n",
       "0             8.0             2.0              1              0\n",
       "1             6.0             3.0              1              0\n",
       "2             6.0             2.0              1              0\n",
       "3             8.0             2.0              1              0\n",
       "4             8.0             1.0              1              0"
      ]
     },
     "execution_count": 40,
     "metadata": {},
     "output_type": "execute_result"
    }
   ],
   "source": [
    "midpoint = kmeans.cluster_centers_.sum(axis=0)/2\n",
    "av_rating['valence_label'] = av_rating['valence_rating'].apply(lambda x: 1 if x>midpoint[0] else 0)\n",
    "av_rating['arousal_label'] = av_rating['arousal_rating'].apply(lambda x: 1 if x>midpoint[1] else 0)\n",
    "av_rating.head()"
   ]
  },
  {
   "cell_type": "code",
   "execution_count": 41,
   "metadata": {},
   "outputs": [
    {
     "data": {
      "text/plain": [
       "1    57\n",
       "0    18\n",
       "Name: valence_label, dtype: int64"
      ]
     },
     "execution_count": 41,
     "metadata": {},
     "output_type": "execute_result"
    }
   ],
   "source": [
    "av_rating['valence_label'].value_counts()"
   ]
  },
  {
   "cell_type": "code",
   "execution_count": 44,
   "metadata": {},
   "outputs": [
    {
     "data": {
      "text/plain": [
       "7.0    27\n",
       "8.0    14\n",
       "6.0    14\n",
       "5.0     9\n",
       "4.0     4\n",
       "3.0     3\n",
       "9.0     2\n",
       "2.0     1\n",
       "1.0     1\n",
       "Name: valence_rating, dtype: int64"
      ]
     },
     "execution_count": 44,
     "metadata": {},
     "output_type": "execute_result"
    }
   ],
   "source": [
    "av_rating['valence_rating'].value_counts()"
   ]
  },
  {
   "cell_type": "code",
   "execution_count": 43,
   "metadata": {},
   "outputs": [
    {
     "data": {
      "text/plain": [
       "0    58\n",
       "1    17\n",
       "Name: arousal_label, dtype: int64"
      ]
     },
     "execution_count": 43,
     "metadata": {},
     "output_type": "execute_result"
    }
   ],
   "source": [
    "av_rating['arousal_label'].value_counts()"
   ]
  },
  {
   "attachments": {},
   "cell_type": "markdown",
   "metadata": {},
   "source": [
    "# get E4"
   ]
  },
  {
   "cell_type": "code",
   "execution_count": 13,
   "metadata": {},
   "outputs": [],
   "source": [
    "eda_file = r'./WESAD/WESAD/S10/S10_E4_Data/EDA.csv'\n",
    "eda = pd.read_csv(eda_file)"
   ]
  },
  {
   "cell_type": "code",
   "execution_count": 14,
   "metadata": {},
   "outputs": [],
   "source": [
    "eda_raw_signal = eda.iloc[2:].values"
   ]
  },
  {
   "cell_type": "code",
   "execution_count": 15,
   "metadata": {},
   "outputs": [
    {
     "data": {
      "text/plain": [
       "27287"
      ]
     },
     "execution_count": 15,
     "metadata": {},
     "output_type": "execute_result"
    }
   ],
   "source": [
    "len(eda_raw_signal)"
   ]
  },
  {
   "cell_type": "markdown",
   "metadata": {},
   "source": [
    "# parse pkl"
   ]
  },
  {
   "cell_type": "code",
   "execution_count": 6,
   "metadata": {},
   "outputs": [],
   "source": [
    "pkl_path = r'./WESAD/WESAD/S10/S10.pkl'\n",
    "\n",
    "with open(pkl_path, 'rb') as file:\n",
    "    s10_data = pickle.load(file, encoding='latin1')"
   ]
  },
  {
   "cell_type": "code",
   "execution_count": 10,
   "metadata": {},
   "outputs": [
    {
     "data": {
      "text/plain": [
       "3847200"
      ]
     },
     "execution_count": 10,
     "metadata": {},
     "output_type": "execute_result"
    }
   ],
   "source": [
    "len(s10_data['label'])"
   ]
  },
  {
   "cell_type": "code",
   "execution_count": null,
   "metadata": {},
   "outputs": [],
   "source": []
  }
 ],
 "metadata": {
  "kernelspec": {
   "display_name": "base",
   "language": "python",
   "name": "python3"
  },
  "language_info": {
   "codemirror_mode": {
    "name": "ipython",
    "version": 3
   },
   "file_extension": ".py",
   "mimetype": "text/x-python",
   "name": "python",
   "nbconvert_exporter": "python",
   "pygments_lexer": "ipython3",
   "version": "3.7.6"
  },
  "orig_nbformat": 4,
  "vscode": {
   "interpreter": {
    "hash": "b336b2e25951ee9709258584149b22d89d818b16e72dafb499a0c2ddcae7c098"
   }
  }
 },
 "nbformat": 4,
 "nbformat_minor": 2
}
