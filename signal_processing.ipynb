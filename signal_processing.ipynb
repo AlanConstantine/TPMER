{
 "cells": [
  {
   "cell_type": "code",
   "execution_count": 1,
   "metadata": {},
   "outputs": [],
   "source": [
    "import pandas as pd\n",
    "import numpy as np\n",
    "import os\n",
    "import zipfile\n",
    "from tools import *\n",
    "\n",
    "signals = ['EDA', 'BVP', 'TEMP', 'HR']"
   ]
  },
  {
   "cell_type": "code",
   "execution_count": 2,
   "metadata": {},
   "outputs": [],
   "source": [
    "wesad_path = r'./WESAD/WESAD/'\n",
    "ppg_path = r'./PPGFieldStudyDataset/PPG_FieldStudy/'"
   ]
  },
  {
   "cell_type": "code",
   "execution_count": 4,
   "metadata": {},
   "outputs": [],
   "source": [
    "def extract_E4zip(folderpath):\n",
    "    for root, dir, files in os.walk(folderpath):\n",
    "        for file in files:\n",
    "            if '.zip' not in file and 'E4' not in file:\n",
    "                continue\n",
    "            filename = os.path.join(root, file)\n",
    "            with zipfile.ZipFile(filename,\"r\") as zip_ref:\n",
    "                zip_ref.extractall(filename.replace('.zip',''))\n",
    "    print(filename, 'done')"
   ]
  },
  {
   "cell_type": "code",
   "execution_count": 6,
   "metadata": {},
   "outputs": [],
   "source": [
    "# extract_E4zip(wesad_path)\n",
    "# extract_E4zip(ppg_path)"
   ]
  },
  {
   "attachments": {},
   "cell_type": "markdown",
   "metadata": {},
   "source": [
    "# get label"
   ]
  },
  {
   "cell_type": "code",
   "execution_count": 4,
   "metadata": {},
   "outputs": [],
   "source": [
    "label_file = r'./WESAD/WESAD/S10/S10_quest.csv'\n",
    "labels = pd.read_csv(label_file)"
   ]
  },
  {
   "cell_type": "code",
   "execution_count": 5,
   "metadata": {},
   "outputs": [
    {
     "data": {
      "text/html": [
       "<div>\n",
       "<style scoped>\n",
       "    .dataframe tbody tr th:only-of-type {\n",
       "        vertical-align: middle;\n",
       "    }\n",
       "\n",
       "    .dataframe tbody tr th {\n",
       "        vertical-align: top;\n",
       "    }\n",
       "\n",
       "    .dataframe thead th {\n",
       "        text-align: right;\n",
       "    }\n",
       "</style>\n",
       "<table border=\"1\" class=\"dataframe\">\n",
       "  <thead>\n",
       "    <tr style=\"text-align: right;\">\n",
       "      <th></th>\n",
       "      <th># Subj;S10;;;;;;;;;;;;;;;;;;;;;;;;;</th>\n",
       "    </tr>\n",
       "  </thead>\n",
       "  <tbody>\n",
       "    <tr>\n",
       "      <th>0</th>\n",
       "      <td># ORDER;Base;Fun;Medi 1;TSST;Medi 2;bRead;fRea...</td>\n",
       "    </tr>\n",
       "    <tr>\n",
       "      <th>1</th>\n",
       "      <td># START;2.5;27.53;38.42;54.3;83.17;23.39;34.58...</td>\n",
       "    </tr>\n",
       "    <tr>\n",
       "      <th>2</th>\n",
       "      <td># END;22.5;34.25;45.4;66.55;90.15;24.5;36.15;7...</td>\n",
       "    </tr>\n",
       "    <tr>\n",
       "      <th>3</th>\n",
       "      <td>;;;;;;;;;;;;;;;;;;;;;;;;;;</td>\n",
       "    </tr>\n",
       "    <tr>\n",
       "      <th>4</th>\n",
       "      <td># PANAS;2;1;3;1;1;1;1;1;1;2;1;1;2;1;3;2;1;2;1;...</td>\n",
       "    </tr>\n",
       "    <tr>\n",
       "      <th>5</th>\n",
       "      <td># PANAS;2;1;3;4;1;2;1;1;1;3;1;1;3;1;2;1;2;4;1;...</td>\n",
       "    </tr>\n",
       "    <tr>\n",
       "      <th>6</th>\n",
       "      <td># PANAS;1;1;2;2;1;1;1;1;1;2;1;1;1;1;1;1;1;2;1;...</td>\n",
       "    </tr>\n",
       "    <tr>\n",
       "      <th>7</th>\n",
       "      <td># PANAS;4;4;3;1;3;1;1;4;2;4;1;3;2;4;4;5;1;4;4;...</td>\n",
       "    </tr>\n",
       "    <tr>\n",
       "      <th>8</th>\n",
       "      <td># PANAS;2;2;1;1;1;1;1;1;1;2;1;1;1;1;2;2;1;2;1;...</td>\n",
       "    </tr>\n",
       "    <tr>\n",
       "      <th>9</th>\n",
       "      <td>;;;;;;;;;;;;;;;;;;;;;;;;;;</td>\n",
       "    </tr>\n",
       "    <tr>\n",
       "      <th>10</th>\n",
       "      <td># STAI;3;2;1;3;1;2;;;;;;;;;;;;;;;;;;;;</td>\n",
       "    </tr>\n",
       "    <tr>\n",
       "      <th>11</th>\n",
       "      <td># STAI;3;1;1;3;1;4;;;;;;;;;;;;;;;;;;;;</td>\n",
       "    </tr>\n",
       "    <tr>\n",
       "      <th>12</th>\n",
       "      <td># STAI;4;1;1;3;1;1;;;;;;;;;;;;;;;;;;;;</td>\n",
       "    </tr>\n",
       "    <tr>\n",
       "      <th>13</th>\n",
       "      <td># STAI;1;4;2;1;2;1;;;;;;;;;;;;;;;;;;;;</td>\n",
       "    </tr>\n",
       "    <tr>\n",
       "      <th>14</th>\n",
       "      <td># STAI;3;2;1;3;1;1;;;;;;;;;;;;;;;;;;;;</td>\n",
       "    </tr>\n",
       "    <tr>\n",
       "      <th>15</th>\n",
       "      <td>;;;;;;;;;;;;;;;;;;;;;;;;;;</td>\n",
       "    </tr>\n",
       "    <tr>\n",
       "      <th>16</th>\n",
       "      <td># DIM;6;2;;;;;;;;;;;;;;;;;;;;;;;;</td>\n",
       "    </tr>\n",
       "    <tr>\n",
       "      <th>17</th>\n",
       "      <td># DIM;8;2;;;;;;;;;;;;;;;;;;;;;;;;</td>\n",
       "    </tr>\n",
       "    <tr>\n",
       "      <th>18</th>\n",
       "      <td># DIM;6;1;;;;;;;;;;;;;;;;;;;;;;;;</td>\n",
       "    </tr>\n",
       "    <tr>\n",
       "      <th>19</th>\n",
       "      <td># DIM;3;8;;;;;;;;;;;;;;;;;;;;;;;;</td>\n",
       "    </tr>\n",
       "    <tr>\n",
       "      <th>20</th>\n",
       "      <td># DIM;6;2;;;;;;;;;;;;;;;;;;;;;;;;</td>\n",
       "    </tr>\n",
       "    <tr>\n",
       "      <th>21</th>\n",
       "      <td>;;;;;;;;;;;;;;;;;;;;;;;;;;</td>\n",
       "    </tr>\n",
       "    <tr>\n",
       "      <th>22</th>\n",
       "      <td># SSSQ;3;2;2;3;3;2;;;;;;;;;;;;;;;;;;;;</td>\n",
       "    </tr>\n",
       "  </tbody>\n",
       "</table>\n",
       "</div>"
      ],
      "text/plain": [
       "                  # Subj;S10;;;;;;;;;;;;;;;;;;;;;;;;;\n",
       "0   # ORDER;Base;Fun;Medi 1;TSST;Medi 2;bRead;fRea...\n",
       "1   # START;2.5;27.53;38.42;54.3;83.17;23.39;34.58...\n",
       "2   # END;22.5;34.25;45.4;66.55;90.15;24.5;36.15;7...\n",
       "3                          ;;;;;;;;;;;;;;;;;;;;;;;;;;\n",
       "4   # PANAS;2;1;3;1;1;1;1;1;1;2;1;1;2;1;3;2;1;2;1;...\n",
       "5   # PANAS;2;1;3;4;1;2;1;1;1;3;1;1;3;1;2;1;2;4;1;...\n",
       "6   # PANAS;1;1;2;2;1;1;1;1;1;2;1;1;1;1;1;1;1;2;1;...\n",
       "7   # PANAS;4;4;3;1;3;1;1;4;2;4;1;3;2;4;4;5;1;4;4;...\n",
       "8   # PANAS;2;2;1;1;1;1;1;1;1;2;1;1;1;1;2;2;1;2;1;...\n",
       "9                          ;;;;;;;;;;;;;;;;;;;;;;;;;;\n",
       "10             # STAI;3;2;1;3;1;2;;;;;;;;;;;;;;;;;;;;\n",
       "11             # STAI;3;1;1;3;1;4;;;;;;;;;;;;;;;;;;;;\n",
       "12             # STAI;4;1;1;3;1;1;;;;;;;;;;;;;;;;;;;;\n",
       "13             # STAI;1;4;2;1;2;1;;;;;;;;;;;;;;;;;;;;\n",
       "14             # STAI;3;2;1;3;1;1;;;;;;;;;;;;;;;;;;;;\n",
       "15                         ;;;;;;;;;;;;;;;;;;;;;;;;;;\n",
       "16                  # DIM;6;2;;;;;;;;;;;;;;;;;;;;;;;;\n",
       "17                  # DIM;8;2;;;;;;;;;;;;;;;;;;;;;;;;\n",
       "18                  # DIM;6;1;;;;;;;;;;;;;;;;;;;;;;;;\n",
       "19                  # DIM;3;8;;;;;;;;;;;;;;;;;;;;;;;;\n",
       "20                  # DIM;6;2;;;;;;;;;;;;;;;;;;;;;;;;\n",
       "21                         ;;;;;;;;;;;;;;;;;;;;;;;;;;\n",
       "22             # SSSQ;3;2;2;3;3;2;;;;;;;;;;;;;;;;;;;;"
      ]
     },
     "execution_count": 5,
     "metadata": {},
     "output_type": "execute_result"
    }
   ],
   "source": [
    "labels"
   ]
  },
  {
   "cell_type": "code",
   "execution_count": null,
   "metadata": {},
   "outputs": [],
   "source": []
  }
 ],
 "metadata": {
  "kernelspec": {
   "display_name": "base",
   "language": "python",
   "name": "python3"
  },
  "language_info": {
   "codemirror_mode": {
    "name": "ipython",
    "version": 3
   },
   "file_extension": ".py",
   "mimetype": "text/x-python",
   "name": "python",
   "nbconvert_exporter": "python",
   "pygments_lexer": "ipython3",
   "version": "3.7.6"
  },
  "orig_nbformat": 4,
  "vscode": {
   "interpreter": {
    "hash": "b336b2e25951ee9709258584149b22d89d818b16e72dafb499a0c2ddcae7c098"
   }
  }
 },
 "nbformat": 4,
 "nbformat_minor": 2
}
