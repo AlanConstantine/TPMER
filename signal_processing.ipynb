{
 "cells": [
  {
   "cell_type": "code",
   "execution_count": 3,
   "metadata": {},
   "outputs": [],
   "source": [
    "import pandas as pd\n",
    "import numpy as np\n",
    "import os\n",
    "import zipfile\n",
    "\n",
    "signals = ['EDA', 'BVP', 'TEMP', 'HR']"
   ]
  },
  {
   "cell_type": "code",
   "execution_count": 2,
   "metadata": {},
   "outputs": [],
   "source": [
    "wesad_path = r'./WESAD/WESAD/'\n",
    "ppg_path = r'./PPGFieldStudyDataset/PPG_FieldStudy/'"
   ]
  },
  {
   "cell_type": "code",
   "execution_count": 4,
   "metadata": {},
   "outputs": [],
   "source": [
    "def extract_E4zip(folderpath):\n",
    "    for root, dir, files in os.walk(folderpath):\n",
    "        for file in files:\n",
    "            if '.zip' not in file and 'E4' not in file:\n",
    "                continue\n",
    "            filename = os.path.join(root, file)\n",
    "            with zipfile.ZipFile(filename,\"r\") as zip_ref:\n",
    "                zip_ref.extractall(filename.replace('.zip',''))\n",
    "    print(filename, 'done')"
   ]
  },
  {
   "cell_type": "code",
   "execution_count": 6,
   "metadata": {},
   "outputs": [],
   "source": [
    "# extract_E4zip(wesad_path)\n",
    "extract_E4zip(ppg_path)"
   ]
  },
  {
   "cell_type": "code",
   "execution_count": null,
   "metadata": {},
   "outputs": [],
   "source": []
  }
 ],
 "metadata": {
  "kernelspec": {
   "display_name": "Python 3",
   "language": "python",
   "name": "python3"
  },
  "language_info": {
   "codemirror_mode": {
    "name": "ipython",
    "version": 3
   },
   "file_extension": ".py",
   "mimetype": "text/x-python",
   "name": "python",
   "nbconvert_exporter": "python",
   "pygments_lexer": "ipython3",
   "version": "3.6.5"
  },
  "orig_nbformat": 4,
  "vscode": {
   "interpreter": {
    "hash": "31f2aee4e71d21fbe5cf8b01ff0e069b9275f58929596ceb00d14d90e3e16cd6"
   }
  }
 },
 "nbformat": 4,
 "nbformat_minor": 2
}
