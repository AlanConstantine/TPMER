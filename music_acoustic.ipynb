{
 "cells": [
  {
   "cell_type": "code",
   "execution_count": 10,
   "metadata": {},
   "outputs": [],
   "source": [
    "import pandas as pd"
   ]
  },
  {
   "cell_type": "code",
   "execution_count": 19,
   "metadata": {},
   "outputs": [],
   "source": [
    "import opensmile\n",
    "import os\n",
    "import requests\n",
    "import time\n",
    "# https://github.com/audeering/opensmile-python\n",
    "smile = opensmile.Smile(\n",
    "    # feature_set=opensmile.FeatureSet.ComParE_2016,\n",
    "    # feature_set=opensmile.FeatureSet.eGeMAPSv02,\n",
    "    feature_set=opensmile.FeatureSet.emobase,\n",
    "    feature_level=opensmile.FeatureLevel.Functionals,\n",
    ")\n",
    "\n",
    "\n",
    "def error(id, e):\n",
    "    content = '[{}]\\t{}'.format(str(id), str(e))\n",
    "    with open(r'./audio_process_error.log', 'a') as f:\n",
    "        f.write('{}\\n'.format(content))\n",
    "\n",
    "\n",
    "def sleep():\n",
    "    # print('sleeping...')\n",
    "    # print()\n",
    "    # time.sleep(15*60)\n",
    "    time.sleep(1)\n",
    "\n",
    "\n",
    "def process(url, id):\n",
    "    filename = './tmp/{}.mp3'.format(id)\n",
    "    state = 1\n",
    "    trytime = 3\n",
    "    while trytime > 0 and state != 0:\n",
    "        try:\n",
    "            # audio = requests.get(url)\n",
    "            with requests.Session() as s:\n",
    "                audio = s.get(url)\n",
    "            with open(filename, 'wb') as f:\n",
    "                f.write(audio.content)\n",
    "            state = 0\n",
    "        except Exception as e:\n",
    "            if 'Temporary failure in name resolution' in str(e):\n",
    "                # print(id, e)\n",
    "                error(id, e)\n",
    "                sleep()\n",
    "                break\n",
    "            if 'timeout' not in str(e):\n",
    "                # print(id, e)\n",
    "                error(id, e)\n",
    "                sleep()\n",
    "                break\n",
    "            # print(id, e)\n",
    "            print(e)\n",
    "            error(id, e)\n",
    "            sleep()\n",
    "            state = 1\n",
    "            trytime -= 1\n",
    "    try:\n",
    "        if os.path.exists(filename):\n",
    "            processed = smile.process_file(filename)\n",
    "            os.remove(filename)\n",
    "            processed['track_id'] = id\n",
    "            # result = {'col':processed.columns.tolist(), 'data': processed.iloc[0].tolist()}\n",
    "            processed.index = [0]\n",
    "            # print(processed)\n",
    "            return processed\n",
    "        else:\n",
    "            return None\n",
    "    except Exception as e:\n",
    "        # print(id, e)\n",
    "        error(id, e)\n",
    "        # raise e\n",
    "    return None\n",
    "\n",
    "def download_mp3(url, id_):\n",
    "    filename = './tmp/{}.mp3'.format(id_)\n",
    "    with requests.Session() as s:\n",
    "        audio = s.get(url)\n",
    "        with open(filename, 'wb') as f:\n",
    "            f.write(audio.content)\n",
    "    return {id_: filename}\n",
    "\n",
    "def process(filename, id_):\n",
    "    if os.path.exists(filename):\n",
    "        processed = smile.process_file(filename)\n",
    "        # os.remove(filename)\n",
    "        processed['track_id'] = id\n",
    "        processed.index = [0]\n",
    "        return processed\n"
   ]
  },
  {
   "cell_type": "code",
   "execution_count": 12,
   "metadata": {},
   "outputs": [],
   "source": [
    "songs = pd.read_csv(r'./HKU956/2. original_song_audio.csv')"
   ]
  },
  {
   "cell_type": "code",
   "execution_count": 13,
   "metadata": {},
   "outputs": [],
   "source": [
    "from tqdm import tqdm"
   ]
  },
  {
   "cell_type": "code",
   "execution_count": 18,
   "metadata": {},
   "outputs": [
    {
     "name": "stderr",
     "output_type": "stream",
     "text": [
      "592it [09:36,  1.03it/s]\n"
     ]
    }
   ],
   "source": [
    "mp3s = {}\n",
    "for row in tqdm(songs.iterrows()):\n",
    "    id_ = row[1]['song_id']\n",
    "    link = row[1]['link']\n",
    "    mp3s.update(download_mp3(link, id_))"
   ]
  },
  {
   "cell_type": "code",
   "execution_count": 20,
   "metadata": {},
   "outputs": [
    {
     "ename": "FileNotFoundError",
     "evalue": "ffmpeg cannot be found.\nPlease make sure it is installed.\nFor further instructions visit: https://audeering.github.io/audiofile/installation.html",
     "output_type": "error",
     "traceback": [
      "\u001b[1;31m---------------------------------------------------------------------------\u001b[0m",
      "\u001b[1;31mFileNotFoundError\u001b[0m                         Traceback (most recent call last)",
      "File \u001b[1;32me:\\Software\\anaconda3\\lib\\site-packages\\audiofile\\core\\convert.py:32\u001b[0m, in \u001b[0;36mconvert\u001b[1;34m(infile, outfile, offset, duration)\u001b[0m\n\u001b[0;32m     31\u001b[0m     \u001b[39mfrom\u001b[39;00m \u001b[39maudiofile\u001b[39;00m\u001b[39m.\u001b[39;00m\u001b[39mcore\u001b[39;00m\u001b[39m.\u001b[39;00m\u001b[39msox\u001b[39;00m \u001b[39mimport\u001b[39;00m SOX_ERRORS\n\u001b[1;32m---> 32\u001b[0m     run_sox(infile, outfile, offset, duration)\n\u001b[0;32m     33\u001b[0m \u001b[39mexcept\u001b[39;00m SOX_ERRORS:\n",
      "File \u001b[1;32me:\\Software\\anaconda3\\lib\\site-packages\\audiofile\\core\\utils.py:80\u001b[0m, in \u001b[0;36mrun_sox\u001b[1;34m(infile, outfile, offset, duration)\u001b[0m\n\u001b[0;32m     79\u001b[0m     tfm\u001b[39m.\u001b[39mtrim(offset)\n\u001b[1;32m---> 80\u001b[0m tfm\u001b[39m.\u001b[39;49mbuild(infile, outfile)\n",
      "File \u001b[1;32me:\\Software\\anaconda3\\lib\\site-packages\\sox\\transform.py:593\u001b[0m, in \u001b[0;36mTransformer.build\u001b[1;34m(self, input_filepath, output_filepath, input_array, sample_rate_in, extra_args, return_output)\u001b[0m\n\u001b[0;32m    524\u001b[0m \u001b[39m'''Given an input file or array, creates an output_file on disk by\u001b[39;00m\n\u001b[0;32m    525\u001b[0m \u001b[39mexecuting the current set of commands. This function returns True on\u001b[39;00m\n\u001b[0;32m    526\u001b[0m \u001b[39msuccess. If return_output is True, this function returns a triple of\u001b[39;00m\n\u001b[1;32m   (...)\u001b[0m\n\u001b[0;32m    591\u001b[0m \n\u001b[0;32m    592\u001b[0m \u001b[39m'''\u001b[39;00m\n\u001b[1;32m--> 593\u001b[0m input_format, input_filepath \u001b[39m=\u001b[39m \u001b[39mself\u001b[39;49m\u001b[39m.\u001b[39;49m_parse_inputs(\n\u001b[0;32m    594\u001b[0m     input_filepath, input_array, sample_rate_in\n\u001b[0;32m    595\u001b[0m )\n\u001b[0;32m    597\u001b[0m \u001b[39mif\u001b[39;00m output_filepath \u001b[39mis\u001b[39;00m \u001b[39mNone\u001b[39;00m:\n",
      "File \u001b[1;32me:\\Software\\anaconda3\\lib\\site-packages\\sox\\transform.py:496\u001b[0m, in \u001b[0;36mTransformer._parse_inputs\u001b[1;34m(self, input_filepath, input_array, sample_rate_in)\u001b[0m\n\u001b[0;32m    495\u001b[0m     \u001b[39mif\u001b[39;00m input_format\u001b[39m.\u001b[39mget(\u001b[39m'\u001b[39m\u001b[39mchannels\u001b[39m\u001b[39m'\u001b[39m) \u001b[39mis\u001b[39;00m \u001b[39mNone\u001b[39;00m:\n\u001b[1;32m--> 496\u001b[0m         input_format[\u001b[39m'\u001b[39m\u001b[39mchannels\u001b[39m\u001b[39m'\u001b[39m] \u001b[39m=\u001b[39m file_info\u001b[39m.\u001b[39;49mchannels(input_filepath)\n\u001b[0;32m    497\u001b[0m \u001b[39melif\u001b[39;00m input_array \u001b[39mis\u001b[39;00m \u001b[39mnot\u001b[39;00m \u001b[39mNone\u001b[39;00m:\n",
      "File \u001b[1;32me:\\Software\\anaconda3\\lib\\site-packages\\sox\\file_info.py:82\u001b[0m, in \u001b[0;36mchannels\u001b[1;34m(input_filepath)\u001b[0m\n\u001b[0;32m     81\u001b[0m validate_input_file(input_filepath)\n\u001b[1;32m---> 82\u001b[0m output \u001b[39m=\u001b[39m soxi(input_filepath, \u001b[39m'\u001b[39;49m\u001b[39mc\u001b[39;49m\u001b[39m'\u001b[39;49m)\n\u001b[0;32m     83\u001b[0m \u001b[39mreturn\u001b[39;00m \u001b[39mint\u001b[39m(output)\n",
      "File \u001b[1;32me:\\Software\\anaconda3\\lib\\site-packages\\sox\\core.py:147\u001b[0m, in \u001b[0;36msoxi\u001b[1;34m(filepath, argument)\u001b[0m\n\u001b[0;32m    146\u001b[0m \u001b[39mtry\u001b[39;00m:\n\u001b[1;32m--> 147\u001b[0m     shell_output \u001b[39m=\u001b[39m subprocess\u001b[39m.\u001b[39;49mcheck_output(\n\u001b[0;32m    148\u001b[0m         args,\n\u001b[0;32m    149\u001b[0m         stderr\u001b[39m=\u001b[39;49msubprocess\u001b[39m.\u001b[39;49mPIPE\n\u001b[0;32m    150\u001b[0m     )\n\u001b[0;32m    151\u001b[0m \u001b[39mexcept\u001b[39;00m CalledProcessError \u001b[39mas\u001b[39;00m cpe:\n",
      "File \u001b[1;32me:\\Software\\anaconda3\\lib\\subprocess.py:424\u001b[0m, in \u001b[0;36mcheck_output\u001b[1;34m(timeout, *popenargs, **kwargs)\u001b[0m\n\u001b[0;32m    422\u001b[0m     kwargs[\u001b[39m'\u001b[39m\u001b[39minput\u001b[39m\u001b[39m'\u001b[39m] \u001b[39m=\u001b[39m empty\n\u001b[1;32m--> 424\u001b[0m \u001b[39mreturn\u001b[39;00m run(\u001b[39m*\u001b[39mpopenargs, stdout\u001b[39m=\u001b[39mPIPE, timeout\u001b[39m=\u001b[39mtimeout, check\u001b[39m=\u001b[39m\u001b[39mTrue\u001b[39;00m,\n\u001b[0;32m    425\u001b[0m            \u001b[39m*\u001b[39m\u001b[39m*\u001b[39mkwargs)\u001b[39m.\u001b[39mstdout\n",
      "File \u001b[1;32me:\\Software\\anaconda3\\lib\\subprocess.py:505\u001b[0m, in \u001b[0;36mrun\u001b[1;34m(input, capture_output, timeout, check, *popenargs, **kwargs)\u001b[0m\n\u001b[0;32m    503\u001b[0m     kwargs[\u001b[39m'\u001b[39m\u001b[39mstderr\u001b[39m\u001b[39m'\u001b[39m] \u001b[39m=\u001b[39m PIPE\n\u001b[1;32m--> 505\u001b[0m \u001b[39mwith\u001b[39;00m Popen(\u001b[39m*\u001b[39mpopenargs, \u001b[39m*\u001b[39m\u001b[39m*\u001b[39mkwargs) \u001b[39mas\u001b[39;00m process:\n\u001b[0;32m    506\u001b[0m     \u001b[39mtry\u001b[39;00m:\n",
      "File \u001b[1;32me:\\Software\\anaconda3\\lib\\subprocess.py:951\u001b[0m, in \u001b[0;36mPopen.__init__\u001b[1;34m(self, args, bufsize, executable, stdin, stdout, stderr, preexec_fn, close_fds, shell, cwd, env, universal_newlines, startupinfo, creationflags, restore_signals, start_new_session, pass_fds, user, group, extra_groups, encoding, errors, text, umask)\u001b[0m\n\u001b[0;32m    948\u001b[0m             \u001b[39mself\u001b[39m\u001b[39m.\u001b[39mstderr \u001b[39m=\u001b[39m io\u001b[39m.\u001b[39mTextIOWrapper(\u001b[39mself\u001b[39m\u001b[39m.\u001b[39mstderr,\n\u001b[0;32m    949\u001b[0m                     encoding\u001b[39m=\u001b[39mencoding, errors\u001b[39m=\u001b[39merrors)\n\u001b[1;32m--> 951\u001b[0m     \u001b[39mself\u001b[39;49m\u001b[39m.\u001b[39;49m_execute_child(args, executable, preexec_fn, close_fds,\n\u001b[0;32m    952\u001b[0m                         pass_fds, cwd, env,\n\u001b[0;32m    953\u001b[0m                         startupinfo, creationflags, shell,\n\u001b[0;32m    954\u001b[0m                         p2cread, p2cwrite,\n\u001b[0;32m    955\u001b[0m                         c2pread, c2pwrite,\n\u001b[0;32m    956\u001b[0m                         errread, errwrite,\n\u001b[0;32m    957\u001b[0m                         restore_signals,\n\u001b[0;32m    958\u001b[0m                         gid, gids, uid, umask,\n\u001b[0;32m    959\u001b[0m                         start_new_session)\n\u001b[0;32m    960\u001b[0m \u001b[39mexcept\u001b[39;00m:\n\u001b[0;32m    961\u001b[0m     \u001b[39m# Cleanup if the child failed starting.\u001b[39;00m\n",
      "File \u001b[1;32me:\\Software\\anaconda3\\lib\\subprocess.py:1420\u001b[0m, in \u001b[0;36mPopen._execute_child\u001b[1;34m(self, args, executable, preexec_fn, close_fds, pass_fds, cwd, env, startupinfo, creationflags, shell, p2cread, p2cwrite, c2pread, c2pwrite, errread, errwrite, unused_restore_signals, unused_gid, unused_gids, unused_uid, unused_umask, unused_start_new_session)\u001b[0m\n\u001b[0;32m   1419\u001b[0m \u001b[39mtry\u001b[39;00m:\n\u001b[1;32m-> 1420\u001b[0m     hp, ht, pid, tid \u001b[39m=\u001b[39m _winapi\u001b[39m.\u001b[39;49mCreateProcess(executable, args,\n\u001b[0;32m   1421\u001b[0m                              \u001b[39m# no special security\u001b[39;49;00m\n\u001b[0;32m   1422\u001b[0m                              \u001b[39mNone\u001b[39;49;00m, \u001b[39mNone\u001b[39;49;00m,\n\u001b[0;32m   1423\u001b[0m                              \u001b[39mint\u001b[39;49m(\u001b[39mnot\u001b[39;49;00m close_fds),\n\u001b[0;32m   1424\u001b[0m                              creationflags,\n\u001b[0;32m   1425\u001b[0m                              env,\n\u001b[0;32m   1426\u001b[0m                              cwd,\n\u001b[0;32m   1427\u001b[0m                              startupinfo)\n\u001b[0;32m   1428\u001b[0m \u001b[39mfinally\u001b[39;00m:\n\u001b[0;32m   1429\u001b[0m     \u001b[39m# Child is launched. Close the parent's copy of those pipe\u001b[39;00m\n\u001b[0;32m   1430\u001b[0m     \u001b[39m# handles that only the child should have open.  You need\u001b[39;00m\n\u001b[1;32m   (...)\u001b[0m\n\u001b[0;32m   1433\u001b[0m     \u001b[39m# pipe will not close when the child process exits and the\u001b[39;00m\n\u001b[0;32m   1434\u001b[0m     \u001b[39m# ReadFile will hang.\u001b[39;00m\n",
      "\u001b[1;31mFileNotFoundError\u001b[0m: [WinError 2] 系统找不到指定的文件。",
      "\nDuring handling of the above exception, another exception occurred:\n",
      "\u001b[1;31mFileNotFoundError\u001b[0m                         Traceback (most recent call last)",
      "File \u001b[1;32me:\\Software\\anaconda3\\lib\\site-packages\\audiofile\\core\\convert.py:36\u001b[0m, in \u001b[0;36mconvert\u001b[1;34m(infile, outfile, offset, duration)\u001b[0m\n\u001b[0;32m     34\u001b[0m \u001b[39mtry\u001b[39;00m:\n\u001b[0;32m     35\u001b[0m     \u001b[39m# Convert to WAV file with ffmpeg\u001b[39;00m\n\u001b[1;32m---> 36\u001b[0m     run_ffmpeg(infile, outfile, offset, duration)\n\u001b[0;32m     37\u001b[0m \u001b[39mexcept\u001b[39;00m \u001b[39mFileNotFoundError\u001b[39;00m:\n",
      "File \u001b[1;32me:\\Software\\anaconda3\\lib\\site-packages\\audiofile\\core\\utils.py:69\u001b[0m, in \u001b[0;36mrun_ffmpeg\u001b[1;34m(infile, outfile, offset, duration)\u001b[0m\n\u001b[0;32m     68\u001b[0m     cmd \u001b[39m=\u001b[39m \u001b[39mf\u001b[39m\u001b[39m'\u001b[39m\u001b[39mffmpeg -ss \u001b[39m\u001b[39m{\u001b[39;00moffset\u001b[39m}\u001b[39;00m\u001b[39m -i \u001b[39m\u001b[39m\"\u001b[39m\u001b[39m{\u001b[39;00minfile\u001b[39m}\u001b[39;00m\u001b[39m\"\u001b[39m\u001b[39m \u001b[39m\u001b[39m\"\u001b[39m\u001b[39m{\u001b[39;00moutfile\u001b[39m}\u001b[39;00m\u001b[39m\"\u001b[39m\u001b[39m'\u001b[39m\n\u001b[1;32m---> 69\u001b[0m run(cmd)\n",
      "File \u001b[1;32me:\\Software\\anaconda3\\lib\\site-packages\\audiofile\\core\\utils.py:53\u001b[0m, in \u001b[0;36mrun\u001b[1;34m(shell_command)\u001b[0m\n\u001b[0;32m     52\u001b[0m \u001b[39m\"\"\"Return the output of a shell command provided as string.\"\"\"\u001b[39;00m\n\u001b[1;32m---> 53\u001b[0m out \u001b[39m=\u001b[39m subprocess\u001b[39m.\u001b[39;49mcheck_output(\n\u001b[0;32m     54\u001b[0m     shlex\u001b[39m.\u001b[39;49msplit(shell_command),\n\u001b[0;32m     55\u001b[0m     stderr\u001b[39m=\u001b[39;49msubprocess\u001b[39m.\u001b[39;49mSTDOUT\n\u001b[0;32m     56\u001b[0m )\n\u001b[0;32m     57\u001b[0m \u001b[39mtry\u001b[39;00m:\n",
      "File \u001b[1;32me:\\Software\\anaconda3\\lib\\subprocess.py:424\u001b[0m, in \u001b[0;36mcheck_output\u001b[1;34m(timeout, *popenargs, **kwargs)\u001b[0m\n\u001b[0;32m    422\u001b[0m     kwargs[\u001b[39m'\u001b[39m\u001b[39minput\u001b[39m\u001b[39m'\u001b[39m] \u001b[39m=\u001b[39m empty\n\u001b[1;32m--> 424\u001b[0m \u001b[39mreturn\u001b[39;00m run(\u001b[39m*\u001b[39mpopenargs, stdout\u001b[39m=\u001b[39mPIPE, timeout\u001b[39m=\u001b[39mtimeout, check\u001b[39m=\u001b[39m\u001b[39mTrue\u001b[39;00m,\n\u001b[0;32m    425\u001b[0m            \u001b[39m*\u001b[39m\u001b[39m*\u001b[39mkwargs)\u001b[39m.\u001b[39mstdout\n",
      "File \u001b[1;32me:\\Software\\anaconda3\\lib\\subprocess.py:505\u001b[0m, in \u001b[0;36mrun\u001b[1;34m(input, capture_output, timeout, check, *popenargs, **kwargs)\u001b[0m\n\u001b[0;32m    503\u001b[0m     kwargs[\u001b[39m'\u001b[39m\u001b[39mstderr\u001b[39m\u001b[39m'\u001b[39m] \u001b[39m=\u001b[39m PIPE\n\u001b[1;32m--> 505\u001b[0m \u001b[39mwith\u001b[39;00m Popen(\u001b[39m*\u001b[39mpopenargs, \u001b[39m*\u001b[39m\u001b[39m*\u001b[39mkwargs) \u001b[39mas\u001b[39;00m process:\n\u001b[0;32m    506\u001b[0m     \u001b[39mtry\u001b[39;00m:\n",
      "File \u001b[1;32me:\\Software\\anaconda3\\lib\\subprocess.py:951\u001b[0m, in \u001b[0;36mPopen.__init__\u001b[1;34m(self, args, bufsize, executable, stdin, stdout, stderr, preexec_fn, close_fds, shell, cwd, env, universal_newlines, startupinfo, creationflags, restore_signals, start_new_session, pass_fds, user, group, extra_groups, encoding, errors, text, umask)\u001b[0m\n\u001b[0;32m    948\u001b[0m             \u001b[39mself\u001b[39m\u001b[39m.\u001b[39mstderr \u001b[39m=\u001b[39m io\u001b[39m.\u001b[39mTextIOWrapper(\u001b[39mself\u001b[39m\u001b[39m.\u001b[39mstderr,\n\u001b[0;32m    949\u001b[0m                     encoding\u001b[39m=\u001b[39mencoding, errors\u001b[39m=\u001b[39merrors)\n\u001b[1;32m--> 951\u001b[0m     \u001b[39mself\u001b[39;49m\u001b[39m.\u001b[39;49m_execute_child(args, executable, preexec_fn, close_fds,\n\u001b[0;32m    952\u001b[0m                         pass_fds, cwd, env,\n\u001b[0;32m    953\u001b[0m                         startupinfo, creationflags, shell,\n\u001b[0;32m    954\u001b[0m                         p2cread, p2cwrite,\n\u001b[0;32m    955\u001b[0m                         c2pread, c2pwrite,\n\u001b[0;32m    956\u001b[0m                         errread, errwrite,\n\u001b[0;32m    957\u001b[0m                         restore_signals,\n\u001b[0;32m    958\u001b[0m                         gid, gids, uid, umask,\n\u001b[0;32m    959\u001b[0m                         start_new_session)\n\u001b[0;32m    960\u001b[0m \u001b[39mexcept\u001b[39;00m:\n\u001b[0;32m    961\u001b[0m     \u001b[39m# Cleanup if the child failed starting.\u001b[39;00m\n",
      "File \u001b[1;32me:\\Software\\anaconda3\\lib\\subprocess.py:1420\u001b[0m, in \u001b[0;36mPopen._execute_child\u001b[1;34m(self, args, executable, preexec_fn, close_fds, pass_fds, cwd, env, startupinfo, creationflags, shell, p2cread, p2cwrite, c2pread, c2pwrite, errread, errwrite, unused_restore_signals, unused_gid, unused_gids, unused_uid, unused_umask, unused_start_new_session)\u001b[0m\n\u001b[0;32m   1419\u001b[0m \u001b[39mtry\u001b[39;00m:\n\u001b[1;32m-> 1420\u001b[0m     hp, ht, pid, tid \u001b[39m=\u001b[39m _winapi\u001b[39m.\u001b[39;49mCreateProcess(executable, args,\n\u001b[0;32m   1421\u001b[0m                              \u001b[39m# no special security\u001b[39;49;00m\n\u001b[0;32m   1422\u001b[0m                              \u001b[39mNone\u001b[39;49;00m, \u001b[39mNone\u001b[39;49;00m,\n\u001b[0;32m   1423\u001b[0m                              \u001b[39mint\u001b[39;49m(\u001b[39mnot\u001b[39;49;00m close_fds),\n\u001b[0;32m   1424\u001b[0m                              creationflags,\n\u001b[0;32m   1425\u001b[0m                              env,\n\u001b[0;32m   1426\u001b[0m                              cwd,\n\u001b[0;32m   1427\u001b[0m                              startupinfo)\n\u001b[0;32m   1428\u001b[0m \u001b[39mfinally\u001b[39;00m:\n\u001b[0;32m   1429\u001b[0m     \u001b[39m# Child is launched. Close the parent's copy of those pipe\u001b[39;00m\n\u001b[0;32m   1430\u001b[0m     \u001b[39m# handles that only the child should have open.  You need\u001b[39;00m\n\u001b[1;32m   (...)\u001b[0m\n\u001b[0;32m   1433\u001b[0m     \u001b[39m# pipe will not close when the child process exits and the\u001b[39;00m\n\u001b[0;32m   1434\u001b[0m     \u001b[39m# ReadFile will hang.\u001b[39;00m\n",
      "\u001b[1;31mFileNotFoundError\u001b[0m: [WinError 2] 系统找不到指定的文件。",
      "\nDuring handling of the above exception, another exception occurred:\n",
      "\u001b[1;31mFileNotFoundError\u001b[0m                         Traceback (most recent call last)",
      "\u001b[1;32me:\\Workplace\\TPMER\\music_acoustic.ipynb Cell 6\u001b[0m in \u001b[0;36m<cell line: 2>\u001b[1;34m()\u001b[0m\n\u001b[0;32m      <a href='vscode-notebook-cell:/e%3A/Workplace/TPMER/music_acoustic.ipynb#X11sZmlsZQ%3D%3D?line=0'>1</a>\u001b[0m df \u001b[39m=\u001b[39m []\n\u001b[0;32m      <a href='vscode-notebook-cell:/e%3A/Workplace/TPMER/music_acoustic.ipynb#X11sZmlsZQ%3D%3D?line=1'>2</a>\u001b[0m \u001b[39mfor\u001b[39;00m id_, filename \u001b[39min\u001b[39;00m mp3s\u001b[39m.\u001b[39mitems():\n\u001b[1;32m----> <a href='vscode-notebook-cell:/e%3A/Workplace/TPMER/music_acoustic.ipynb#X11sZmlsZQ%3D%3D?line=2'>3</a>\u001b[0m     df\u001b[39m.\u001b[39mappend(process(filename, id_))\n",
      "\u001b[1;32me:\\Workplace\\TPMER\\music_acoustic.ipynb Cell 6\u001b[0m in \u001b[0;36mprocess\u001b[1;34m(filename, id_)\u001b[0m\n\u001b[0;32m     <a href='vscode-notebook-cell:/e%3A/Workplace/TPMER/music_acoustic.ipynb#X11sZmlsZQ%3D%3D?line=80'>81</a>\u001b[0m \u001b[39mdef\u001b[39;00m \u001b[39mprocess\u001b[39m(filename, id_):\n\u001b[0;32m     <a href='vscode-notebook-cell:/e%3A/Workplace/TPMER/music_acoustic.ipynb#X11sZmlsZQ%3D%3D?line=81'>82</a>\u001b[0m     \u001b[39mif\u001b[39;00m os\u001b[39m.\u001b[39mpath\u001b[39m.\u001b[39mexists(filename):\n\u001b[1;32m---> <a href='vscode-notebook-cell:/e%3A/Workplace/TPMER/music_acoustic.ipynb#X11sZmlsZQ%3D%3D?line=82'>83</a>\u001b[0m         processed \u001b[39m=\u001b[39m smile\u001b[39m.\u001b[39;49mprocess_file(filename)\n\u001b[0;32m     <a href='vscode-notebook-cell:/e%3A/Workplace/TPMER/music_acoustic.ipynb#X11sZmlsZQ%3D%3D?line=83'>84</a>\u001b[0m         \u001b[39m# os.remove(filename)\u001b[39;00m\n\u001b[0;32m     <a href='vscode-notebook-cell:/e%3A/Workplace/TPMER/music_acoustic.ipynb#X11sZmlsZQ%3D%3D?line=84'>85</a>\u001b[0m         processed[\u001b[39m'\u001b[39m\u001b[39mtrack_id\u001b[39m\u001b[39m'\u001b[39m] \u001b[39m=\u001b[39m \u001b[39mid\u001b[39m\n",
      "File \u001b[1;32me:\\Software\\anaconda3\\lib\\site-packages\\audinterface\\core\\feature.py:406\u001b[0m, in \u001b[0;36mFeature.process_file\u001b[1;34m(self, file, start, end, root)\u001b[0m\n\u001b[0;32m    379\u001b[0m \u001b[39mdef\u001b[39;00m \u001b[39mprocess_file\u001b[39m(\n\u001b[0;32m    380\u001b[0m         \u001b[39mself\u001b[39m,\n\u001b[0;32m    381\u001b[0m         file: \u001b[39mstr\u001b[39m,\n\u001b[1;32m   (...)\u001b[0m\n\u001b[0;32m    385\u001b[0m         root: \u001b[39mstr\u001b[39m \u001b[39m=\u001b[39m \u001b[39mNone\u001b[39;00m,\n\u001b[0;32m    386\u001b[0m ) \u001b[39m-\u001b[39m\u001b[39m>\u001b[39m pd\u001b[39m.\u001b[39mDataFrame:\n\u001b[0;32m    387\u001b[0m     \u001b[39mr\u001b[39m\u001b[39m\"\"\"Extract features from an audio file.\u001b[39;00m\n\u001b[0;32m    388\u001b[0m \n\u001b[0;32m    389\u001b[0m \u001b[39m    Args:\u001b[39;00m\n\u001b[1;32m   (...)\u001b[0m\n\u001b[0;32m    404\u001b[0m \n\u001b[0;32m    405\u001b[0m \u001b[39m    \"\"\"\u001b[39;00m\n\u001b[1;32m--> 406\u001b[0m     series \u001b[39m=\u001b[39m \u001b[39mself\u001b[39;49m\u001b[39m.\u001b[39;49mprocess\u001b[39m.\u001b[39;49mprocess_file(\n\u001b[0;32m    407\u001b[0m         file,\n\u001b[0;32m    408\u001b[0m         start\u001b[39m=\u001b[39;49mstart,\n\u001b[0;32m    409\u001b[0m         end\u001b[39m=\u001b[39;49mend,\n\u001b[0;32m    410\u001b[0m         root\u001b[39m=\u001b[39;49mroot,\n\u001b[0;32m    411\u001b[0m     )\n\u001b[0;32m    412\u001b[0m     \u001b[39mreturn\u001b[39;00m \u001b[39mself\u001b[39m\u001b[39m.\u001b[39m_series_to_frame(series)\n",
      "File \u001b[1;32me:\\Software\\anaconda3\\lib\\site-packages\\audinterface\\core\\process.py:333\u001b[0m, in \u001b[0;36mProcess.process_file\u001b[1;34m(self, file, start, end, root)\u001b[0m\n\u001b[0;32m    331\u001b[0m     \u001b[39mreturn\u001b[39;00m \u001b[39mself\u001b[39m\u001b[39m.\u001b[39m_process_index_wo_segment(index, root)\n\u001b[0;32m    332\u001b[0m \u001b[39melse\u001b[39;00m:\n\u001b[1;32m--> 333\u001b[0m     \u001b[39mreturn\u001b[39;00m \u001b[39mself\u001b[39;49m\u001b[39m.\u001b[39;49m_process_file(\n\u001b[0;32m    334\u001b[0m         file,\n\u001b[0;32m    335\u001b[0m         root\u001b[39m=\u001b[39;49mroot,\n\u001b[0;32m    336\u001b[0m         start\u001b[39m=\u001b[39;49mstart,\n\u001b[0;32m    337\u001b[0m         end\u001b[39m=\u001b[39;49mend,\n\u001b[0;32m    338\u001b[0m     )\n",
      "File \u001b[1;32me:\\Software\\anaconda3\\lib\\site-packages\\audinterface\\core\\process.py:256\u001b[0m, in \u001b[0;36mProcess._process_file\u001b[1;34m(self, file, idx, root, start, end)\u001b[0m\n\u001b[0;32m    253\u001b[0m start \u001b[39m=\u001b[39m utils\u001b[39m.\u001b[39mto_timedelta(start, \u001b[39mself\u001b[39m\u001b[39m.\u001b[39msampling_rate)\n\u001b[0;32m    254\u001b[0m end \u001b[39m=\u001b[39m utils\u001b[39m.\u001b[39mto_timedelta(end, \u001b[39mself\u001b[39m\u001b[39m.\u001b[39msampling_rate)\n\u001b[1;32m--> 256\u001b[0m signal, sampling_rate \u001b[39m=\u001b[39m utils\u001b[39m.\u001b[39;49mread_audio(\n\u001b[0;32m    257\u001b[0m     file,\n\u001b[0;32m    258\u001b[0m     start\u001b[39m=\u001b[39;49mstart,\n\u001b[0;32m    259\u001b[0m     end\u001b[39m=\u001b[39;49mend,\n\u001b[0;32m    260\u001b[0m     root\u001b[39m=\u001b[39;49mroot,\n\u001b[0;32m    261\u001b[0m )\n\u001b[0;32m    262\u001b[0m y \u001b[39m=\u001b[39m \u001b[39mself\u001b[39m\u001b[39m.\u001b[39m_process_signal(\n\u001b[0;32m    263\u001b[0m     signal,\n\u001b[0;32m    264\u001b[0m     sampling_rate,\n\u001b[1;32m   (...)\u001b[0m\n\u001b[0;32m    267\u001b[0m     file\u001b[39m=\u001b[39mfile,\n\u001b[0;32m    268\u001b[0m )\n\u001b[0;32m    270\u001b[0m \u001b[39mif\u001b[39;00m \u001b[39mself\u001b[39m\u001b[39m.\u001b[39mwin_dur \u001b[39mis\u001b[39;00m \u001b[39mnot\u001b[39;00m \u001b[39mNone\u001b[39;00m:\n",
      "File \u001b[1;32me:\\Software\\anaconda3\\lib\\site-packages\\audinterface\\core\\utils.py:156\u001b[0m, in \u001b[0;36mread_audio\u001b[1;34m(file, start, end, root)\u001b[0m\n\u001b[0;32m    153\u001b[0m \u001b[39melse\u001b[39;00m:\n\u001b[0;32m    154\u001b[0m     duration \u001b[39m=\u001b[39m end\u001b[39m.\u001b[39mtotal_seconds() \u001b[39m-\u001b[39m offset\n\u001b[1;32m--> 156\u001b[0m signal, sampling_rate \u001b[39m=\u001b[39m af\u001b[39m.\u001b[39;49mread(\n\u001b[0;32m    157\u001b[0m     audeer\u001b[39m.\u001b[39;49msafe_path(file),\n\u001b[0;32m    158\u001b[0m     always_2d\u001b[39m=\u001b[39;49m\u001b[39mTrue\u001b[39;49;00m,\n\u001b[0;32m    159\u001b[0m     offset\u001b[39m=\u001b[39;49moffset,\n\u001b[0;32m    160\u001b[0m     duration\u001b[39m=\u001b[39;49mduration,\n\u001b[0;32m    161\u001b[0m )\n\u001b[0;32m    163\u001b[0m \u001b[39mreturn\u001b[39;00m signal, sampling_rate\n",
      "File \u001b[1;32me:\\Software\\anaconda3\\lib\\site-packages\\audiofile\\core\\io.py:123\u001b[0m, in \u001b[0;36mread\u001b[1;34m(file, duration, offset, always_2d, dtype, **kwargs)\u001b[0m\n\u001b[0;32m    121\u001b[0m     \u001b[39mwith\u001b[39;00m tempfile\u001b[39m.\u001b[39mTemporaryDirectory(prefix\u001b[39m=\u001b[39m\u001b[39m'\u001b[39m\u001b[39maudiofile\u001b[39m\u001b[39m'\u001b[39m) \u001b[39mas\u001b[39;00m tmpdir:\n\u001b[0;32m    122\u001b[0m         tmpfile \u001b[39m=\u001b[39m os\u001b[39m.\u001b[39mpath\u001b[39m.\u001b[39mjoin(tmpdir, \u001b[39m'\u001b[39m\u001b[39mtmp.wav\u001b[39m\u001b[39m'\u001b[39m)\n\u001b[1;32m--> 123\u001b[0m         convert(file, tmpfile, offset, duration)\n\u001b[0;32m    124\u001b[0m         signal, sampling_rate \u001b[39m=\u001b[39m soundfile\u001b[39m.\u001b[39mread(\n\u001b[0;32m    125\u001b[0m             tmpfile,\n\u001b[0;32m    126\u001b[0m             dtype\u001b[39m=\u001b[39mdtype,\n\u001b[0;32m    127\u001b[0m             always_2d\u001b[39m=\u001b[39malways_2d,\n\u001b[0;32m    128\u001b[0m             \u001b[39m*\u001b[39m\u001b[39m*\u001b[39mkwargs,\n\u001b[0;32m    129\u001b[0m         )\n\u001b[0;32m    130\u001b[0m \u001b[39melse\u001b[39;00m:\n",
      "File \u001b[1;32me:\\Software\\anaconda3\\lib\\site-packages\\audiofile\\core\\convert.py:38\u001b[0m, in \u001b[0;36mconvert\u001b[1;34m(infile, outfile, offset, duration)\u001b[0m\n\u001b[0;32m     36\u001b[0m     run_ffmpeg(infile, outfile, offset, duration)\n\u001b[0;32m     37\u001b[0m \u001b[39mexcept\u001b[39;00m \u001b[39mFileNotFoundError\u001b[39;00m:\n\u001b[1;32m---> 38\u001b[0m     \u001b[39mraise\u001b[39;00m binary_missing_error(\u001b[39m'\u001b[39m\u001b[39mffmpeg\u001b[39m\u001b[39m'\u001b[39m)\n\u001b[0;32m     39\u001b[0m \u001b[39mexcept\u001b[39;00m subprocess\u001b[39m.\u001b[39mCalledProcessError:\n\u001b[0;32m     40\u001b[0m     \u001b[39mraise\u001b[39;00m broken_file_error(infile)\n",
      "\u001b[1;31mFileNotFoundError\u001b[0m: ffmpeg cannot be found.\nPlease make sure it is installed.\nFor further instructions visit: https://audeering.github.io/audiofile/installation.html"
     ]
    }
   ],
   "source": [
    "df = []\n",
    "for id_, filename in mp3s.items():\n",
    "    df.append(process(filename, id_))"
   ]
  },
  {
   "cell_type": "code",
   "execution_count": null,
   "metadata": {},
   "outputs": [],
   "source": []
  }
 ],
 "metadata": {
  "kernelspec": {
   "display_name": "Python 3.9.12 ('base')",
   "language": "python",
   "name": "python3"
  },
  "language_info": {
   "codemirror_mode": {
    "name": "ipython",
    "version": 3
   },
   "file_extension": ".py",
   "mimetype": "text/x-python",
   "name": "python",
   "nbconvert_exporter": "python",
   "pygments_lexer": "ipython3",
   "version": "3.9.12"
  },
  "orig_nbformat": 4,
  "vscode": {
   "interpreter": {
    "hash": "c2b388c6fce79e00fd9c43dd7c300c62775de93114fdc7222b9aeb8ab89a5a93"
   }
  }
 },
 "nbformat": 4,
 "nbformat_minor": 2
}
