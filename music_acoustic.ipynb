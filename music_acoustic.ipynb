{
 "cells": [
  {
   "cell_type": "code",
   "execution_count": 1,
   "metadata": {},
   "outputs": [],
   "source": [
    "import pandas as pd"
   ]
  },
  {
   "cell_type": "code",
   "execution_count": 2,
   "metadata": {},
   "outputs": [],
   "source": [
    "import opensmile\n",
    "import os\n",
    "import requests\n",
    "import time\n",
    "# https://github.com/audeering/opensmile-python\n",
    "smile = opensmile.Smile(\n",
    "    # feature_set=opensmile.FeatureSet.ComParE_2016,\n",
    "    # feature_set=opensmile.FeatureSet.eGeMAPSv02,\n",
    "    feature_set=opensmile.FeatureSet.emobase,\n",
    "    feature_level=opensmile.FeatureLevel.Functionals,\n",
    ")\n",
    "\n",
    "\n",
    "def error(id, e):\n",
    "    content = '[{}]\\t{}'.format(str(id), str(e))\n",
    "    with open(r'./audio_process_error.log', 'a') as f:\n",
    "        f.write('{}\\n'.format(content))\n",
    "\n",
    "\n",
    "def sleep():\n",
    "    # print('sleeping...')\n",
    "    # print()\n",
    "    # time.sleep(15*60)\n",
    "    time.sleep(1)\n",
    "\n",
    "\n",
    "def process(url, id):\n",
    "    filename = './tmp/{}.mp3'.format(id)\n",
    "    state = 1\n",
    "    trytime = 3\n",
    "    while trytime > 0 and state != 0:\n",
    "        try:\n",
    "            # audio = requests.get(url)\n",
    "            with requests.Session() as s:\n",
    "                audio = s.get(url)\n",
    "            with open(filename, 'wb') as f:\n",
    "                f.write(audio.content)\n",
    "            state = 0\n",
    "        except Exception as e:\n",
    "            if 'Temporary failure in name resolution' in str(e):\n",
    "                # print(id, e)\n",
    "                error(id, e)\n",
    "                sleep()\n",
    "                break\n",
    "            if 'timeout' not in str(e):\n",
    "                # print(id, e)\n",
    "                error(id, e)\n",
    "                sleep()\n",
    "                break\n",
    "            # print(id, e)\n",
    "            print(e)\n",
    "            error(id, e)\n",
    "            sleep()\n",
    "            state = 1\n",
    "            trytime -= 1\n",
    "    try:\n",
    "        if os.path.exists(filename):\n",
    "            processed = smile.process_file(filename)\n",
    "            os.remove(filename)\n",
    "            processed['track_id'] = id\n",
    "            # result = {'col':processed.columns.tolist(), 'data': processed.iloc[0].tolist()}\n",
    "            processed.index = [0]\n",
    "            # print(processed)\n",
    "            return processed\n",
    "        else:\n",
    "            return None\n",
    "    except Exception as e:\n",
    "        # print(id, e)\n",
    "        error(id, e)\n",
    "        # raise e\n",
    "    return None\n",
    "\n",
    "def download_mp3(url, id_):\n",
    "    filename = './tmp/{}.mp3'.format(id_)\n",
    "    with requests.Session() as s:\n",
    "        audio = s.get(url)\n",
    "        with open(filename, 'wb') as f:\n",
    "            f.write(audio.content)\n",
    "    return {id_: filename}\n",
    "\n",
    "def process(filename, id_):\n",
    "    if os.path.exists(filename):\n",
    "        processed = smile.process_file(filename)\n",
    "        processed['track_id'] = id_\n",
    "        processed.index = [0]\n",
    "        return processed\n"
   ]
  },
  {
   "cell_type": "code",
   "execution_count": 3,
   "metadata": {},
   "outputs": [],
   "source": [
    "songs = pd.read_csv(r'./HKU956/2. original_song_audio.csv')"
   ]
  },
  {
   "cell_type": "code",
   "execution_count": 4,
   "metadata": {},
   "outputs": [],
   "source": [
    "from tqdm import tqdm"
   ]
  },
  {
   "cell_type": "code",
   "execution_count": null,
   "metadata": {},
   "outputs": [],
   "source": [
    "mp3s = {}\n",
    "for row in tqdm(songs.iterrows()):\n",
    "    id_ = row[1]['song_id']\n",
    "    link = row[1]['link']\n",
    "    mp3s.update(download_mp3(link, id_))"
   ]
  },
  {
   "cell_type": "code",
   "execution_count": 5,
   "metadata": {},
   "outputs": [
    {
     "name": "stderr",
     "output_type": "stream",
     "text": [
      "100%|██████████| 592/592 [1:14:57<00:00,  7.60s/it]  \n"
     ]
    }
   ],
   "source": [
    "dfs = []\n",
    "for root, dir, files in os.walk(r'./tmp'):\n",
    "    for file in tqdm(files):\n",
    "        filename = os.path.join(root, file)\n",
    "        id_ = file.replace('.mp3', '')\n",
    "        dfs.append(process(filename, id_))"
   ]
  },
  {
   "cell_type": "code",
   "execution_count": 6,
   "metadata": {},
   "outputs": [],
   "source": [
    "pd.concat(dfs).to_csv(r'opensmile_acoustic.csv', index=False)"
   ]
  },
  {
   "cell_type": "code",
   "execution_count": null,
   "metadata": {},
   "outputs": [],
   "source": [
    "pd.concat(dfs).to_csv(r'opensmile_acoustic.csv', index=False)\n",
    "songs = pd.read_csv(r'./HKU956/2. original_song_audio.csv')"
   ]
  }
 ],
 "metadata": {
  "kernelspec": {
   "display_name": "Python 3.9.12 ('base')",
   "language": "python",
   "name": "python3"
  },
  "language_info": {
   "codemirror_mode": {
    "name": "ipython",
    "version": 3
   },
   "file_extension": ".py",
   "mimetype": "text/x-python",
   "name": "python",
   "nbconvert_exporter": "python",
   "pygments_lexer": "ipython3",
   "version": "3.9.13"
  },
  "orig_nbformat": 4,
  "vscode": {
   "interpreter": {
    "hash": "c2b388c6fce79e00fd9c43dd7c300c62775de93114fdc7222b9aeb8ab89a5a93"
   }
  }
 },
 "nbformat": 4,
 "nbformat_minor": 2
}
