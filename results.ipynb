{
 "cells": [
  {
   "cell_type": "code",
   "execution_count": 1,
   "metadata": {},
   "outputs": [],
   "source": [
    "import os\n",
    "import numpy as np\n",
    "import pandas as pd\n",
    "import pickle\n",
    "\n",
    "def load_dict_model(path):\n",
    "    with open(path, 'rb') as handle:\n",
    "        m = pickle.load(handle)\n",
    "    return m"
   ]
  },
  {
   "cell_type": "code",
   "execution_count": 2,
   "metadata": {},
   "outputs": [],
   "source": [
    "def parse_res(res):\n",
    "    score = []\n",
    "    for fold, his in res.items():\n",
    "        if 'val_mse' in his['best_result']:\n",
    "            score.append(his['best_result']['val_mse'])\n",
    "        else:\n",
    "            score.append(his['best_result']['val_f1'])\n",
    "    return round(np.mean(score), 6)"
   ]
  },
  {
   "cell_type": "markdown",
   "metadata": {},
   "source": [
    "# KEC"
   ]
  },
  {
   "cell_type": "code",
   "execution_count": 3,
   "metadata": {},
   "outputs": [],
   "source": [
    "results = {}\n",
    "for root, dir_, files in os.walk(r'./output/KEC/'):\n",
    "    for file in files:\n",
    "        if 'results.pkl' in file and 'CTransformer_loso' in root:\n",
    "            res = load_dict_model(os.path.join(root, file))\n",
    "            params = (os.path.split(root)[1]).split('_')\n",
    "            target = params[0]\n",
    "            results[target] = parse_res(res)\n",
    "        else:\n",
    "            continue"
   ]
  },
  {
   "cell_type": "code",
   "execution_count": 4,
   "metadata": {},
   "outputs": [
    {
     "data": {
      "text/plain": [
       "{'arousal': 1.10284, 'valence': 0.56804}"
      ]
     },
     "execution_count": 4,
     "metadata": {},
     "output_type": "execute_result"
    }
   ],
   "source": [
    "results"
   ]
  },
  {
   "cell_type": "markdown",
   "metadata": {},
   "source": [
    "# hku956"
   ]
  },
  {
   "cell_type": "code",
   "execution_count": 19,
   "metadata": {},
   "outputs": [],
   "source": [
    "results = {}\n",
    "for root, dir_, files in os.walk(r'./output'):\n",
    "    for file in files:\n",
    "        if 'results.pkl' in file and 'CTransformer_loao' in root:\n",
    "            res = load_dict_model(os.path.join(root, file))\n",
    "            params = (os.path.split(root)[1]).split('_')\n",
    "            target = params[0]\n",
    "            results[target] = parse_res(res)\n",
    "        else:\n",
    "            continue"
   ]
  },
  {
   "cell_type": "code",
   "execution_count": 11,
   "metadata": {},
   "outputs": [
    {
     "data": {
      "text/plain": [
       "{'arousallabel': 0.81246,\n",
       " 'arousal': 0.2166,\n",
       " 'valencelabel': 0.8125,\n",
       " 'valence': 0.21744}"
      ]
     },
     "execution_count": 11,
     "metadata": {},
     "output_type": "execute_result"
    }
   ],
   "source": [
    "# cv CT\n",
    "results"
   ]
  },
  {
   "cell_type": "code",
   "execution_count": 20,
   "metadata": {},
   "outputs": [
    {
     "data": {
      "text/plain": [
       "{'arousallabel': 0.78532,\n",
       " 'arousal': 0.21758,\n",
       " 'valencelabel': 0.80122,\n",
       " 'valence': 0.21858}"
      ]
     },
     "execution_count": 20,
     "metadata": {},
     "output_type": "execute_result"
    }
   ],
   "source": [
    "# loao CT\n",
    "results"
   ]
  },
  {
   "cell_type": "code",
   "execution_count": 18,
   "metadata": {},
   "outputs": [
    {
     "data": {
      "text/plain": [
       "{'arousallabel': 0.78532,\n",
       " 'arousal': 0.21758,\n",
       " 'valencelabel': 0.80122,\n",
       " 'valence': 0.21858}"
      ]
     },
     "execution_count": 18,
     "metadata": {},
     "output_type": "execute_result"
    }
   ],
   "source": [
    "# loso CT\n",
    "results"
   ]
  },
  {
   "cell_type": "code",
   "execution_count": 8,
   "metadata": {},
   "outputs": [
    {
     "data": {
      "text/plain": [
       "{'arousallabel': 0.8051,\n",
       " 'arousal': 0.21212,\n",
       " 'valencelabel': 0.8051,\n",
       " 'valence': 0.21216}"
      ]
     },
     "execution_count": 8,
     "metadata": {},
     "output_type": "execute_result"
    }
   ],
   "source": [
    "# loao\n",
    "results"
   ]
  },
  {
   "cell_type": "code",
   "execution_count": 6,
   "metadata": {},
   "outputs": [
    {
     "data": {
      "text/plain": [
       "{'arousallabel': 0.7965,\n",
       " 'arousal': 0.21608,\n",
       " 'valencelabel': 0.79662,\n",
       " 'valence': 0.21224}"
      ]
     },
     "execution_count": 6,
     "metadata": {},
     "output_type": "execute_result"
    }
   ],
   "source": [
    "# loso\n",
    "results"
   ]
  },
  {
   "cell_type": "code",
   "execution_count": 9,
   "metadata": {},
   "outputs": [
    {
     "data": {
      "text/plain": [
       "{'arousallabel': 0.8056,\n",
       " 'arousal': 0.21912,\n",
       " 'valencelabel': 0.80568,\n",
       " 'valence': 0.21622}"
      ]
     },
     "execution_count": 9,
     "metadata": {},
     "output_type": "execute_result"
    }
   ],
   "source": [
    "# cv\n",
    "results"
   ]
  },
  {
   "cell_type": "code",
   "execution_count": null,
   "metadata": {},
   "outputs": [],
   "source": []
  }
 ],
 "metadata": {
  "kernelspec": {
   "display_name": "Python 3.9.13 ('base')",
   "language": "python",
   "name": "python3"
  },
  "language_info": {
   "codemirror_mode": {
    "name": "ipython",
    "version": 3
   },
   "file_extension": ".py",
   "mimetype": "text/x-python",
   "name": "python",
   "nbconvert_exporter": "python",
   "pygments_lexer": "ipython3",
   "version": "3.9.13"
  },
  "vscode": {
   "interpreter": {
    "hash": "c2b388c6fce79e00fd9c43dd7c300c62775de93114fdc7222b9aeb8ab89a5a93"
   }
  }
 },
 "nbformat": 4,
 "nbformat_minor": 2
}
