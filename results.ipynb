{
 "cells": [
  {
   "cell_type": "code",
   "execution_count": 1,
   "metadata": {},
   "outputs": [],
   "source": [
    "import os\n",
    "import numpy as np\n",
    "import pandas as pd\n",
    "import pickle\n",
    "\n",
    "def load_dict_model(path):\n",
    "    with open(path, 'rb') as handle:\n",
    "        m = pickle.load(handle)\n",
    "    return m"
   ]
  },
  {
   "cell_type": "code",
   "execution_count": 7,
   "metadata": {},
   "outputs": [],
   "source": [
    "def parse_res(res):\n",
    "    score = []\n",
    "    for fold, his in res.items():\n",
    "        if 'val_mse' in his['best_result']:\n",
    "            score.append(his['best_result']['val_mse'])\n",
    "        else:\n",
    "            score.append(his['best_result']['val_f1'])\n",
    "    return round(np.mean(score), 6)"
   ]
  },
  {
   "cell_type": "code",
   "execution_count": 8,
   "metadata": {},
   "outputs": [],
   "source": [
    "results = {}\n",
    "for root, dir_, files in os.walk(r'./output'):\n",
    "    for file in files:\n",
    "        if 'results.pkl' in file:\n",
    "            res = load_dict_model(os.path.join(root, file))\n",
    "            params = (os.path.split(root)[1]).split('_')\n",
    "            target = params[0]\n",
    "            results[target] = parse_res(res)\n",
    "        else:\n",
    "            continue"
   ]
  },
  {
   "cell_type": "code",
   "execution_count": 9,
   "metadata": {},
   "outputs": [
    {
     "data": {
      "text/plain": [
       "{'arousallabel': 0.8056,\n",
       " 'arousal': 0.21912,\n",
       " 'valencelabel': 0.80568,\n",
       " 'valence': 0.21622}"
      ]
     },
     "execution_count": 9,
     "metadata": {},
     "output_type": "execute_result"
    }
   ],
   "source": [
    "results"
   ]
  },
  {
   "cell_type": "code",
   "execution_count": null,
   "metadata": {},
   "outputs": [],
   "source": []
  }
 ],
 "metadata": {
  "kernelspec": {
   "display_name": "Python 3 (ipykernel)",
   "language": "python",
   "name": "python3"
  },
  "language_info": {
   "codemirror_mode": {
    "name": "ipython",
    "version": 3
   },
   "file_extension": ".py",
   "mimetype": "text/x-python",
   "name": "python",
   "nbconvert_exporter": "python",
   "pygments_lexer": "ipython3",
   "version": "3.9.13"
  },
  "vscode": {
   "interpreter": {
    "hash": "2eaf7de15792028331000e26e733368037289990a5cf020e1d2a2476e1f99750"
   }
  }
 },
 "nbformat": 4,
 "nbformat_minor": 2
}
