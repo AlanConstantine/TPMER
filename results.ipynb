{
 "cells": [
  {
   "cell_type": "code",
   "execution_count": 4,
   "metadata": {},
   "outputs": [],
   "source": [
    "import os\n",
    "import numpy as np\n",
    "import pandas as pd\n",
    "import pickle\n",
    "from scipy.stats import ttest_ind\n",
    "\n",
    "from scipy.stats import friedmanchisquare\n",
    "from scikit_posthocs import posthoc_nemenyi_friedman\n",
    "\n",
    "def load_dict_model(path):\n",
    "    with open(path, 'rb') as handle:\n",
    "        m = pickle.load(handle)\n",
    "    return m\n",
    "\n",
    "def parse_res(res):\n",
    "    score = []\n",
    "    for fold, his in res.items():\n",
    "        if 'val_mse' in his['best_result']:\n",
    "            score.append(his['best_result']['val_mse'])\n",
    "        else:\n",
    "            score.append(his['best_result']['val_f1'])\n",
    "    return round(np.mean(score), 6)\n",
    "\n",
    "\n",
    "def get_results(pth):\n",
    "    res = load_dict_model(pth)\n",
    "    parse_res(res)\n",
    "    avg_res = []\n",
    "    print(pth)\n",
    "    for fold in res.keys():\n",
    "        print('Fold', fold, res[fold]['best_result'], 'Time used:', res[fold]['time_used'])\n",
    "        avg_res.append(res[fold]['best_result'][list(res[fold]['best_result'].keys())[0]])\n",
    "    print(np.mean(avg_res))\n",
    "    return avg_res\n",
    "\n",
    "def compare_res(pth1, pth2):\n",
    "    print('\\n', ttest_ind(get_results(pth1), get_results(pth2)))"
   ]
  },
  {
   "cell_type": "code",
   "execution_count": 3,
   "metadata": {},
   "outputs": [],
   "source": [
    "folder = r'./output/windows_size'\n",
    "\n",
    "valence_res_path = []\n",
    "arousal_res_path = []\n",
    "\n",
    "for root, dir, files in os.walk(folder):\n",
    "    for file in files:\n",
    "        if 'arousal' in root and '.pkl' in file:\n",
    "            arousal_res_path.append(os.path.join(root, file))\n",
    "        if 'valence' in root and '.pkl' in file:\n",
    "            valence_res_path.append(os.path.join(root, file))"
   ]
  },
  {
   "cell_type": "code",
   "execution_count": 28,
   "metadata": {},
   "outputs": [],
   "source": [
    "arousal_fold_res = {arousal_res_path[i].split('\\\\')[1]: [load_dict_model(arousal_res_path[i])[fold]['best_result']['val_f1'] for fold in range(5)] for i in range(len(arousal_res_path))}"
   ]
  },
  {
   "cell_type": "code",
   "execution_count": 29,
   "metadata": {},
   "outputs": [
    {
     "data": {
      "text/plain": [
       "dict_values([[0.668, 0.6722, 0.6752, 0.654, 0.6442], [0.6747, 0.6601, 0.6176, 0.6746, 0.6803], [0.6682, 0.6645, 0.6644, 0.6692, 0.6116], [0.6726, 0.6753, 0.6636, 0.6718, 0.6686]])"
      ]
     },
     "execution_count": 29,
     "metadata": {},
     "output_type": "execute_result"
    }
   ],
   "source": [
    "arousal_fold_res.values()"
   ]
  },
  {
   "cell_type": "code",
   "execution_count": 30,
   "metadata": {},
   "outputs": [
    {
     "data": {
      "text/plain": [
       "FriedmanchisquareResult(statistic=2.039999999999992, pvalue=0.5641461991984618)"
      ]
     },
     "execution_count": 30,
     "metadata": {},
     "output_type": "execute_result"
    }
   ],
   "source": [
    "friedmanchisquare([0.668, 0.6722, 0.6752, 0.654, 0.6442], [0.6747, 0.6601, 0.6176, 0.6746, 0.6803], [0.6682, 0.6645, 0.6644, 0.6692, 0.6116], [0.6726, 0.6753, 0.6636, 0.6718, 0.6686]\n",
    "                    )"
   ]
  },
  {
   "cell_type": "code",
   "execution_count": 31,
   "metadata": {},
   "outputs": [],
   "source": [
    "valence_fold_res = {valence_res_path[i].split('\\\\')[1]: [load_dict_model(valence_res_path[i])[fold]['best_result']['val_f1'] for fold in range(5)] for i in range(len(valence_res_path))}"
   ]
  },
  {
   "cell_type": "code",
   "execution_count": 32,
   "metadata": {},
   "outputs": [
    {
     "data": {
      "text/plain": [
       "dict_values([[0.7556, 0.756, 0.7541, 0.7551, 0.7563], [0.7464, 0.7399, 0.7393, 0.7448, 0.7449], [0.7463, 0.7478, 0.7453, 0.7476, 0.7448], [0.7476, 0.748, 0.7451, 0.7474, 0.7502]])"
      ]
     },
     "execution_count": 32,
     "metadata": {},
     "output_type": "execute_result"
    }
   ],
   "source": [
    "valence_fold_res.values()"
   ]
  },
  {
   "cell_type": "code",
   "execution_count": 33,
   "metadata": {},
   "outputs": [
    {
     "data": {
      "text/plain": [
       "FriedmanchisquareResult(statistic=11.159999999999997, pvalue=0.010891421468579314)"
      ]
     },
     "execution_count": 33,
     "metadata": {},
     "output_type": "execute_result"
    }
   ],
   "source": [
    "friedmanchisquare([0.7556, 0.756, 0.7541, 0.7551, 0.7563], [0.7464, 0.7399, 0.7393, 0.7448, 0.7449], [0.7463, 0.7478, 0.7453, 0.7476, 0.7448], [0.7476, 0.748, 0.7451, 0.7474, 0.7502])"
   ]
  },
  {
   "cell_type": "code",
   "execution_count": 39,
   "metadata": {},
   "outputs": [],
   "source": [
    "ph_p_value = posthoc_nemenyi_friedman(np.transpose(np.array(list(valence_fold_res.values()))))"
   ]
  },
  {
   "cell_type": "code",
   "execution_count": 41,
   "metadata": {},
   "outputs": [
    {
     "data": {
      "text/html": [
       "<div>\n",
       "<style scoped>\n",
       "    .dataframe tbody tr th:only-of-type {\n",
       "        vertical-align: middle;\n",
       "    }\n",
       "\n",
       "    .dataframe tbody tr th {\n",
       "        vertical-align: top;\n",
       "    }\n",
       "\n",
       "    .dataframe thead th {\n",
       "        text-align: right;\n",
       "    }\n",
       "</style>\n",
       "<table border=\"1\" class=\"dataframe\">\n",
       "  <thead>\n",
       "    <tr style=\"text-align: right;\">\n",
       "      <th></th>\n",
       "      <th>HKU_valence_label_SG_cv_1e-05_32_1540_24s_step_2s_1679409431</th>\n",
       "      <th>HKU_valence_label_SG_cv_1e-05_32_260_4s_step_2s_1679316288</th>\n",
       "      <th>HKU_valence_label_SG_cv_1e-05_32_516_8s_step_2s_1679266592</th>\n",
       "      <th>HKU_valence_label_SG_cv_1e-05_32_772_12s_step_2s_1679442663</th>\n",
       "    </tr>\n",
       "  </thead>\n",
       "  <tbody>\n",
       "    <tr>\n",
       "      <th>HKU_valence_label_SG_cv_1e-05_32_1540_24s_step_2s_1679409431</th>\n",
       "      <td>1.000000</td>\n",
       "      <td>0.007913</td>\n",
       "      <td>0.068212</td>\n",
       "      <td>0.316064</td>\n",
       "    </tr>\n",
       "    <tr>\n",
       "      <th>HKU_valence_label_SG_cv_1e-05_32_260_4s_step_2s_1679316288</th>\n",
       "      <td>0.007913</td>\n",
       "      <td>1.000000</td>\n",
       "      <td>0.872678</td>\n",
       "      <td>0.457254</td>\n",
       "    </tr>\n",
       "    <tr>\n",
       "      <th>HKU_valence_label_SG_cv_1e-05_32_516_8s_step_2s_1679266592</th>\n",
       "      <td>0.068212</td>\n",
       "      <td>0.872678</td>\n",
       "      <td>1.000000</td>\n",
       "      <td>0.872678</td>\n",
       "    </tr>\n",
       "    <tr>\n",
       "      <th>HKU_valence_label_SG_cv_1e-05_32_772_12s_step_2s_1679442663</th>\n",
       "      <td>0.316064</td>\n",
       "      <td>0.457254</td>\n",
       "      <td>0.872678</td>\n",
       "      <td>1.000000</td>\n",
       "    </tr>\n",
       "  </tbody>\n",
       "</table>\n",
       "</div>"
      ],
      "text/plain": [
       "                                                    HKU_valence_label_SG_cv_1e-05_32_1540_24s_step_2s_1679409431  \\\n",
       "HKU_valence_label_SG_cv_1e-05_32_1540_24s_step_...                                           1.000000              \n",
       "HKU_valence_label_SG_cv_1e-05_32_260_4s_step_2s...                                           0.007913              \n",
       "HKU_valence_label_SG_cv_1e-05_32_516_8s_step_2s...                                           0.068212              \n",
       "HKU_valence_label_SG_cv_1e-05_32_772_12s_step_2...                                           0.316064              \n",
       "\n",
       "                                                    HKU_valence_label_SG_cv_1e-05_32_260_4s_step_2s_1679316288  \\\n",
       "HKU_valence_label_SG_cv_1e-05_32_1540_24s_step_...                                           0.007913            \n",
       "HKU_valence_label_SG_cv_1e-05_32_260_4s_step_2s...                                           1.000000            \n",
       "HKU_valence_label_SG_cv_1e-05_32_516_8s_step_2s...                                           0.872678            \n",
       "HKU_valence_label_SG_cv_1e-05_32_772_12s_step_2...                                           0.457254            \n",
       "\n",
       "                                                    HKU_valence_label_SG_cv_1e-05_32_516_8s_step_2s_1679266592  \\\n",
       "HKU_valence_label_SG_cv_1e-05_32_1540_24s_step_...                                           0.068212            \n",
       "HKU_valence_label_SG_cv_1e-05_32_260_4s_step_2s...                                           0.872678            \n",
       "HKU_valence_label_SG_cv_1e-05_32_516_8s_step_2s...                                           1.000000            \n",
       "HKU_valence_label_SG_cv_1e-05_32_772_12s_step_2...                                           0.872678            \n",
       "\n",
       "                                                    HKU_valence_label_SG_cv_1e-05_32_772_12s_step_2s_1679442663  \n",
       "HKU_valence_label_SG_cv_1e-05_32_1540_24s_step_...                                           0.316064            \n",
       "HKU_valence_label_SG_cv_1e-05_32_260_4s_step_2s...                                           0.457254            \n",
       "HKU_valence_label_SG_cv_1e-05_32_516_8s_step_2s...                                           0.872678            \n",
       "HKU_valence_label_SG_cv_1e-05_32_772_12s_step_2...                                           1.000000            "
      ]
     },
     "execution_count": 41,
     "metadata": {},
     "output_type": "execute_result"
    }
   ],
   "source": [
    "ph_p_value.columns = list(valence_fold_res.keys())\n",
    "ph_p_value.index = list(valence_fold_res.keys())\n",
    "ph_p_value"
   ]
  },
  {
   "attachments": {},
   "cell_type": "markdown",
   "metadata": {},
   "source": [
    "# SigRep on HKU valence 10 fold loso scatch vs pretrain"
   ]
  },
  {
   "cell_type": "code",
   "execution_count": 43,
   "metadata": {},
   "outputs": [
    {
     "name": "stdout",
     "output_type": "stream",
     "text": [
      "./output/False_HKU_valence_SG_loso_0.0001_512_32_1672685694/results.pkl\n",
      "Fold 0 {'val_mse': 0.2189} Time used: 699.3091254234314\n",
      "Fold 1 {'val_mse': 0.2197} Time used: 522.308521270752\n",
      "Fold 2 {'val_mse': 0.2304} Time used: 710.9581854343414\n",
      "Fold 3 {'val_mse': 0.4552} Time used: 298.21303939819336\n",
      "Fold 4 {'val_mse': 0.229} Time used: 667.7709114551544\n",
      "Fold 5 {'val_mse': 0.2439} Time used: 393.77755069732666\n",
      "Fold 6 {'val_mse': 0.236} Time used: 510.16380739212036\n",
      "Fold 7 {'val_mse': 0.2384} Time used: 916.7485117912292\n",
      "Fold 8 {'val_mse': 0.2319} Time used: 585.6455090045929\n",
      "Fold 9 {'val_mse': 0.19} Time used: 370.3535931110382\n",
      "0.24934000000000003\n",
      "./output/True_HKU_valence_SG_loso_0.0001_512_32_1672712443/results.pkl\n",
      "Fold 0 {'val_mse': 0.2196} Time used: 719.9860732555389\n",
      "Fold 1 {'val_mse': 0.2018} Time used: 358.57351326942444\n",
      "Fold 2 {'val_mse': 0.2411} Time used: 412.22877049446106\n",
      "Fold 3 {'val_mse': 0.2214} Time used: 267.49876952171326\n",
      "Fold 4 {'val_mse': 0.2042} Time used: 606.781209230423\n",
      "Fold 5 {'val_mse': 0.2328} Time used: 436.22852659225464\n",
      "Fold 6 {'val_mse': 0.2299} Time used: 381.18099904060364\n",
      "Fold 7 {'val_mse': 0.2268} Time used: 325.8878378868103\n",
      "Fold 8 {'val_mse': 0.2315} Time used: 264.84319591522217\n",
      "Fold 9 {'val_mse': 0.1961} Time used: 273.71511602401733\n",
      "0.22052\n",
      "\n",
      " Ttest_indResult(statistic=1.208957899166244, pvalue=0.24232053299601966)\n"
     ]
    }
   ],
   "source": [
    "compare_res(r'./output/False_HKU_valence_SG_loso_0.0001_512_32_1672685694/results.pkl', r'./output/True_HKU_valence_SG_loso_0.0001_512_32_1672712443/results.pkl')"
   ]
  },
  {
   "attachments": {},
   "cell_type": "markdown",
   "metadata": {},
   "source": [
    "# SigRep on HKU arousal 10 fold loso scatch vs pretrain"
   ]
  },
  {
   "cell_type": "code",
   "execution_count": 44,
   "metadata": {},
   "outputs": [
    {
     "name": "stdout",
     "output_type": "stream",
     "text": [
      "./output/False_HKU_arousal_SG_loso_0.0001_512_32_1672717650/results.pkl\n",
      "Fold 0 {'val_mse': 0.2214} Time used: 490.67258954048157\n",
      "Fold 1 {'val_mse': 0.2483} Time used: 326.88570284843445\n",
      "Fold 2 {'val_mse': 0.2749} Time used: 637.4569208621979\n",
      "Fold 3 {'val_mse': 0.2384} Time used: 266.8400390148163\n",
      "Fold 4 {'val_mse': 0.2533} Time used: 888.591712474823\n",
      "Fold 5 {'val_mse': 0.2711} Time used: 575.3000304698944\n",
      "Fold 6 {'val_mse': 0.239} Time used: 509.30590200424194\n",
      "Fold 7 {'val_mse': 0.2455} Time used: 440.98384046554565\n",
      "Fold 8 {'val_mse': 0.2551} Time used: 256.3682315349579\n",
      "Fold 9 {'val_mse': 0.2469} Time used: 524.2724401950836\n",
      "0.24939\n",
      "./output/True_HKU_arousal_SG_loso_0.0001_512_32_1672725954/results.pkl\n",
      "Fold 0 {'val_mse': 0.2264} Time used: 584.4284462928772\n",
      "Fold 1 {'val_mse': 0.2353} Time used: 296.5954713821411\n",
      "Fold 2 {'val_mse': 0.2422} Time used: 555.8973121643066\n",
      "Fold 3 {'val_mse': 0.2351} Time used: 256.7223162651062\n",
      "Fold 4 {'val_mse': 0.2488} Time used: 678.8462302684784\n",
      "Fold 5 {'val_mse': 0.2347} Time used: 343.2614369392395\n",
      "Fold 6 {'val_mse': 0.2265} Time used: 613.4221954345703\n",
      "Fold 7 {'val_mse': 0.2459} Time used: 452.4673671722412\n",
      "Fold 8 {'val_mse': 0.2477} Time used: 779.603059053421\n",
      "Fold 9 {'val_mse': 0.2794} Time used: 328.9880368709564\n",
      "0.24219999999999997\n",
      "\n",
      " Ttest_indResult(statistic=1.0370181521405237, pvalue=0.31345869898344186)\n"
     ]
    }
   ],
   "source": [
    "compare_res(r'./output/False_HKU_arousal_SG_loso_0.0001_512_32_1672717650/results.pkl', r'./output/True_HKU_arousal_SG_loso_0.0001_512_32_1672725954/results.pkl')"
   ]
  },
  {
   "cell_type": "code",
   "execution_count": 9,
   "metadata": {},
   "outputs": [],
   "source": [
    "# res = load_dict_model(r'./output/last15_valence_loso_results.pkl')\n",
    "res = load_dict_model(r'./output/results.pkl')\n"
   ]
  },
  {
   "cell_type": "code",
   "execution_count": 12,
   "metadata": {},
   "outputs": [
    {
     "data": {
      "text/plain": [
       "[[{'0.0': {'precision': 0.0, 'recall': 1.0, 'f1-score': 0.0, 'support': 0},\n",
       "   '1.0': {'precision': 1.0,\n",
       "    'recall': 0.640625,\n",
       "    'f1-score': 0.780952380952381,\n",
       "    'support': 256},\n",
       "   'accuracy': 0.640625,\n",
       "   'macro avg': {'precision': 0.5,\n",
       "    'recall': 0.8203125,\n",
       "    'f1-score': 0.3904761904761905,\n",
       "    'support': 256},\n",
       "   'weighted avg': {'precision': 1.0,\n",
       "    'recall': 0.640625,\n",
       "    'f1-score': 0.780952380952381,\n",
       "    'support': 256}},\n",
       "  array([[  0,   0],\n",
       "         [ 92, 164]], dtype=int64)],\n",
       " [{'0.0': {'precision': 0.0, 'recall': 1.0, 'f1-score': 0.0, 'support': 0},\n",
       "   '1.0': {'precision': 1.0,\n",
       "    'recall': 0.6796875,\n",
       "    'f1-score': 0.8093023255813954,\n",
       "    'support': 256},\n",
       "   'accuracy': 0.6796875,\n",
       "   'macro avg': {'precision': 0.5,\n",
       "    'recall': 0.83984375,\n",
       "    'f1-score': 0.4046511627906977,\n",
       "    'support': 256},\n",
       "   'weighted avg': {'precision': 1.0,\n",
       "    'recall': 0.6796875,\n",
       "    'f1-score': 0.8093023255813954,\n",
       "    'support': 256}},\n",
       "  array([[  0,   0],\n",
       "         [ 82, 174]], dtype=int64)],\n",
       " [{'0.0': {'precision': 0.0, 'recall': 1.0, 'f1-score': 0.0, 'support': 0},\n",
       "   '1.0': {'precision': 1.0,\n",
       "    'recall': 0.6612903225806451,\n",
       "    'f1-score': 0.7961165048543689,\n",
       "    'support': 62},\n",
       "   'accuracy': 0.6612903225806451,\n",
       "   'macro avg': {'precision': 0.5,\n",
       "    'recall': 0.8306451612903225,\n",
       "    'f1-score': 0.39805825242718446,\n",
       "    'support': 62},\n",
       "   'weighted avg': {'precision': 1.0,\n",
       "    'recall': 0.6612903225806451,\n",
       "    'f1-score': 0.7961165048543689,\n",
       "    'support': 62}},\n",
       "  array([[ 0,  0],\n",
       "         [21, 41]], dtype=int64)]]"
      ]
     },
     "execution_count": 12,
     "metadata": {},
     "output_type": "execute_result"
    }
   ],
   "source": [
    "res[1]['clf_rep']"
   ]
  },
  {
   "cell_type": "code",
   "execution_count": 2,
   "metadata": {},
   "outputs": [],
   "source": [
    "res_24_2_arousal = load_dict_model(r'./output/HKU_arousal_label_SG_cv_0.0001_128_1540_24s_step_2s_1677735241_results.pkl')\n",
    "res_24_2_valence = load_dict_model(r'./output/HKU_valence_label_SG_cv_0.0001_128_1540_24s_step_2s_1677727588_results.pkl')"
   ]
  },
  {
   "cell_type": "code",
   "execution_count": 9,
   "metadata": {},
   "outputs": [
    {
     "data": {
      "text/plain": [
       "(0.64614, 0.6860999999999999)"
      ]
     },
     "execution_count": 9,
     "metadata": {},
     "output_type": "execute_result"
    }
   ],
   "source": [
    "np.mean([res_24_2_arousal[i]['best_result']['val_f1'] for i in range(5)]), np.mean([res_24_2_valence[i]['best_result']['val_f1'] for i in range(5)])"
   ]
  },
  {
   "cell_type": "code",
   "execution_count": null,
   "metadata": {},
   "outputs": [],
   "source": []
  }
 ],
 "metadata": {
  "kernelspec": {
   "display_name": "base",
   "language": "python",
   "name": "python3"
  },
  "language_info": {
   "codemirror_mode": {
    "name": "ipython",
    "version": 3
   },
   "file_extension": ".py",
   "mimetype": "text/x-python",
   "name": "python",
   "nbconvert_exporter": "python",
   "pygments_lexer": "ipython3",
   "version": "3.9.13"
  },
  "vscode": {
   "interpreter": {
    "hash": "c2b388c6fce79e00fd9c43dd7c300c62775de93114fdc7222b9aeb8ab89a5a93"
   }
  }
 },
 "nbformat": 4,
 "nbformat_minor": 2
}
