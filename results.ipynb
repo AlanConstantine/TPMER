{
 "cells": [
  {
   "cell_type": "code",
   "execution_count": 31,
   "metadata": {},
   "outputs": [],
   "source": [
    "import os\n",
    "import numpy as np\n",
    "import pandas as pd\n",
    "import pickle\n",
    "from scipy.stats import ttest_ind\n",
    "\n",
    "def load_dict_model(path):\n",
    "    with open(path, 'rb') as handle:\n",
    "        m = pickle.load(handle)\n",
    "    return m\n",
    "\n",
    "def parse_res(res):\n",
    "    score = []\n",
    "    for fold, his in res.items():\n",
    "        if 'val_mse' in his['best_result']:\n",
    "            score.append(his['best_result']['val_mse'])\n",
    "        else:\n",
    "            score.append(his['best_result']['val_f1'])\n",
    "    return round(np.mean(score), 6)\n",
    "\n",
    "\n",
    "def get_results(pth):\n",
    "    res = load_dict_model(pth)\n",
    "    parse_res(res)\n",
    "    avg_res = []\n",
    "    print(pth)\n",
    "    for fold in res.keys():\n",
    "        print('Fold', fold, res[fold]['best_result'], 'Time used:', res[fold]['time_used'])\n",
    "        avg_res.append(res[fold]['best_result'][list(res[fold]['best_result'].keys())[0]])\n",
    "    print(np.mean(avg_res))\n",
    "    return avg_res\n",
    "\n",
    "def compare_res(pth1, pth2):\n",
    "    print('\\n', ttest_ind(get_results(pth1), get_results(pth2)))"
   ]
  },
  {
   "attachments": {},
   "cell_type": "markdown",
   "metadata": {},
   "source": [
    "# SigRep on HKU valence 10 fold loso scatch vs pretrain"
   ]
  },
  {
   "cell_type": "code",
   "execution_count": 43,
   "metadata": {},
   "outputs": [
    {
     "name": "stdout",
     "output_type": "stream",
     "text": [
      "./output/False_HKU_valence_SG_loso_0.0001_512_32_1672685694/results.pkl\n",
      "Fold 0 {'val_mse': 0.2189} Time used: 699.3091254234314\n",
      "Fold 1 {'val_mse': 0.2197} Time used: 522.308521270752\n",
      "Fold 2 {'val_mse': 0.2304} Time used: 710.9581854343414\n",
      "Fold 3 {'val_mse': 0.4552} Time used: 298.21303939819336\n",
      "Fold 4 {'val_mse': 0.229} Time used: 667.7709114551544\n",
      "Fold 5 {'val_mse': 0.2439} Time used: 393.77755069732666\n",
      "Fold 6 {'val_mse': 0.236} Time used: 510.16380739212036\n",
      "Fold 7 {'val_mse': 0.2384} Time used: 916.7485117912292\n",
      "Fold 8 {'val_mse': 0.2319} Time used: 585.6455090045929\n",
      "Fold 9 {'val_mse': 0.19} Time used: 370.3535931110382\n",
      "0.24934000000000003\n",
      "./output/True_HKU_valence_SG_loso_0.0001_512_32_1672712443/results.pkl\n",
      "Fold 0 {'val_mse': 0.2196} Time used: 719.9860732555389\n",
      "Fold 1 {'val_mse': 0.2018} Time used: 358.57351326942444\n",
      "Fold 2 {'val_mse': 0.2411} Time used: 412.22877049446106\n",
      "Fold 3 {'val_mse': 0.2214} Time used: 267.49876952171326\n",
      "Fold 4 {'val_mse': 0.2042} Time used: 606.781209230423\n",
      "Fold 5 {'val_mse': 0.2328} Time used: 436.22852659225464\n",
      "Fold 6 {'val_mse': 0.2299} Time used: 381.18099904060364\n",
      "Fold 7 {'val_mse': 0.2268} Time used: 325.8878378868103\n",
      "Fold 8 {'val_mse': 0.2315} Time used: 264.84319591522217\n",
      "Fold 9 {'val_mse': 0.1961} Time used: 273.71511602401733\n",
      "0.22052\n",
      "\n",
      " Ttest_indResult(statistic=1.208957899166244, pvalue=0.24232053299601966)\n"
     ]
    }
   ],
   "source": [
    "compare_res(r'./output/False_HKU_valence_SG_loso_0.0001_512_32_1672685694/results.pkl', r'./output/True_HKU_valence_SG_loso_0.0001_512_32_1672712443/results.pkl')"
   ]
  },
  {
   "attachments": {},
   "cell_type": "markdown",
   "metadata": {},
   "source": [
    "# SigRep on HKU arousal 10 fold loso scatch vs pretrain"
   ]
  },
  {
   "cell_type": "code",
   "execution_count": 44,
   "metadata": {},
   "outputs": [
    {
     "name": "stdout",
     "output_type": "stream",
     "text": [
      "./output/False_HKU_arousal_SG_loso_0.0001_512_32_1672717650/results.pkl\n",
      "Fold 0 {'val_mse': 0.2214} Time used: 490.67258954048157\n",
      "Fold 1 {'val_mse': 0.2483} Time used: 326.88570284843445\n",
      "Fold 2 {'val_mse': 0.2749} Time used: 637.4569208621979\n",
      "Fold 3 {'val_mse': 0.2384} Time used: 266.8400390148163\n",
      "Fold 4 {'val_mse': 0.2533} Time used: 888.591712474823\n",
      "Fold 5 {'val_mse': 0.2711} Time used: 575.3000304698944\n",
      "Fold 6 {'val_mse': 0.239} Time used: 509.30590200424194\n",
      "Fold 7 {'val_mse': 0.2455} Time used: 440.98384046554565\n",
      "Fold 8 {'val_mse': 0.2551} Time used: 256.3682315349579\n",
      "Fold 9 {'val_mse': 0.2469} Time used: 524.2724401950836\n",
      "0.24939\n",
      "./output/True_HKU_arousal_SG_loso_0.0001_512_32_1672725954/results.pkl\n",
      "Fold 0 {'val_mse': 0.2264} Time used: 584.4284462928772\n",
      "Fold 1 {'val_mse': 0.2353} Time used: 296.5954713821411\n",
      "Fold 2 {'val_mse': 0.2422} Time used: 555.8973121643066\n",
      "Fold 3 {'val_mse': 0.2351} Time used: 256.7223162651062\n",
      "Fold 4 {'val_mse': 0.2488} Time used: 678.8462302684784\n",
      "Fold 5 {'val_mse': 0.2347} Time used: 343.2614369392395\n",
      "Fold 6 {'val_mse': 0.2265} Time used: 613.4221954345703\n",
      "Fold 7 {'val_mse': 0.2459} Time used: 452.4673671722412\n",
      "Fold 8 {'val_mse': 0.2477} Time used: 779.603059053421\n",
      "Fold 9 {'val_mse': 0.2794} Time used: 328.9880368709564\n",
      "0.24219999999999997\n",
      "\n",
      " Ttest_indResult(statistic=1.0370181521405237, pvalue=0.31345869898344186)\n"
     ]
    }
   ],
   "source": [
    "compare_res(r'./output/False_HKU_arousal_SG_loso_0.0001_512_32_1672717650/results.pkl', r'./output/True_HKU_arousal_SG_loso_0.0001_512_32_1672725954/results.pkl')"
   ]
  }
 ],
 "metadata": {
  "kernelspec": {
   "display_name": "base",
   "language": "python",
   "name": "python3"
  },
  "language_info": {
   "codemirror_mode": {
    "name": "ipython",
    "version": 3
   },
   "file_extension": ".py",
   "mimetype": "text/x-python",
   "name": "python",
   "nbconvert_exporter": "python",
   "pygments_lexer": "ipython3",
   "version": "3.9.13"
  },
  "vscode": {
   "interpreter": {
    "hash": "c2b388c6fce79e00fd9c43dd7c300c62775de93114fdc7222b9aeb8ab89a5a93"
   }
  }
 },
 "nbformat": 4,
 "nbformat_minor": 2
}
