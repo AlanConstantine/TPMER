{
 "cells": [
  {
   "cell_type": "code",
   "execution_count": 1,
   "metadata": {},
   "outputs": [],
   "source": [
    "import warnings\n",
    "warnings.filterwarnings('ignore')\n",
    "\n",
    "import gc\n",
    "\n",
    "import numpy as np\n",
    "import pandas as pd\n",
    "from tqdm import tqdm\n",
    "\n",
    "from tools import *"
   ]
  },
  {
   "cell_type": "markdown",
   "metadata": {},
   "source": [
    "# Features"
   ]
  },
  {
   "cell_type": "code",
   "execution_count": null,
   "metadata": {},
   "outputs": [],
   "source": [
    "s_features = ['B_HYC_NH4', 'B_HYC_XD', 'B_HYC_MLSS', 'B_HYC_JS_DO', 'B_HYC_DO',\n",
    "       'B_CS_MQ_SSLL', 'B_QY_ORP']\n",
    "n_features = ['N_HYC_NH4', 'N_HYC_XD', 'N_HYC_MLSS',\n",
    "       'N_HYC_JS_DO', 'N_HYC_DO', 'N_CS_MQ_SSLL', 'N_QY_ORP']\n",
    "base_features = ['JS_NH3', 'CS_NH3', 'JS_TN', 'CS_TN', 'JS_LL', 'CS_LL',\n",
    "       'MCCS_NH4', 'MCCS_NO3', 'JS_COD', 'CS_COD', 'JS_SW', 'CS_SW',]"
   ]
  },
  {
   "cell_type": "markdown",
   "metadata": {},
   "source": [
    "# Pre-processing"
   ]
  },
  {
   "cell_type": "markdown",
   "metadata": {},
   "source": [
    "## load data"
   ]
  },
  {
   "cell_type": "code",
   "execution_count": 2,
   "metadata": {},
   "outputs": [
    {
     "data": {
      "text/plain": [
       "((140480, 29), (10000, 27))"
      ]
     },
     "execution_count": 2,
     "metadata": {},
     "output_type": "execute_result"
    }
   ],
   "source": [
    "train_data = pd.read_csv(r'./data/train_dataset.csv')\n",
    "test_data = pd.read_csv(r'./data/evaluation_public.csv')\n",
    "train_data.shape, test_data.shape"
   ]
  },
  {
   "cell_type": "code",
   "execution_count": 3,
   "metadata": {},
   "outputs": [
    {
     "data": {
      "text/plain": [
       "(150480, 30)"
      ]
     },
     "execution_count": 3,
     "metadata": {},
     "output_type": "execute_result"
    }
   ],
   "source": [
    "train_data['istest'] = 0\n",
    "test_data['istest'] = 1\n",
    "data = pd.concat([train_data, test_data], axis=0, ignore_index=True)\n",
    "del train_data, test_data\n",
    "gc.collect()\n",
    "data.shape"
   ]
  },
  {
   "cell_type": "code",
   "execution_count": 4,
   "metadata": {},
   "outputs": [
    {
     "name": "stdout",
     "output_type": "stream",
     "text": [
      "<class 'pandas.core.frame.DataFrame'>\n",
      "RangeIndex: 150480 entries, 0 to 150479\n",
      "Data columns (total 30 columns):\n",
      " #   Column        Non-Null Count   Dtype  \n",
      "---  ------        --------------   -----  \n",
      " 0   time          150480 non-null  object \n",
      " 1   JS_NH3        123955 non-null  float64\n",
      " 2   CS_NH3        123432 non-null  float64\n",
      " 3   JS_TN         123955 non-null  float64\n",
      " 4   CS_TN         123532 non-null  float64\n",
      " 5   JS_LL         130737 non-null  float64\n",
      " 6   CS_LL         130970 non-null  float64\n",
      " 7   MCCS_NH4      130974 non-null  float64\n",
      " 8   MCCS_NO3      130974 non-null  float64\n",
      " 9   JS_COD        123955 non-null  float64\n",
      " 10  CS_COD        130534 non-null  float64\n",
      " 11  JS_SW         122342 non-null  float64\n",
      " 12  CS_SW         122585 non-null  float64\n",
      " 13  B_HYC_NH4     130975 non-null  float64\n",
      " 14  B_HYC_XD      130975 non-null  float64\n",
      " 15  B_HYC_MLSS    130975 non-null  float64\n",
      " 16  B_HYC_JS_DO   130975 non-null  float64\n",
      " 17  B_HYC_DO      130975 non-null  float64\n",
      " 18  B_CS_MQ_SSLL  131595 non-null  float64\n",
      " 19  B_QY_ORP      130975 non-null  float64\n",
      " 20  N_HYC_NH4     130975 non-null  float64\n",
      " 21  N_HYC_XD      130975 non-null  float64\n",
      " 22  N_HYC_MLSS    130975 non-null  float64\n",
      " 23  N_HYC_JS_DO   130974 non-null  float64\n",
      " 24  N_HYC_DO      130975 non-null  float64\n",
      " 25  N_CS_MQ_SSLL  131595 non-null  float64\n",
      " 26  N_QY_ORP      130975 non-null  float64\n",
      " 27  Label1        35068 non-null   float64\n",
      " 28  Label2        35068 non-null   float64\n",
      " 29  istest        150480 non-null  int64  \n",
      "dtypes: float64(28), int64(1), object(1)\n",
      "memory usage: 34.4+ MB\n"
     ]
    }
   ],
   "source": [
    "data.info()"
   ]
  },
  {
   "cell_type": "markdown",
   "metadata": {},
   "source": [
    "## get time"
   ]
  },
  {
   "cell_type": "code",
   "execution_count": 5,
   "metadata": {},
   "outputs": [],
   "source": [
    "data['time'] = pd.to_datetime(data['time'])\n",
    "\n",
    "data['month'] = data['time'].dt.month\n",
    "data['minute'] = data['time'].dt.minute\n",
    "\n",
    "data['day'] = data['time'].dt.day\n",
    "data['hour'] = data['time'].dt.hour\n",
    "data['dayofweek'] = data['time'].dt.dayofweek\n",
    "\n",
    "data['minute10'] = (data['minute'] // 10) * 10\n",
    "\n",
    "data['hourl'] = data['day'] * 24 + data['hour']\n",
    "data['hourl'] = data['hourl'] - data['hourl'].min() # 将时转换成连续递增序列\n",
    "\n",
    "data['minute10l'] = data['hourl'] * 60 + data['minute10']\n",
    "data['minute10l'] = data['minute10l'] - data['minute10l'].min()  # 将分转换成连续递增序列\n",
    "data['ts'] = pd.to_datetime(data['time'], format='%Y/%m/%d %H:%M').dt.strftime(\"%Y%m%d%H%M\")\n",
    "\n",
    "data = data.sort_values(by='ts')"
   ]
  },
  {
   "cell_type": "code",
   "execution_count": 8,
   "metadata": {},
   "outputs": [
    {
     "data": {
      "text/plain": [
       "array(['time', 'JS_NH3', 'CS_NH3', 'JS_TN', 'CS_TN', 'JS_LL', 'CS_LL',\n",
       "       'MCCS_NH4', 'MCCS_NO3', 'JS_COD', 'CS_COD', 'JS_SW', 'CS_SW',\n",
       "       'B_HYC_NH4', 'B_HYC_XD', 'B_HYC_MLSS', 'B_HYC_JS_DO', 'B_HYC_DO',\n",
       "       'B_CS_MQ_SSLL', 'B_QY_ORP', 'N_HYC_NH4', 'N_HYC_XD', 'N_HYC_MLSS',\n",
       "       'N_HYC_JS_DO', 'N_HYC_DO', 'N_CS_MQ_SSLL', 'N_QY_ORP', 'Label1',\n",
       "       'Label2', 'istest', 'month', 'minute', 'day', 'hour', 'dayofweek',\n",
       "       'minute10', 'hourl', 'minute10l', 'ts'], dtype=object)"
      ]
     },
     "execution_count": 8,
     "metadata": {},
     "output_type": "execute_result"
    }
   ],
   "source": [
    "data.columns.values"
   ]
  },
  {
   "cell_type": "markdown",
   "metadata": {},
   "source": [
    "## Fillna"
   ]
  },
  {
   "cell_type": "code",
   "execution_count": 10,
   "metadata": {},
   "outputs": [
    {
     "name": "stderr",
     "output_type": "stream",
     "text": [
      "  8%|▊         | 2/26 [00:00<00:04,  5.26it/s]"
     ]
    }
   ],
   "source": [
    "for feat in tqdm(s_features+n_features+base_features):\n",
    "    data[feat] = data[feat].interpolate(method='spline', order=3) "
   ]
  },
  {
   "cell_type": "code",
   "execution_count": null,
   "metadata": {},
   "outputs": [],
   "source": [
    "data.to_pickle(r'./data/data_fillna.pickle')"
   ]
  },
  {
   "cell_type": "markdown",
   "metadata": {},
   "source": [
    "# load pre-preprocessing data"
   ]
  },
  {
   "cell_type": "code",
   "execution_count": null,
   "metadata": {},
   "outputs": [],
   "source": [
    "data = pd.read_pickle(r'./data/data_fillna.pickle')"
   ]
  },
  {
   "cell_type": "markdown",
   "metadata": {},
   "source": [
    "# Roll features"
   ]
  },
  {
   "cell_type": "code",
   "execution_count": null,
   "metadata": {},
   "outputs": [],
   "source": [
    "roll_cols = base_features + s_features + n_features\n",
    "\n",
    "for i in range(1,5):\n",
    "    data[[ii+f'_roll_{i}_mean_diff' for ii in roll_cols]] = data[roll_cols].rolling(i, min_periods=1).sum().diff()\n",
    "    \n",
    "data[[ii+'_roll_8_mean' for ii in roll_cols]] = data[roll_cols].rolling(8, min_periods=1).mean()\n",
    "data[[ii+'_roll_16_mean' for ii in roll_cols]] = data[roll_cols].rolling(16, min_periods=1).mean()\n",
    "\n",
    "data[[ii+'_roll_16_mean_diff' for ii in roll_cols]] = data[[ii+'_roll_16_mean' for ii in roll_cols]].diff()\n",
    "data[[ii+'_roll_8_mean_diff' for ii in roll_cols]] = data[[ii+'_roll_8_mean' for ii in roll_cols]].diff()\n",
    "\n",
    "data[[ii+'_roll_8_std' for ii in roll_cols]] = data[roll_cols].rolling(8, min_periods=1).std()"
   ]
  }
 ],
 "metadata": {
  "kernelspec": {
   "display_name": "Python 3.9.12 ('base')",
   "language": "python",
   "name": "python3"
  },
  "language_info": {
   "codemirror_mode": {
    "name": "ipython",
    "version": 3
   },
   "file_extension": ".py",
   "mimetype": "text/x-python",
   "name": "python",
   "nbconvert_exporter": "python",
   "pygments_lexer": "ipython3",
   "version": "3.9.12"
  },
  "orig_nbformat": 4,
  "vscode": {
   "interpreter": {
    "hash": "c2b388c6fce79e00fd9c43dd7c300c62775de93114fdc7222b9aeb8ab89a5a93"
   }
  }
 },
 "nbformat": 4,
 "nbformat_minor": 2
}
