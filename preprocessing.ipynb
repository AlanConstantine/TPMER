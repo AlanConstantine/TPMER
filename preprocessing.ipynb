{
 "cells": [
  {
   "cell_type": "code",
   "execution_count": 59,
   "metadata": {},
   "outputs": [],
   "source": [
    "import pandas as pd\n",
    "from tools import *\n",
    "from CONSTANT import *\n",
    "import os\n",
    "\n",
    "from tqdm import tqdm\n",
    "\n",
    "import matplotlib.pyplot as plt\n",
    "from sklearn.cluster import KMeans\n",
    "\n",
    "# pd.set_option(\"display.max_info_columns\", 1300)\n",
    "\n",
    "import gc\n",
    "\n",
    "%matplotlib inline"
   ]
  },
  {
   "cell_type": "markdown",
   "metadata": {},
   "source": [
    "# HKU956"
   ]
  },
  {
   "cell_type": "markdown",
   "metadata": {},
   "source": [
    "# threshold determining"
   ]
  },
  {
   "cell_type": "code",
   "execution_count": 60,
   "metadata": {},
   "outputs": [
    {
     "data": {
      "text/html": [
       "<div>\n",
       "<style scoped>\n",
       "    .dataframe tbody tr th:only-of-type {\n",
       "        vertical-align: middle;\n",
       "    }\n",
       "\n",
       "    .dataframe tbody tr th {\n",
       "        vertical-align: top;\n",
       "    }\n",
       "\n",
       "    .dataframe thead th {\n",
       "        text-align: right;\n",
       "    }\n",
       "</style>\n",
       "<table border=\"1\" class=\"dataframe\">\n",
       "  <thead>\n",
       "    <tr style=\"text-align: right;\">\n",
       "      <th></th>\n",
       "      <th>participant_id</th>\n",
       "      <th>song_no</th>\n",
       "      <th>song_id</th>\n",
       "      <th>valence_rating</th>\n",
       "      <th>valence</th>\n",
       "      <th>arousal_rating</th>\n",
       "      <th>arousal</th>\n",
       "    </tr>\n",
       "  </thead>\n",
       "  <tbody>\n",
       "    <tr>\n",
       "      <th>0</th>\n",
       "      <td>hku1919</td>\n",
       "      <td>16</td>\n",
       "      <td>370177</td>\n",
       "      <td>9.3</td>\n",
       "      <td>1</td>\n",
       "      <td>1.0</td>\n",
       "      <td>1</td>\n",
       "    </tr>\n",
       "    <tr>\n",
       "      <th>1</th>\n",
       "      <td>hku1919</td>\n",
       "      <td>8</td>\n",
       "      <td>1119687</td>\n",
       "      <td>9.8</td>\n",
       "      <td>1</td>\n",
       "      <td>-3.0</td>\n",
       "      <td>0</td>\n",
       "    </tr>\n",
       "    <tr>\n",
       "      <th>2</th>\n",
       "      <td>hku1919</td>\n",
       "      <td>18</td>\n",
       "      <td>77933</td>\n",
       "      <td>-0.1</td>\n",
       "      <td>0</td>\n",
       "      <td>1.9</td>\n",
       "      <td>1</td>\n",
       "    </tr>\n",
       "    <tr>\n",
       "      <th>3</th>\n",
       "      <td>hku1919</td>\n",
       "      <td>14</td>\n",
       "      <td>238585</td>\n",
       "      <td>1.0</td>\n",
       "      <td>1</td>\n",
       "      <td>-1.8</td>\n",
       "      <td>0</td>\n",
       "    </tr>\n",
       "    <tr>\n",
       "      <th>4</th>\n",
       "      <td>hku1919</td>\n",
       "      <td>20</td>\n",
       "      <td>1168711</td>\n",
       "      <td>0.2</td>\n",
       "      <td>1</td>\n",
       "      <td>-3.4</td>\n",
       "      <td>0</td>\n",
       "    </tr>\n",
       "  </tbody>\n",
       "</table>\n",
       "</div>"
      ],
      "text/plain": [
       "  participant_id  song_no  song_id  valence_rating  valence  arousal_rating  \\\n",
       "0        hku1919       16   370177             9.3        1             1.0   \n",
       "1        hku1919        8  1119687             9.8        1            -3.0   \n",
       "2        hku1919       18    77933            -0.1        0             1.9   \n",
       "3        hku1919       14   238585             1.0        1            -1.8   \n",
       "4        hku1919       20  1168711             0.2        1            -3.4   \n",
       "\n",
       "   arousal  \n",
       "0        1  \n",
       "1        0  \n",
       "2        1  \n",
       "3        0  \n",
       "4        0  "
      ]
     },
     "execution_count": 60,
     "metadata": {},
     "output_type": "execute_result"
    }
   ],
   "source": [
    "# color: https://zhuanlan.zhihu.com/p/457797561\n",
    "av_rating = pd.read_csv(r'./HKU956/3. AV_ratings_duration.csv')\n",
    "av_rating['valence'] = av_rating['valence'].apply(lambda x: 1 if x == 'positive' else 0)\n",
    "av_rating['arousal'] = av_rating['arousal'].apply(lambda x: 1 if x == 'positive' else 0)\n",
    "del av_rating['play_duration']\n",
    "av_rating.head()"
   ]
  },
  {
   "cell_type": "code",
   "execution_count": 61,
   "metadata": {},
   "outputs": [
    {
     "data": {
      "text/html": [
       "<div>\n",
       "<style scoped>\n",
       "    .dataframe tbody tr th:only-of-type {\n",
       "        vertical-align: middle;\n",
       "    }\n",
       "\n",
       "    .dataframe tbody tr th {\n",
       "        vertical-align: top;\n",
       "    }\n",
       "\n",
       "    .dataframe thead th {\n",
       "        text-align: right;\n",
       "    }\n",
       "</style>\n",
       "<table border=\"1\" class=\"dataframe\">\n",
       "  <thead>\n",
       "    <tr style=\"text-align: right;\">\n",
       "      <th></th>\n",
       "      <th>participant_id</th>\n",
       "      <th>song_no</th>\n",
       "      <th>song_id</th>\n",
       "      <th>valence_rating</th>\n",
       "      <th>valence</th>\n",
       "      <th>arousal_rating</th>\n",
       "      <th>arousal</th>\n",
       "    </tr>\n",
       "  </thead>\n",
       "  <tbody>\n",
       "  </tbody>\n",
       "</table>\n",
       "</div>"
      ],
      "text/plain": [
       "Empty DataFrame\n",
       "Columns: [participant_id, song_no, song_id, valence_rating, valence, arousal_rating, arousal]\n",
       "Index: []"
      ]
     },
     "execution_count": 61,
     "metadata": {},
     "output_type": "execute_result"
    }
   ],
   "source": [
    "av_rating[av_rating['valence_rating']==' ']"
   ]
  },
  {
   "cell_type": "code",
   "execution_count": 62,
   "metadata": {},
   "outputs": [],
   "source": [
    "# minmax_scale(av_rating['valence_rating'])"
   ]
  },
  {
   "cell_type": "markdown",
   "metadata": {},
   "source": [
    "## clutering before minmax"
   ]
  },
  {
   "cell_type": "code",
   "execution_count": 63,
   "metadata": {},
   "outputs": [
    {
     "data": {
      "text/plain": [
       "array([2.11622834, 1.1193303 ])"
      ]
     },
     "execution_count": 63,
     "metadata": {},
     "output_type": "execute_result"
    },
    {
     "data": {
      "image/png": "[encoded data removed]",
      "text/plain": [
       "<Figure size 640x480 with 1 Axes>"
      ]
     },
     "metadata": {},
     "output_type": "display_data"
    }
   ],
   "source": [
    "colors = [\"#8ECFC9\", \"#FF9C34\", \"#4E9A06\"]\n",
    "\n",
    "kmeans = KMeans(n_clusters=2, random_state=0).fit(av_rating[['valence_rating', 'arousal_rating']])\n",
    "plt.scatter(y=av_rating['arousal_rating'], x=av_rating['valence_rating'], \n",
    "            facecolors='none', edgecolors=['#8ECFC9' if i==0 else '#FFBE7A' for i in kmeans.labels_ ], s=4)\n",
    "plt.ylabel('arousal')\n",
    "plt.xlabel('valence')\n",
    "plt.plot(kmeans.cluster_centers_.T[0], kmeans.cluster_centers_.T[1], c='#FA7F6F', marker=\"o\", markersize=3)\n",
    "threshold = kmeans.cluster_centers_.sum(axis=0)/2\n",
    "plt.plot(threshold[0], threshold[1], c='red', marker=\"+\", markersize=20)\n",
    "kmeans.cluster_centers_.sum(axis=0)/2"
   ]
  },
  {
   "cell_type": "code",
   "execution_count": 64,
   "metadata": {},
   "outputs": [
    {
     "data": {
      "text/html": [
       "<div>\n",
       "<style scoped>\n",
       "    .dataframe tbody tr th:only-of-type {\n",
       "        vertical-align: middle;\n",
       "    }\n",
       "\n",
       "    .dataframe tbody tr th {\n",
       "        vertical-align: top;\n",
       "    }\n",
       "\n",
       "    .dataframe thead th {\n",
       "        text-align: right;\n",
       "    }\n",
       "</style>\n",
       "<table border=\"1\" class=\"dataframe\">\n",
       "  <thead>\n",
       "    <tr style=\"text-align: right;\">\n",
       "      <th></th>\n",
       "      <th>participant_id</th>\n",
       "      <th>song_no</th>\n",
       "      <th>song_id</th>\n",
       "      <th>valence_rating</th>\n",
       "      <th>valence</th>\n",
       "      <th>arousal_rating</th>\n",
       "      <th>arousal</th>\n",
       "      <th>valence_label</th>\n",
       "      <th>arousal_label</th>\n",
       "    </tr>\n",
       "  </thead>\n",
       "  <tbody>\n",
       "    <tr>\n",
       "      <th>0</th>\n",
       "      <td>hku1919</td>\n",
       "      <td>16</td>\n",
       "      <td>370177</td>\n",
       "      <td>9.3</td>\n",
       "      <td>1</td>\n",
       "      <td>1.0</td>\n",
       "      <td>1</td>\n",
       "      <td>1</td>\n",
       "      <td>0</td>\n",
       "    </tr>\n",
       "    <tr>\n",
       "      <th>1</th>\n",
       "      <td>hku1919</td>\n",
       "      <td>8</td>\n",
       "      <td>1119687</td>\n",
       "      <td>9.8</td>\n",
       "      <td>1</td>\n",
       "      <td>-3.0</td>\n",
       "      <td>0</td>\n",
       "      <td>1</td>\n",
       "      <td>0</td>\n",
       "    </tr>\n",
       "    <tr>\n",
       "      <th>2</th>\n",
       "      <td>hku1919</td>\n",
       "      <td>18</td>\n",
       "      <td>77933</td>\n",
       "      <td>-0.1</td>\n",
       "      <td>0</td>\n",
       "      <td>1.9</td>\n",
       "      <td>1</td>\n",
       "      <td>0</td>\n",
       "      <td>1</td>\n",
       "    </tr>\n",
       "    <tr>\n",
       "      <th>3</th>\n",
       "      <td>hku1919</td>\n",
       "      <td>14</td>\n",
       "      <td>238585</td>\n",
       "      <td>1.0</td>\n",
       "      <td>1</td>\n",
       "      <td>-1.8</td>\n",
       "      <td>0</td>\n",
       "      <td>0</td>\n",
       "      <td>0</td>\n",
       "    </tr>\n",
       "    <tr>\n",
       "      <th>4</th>\n",
       "      <td>hku1919</td>\n",
       "      <td>20</td>\n",
       "      <td>1168711</td>\n",
       "      <td>0.2</td>\n",
       "      <td>1</td>\n",
       "      <td>-3.4</td>\n",
       "      <td>0</td>\n",
       "      <td>0</td>\n",
       "      <td>0</td>\n",
       "    </tr>\n",
       "  </tbody>\n",
       "</table>\n",
       "</div>"
      ],
      "text/plain": [
       "  participant_id  song_no  song_id  valence_rating  valence  arousal_rating  \\\n",
       "0        hku1919       16   370177             9.3        1             1.0   \n",
       "1        hku1919        8  1119687             9.8        1            -3.0   \n",
       "2        hku1919       18    77933            -0.1        0             1.9   \n",
       "3        hku1919       14   238585             1.0        1            -1.8   \n",
       "4        hku1919       20  1168711             0.2        1            -3.4   \n",
       "\n",
       "   arousal  valence_label  arousal_label  \n",
       "0        1              1              0  \n",
       "1        0              1              0  \n",
       "2        1              0              1  \n",
       "3        0              0              0  \n",
       "4        0              0              0  "
      ]
     },
     "execution_count": 64,
     "metadata": {},
     "output_type": "execute_result"
    }
   ],
   "source": [
    "midpoint = kmeans.cluster_centers_.sum(axis=0)/2\n",
    "av_rating['valence_label'] = av_rating['valence_rating'].apply(lambda x: 1 if x>midpoint[0] else 0)\n",
    "av_rating['arousal_label'] = av_rating['arousal_rating'].apply(lambda x: 1 if x>midpoint[1] else 0)\n",
    "av_rating.head()"
   ]
  },
  {
   "cell_type": "code",
   "execution_count": 65,
   "metadata": {},
   "outputs": [
    {
     "data": {
      "text/plain": [
       "1    489\n",
       "0    467\n",
       "Name: valence_label, dtype: int64"
      ]
     },
     "execution_count": 65,
     "metadata": {},
     "output_type": "execute_result"
    }
   ],
   "source": [
    "av_rating['valence_label'].value_counts()"
   ]
  },
  {
   "cell_type": "code",
   "execution_count": 66,
   "metadata": {},
   "outputs": [
    {
     "data": {
      "text/plain": [
       "1    502\n",
       "0    454\n",
       "Name: arousal_label, dtype: int64"
      ]
     },
     "execution_count": 66,
     "metadata": {},
     "output_type": "execute_result"
    }
   ],
   "source": [
    "av_rating['arousal_label'].value_counts()"
   ]
  },
  {
   "cell_type": "markdown",
   "metadata": {},
   "source": [
    "# signal processing"
   ]
  },
  {
   "cell_type": "code",
   "execution_count": 67,
   "metadata": {},
   "outputs": [],
   "source": [
    "def signal_processer(user, signal_name, signal_files, output_fs=64, win_size=4, step=2):\n",
    "    all_signals = {}\n",
    "    tmp_signals = []\n",
    "    va_info_col = ['participant_id', 'song_no', 'song_id', 'valence_rating',\n",
    "                   'valence', 'arousal_rating', 'arousal', 'play_duration']\n",
    "    for file in signal_files:\n",
    "        try:\n",
    "            filename = os.path.split(file)[-1]\n",
    "            filename, file_extension = os.path.splitext(filename)\n",
    "            if file_extension != '.csv':\n",
    "                continue\n",
    "            # songno, songid = filename.split('_')\n",
    "            \n",
    "            signal = pd.read_csv(file, header=None).iloc[:,0].values\n",
    "\n",
    "            # bandpass or lowpass filtering & resampling\n",
    "            if signal_name == 'EDA':\n",
    "                signal = butter_lowpass_filter(signal, cutOff=CUTOFF['EDA'], fs=SAMPLERATE['EDA'])\n",
    "                signal = resample_by_interpolation(signal, input_fs=SAMPLERATE['EDA'], output_fs=output_fs)\n",
    "            elif signal_name in ['TEMP', 'BVP']:\n",
    "                signal = butter_bandpass_filter(signal, lowcut=CUTOFF[signal_name][0], highcut=CUTOFF[signal_name][1], fs=SAMPLERATE[signal_name])\n",
    "                signal = resample_by_interpolation(signal, input_fs=SAMPLERATE[signal_name], output_fs=output_fs)\n",
    "            elif signal_name == 'HR':\n",
    "                # signal = chauvenet_filter(signal)\n",
    "                # print(signal)\n",
    "                signal = resample_by_interpolation(signal, input_fs=SAMPLERATE[signal_name], output_fs=output_fs)\n",
    "            else: # IBI\n",
    "                continue\n",
    "\n",
    "            tmp_signals.extend(signal.tolist())\n",
    "            all_signals[filename] = signal\n",
    "            \n",
    "        except Exception as e:\n",
    "            print(e, file)\n",
    "            raise e\n",
    "        \n",
    "    signal_max = np.max(tmp_signals)\n",
    "    signal_min = np.min(tmp_signals)\n",
    "\n",
    "    del tmp_signals\n",
    "\n",
    "    signal_df = []\n",
    "\n",
    "    # normalization, segmentation, $ concatenation\n",
    "    for filename, signal in all_signals.items():\n",
    "        song_no, song_id = filename.split('_')\n",
    "        signal = (signal - signal_min) / (signal_max - signal_min)\n",
    "        signal = pd.Series(signal).interpolate().tolist()\n",
    "        \n",
    "        # segments = np.array(segment_generator(signal, win_size=win_size*100, step=step*100)[1:])\n",
    "        segments = np.array(segment_generator(signal, win_size=win_size*output_fs, step=step*output_fs))\n",
    "        seg_cols = ['{}_seg{}'.format(signal_name, i) for i in range(segments.shape[1])]\n",
    "        segment_df = pd.DataFrame(columns=seg_cols, data=segments)\n",
    "\n",
    "        segment_df['segment_id'] = segment_df.index.tolist()\n",
    "        segment_df['song_no'] = int(song_no)\n",
    "        segment_df['song_id'] = int(song_id)\n",
    "        segment_df['participant_id'] = user\n",
    "\n",
    "        # va_info = [av_rating[(av_rating['participant_id']==user) & (av_rating['song_no']==int(songno)) & (av_rating['song_id']==int(songid))].values.tolist()[0] for _ in range(len(segments))]\n",
    "        # tmp_va_info = pd.DataFrame(columns=va_info_col, data=va_info)\n",
    "        # segment_df = pd.concat([tmp_va_info, segment_df], axis=1)\n",
    "        \n",
    "        signal_df.append(segment_df)\n",
    "    \n",
    "    return pd.concat(signal_df)"
   ]
  },
  {
   "cell_type": "code",
   "execution_count": 68,
   "metadata": {},
   "outputs": [
    {
     "name": "stdout",
     "output_type": "stream",
     "text": [
      "BVP (6938, 772)\n",
      "EDA (6938, 772)\n",
      "HR (6938, 772)\n",
      "TEMP (6938, 772)\n"
     ]
    }
   ],
   "source": [
    "users = os.listdir(HKU_DIR)\n",
    "signal_dfs = {}\n",
    "\n",
    "# for signal_name in ['HR']:\n",
    "for signal_name in SIGNALS:\n",
    "    if signal_name == 'IBI':\n",
    "        continue\n",
    "    signals = []\n",
    "    for user in users:\n",
    "        signal_files = get_folder_files(os.path.join(HKU_DIR, user, signal_name))\n",
    "        signal_df = signal_processer(user, signal_name, signal_files, win_size=12, step=6)\n",
    "        signals.append(signal_df)\n",
    "        # break\n",
    "    signals = pd.concat(signals)\n",
    "    # signals.to_csv(os.path.join(PROCESSED_DIR, 'HKU956', '{}.csv'.format(signal_name)), index=False)\n",
    "    print(signal_name, signals.shape)\n",
    "    signal_dfs[signal_name] = signals"
   ]
  },
  {
   "cell_type": "code",
   "execution_count": 69,
   "metadata": {},
   "outputs": [
    {
     "name": "stdout",
     "output_type": "stream",
     "text": [
      "0 (6938, 3076)\n",
      "Mem. usage decreased to 40.92 Mb (74.9% reduction)\n",
      "Final (6938, 3076)\n"
     ]
    },
    {
     "data": {
      "text/plain": [
       "0"
      ]
     },
     "execution_count": 69,
     "metadata": {},
     "output_type": "execute_result"
    }
   ],
   "source": [
    "bvp_eda_df = signal_dfs['BVP'].merge(signal_dfs['EDA'], on=['segment_id', 'song_no', 'song_id', 'participant_id'], how='left')\n",
    "bvp_eda_hr_df = bvp_eda_df.merge(signal_dfs['HR'], on=['segment_id', 'song_no', 'song_id', 'participant_id'], how='left')\n",
    "del bvp_eda_df\n",
    "bvp_eda_hr_temp_df = bvp_eda_hr_df.merge(signal_dfs['TEMP'], on=['segment_id', 'song_no', 'song_id', 'participant_id'], how='left')\n",
    "del bvp_eda_hr_df\n",
    "print(bvp_eda_hr_temp_df.isnull().sum().sum(), bvp_eda_hr_temp_df.shape)\n",
    "bvp_eda_hr_temp_df = reduce_mem_usage(bvp_eda_hr_temp_df, un_process=['segment_id', 'song_no', 'song_id', 'participant_id'])\n",
    "gc.collect()"
   ]
  },
  {
   "cell_type": "code",
   "execution_count": 70,
   "metadata": {},
   "outputs": [
    {
     "name": "stdout",
     "output_type": "stream",
     "text": [
      "<class 'pandas.core.frame.DataFrame'>\n",
      "Int64Index: 6938 entries, 0 to 6937\n",
      "Columns: 3080 entries, BVP_seg0 to arousal_label\n",
      "dtypes: float16(3072), float64(2), int64(5), object(1)\n",
      "memory usage: 41.1+ MB\n",
      "None\n"
     ]
    },
    {
     "data": {
      "text/plain": [
       "0"
      ]
     },
     "execution_count": 70,
     "metadata": {},
     "output_type": "execute_result"
    }
   ],
   "source": [
    "all_signals_df = bvp_eda_hr_temp_df.merge(av_rating, on=['participant_id', 'song_no', 'song_id'])\n",
    "del all_signals_df['segment_id'], all_signals_df['song_no'], bvp_eda_hr_temp_df\n",
    "print(all_signals_df.info())\n",
    "gc.collect()"
   ]
  },
  {
   "cell_type": "code",
   "execution_count": 71,
   "metadata": {},
   "outputs": [
    {
     "data": {
      "text/plain": [
       "0"
      ]
     },
     "execution_count": 71,
     "metadata": {},
     "output_type": "execute_result"
    }
   ],
   "source": [
    "all_signals_df.isnull().sum().sum()"
   ]
  },
  {
   "cell_type": "code",
   "execution_count": 72,
   "metadata": {},
   "outputs": [
    {
     "data": {
      "text/html": [
       "<div>\n",
       "<style scoped>\n",
       "    .dataframe tbody tr th:only-of-type {\n",
       "        vertical-align: middle;\n",
       "    }\n",
       "\n",
       "    .dataframe tbody tr th {\n",
       "        vertical-align: top;\n",
       "    }\n",
       "\n",
       "    .dataframe thead th {\n",
       "        text-align: right;\n",
       "    }\n",
       "</style>\n",
       "<table border=\"1\" class=\"dataframe\">\n",
       "  <thead>\n",
       "    <tr style=\"text-align: right;\">\n",
       "      <th></th>\n",
       "      <th>BVP_seg0</th>\n",
       "      <th>BVP_seg1</th>\n",
       "      <th>BVP_seg2</th>\n",
       "      <th>BVP_seg3</th>\n",
       "      <th>BVP_seg4</th>\n",
       "      <th>BVP_seg5</th>\n",
       "      <th>BVP_seg6</th>\n",
       "      <th>BVP_seg7</th>\n",
       "      <th>BVP_seg8</th>\n",
       "      <th>BVP_seg9</th>\n",
       "      <th>...</th>\n",
       "      <th>TEMP_seg764</th>\n",
       "      <th>TEMP_seg765</th>\n",
       "      <th>TEMP_seg766</th>\n",
       "      <th>TEMP_seg767</th>\n",
       "      <th>valence_rating</th>\n",
       "      <th>valence</th>\n",
       "      <th>arousal_rating</th>\n",
       "      <th>arousal</th>\n",
       "      <th>valence_label</th>\n",
       "      <th>arousal_label</th>\n",
       "    </tr>\n",
       "  </thead>\n",
       "  <tbody>\n",
       "    <tr>\n",
       "      <th>count</th>\n",
       "      <td>6938.000000</td>\n",
       "      <td>6938.000000</td>\n",
       "      <td>6938.000000</td>\n",
       "      <td>6938.000000</td>\n",
       "      <td>6938.000000</td>\n",
       "      <td>6938.000000</td>\n",
       "      <td>6938.000000</td>\n",
       "      <td>6938.000000</td>\n",
       "      <td>6938.000000</td>\n",
       "      <td>6938.000000</td>\n",
       "      <td>...</td>\n",
       "      <td>6938.000000</td>\n",
       "      <td>6938.000000</td>\n",
       "      <td>6938.000000</td>\n",
       "      <td>6938.000000</td>\n",
       "      <td>6938.000000</td>\n",
       "      <td>6938.00000</td>\n",
       "      <td>6938.000000</td>\n",
       "      <td>6938.000000</td>\n",
       "      <td>6938.000000</td>\n",
       "      <td>6938.000000</td>\n",
       "    </tr>\n",
       "    <tr>\n",
       "      <th>mean</th>\n",
       "      <td>0.495605</td>\n",
       "      <td>0.495605</td>\n",
       "      <td>0.495605</td>\n",
       "      <td>0.495605</td>\n",
       "      <td>0.495361</td>\n",
       "      <td>0.495361</td>\n",
       "      <td>0.495117</td>\n",
       "      <td>0.495117</td>\n",
       "      <td>0.494873</td>\n",
       "      <td>0.494873</td>\n",
       "      <td>...</td>\n",
       "      <td>0.244629</td>\n",
       "      <td>0.244385</td>\n",
       "      <td>0.243896</td>\n",
       "      <td>0.243652</td>\n",
       "      <td>2.194595</td>\n",
       "      <td>0.69559</td>\n",
       "      <td>0.941049</td>\n",
       "      <td>0.592678</td>\n",
       "      <td>0.531998</td>\n",
       "      <td>0.516575</td>\n",
       "    </tr>\n",
       "    <tr>\n",
       "      <th>std</th>\n",
       "      <td>0.066589</td>\n",
       "      <td>0.066528</td>\n",
       "      <td>0.066406</td>\n",
       "      <td>0.066528</td>\n",
       "      <td>0.066833</td>\n",
       "      <td>0.066895</td>\n",
       "      <td>0.066467</td>\n",
       "      <td>0.065857</td>\n",
       "      <td>0.065674</td>\n",
       "      <td>0.066040</td>\n",
       "      <td>...</td>\n",
       "      <td>0.223022</td>\n",
       "      <td>0.222656</td>\n",
       "      <td>0.222168</td>\n",
       "      <td>0.221802</td>\n",
       "      <td>4.455812</td>\n",
       "      <td>0.46019</td>\n",
       "      <td>4.478336</td>\n",
       "      <td>0.491371</td>\n",
       "      <td>0.499011</td>\n",
       "      <td>0.499761</td>\n",
       "    </tr>\n",
       "    <tr>\n",
       "      <th>min</th>\n",
       "      <td>0.111023</td>\n",
       "      <td>0.091248</td>\n",
       "      <td>0.090088</td>\n",
       "      <td>0.097900</td>\n",
       "      <td>0.092285</td>\n",
       "      <td>0.093201</td>\n",
       "      <td>0.096985</td>\n",
       "      <td>0.098083</td>\n",
       "      <td>0.062988</td>\n",
       "      <td>0.029709</td>\n",
       "      <td>...</td>\n",
       "      <td>0.001614</td>\n",
       "      <td>0.001576</td>\n",
       "      <td>0.001539</td>\n",
       "      <td>0.001502</td>\n",
       "      <td>-9.500000</td>\n",
       "      <td>0.00000</td>\n",
       "      <td>-9.300000</td>\n",
       "      <td>0.000000</td>\n",
       "      <td>0.000000</td>\n",
       "      <td>0.000000</td>\n",
       "    </tr>\n",
       "    <tr>\n",
       "      <th>25%</th>\n",
       "      <td>0.459473</td>\n",
       "      <td>0.459473</td>\n",
       "      <td>0.459717</td>\n",
       "      <td>0.459961</td>\n",
       "      <td>0.459229</td>\n",
       "      <td>0.458740</td>\n",
       "      <td>0.458740</td>\n",
       "      <td>0.459473</td>\n",
       "      <td>0.459473</td>\n",
       "      <td>0.459473</td>\n",
       "      <td>...</td>\n",
       "      <td>0.040207</td>\n",
       "      <td>0.040108</td>\n",
       "      <td>0.039986</td>\n",
       "      <td>0.039856</td>\n",
       "      <td>-0.600000</td>\n",
       "      <td>0.00000</td>\n",
       "      <td>-2.200000</td>\n",
       "      <td>0.000000</td>\n",
       "      <td>0.000000</td>\n",
       "      <td>0.000000</td>\n",
       "    </tr>\n",
       "    <tr>\n",
       "      <th>50%</th>\n",
       "      <td>0.495117</td>\n",
       "      <td>0.495605</td>\n",
       "      <td>0.495361</td>\n",
       "      <td>0.495361</td>\n",
       "      <td>0.494873</td>\n",
       "      <td>0.494507</td>\n",
       "      <td>0.494141</td>\n",
       "      <td>0.494385</td>\n",
       "      <td>0.494873</td>\n",
       "      <td>0.494629</td>\n",
       "      <td>...</td>\n",
       "      <td>0.220764</td>\n",
       "      <td>0.220947</td>\n",
       "      <td>0.221069</td>\n",
       "      <td>0.221191</td>\n",
       "      <td>2.400000</td>\n",
       "      <td>1.00000</td>\n",
       "      <td>1.400000</td>\n",
       "      <td>1.000000</td>\n",
       "      <td>1.000000</td>\n",
       "      <td>1.000000</td>\n",
       "    </tr>\n",
       "    <tr>\n",
       "      <th>75%</th>\n",
       "      <td>0.532227</td>\n",
       "      <td>0.531738</td>\n",
       "      <td>0.531250</td>\n",
       "      <td>0.532227</td>\n",
       "      <td>0.532715</td>\n",
       "      <td>0.532715</td>\n",
       "      <td>0.532227</td>\n",
       "      <td>0.531250</td>\n",
       "      <td>0.529785</td>\n",
       "      <td>0.529785</td>\n",
       "      <td>...</td>\n",
       "      <td>0.423340</td>\n",
       "      <td>0.422852</td>\n",
       "      <td>0.422363</td>\n",
       "      <td>0.421875</td>\n",
       "      <td>5.900000</td>\n",
       "      <td>1.00000</td>\n",
       "      <td>4.300000</td>\n",
       "      <td>1.000000</td>\n",
       "      <td>1.000000</td>\n",
       "      <td>1.000000</td>\n",
       "    </tr>\n",
       "    <tr>\n",
       "      <th>max</th>\n",
       "      <td>0.971680</td>\n",
       "      <td>0.949219</td>\n",
       "      <td>0.982422</td>\n",
       "      <td>1.000000</td>\n",
       "      <td>0.999023</td>\n",
       "      <td>0.978027</td>\n",
       "      <td>0.963867</td>\n",
       "      <td>0.994141</td>\n",
       "      <td>1.000000</td>\n",
       "      <td>0.979004</td>\n",
       "      <td>...</td>\n",
       "      <td>0.686035</td>\n",
       "      <td>0.685059</td>\n",
       "      <td>0.683594</td>\n",
       "      <td>0.682129</td>\n",
       "      <td>9.900000</td>\n",
       "      <td>1.00000</td>\n",
       "      <td>9.800000</td>\n",
       "      <td>1.000000</td>\n",
       "      <td>1.000000</td>\n",
       "      <td>1.000000</td>\n",
       "    </tr>\n",
       "  </tbody>\n",
       "</table>\n",
       "<p>8 rows × 3079 columns</p>\n",
       "</div>"
      ],
      "text/plain": [
       "          BVP_seg0     BVP_seg1     BVP_seg2     BVP_seg3     BVP_seg4  \\\n",
       "count  6938.000000  6938.000000  6938.000000  6938.000000  6938.000000   \n",
       "mean      0.495605     0.495605     0.495605     0.495605     0.495361   \n",
       "std       0.066589     0.066528     0.066406     0.066528     0.066833   \n",
       "min       0.111023     0.091248     0.090088     0.097900     0.092285   \n",
       "25%       0.459473     0.459473     0.459717     0.459961     0.459229   \n",
       "50%       0.495117     0.495605     0.495361     0.495361     0.494873   \n",
       "75%       0.532227     0.531738     0.531250     0.532227     0.532715   \n",
       "max       0.971680     0.949219     0.982422     1.000000     0.999023   \n",
       "\n",
       "          BVP_seg5     BVP_seg6     BVP_seg7     BVP_seg8     BVP_seg9  ...  \\\n",
       "count  6938.000000  6938.000000  6938.000000  6938.000000  6938.000000  ...   \n",
       "mean      0.495361     0.495117     0.495117     0.494873     0.494873  ...   \n",
       "std       0.066895     0.066467     0.065857     0.065674     0.066040  ...   \n",
       "min       0.093201     0.096985     0.098083     0.062988     0.029709  ...   \n",
       "25%       0.458740     0.458740     0.459473     0.459473     0.459473  ...   \n",
       "50%       0.494507     0.494141     0.494385     0.494873     0.494629  ...   \n",
       "75%       0.532715     0.532227     0.531250     0.529785     0.529785  ...   \n",
       "max       0.978027     0.963867     0.994141     1.000000     0.979004  ...   \n",
       "\n",
       "       TEMP_seg764  TEMP_seg765  TEMP_seg766  TEMP_seg767  valence_rating  \\\n",
       "count  6938.000000  6938.000000  6938.000000  6938.000000     6938.000000   \n",
       "mean      0.244629     0.244385     0.243896     0.243652        2.194595   \n",
       "std       0.223022     0.222656     0.222168     0.221802        4.455812   \n",
       "min       0.001614     0.001576     0.001539     0.001502       -9.500000   \n",
       "25%       0.040207     0.040108     0.039986     0.039856       -0.600000   \n",
       "50%       0.220764     0.220947     0.221069     0.221191        2.400000   \n",
       "75%       0.423340     0.422852     0.422363     0.421875        5.900000   \n",
       "max       0.686035     0.685059     0.683594     0.682129        9.900000   \n",
       "\n",
       "          valence  arousal_rating      arousal  valence_label  arousal_label  \n",
       "count  6938.00000     6938.000000  6938.000000    6938.000000    6938.000000  \n",
       "mean      0.69559        0.941049     0.592678       0.531998       0.516575  \n",
       "std       0.46019        4.478336     0.491371       0.499011       0.499761  \n",
       "min       0.00000       -9.300000     0.000000       0.000000       0.000000  \n",
       "25%       0.00000       -2.200000     0.000000       0.000000       0.000000  \n",
       "50%       1.00000        1.400000     1.000000       1.000000       1.000000  \n",
       "75%       1.00000        4.300000     1.000000       1.000000       1.000000  \n",
       "max       1.00000        9.800000     1.000000       1.000000       1.000000  \n",
       "\n",
       "[8 rows x 3079 columns]"
      ]
     },
     "execution_count": 72,
     "metadata": {},
     "output_type": "execute_result"
    }
   ],
   "source": [
    "all_signals_df.describe()"
   ]
  },
  {
   "cell_type": "code",
   "execution_count": 73,
   "metadata": {},
   "outputs": [],
   "source": [
    "# all_signals_df.to_csv(r'./processed_signal/HKU956/400_4s_step_2s.csv', index=False)\n",
    "# all_signals_df.to_pickle(r'./processed_signal/HKU956/400_4s_step_2s.pkl')\n",
    "all_signals_df.to_pickle(r'./processed_signal/HKU956/772_12s_step_6s.pkl')\n"
   ]
  },
  {
   "cell_type": "code",
   "execution_count": 74,
   "metadata": {},
   "outputs": [
    {
     "data": {
      "text/plain": [
       "1    3691\n",
       "0    3247\n",
       "Name: valence_label, dtype: int64"
      ]
     },
     "execution_count": 74,
     "metadata": {},
     "output_type": "execute_result"
    }
   ],
   "source": [
    "all_signals_df['valence_label'].value_counts()"
   ]
  },
  {
   "cell_type": "code",
   "execution_count": 75,
   "metadata": {},
   "outputs": [
    {
     "data": {
      "text/plain": [
       "1    3584\n",
       "0    3354\n",
       "Name: arousal_label, dtype: int64"
      ]
     },
     "execution_count": 75,
     "metadata": {},
     "output_type": "execute_result"
    }
   ],
   "source": [
    "all_signals_df['arousal_label'].value_counts()"
   ]
  },
  {
   "cell_type": "markdown",
   "metadata": {},
   "source": [
    "# generating train_test spliter"
   ]
  },
  {
   "cell_type": "code",
   "execution_count": 9,
   "metadata": {},
   "outputs": [],
   "source": [
    "from sklearn.model_selection import StratifiedKFold\n",
    "from sklearn.model_selection import StratifiedGroupKFold"
   ]
  },
  {
   "cell_type": "code",
   "execution_count": 42,
   "metadata": {},
   "outputs": [],
   "source": [
    "# all_signals_df = pd.read_pickle(r'./processed_signal/HKU956/400_4s_step_2s.pkl')"
   ]
  },
  {
   "cell_type": "code",
   "execution_count": 76,
   "metadata": {},
   "outputs": [],
   "source": [
    "feature_cols = [fea for fea in all_signals_df.columns.values if fea.split('_')[0] in SIGNALS]\n",
    "target_cols = ['valence', 'arousal', 'arousal_rating', 'valence_rating', 'arousal_label', 'valence_label']\n",
    "group_cols = ['participant_id', 'song_id']\n",
    "\n",
    "spliter = {'cv': [], 'loso': [], 'loao': []}"
   ]
  },
  {
   "cell_type": "code",
   "execution_count": 77,
   "metadata": {},
   "outputs": [],
   "source": [
    "skf = StratifiedKFold(n_splits=5, shuffle=True, random_state=31)\n",
    "for train_index, test_index in skf.split(all_signals_df[feature_cols], all_signals_df['valence_label']):\n",
    "    spliter['cv'].append({'train_index': train_index, 'test_index': test_index})\n",
    "\n",
    "loso_skgf = StratifiedGroupKFold(n_splits=5, shuffle=True, random_state=31)\n",
    "for train_index, test_index in loso_skgf.split(all_signals_df[feature_cols], all_signals_df['valence_label'], groups=all_signals_df['participant_id']):\n",
    "    spliter['loso'].append({'train_index': train_index, 'test_index': test_index})\n",
    "\n",
    "loao_skgf = StratifiedGroupKFold(n_splits=5, shuffle=True, random_state=31)\n",
    "for train_index, test_index in loao_skgf.split(all_signals_df[feature_cols], all_signals_df['valence_label'], groups=all_signals_df['song_id']):\n",
    "    spliter['loao'].append({'train_index': train_index, 'test_index': test_index})"
   ]
  },
  {
   "cell_type": "code",
   "execution_count": 78,
   "metadata": {},
   "outputs": [
    {
     "name": "stdout",
     "output_type": "stream",
     "text": [
      "./processed_signal/HKU956/772_12s_step_6s_spliter5.pkl saved done!\n"
     ]
    }
   ],
   "source": [
    "save_model(r'./processed_signal/HKU956/772_12s_step_6s_spliter5.pkl', spliter)"
   ]
  },
  {
   "cell_type": "code",
   "execution_count": 79,
   "metadata": {},
   "outputs": [
    {
     "name": "stdout",
     "output_type": "stream",
     "text": [
      "5552 1386\n",
      "5276 1662\n",
      "5550 1388\n"
     ]
    }
   ],
   "source": [
    "# spliter = load_model(r'./processed_signal/HKU956/last15_400_4s_step_2s_spliter10.pkl')\n",
    "print(len(spliter['loso'][0]['train_index']), len(spliter['loso'][0]['test_index']))\n",
    "print(len(spliter['loao'][0]['train_index']), len(spliter['loao'][0]['test_index']))\n",
    "print(len(spliter['cv'][0]['train_index']), len(spliter['cv'][0]['test_index']))"
   ]
  },
  {
   "cell_type": "code",
   "execution_count": 80,
   "metadata": {},
   "outputs": [
    {
     "name": "stdout",
     "output_type": "stream",
     "text": [
      "5552 1386\n",
      "5276 1662\n",
      "5550 1388\n"
     ]
    }
   ],
   "source": [
    "# spliter = load_model(r'./processed_signal/HKU956/last15_400_4s_step_2s_spliter10.pkl')\n",
    "print(len(spliter['loso'][0]['train_index']), len(spliter['loso'][0]['test_index']))\n",
    "print(len(spliter['loao'][0]['train_index']), len(spliter['loao'][0]['test_index']))\n",
    "print(len(spliter['cv'][0]['train_index']), len(spliter['cv'][0]['test_index']))"
   ]
  },
  {
   "cell_type": "markdown",
   "metadata": {},
   "source": [
    "# data generator"
   ]
  },
  {
   "cell_type": "code",
   "execution_count": 25,
   "metadata": {},
   "outputs": [],
   "source": [
    "def join_signals(df, target='valence'):\n",
    "    bvp_cols = [fea for fea in all_signals_df.columns.values if fea.split('_')[0] in ['BVP']]\n",
    "    eda_cols = [fea for fea in all_signals_df.columns.values if fea.split('_')[0] in ['EDA']]\n",
    "    temp_cols = [fea for fea in all_signals_df.columns.values if fea.split('_')[0] in ['TEMP']]\n",
    "    hr_cols = [fea for fea in all_signals_df.columns.values if fea.split('_')[0] in ['HR']]\n",
    "\n",
    "    target_cols = ['valence', 'arousal', 'arousal_rating', 'valence_rating']\n",
    "    group_cols = ['participant_id', 'song_id']\n",
    "\n",
    "    signal_concats = []\n",
    "    for bvp, eda, temp, hr in zip(df[bvp_cols].values, df[eda_cols].values, df[temp_cols].values, df[hr_cols].values):\n",
    "        signal_concats.append([bvp, eda, temp, hr])\n",
    "\n",
    "    return np.array(signal_concats), df[target].values"
   ]
  },
  {
   "cell_type": "code",
   "execution_count": 162,
   "metadata": {},
   "outputs": [],
   "source": [
    "train_index = spliter['loso'][0]['train_index']\n",
    "test_index = spliter['loso'][0]['test_index']\n",
    "\n",
    "target_col = 'valence'\n",
    "\n",
    "df = pd.read_pickle(r'./processed_signal/HKU956/400_4s_step_2s.pkl')\n",
    "# train_df = df.iloc[train_index]\n",
    "# test_df = df.iloc[test_index]\n",
    "X, y = join_signals(df, target='valence')"
   ]
  },
  {
   "cell_type": "code",
   "execution_count": 165,
   "metadata": {},
   "outputs": [
    {
     "data": {
      "text/plain": [
       "((18089, 4, 400), (18089,), (4638, 4, 400), (4638,))"
      ]
     },
     "execution_count": 165,
     "metadata": {},
     "output_type": "execute_result"
    }
   ],
   "source": [
    "train_X, train_y, test_X, test_y = X[train_index], y[train_index], X[test_index], y[test_index]\n",
    "train_X.shape, train_y.shape, test_X.shape, test_y.shape"
   ]
  },
  {
   "cell_type": "code",
   "execution_count": 15,
   "metadata": {},
   "outputs": [],
   "source": [
    "df = pd.read_pickle(r'./processed_signal/HKU956/400_4s_step_2s.pkl')"
   ]
  },
  {
   "cell_type": "code",
   "execution_count": 57,
   "metadata": {},
   "outputs": [],
   "source": [
    "hr_signal = pd.read_csv(r'./HKU956/1. physiological_signals/hku1903/TEMP/0_262957.csv', header=None)"
   ]
  },
  {
   "cell_type": "code",
   "execution_count": 58,
   "metadata": {},
   "outputs": [
    {
     "data": {
      "text/plain": [
       "[<matplotlib.lines.Line2D at 0x1e1bb7604c0>]"
      ]
     },
     "execution_count": 58,
     "metadata": {},
     "output_type": "execute_result"
    },
    {
     "data": {
      "image/png": "[encoded data removed]",
      "text/plain": [
       "<Figure size 640x480 with 1 Axes>"
      ]
     },
     "metadata": {},
     "output_type": "display_data"
    }
   ],
   "source": [
    "plt.plot([i for i in range(len(hr_signal))], hr_signal)"
   ]
  },
  {
   "cell_type": "markdown",
   "metadata": {},
   "source": [
    "# KEmoCon"
   ]
  },
  {
   "cell_type": "code",
   "execution_count": null,
   "metadata": {},
   "outputs": [],
   "source": [
    "# The last 6 digits are multiperspective emotion annotations associated with the segment, in the order of 1) self-arousal, 2) self-valence, 3) partner-arousal, 4) partner-valence, 5) external-arousal, and 6) external-valence."
   ]
  },
  {
   "cell_type": "code",
   "execution_count": 88,
   "metadata": {},
   "outputs": [],
   "source": [
    "# bandpass or lowpass filtering & resampling\n",
    "def ke_signal_processing(file, signal_content, all_signals, tmp_signals, output_fs=100):\n",
    "    all_signals[file.replace('.json', '')] = {}\n",
    "    for signal_name, signal in signal_content.items():\n",
    "        signal_name = signal_name.upper()\n",
    "        try:\n",
    "            # bandpass or lowpass filtering & resampling\n",
    "            if signal_name == 'EDA':\n",
    "                signal = butter_lowpass_filter(signal, cutOff=CUTOFF['EDA'], fs=SAMPLERATE['EDA'])\n",
    "                signal = resample_by_interpolation(signal, input_fs=SAMPLERATE['EDA'], output_fs=output_fs)\n",
    "            elif signal_name in ['TEMP', 'BVP']:\n",
    "                signal = butter_bandpass_filter(signal, lowcut=CUTOFF[signal_name][0], highcut=CUTOFF[signal_name][1], fs=SAMPLERATE[signal_name])\n",
    "                signal = resample_by_interpolation(signal, input_fs=SAMPLERATE[signal_name], output_fs=output_fs)\n",
    "            elif signal_name == 'HR':\n",
    "                # signal = chauvenet_filter(signal)\n",
    "                # print(signal)\n",
    "                signal = resample_by_interpolation(signal, input_fs=SAMPLERATE[signal_name], output_fs=output_fs)\n",
    "            else: # IBI\n",
    "                continue\n",
    "\n",
    "            tmp_signals[signal_name].extend(signal.tolist())\n",
    "            all_signals[file.replace('.json', '')][signal_name] = signal\n",
    "            \n",
    "        except Exception as e:\n",
    "            print(e, file)\n",
    "            raise e\n",
    "    \n",
    "    return tmp_signals, all_signals"
   ]
  },
  {
   "cell_type": "code",
   "execution_count": 44,
   "metadata": {},
   "outputs": [
    {
     "name": "stderr",
     "output_type": "stream",
     "text": [
      "100%|██████████| 26/26 [01:52<00:00,  4.34s/it]\n"
     ]
    }
   ],
   "source": [
    "error_signal = []\n",
    "participant_ids = [1, 4, 5, 8, 9, 10, 11, 12, 13, 14, 15, 16, 18, 19, 21, 22, 23, 24, 25, 26, 27, 28, 29, 30, 31, 32]\n",
    "signal_df = []\n",
    "for id_ in tqdm(participant_ids):\n",
    "    all_signals = {}\n",
    "    signal_max, signal_min = 0, 0\n",
    "    tmp_signals = {signal_type: [] for signal_type in ['BVP', 'EDA', 'HR', 'TEMP']}\n",
    "    for root, dir_, files in os.walk(os.path.join(KEC_DIR, str(id_))):\n",
    "        for file in files:\n",
    "            raw_signals = load_json(os.path.join(root, file))\n",
    "            filename = (file.replace('.json', '').split('-'))[-1]\n",
    "            mp_signals, all_signals = ke_signal_processing(file, raw_signals, all_signals, tmp_signals)\n",
    "            valence = int(filename[0])\n",
    "            arousal = int(filename[1])\n",
    "\n",
    "    for signal_type in ['BVP', 'EDA', 'HR', 'TEMP']:\n",
    "        tmp_signals_type = tmp_signals[signal_type]    \n",
    "        tmp_signals[signal_type] = [np.max(tmp_signals_type), np.min(tmp_signals_type)]\n",
    "\n",
    "\n",
    "    user_signals = []\n",
    "    for file, signal_content in all_signals.items():\n",
    "        file_signal = []\n",
    "        if len(list(signal_content.keys())) != 4:\n",
    "            continue\n",
    "        for signal_type in ['BVP', 'EDA', 'HR', 'TEMP']:\n",
    "            signal = signal_content[signal_type]\n",
    "            signal = (signal - tmp_signals[signal_type][1]) / (tmp_signals[signal_type][0] - tmp_signals[signal_type][1])\n",
    "            signal = pd.Series(signal).interpolate().tolist()\n",
    "            if len(signal) != 500:\n",
    "            # if len(signal) != 500:\n",
    "                error_signal.append({file: [signal_type, signal]})\n",
    "                continue\n",
    "            signal = signal[100:]\n",
    "            seg_cols = ['{}_seg{}'.format(signal_type, i) for i in range(len(signal))]\n",
    "            seg_df = pd.DataFrame(data=[signal], columns=seg_cols)\n",
    "            file_signal.append(seg_df)\n",
    "        if len(file_signal) == 0:\n",
    "            continue\n",
    "        file_signal = pd.concat(file_signal, axis=1)\n",
    "        file_signal['file'] = file\n",
    "        user_signals.append(file_signal)\n",
    "    if len(user_signals) == 0:\n",
    "        continue\n",
    "    user_signals = pd.concat(user_signals)\n",
    "    signal_df.append(user_signals)\n",
    "\n",
    "signal_df = pd.concat(signal_df)"
   ]
  },
  {
   "cell_type": "code",
   "execution_count": 45,
   "metadata": {},
   "outputs": [
    {
     "data": {
      "text/plain": [
       "(3445, 1601)"
      ]
     },
     "execution_count": 45,
     "metadata": {},
     "output_type": "execute_result"
    }
   ],
   "source": [
    "e_signal_df = []\n",
    "file_signal = {}\n",
    "for row in error_signal:\n",
    "    file = list(row.keys())[0]\n",
    "    if file not in file_signal:\n",
    "        file_signal[file] = {}\n",
    "    file_signal[file][row[file][0]] = row[file][1]\n",
    "\n",
    "for file, signal_content in file_signal.items():\n",
    "    file_signal = []\n",
    "    for signal_type in ['BVP', 'EDA', 'HR', 'TEMP']:\n",
    "        signal = np.array(signal_content[signal_type])\n",
    "        signal = signal.reshape(2, -1)[:, 100:]\n",
    "        seg_cols = ['{}_seg{}'.format(signal_type, i) for i in range(len(signal[0]))]\n",
    "        seg_df = pd.DataFrame(data=signal, columns=seg_cols)\n",
    "        file_signal.append(seg_df)\n",
    "    file_signal = pd.concat(file_signal, axis=1)\n",
    "    file_signal['file'] = file\n",
    "    e_signal_df.append(file_signal)\n",
    "\n",
    "e_signal_df = pd.concat(e_signal_df)\n",
    "\n",
    "all_signals_df = pd.concat([signal_df, e_signal_df])\n",
    "\n",
    "all_signals_df.shape"
   ]
  },
  {
   "cell_type": "code",
   "execution_count": 46,
   "metadata": {},
   "outputs": [],
   "source": [
    "# 'valence', 'arousal', 'arousal_label', 'valence_label'\n",
    "all_signals_df['participant_id'] = all_signals_df['file'].apply(lambda x: str(x).split('-')[0])\n",
    "all_signals_df['valence'] = all_signals_df['file'].apply(lambda x: int(str(x).split('-')[2][1]))\n",
    "all_signals_df['arousal'] = all_signals_df['file'].apply(lambda x: int(str(x).split('-')[2][0]))"
   ]
  },
  {
   "cell_type": "code",
   "execution_count": 47,
   "metadata": {},
   "outputs": [
    {
     "data": {
      "text/plain": [
       "3    2011\n",
       "4     761\n",
       "2     520\n",
       "5      84\n",
       "1      69\n",
       "Name: valence, dtype: int64"
      ]
     },
     "execution_count": 47,
     "metadata": {},
     "output_type": "execute_result"
    }
   ],
   "source": [
    "all_signals_df['valence'].value_counts()"
   ]
  },
  {
   "cell_type": "code",
   "execution_count": 48,
   "metadata": {},
   "outputs": [
    {
     "data": {
      "text/plain": [
       "3    1349\n",
       "2     956\n",
       "4     715\n",
       "5     320\n",
       "1     105\n",
       "Name: arousal, dtype: int64"
      ]
     },
     "execution_count": 48,
     "metadata": {},
     "output_type": "execute_result"
    }
   ],
   "source": [
    "all_signals_df['arousal'].value_counts()"
   ]
  },
  {
   "cell_type": "code",
   "execution_count": 49,
   "metadata": {},
   "outputs": [
    {
     "data": {
      "text/plain": [
       "array([3.10528494, 3.41268066])"
      ]
     },
     "execution_count": 49,
     "metadata": {},
     "output_type": "execute_result"
    },
    {
     "data": {
      "image/png": "[encoded data removed]",
      "text/plain": [
       "<Figure size 640x480 with 1 Axes>"
      ]
     },
     "metadata": {},
     "output_type": "display_data"
    }
   ],
   "source": [
    "colors = [\"#4EACC5\", \"#FF9C34\", \"#4E9A06\"]\n",
    "\n",
    "kmeans = KMeans(n_clusters=2, random_state=0).fit(all_signals_df[['valence', 'arousal']])\n",
    "plt.scatter(y=all_signals_df['arousal'], x=all_signals_df['valence'], \n",
    "            facecolors='none', edgecolors=['#4EACC5' if i==0 else '#FF9C34' for i in kmeans.labels_ ], s=4)\n",
    "plt.ylabel('arousal')\n",
    "plt.xlabel('valence')\n",
    "plt.plot(kmeans.cluster_centers_.T[0], kmeans.cluster_centers_.T[1], c='red', marker=\"o\", markersize=5)\n",
    "threshold = kmeans.cluster_centers_.sum(axis=0)/2\n",
    "plt.plot(threshold[0], threshold[1], c='red', marker=\"X\", markersize=10)\n",
    "kmeans.cluster_centers_.sum(axis=0)/2"
   ]
  },
  {
   "cell_type": "code",
   "execution_count": 50,
   "metadata": {},
   "outputs": [],
   "source": [
    "all_signals_df['valence_label'] = all_signals_df['valence'].apply(lambda x: 1 if x > threshold[0] else 0)\n",
    "all_signals_df['arousal_label'] = all_signals_df['arousal'].apply(lambda x: 1 if x > threshold[1] else 0)"
   ]
  },
  {
   "cell_type": "code",
   "execution_count": 54,
   "metadata": {},
   "outputs": [
    {
     "data": {
      "text/plain": [
       "0    2600\n",
       "1     845\n",
       "Name: valence_label, dtype: int64"
      ]
     },
     "execution_count": 54,
     "metadata": {},
     "output_type": "execute_result"
    }
   ],
   "source": [
    "all_signals_df['valence_label'].value_counts()"
   ]
  },
  {
   "cell_type": "code",
   "execution_count": 55,
   "metadata": {},
   "outputs": [
    {
     "data": {
      "text/plain": [
       "0    2410\n",
       "1    1035\n",
       "Name: arousal_label, dtype: int64"
      ]
     },
     "execution_count": 55,
     "metadata": {},
     "output_type": "execute_result"
    }
   ],
   "source": [
    "all_signals_df['arousal_label'].value_counts()"
   ]
  },
  {
   "cell_type": "code",
   "execution_count": 53,
   "metadata": {},
   "outputs": [
    {
     "name": "stdout",
     "output_type": "stream",
     "text": [
      "Mem. usage decreased to 10.61 Mb (74.9% reduction)\n",
      "Final (3445, 1606)\n"
     ]
    }
   ],
   "source": [
    "all_signals_df = reduce_mem_usage(all_signals_df, un_process=['file', 'participant_id'])\n",
    "all_signals_df.to_pickle(r'./processed_signal/KEmoCon/KEC_400.pkl')"
   ]
  },
  {
   "cell_type": "code",
   "execution_count": 18,
   "metadata": {},
   "outputs": [],
   "source": [
    "all_signals_df = pd.read_pickle(r'./processed_signal/KEmoCon/KEC_400.pkl')"
   ]
  },
  {
   "cell_type": "code",
   "execution_count": 25,
   "metadata": {},
   "outputs": [],
   "source": [
    "feature_cols = [fea for fea in all_signals_df.columns.values if fea.split('_')[0] in SIGNALS]\n",
    "target_cols = ['valence', 'arousal', 'arousal_label', 'valence_label']\n",
    "group_cols = ['participant_id']\n",
    "spliter = {'cv': [], 'loso': []}\n",
    "\n",
    "skf = StratifiedKFold(n_splits=10, shuffle=True, random_state=31)\n",
    "for train_index, test_index in skf.split(all_signals_df[feature_cols], all_signals_df['valence_label']):\n",
    "    spliter['cv'].append({'train_index': train_index, 'test_index': test_index})\n",
    "\n",
    "loso_skgf = StratifiedGroupKFold(n_splits=10, shuffle=True, random_state=31)\n",
    "for train_index, test_index in loso_skgf.split(all_signals_df[feature_cols], all_signals_df['valence_label'], groups=all_signals_df['participant_id']):\n",
    "    spliter['loso'].append({'train_index': train_index, 'test_index': test_index})"
   ]
  },
  {
   "cell_type": "code",
   "execution_count": 26,
   "metadata": {},
   "outputs": [
    {
     "name": "stdout",
     "output_type": "stream",
     "text": [
      "3203 242\n"
     ]
    }
   ],
   "source": [
    "print(len(spliter['loso'][0]['train_index']), len(spliter['loso'][0]['test_index']))"
   ]
  },
  {
   "cell_type": "code",
   "execution_count": 27,
   "metadata": {},
   "outputs": [
    {
     "name": "stdout",
     "output_type": "stream",
     "text": [
      "./processed_signal/KEmoCon/KEC_400_spliter10.pkl saved done!\n"
     ]
    }
   ],
   "source": [
    "save_model(r'./processed_signal/KEmoCon/KEC_400_spliter10.pkl', spliter)"
   ]
  },
  {
   "cell_type": "code",
   "execution_count": 59,
   "metadata": {},
   "outputs": [
    {
     "data": {
      "text/plain": [
       "0"
      ]
     },
     "execution_count": 59,
     "metadata": {},
     "output_type": "execute_result"
    }
   ],
   "source": [
    "all_signals_df.isnull().sum().sum()"
   ]
  },
  {
   "cell_type": "code",
   "execution_count": 60,
   "metadata": {},
   "outputs": [
    {
     "data": {
      "text/plain": [
       "(3445, 1606)"
      ]
     },
     "execution_count": 60,
     "metadata": {},
     "output_type": "execute_result"
    }
   ],
   "source": [
    "all_signals_df.shape"
   ]
  },
  {
   "cell_type": "code",
   "execution_count": 61,
   "metadata": {},
   "outputs": [
    {
     "data": {
      "text/plain": [
       "['file',\n",
       " 'participant_id',\n",
       " 'valence',\n",
       " 'arousal',\n",
       " 'valence_label',\n",
       " 'arousal_label']"
      ]
     },
     "execution_count": 61,
     "metadata": {},
     "output_type": "execute_result"
    }
   ],
   "source": [
    "[fea for fea in all_signals_df.columns.tolist() if 'BVP' not in fea and 'EDA' not in fea and 'HR' not in fea and 'TEMP' not in fea]"
   ]
  },
  {
   "attachments": {},
   "cell_type": "markdown",
   "metadata": {},
   "source": [
    "# resample"
   ]
  },
  {
   "cell_type": "code",
   "execution_count": 33,
   "metadata": {},
   "outputs": [],
   "source": [
    "import imblearn\n",
    "from imblearn.under_sampling import RandomUnderSampler"
   ]
  },
  {
   "cell_type": "code",
   "execution_count": 34,
   "metadata": {},
   "outputs": [],
   "source": [
    "def get_spliter(all_signals_df):\n",
    "\n",
    "    feature_cols = [fea for fea in all_signals_df.columns.values if fea.split('_')[0] in SIGNALS]\n",
    "    target_cols = ['valence', 'arousal', 'arousal_rating', 'valence_rating', 'arousal_label', 'valence_label']\n",
    "    group_cols = ['participant_id', 'song_id']\n",
    "\n",
    "    spliter = {'cv': [], 'loso': [], 'loao': []}\n",
    "\n",
    "    skf = StratifiedKFold(n_splits=10, shuffle=True, random_state=31)\n",
    "    for train_index, test_index in skf.split(all_signals_df[feature_cols], all_signals_df['valence']):\n",
    "        spliter['cv'].append({'train_index': train_index, 'test_index': test_index})\n",
    "\n",
    "    loso_skgf = StratifiedGroupKFold(n_splits=10, shuffle=True, random_state=31)\n",
    "    for train_index, test_index in loso_skgf.split(all_signals_df[feature_cols], all_signals_df['valence'], groups=all_signals_df['participant_id']):\n",
    "        spliter['loso'].append({'train_index': train_index, 'test_index': test_index})\n",
    "\n",
    "    loao_skgf = StratifiedGroupKFold(n_splits=10, shuffle=True, random_state=31)\n",
    "    for train_index, test_index in loao_skgf.split(all_signals_df[feature_cols], all_signals_df['valence'], groups=all_signals_df['song_id']):\n",
    "        spliter['loao'].append({'train_index': train_index, 'test_index': test_index})\n",
    "    return spliter"
   ]
  },
  {
   "cell_type": "code",
   "execution_count": 35,
   "metadata": {},
   "outputs": [
    {
     "data": {
      "text/plain": [
       "(13381, 1608)"
      ]
     },
     "execution_count": 35,
     "metadata": {},
     "output_type": "execute_result"
    }
   ],
   "source": [
    "all_signals_df = pd.read_pickle(r'./processed_signal/HKU956/last30_400_4s_step_2s.pkl')\n",
    "\n",
    "all_signals_df.shape"
   ]
  },
  {
   "cell_type": "code",
   "execution_count": 81,
   "metadata": {},
   "outputs": [],
   "source": [
    "import matplotlib.pyplot as plt"
   ]
  },
  {
   "cell_type": "code",
   "execution_count": 87,
   "metadata": {},
   "outputs": [
    {
     "data": {
      "text/plain": [
       "[<matplotlib.lines.Line2D at 0x1e1863ae310>]"
      ]
     },
     "execution_count": 87,
     "metadata": {},
     "output_type": "execute_result"
    },
    {
     "data": {
      "image/png": "[encoded data removed]",
      "text/plain": [
       "<Figure size 640x480 with 1 Axes>"
      ]
     },
     "metadata": {},
     "output_type": "display_data"
    }
   ],
   "source": [
    "plt.plot([i for i in range(768)], all_signals_df[[fea for fea in all_signals_df.columns if 'BVP' in fea]].iloc[0])"
   ]
  },
  {
   "cell_type": "code",
   "execution_count": 22,
   "metadata": {},
   "outputs": [
    {
     "data": {
      "text/plain": [
       "1    9055\n",
       "0    4326\n",
       "Name: valence, dtype: int64"
      ]
     },
     "execution_count": 22,
     "metadata": {},
     "output_type": "execute_result"
    }
   ],
   "source": [
    "all_signals_df['valence'].value_counts()"
   ]
  },
  {
   "cell_type": "code",
   "execution_count": 24,
   "metadata": {},
   "outputs": [
    {
     "name": "stderr",
     "output_type": "stream",
     "text": [
      "C:\\Users\\rlala\\AppData\\Local\\Temp\\ipykernel_22256\\3615365848.py:5: PerformanceWarning: DataFrame is highly fragmented.  This is usually the result of calling `frame.insert` many times, which has poor performance.  Consider joining all columns at once using pd.concat(axis=1) instead. To get a de-fragmented frame, use `newframe = frame.copy()`\n",
      "  X_resampled['valence'] = y_resampled\n"
     ]
    },
    {
     "data": {
      "text/plain": [
       "0    4326\n",
       "1    4326\n",
       "Name: valence, dtype: int64"
      ]
     },
     "execution_count": 24,
     "metadata": {},
     "output_type": "execute_result"
    }
   ],
   "source": [
    "rus = RandomUnderSampler(random_state=3407)\n",
    "X = all_signals_df.loc[:, all_signals_df.columns!='valence']\n",
    "y = all_signals_df['valence']\n",
    "X_resampled, y_resampled = rus.fit_resample(X, y)\n",
    "X_resampled['valence'] = y_resampled\n",
    "X_resampled['valence'].value_counts()"
   ]
  },
  {
   "cell_type": "code",
   "execution_count": 25,
   "metadata": {},
   "outputs": [
    {
     "name": "stdout",
     "output_type": "stream",
     "text": [
      "./processed_signal/HKU956/resampled_last30_400_4s_step_2s_spliter10.pkl saved done!\n"
     ]
    }
   ],
   "source": [
    "X_resampled.to_pickle(r'./processed_signal/HKU956/resampled_last30_400_4s_step_2s.pkl')\n",
    "respliter = get_spliter(X_resampled)\n",
    "save_model(r'./processed_signal/HKU956/resampled_last30_400_4s_step_2s_spliter10.pkl', respliter)"
   ]
  },
  {
   "cell_type": "code",
   "execution_count": null,
   "metadata": {},
   "outputs": [],
   "source": []
  }
 ],
 "metadata": {
  "kernelspec": {
   "display_name": "base",
   "language": "python",
   "name": "python3"
  },
  "language_info": {
   "codemirror_mode": {
    "name": "ipython",
    "version": 3
   },
   "file_extension": ".py",
   "mimetype": "text/x-python",
   "name": "python",
   "nbconvert_exporter": "python",
   "pygments_lexer": "ipython3",
   "version": "3.7.6"
  },
  "vscode": {
   "interpreter": {
    "hash": "b336b2e25951ee9709258584149b22d89d818b16e72dafb499a0c2ddcae7c098"
   }
  }
 },
 "nbformat": 4,
 "nbformat_minor": 4
}
