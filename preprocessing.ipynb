{
 "cells": [
  {
   "cell_type": "code",
   "execution_count": 1,
   "metadata": {},
   "outputs": [],
   "source": [
    "import pandas as pd\n",
    "from tools import *\n",
    "from CONSTANT import *\n",
    "import os\n",
    "\n",
    "from tqdm import tqdm\n",
    "\n",
    "import matplotlib.pyplot as plt\n",
    "\n",
    "%matplotlib inline"
   ]
  },
  {
   "cell_type": "markdown",
   "metadata": {},
   "source": [
    "# HKU956"
   ]
  },
  {
   "cell_type": "code",
   "execution_count": 2,
   "metadata": {},
   "outputs": [
    {
     "data": {
      "text/html": [
       "<div>\n",
       "<style scoped>\n",
       "    .dataframe tbody tr th:only-of-type {\n",
       "        vertical-align: middle;\n",
       "    }\n",
       "\n",
       "    .dataframe tbody tr th {\n",
       "        vertical-align: top;\n",
       "    }\n",
       "\n",
       "    .dataframe thead th {\n",
       "        text-align: right;\n",
       "    }\n",
       "</style>\n",
       "<table border=\"1\" class=\"dataframe\">\n",
       "  <thead>\n",
       "    <tr style=\"text-align: right;\">\n",
       "      <th></th>\n",
       "      <th>participant_id</th>\n",
       "      <th>song_no</th>\n",
       "      <th>song_id</th>\n",
       "      <th>valence_rating</th>\n",
       "      <th>valence</th>\n",
       "      <th>arousal_rating</th>\n",
       "      <th>arousal</th>\n",
       "      <th>play_duration</th>\n",
       "    </tr>\n",
       "  </thead>\n",
       "  <tbody>\n",
       "    <tr>\n",
       "      <th>0</th>\n",
       "      <td>hku1919</td>\n",
       "      <td>16</td>\n",
       "      <td>370177</td>\n",
       "      <td>9.3</td>\n",
       "      <td>1</td>\n",
       "      <td>1.0</td>\n",
       "      <td>1</td>\n",
       "      <td>72</td>\n",
       "    </tr>\n",
       "    <tr>\n",
       "      <th>1</th>\n",
       "      <td>hku1919</td>\n",
       "      <td>8</td>\n",
       "      <td>1119687</td>\n",
       "      <td>9.8</td>\n",
       "      <td>1</td>\n",
       "      <td>-3.0</td>\n",
       "      <td>0</td>\n",
       "      <td>73</td>\n",
       "    </tr>\n",
       "    <tr>\n",
       "      <th>2</th>\n",
       "      <td>hku1919</td>\n",
       "      <td>18</td>\n",
       "      <td>77933</td>\n",
       "      <td>-0.1</td>\n",
       "      <td>0</td>\n",
       "      <td>1.9</td>\n",
       "      <td>1</td>\n",
       "      <td>41</td>\n",
       "    </tr>\n",
       "    <tr>\n",
       "      <th>3</th>\n",
       "      <td>hku1919</td>\n",
       "      <td>14</td>\n",
       "      <td>238585</td>\n",
       "      <td>1</td>\n",
       "      <td>1</td>\n",
       "      <td>-1.8</td>\n",
       "      <td>0</td>\n",
       "      <td>66</td>\n",
       "    </tr>\n",
       "    <tr>\n",
       "      <th>4</th>\n",
       "      <td>hku1919</td>\n",
       "      <td>20</td>\n",
       "      <td>1168711</td>\n",
       "      <td>0.2</td>\n",
       "      <td>1</td>\n",
       "      <td>-3.4</td>\n",
       "      <td>0</td>\n",
       "      <td>33</td>\n",
       "    </tr>\n",
       "  </tbody>\n",
       "</table>\n",
       "</div>"
      ],
      "text/plain": [
       "  participant_id  song_no  song_id valence_rating  valence  arousal_rating  \\\n",
       "0        hku1919       16   370177            9.3        1             1.0   \n",
       "1        hku1919        8  1119687            9.8        1            -3.0   \n",
       "2        hku1919       18    77933           -0.1        0             1.9   \n",
       "3        hku1919       14   238585              1        1            -1.8   \n",
       "4        hku1919       20  1168711            0.2        1            -3.4   \n",
       "\n",
       "   arousal  play_duration  \n",
       "0        1             72  \n",
       "1        0             73  \n",
       "2        1             41  \n",
       "3        0             66  \n",
       "4        0             33  "
      ]
     },
     "execution_count": 2,
     "metadata": {},
     "output_type": "execute_result"
    }
   ],
   "source": [
    "av_rating = pd.read_csv(r'./HKU956/3. AV_ratings_duration.csv')\n",
    "av_rating['valence'] = av_rating['valence'].apply(lambda x: 1 if x == 'positive' else 0)\n",
    "av_rating['arousal'] = av_rating['arousal'].apply(lambda x: 1 if x == 'positive' else 0)\n",
    "av_rating.head()"
   ]
  },
  {
   "cell_type": "code",
   "execution_count": 8,
   "metadata": {},
   "outputs": [],
   "source": [
    "def signal_processer(user, signal_name, signal_files, win_size=4, step=2):\n",
    "    all_signals = {}\n",
    "    tmp_signals = []\n",
    "    va_info_col = ['participant_id', 'song_no', 'song_id', 'valence_rating',\n",
    "                   'valence', 'arousal_rating', 'arousal', 'play_duration']\n",
    "    for file in signal_files:\n",
    "        try:\n",
    "            filename = os.path.split(file)[-1]\n",
    "            filename, file_extension = os.path.splitext(filename)\n",
    "            if file_extension != '.csv':\n",
    "                continue\n",
    "            # songno, songid = filename.split('_')\n",
    "            \n",
    "            signal = pd.read_csv(file, header=None).iloc[:,0].values\n",
    "\n",
    "            # bandpass or lowpass filtering & resampling\n",
    "            if signal_name == 'EDA':\n",
    "                signal = butter_lowpass_filter(signal, cutOff=CUTOFF['EDA'], fs=SAMPLERATE['EDA'])\n",
    "                signal = resample_by_interpolation(signal, input_fs=SAMPLERATE['EDA'], output_fs=100)\n",
    "            elif signal_name in ['TEMP', 'BVP']:\n",
    "                signal = butter_bandpass_filter(signal, lowcut=CUTOFF[signal_name][0], highcut=CUTOFF[signal_name][1], fs=SAMPLERATE[signal_name])\n",
    "                signal = resample_by_interpolation(signal, input_fs=SAMPLERATE[signal_name], output_fs=100)\n",
    "            elif signal_name == 'HR':\n",
    "                signal = chauvenet_filter(signal)\n",
    "                # print(signal)\n",
    "                signal = resample_by_interpolation(signal, input_fs=SAMPLERATE[signal_name], output_fs=100)\n",
    "            else: # IBI\n",
    "                continue\n",
    "\n",
    "            tmp_signals.extend(signal.tolist())\n",
    "            all_signals[filename] = signal\n",
    "            \n",
    "        except Exception as e:\n",
    "            print(e, file)\n",
    "            raise e\n",
    "        \n",
    "    signal_max = np.max(tmp_signals)\n",
    "    signal_min = np.min(tmp_signals)\n",
    "\n",
    "    del tmp_signals\n",
    "\n",
    "    signal_df = []\n",
    "\n",
    "    # normalization, segmentation, $ concatenation\n",
    "    for filename, signal in all_signals.items():\n",
    "        song_no, song_id = filename.split('_')\n",
    "        signal = (signal - signal_min) / (signal_max - signal_min)\n",
    "        signal = pd.Series(signal).interpolate().tolist()\n",
    "        \n",
    "        segments = np.array(segment_generator(signal, win_size=win_size*100, step=step*100)[1:])\n",
    "        seg_cols = ['{}_seg{}'.format(signal_name, i) for i in range(segments.shape[1])]\n",
    "        segment_df = pd.DataFrame(columns=seg_cols, data=segments)\n",
    "\n",
    "        segment_df['segment_id'] = segment_df.index.tolist()\n",
    "        segment_df['song_no'] = int(song_no)\n",
    "        segment_df['song_id'] = int(song_id)\n",
    "        segment_df['user'] = user\n",
    "\n",
    "        # va_info = [av_rating[(av_rating['participant_id']==user) & (av_rating['song_no']==int(songno)) & (av_rating['song_id']==int(songid))].values.tolist()[0] for _ in range(len(segments))]\n",
    "        # tmp_va_info = pd.DataFrame(columns=va_info_col, data=va_info)\n",
    "        # segment_df = pd.concat([tmp_va_info, segment_df], axis=1)\n",
    "        \n",
    "        signal_df.append(segment_df)\n",
    "    \n",
    "    return pd.concat(signal_df)"
   ]
  },
  {
   "cell_type": "code",
   "execution_count": 10,
   "metadata": {},
   "outputs": [
    {
     "name": "stdout",
     "output_type": "stream",
     "text": [
      "HR (22727, 404)\n"
     ]
    }
   ],
   "source": [
    "users = os.listdir(HKU_DIR)\n",
    "# for signal_name in ['HR']:\n",
    "for signal_name in SIGNALS:\n",
    "    if signal_name == 'IBI':\n",
    "        continue\n",
    "    signals = []\n",
    "    for user in users:\n",
    "        signal_files = get_folder_files(os.path.join(HKU_DIR, user, signal_name))\n",
    "        signal_df = signal_processer(user, signal_name, signal_files)\n",
    "        signals.append(signal_df)\n",
    "        # break\n",
    "    signals = pd.concat(signals)\n",
    "    signals.to_csv(os.path.join(PROCESSED_DIR, 'HKU956', '{}.csv'.format(signal_name)), index=False)\n",
    "    print(signal_name, signals.shape)"
   ]
  },
  {
   "cell_type": "code",
   "execution_count": 11,
   "metadata": {},
   "outputs": [],
   "source": [
    "hr = pd.read_csv(r'./HKU956/1. physiological_signals/hku1903/HR/0_262957.csv', header=None).iloc[:,0].values"
   ]
  },
  {
   "cell_type": "code",
   "execution_count": 41,
   "metadata": {},
   "outputs": [
    {
     "data": {
      "text/plain": [
       "array([71.03, 70.97, 70.97, 70.95, 70.95, 71.  , 71.05, 71.12, 71.18,\n",
       "       71.15, 71.12, 71.08, 71.05, 71.03, 71.03, 71.03, 71.03, 71.02,\n",
       "       71.05, 71.08, 71.12, 71.18, 71.2 , 71.12, 71.08, 71.03, 71.02,\n",
       "       71.  , 71.03, 71.07, 71.12, 71.18, 71.3 , 71.42, 71.57, 71.73,\n",
       "       71.9 , 72.08, 72.25, 72.38, 72.48, 72.63, 72.8 , 72.95, 73.1 ,\n",
       "       73.23, 73.35, 73.47, 73.45, 73.42, 73.4 , 73.38, 73.35, 73.33,\n",
       "       73.32, 73.3 , 73.28, 73.28, 73.28, 73.3 , 73.32, 73.37, 73.38,\n",
       "       73.38, 73.38, 73.35, 73.28, 73.23, 73.22, 73.32, 73.42, 73.53,\n",
       "       73.65, 73.75, 73.82, 73.87, 73.88, 73.88, 73.87, 73.83, 73.78,\n",
       "       73.72, 73.67, 73.63, 73.6 , 73.58, 73.57, 73.57, 73.53, 73.5 ,\n",
       "       73.45, 73.38, 73.33, 73.27, 73.2 , 73.15, 73.12, 73.12, 73.12,\n",
       "       73.15, 73.22, 73.27, 73.32, 73.4 , 73.5 , 73.6 , 73.7 , 73.82,\n",
       "       73.9 , 74.13, 74.35, 74.53, 74.73, 74.95, 75.23, 75.55, 75.85,\n",
       "       76.13, 76.33, 76.52, 76.7 , 76.83, 77.02, 77.23, 77.43, 77.62,\n",
       "       77.8 , 77.97, 78.1 , 78.12, 78.15, 78.17, 78.15, 78.15, 78.15,\n",
       "       78.15, 78.15, 78.15, 78.15, 78.15, 78.17, 78.2 , 78.18, 78.13,\n",
       "       78.05, 77.95, 77.85])"
      ]
     },
     "execution_count": 41,
     "metadata": {},
     "output_type": "execute_result"
    }
   ],
   "source": [
    "np.ma.masked_array(data=hr, mask=criterion(hr), fill_value=np.nan).filled()"
   ]
  },
  {
   "cell_type": "code",
   "execution_count": 24,
   "metadata": {},
   "outputs": [],
   "source": [
    "a = np.array([1, 2, 3]).astype(int)\n",
    "mask = np.array([True, False, True])"
   ]
  },
  {
   "cell_type": "code",
   "execution_count": 16,
   "metadata": {},
   "outputs": [
    {
     "data": {
      "text/plain": [
       "array([1, 3])"
      ]
     },
     "execution_count": 16,
     "metadata": {},
     "output_type": "execute_result"
    }
   ],
   "source": [
    "a[mask]"
   ]
  },
  {
   "cell_type": "code",
   "execution_count": 35,
   "metadata": {},
   "outputs": [],
   "source": [
    "M = np.ma.masked_array(data=np.array([1.0, 2.0, 3.0]), mask=mask, fill_value=np.nan).filled()"
   ]
  },
  {
   "cell_type": "code",
   "execution_count": 39,
   "metadata": {},
   "outputs": [
    {
     "data": {
      "text/plain": [
       "0    NaN\n",
       "1    2.0\n",
       "2    2.0\n",
       "dtype: float64"
      ]
     },
     "execution_count": 39,
     "metadata": {},
     "output_type": "execute_result"
    }
   ],
   "source": [
    "pd.Series(M).interpolate()"
   ]
  },
  {
   "cell_type": "code",
   "execution_count": null,
   "metadata": {},
   "outputs": [],
   "source": []
  }
 ],
 "metadata": {
  "kernelspec": {
   "display_name": "Python 3.9.12 ('base')",
   "language": "python",
   "name": "python3"
  },
  "language_info": {
   "codemirror_mode": {
    "name": "ipython",
    "version": 3
   },
   "file_extension": ".py",
   "mimetype": "text/x-python",
   "name": "python",
   "nbconvert_exporter": "python",
   "pygments_lexer": "ipython3",
   "version": "3.9.12"
  },
  "orig_nbformat": 4,
  "vscode": {
   "interpreter": {
    "hash": "c2b388c6fce79e00fd9c43dd7c300c62775de93114fdc7222b9aeb8ab89a5a93"
   }
  }
 },
 "nbformat": 4,
 "nbformat_minor": 2
}
