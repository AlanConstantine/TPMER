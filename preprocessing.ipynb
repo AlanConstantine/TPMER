{
 "cells": [
  {
   "cell_type": "code",
   "execution_count": 1,
   "metadata": {},
   "outputs": [],
   "source": [
    "import pandas as pd\n",
    "from tools import *\n",
    "from CONSTANT import *\n",
    "import os\n",
    "\n",
    "from tqdm import tqdm\n",
    "\n",
    "import matplotlib.pyplot as plt\n",
    "\n",
    "pd.set_option(\"display.max_info_columns\", 1300)\n",
    "\n",
    "import gc\n",
    "\n",
    "%matplotlib inline"
   ]
  },
  {
   "cell_type": "markdown",
   "metadata": {},
   "source": [
    "# HKU956"
   ]
  },
  {
   "cell_type": "markdown",
   "metadata": {},
   "source": [
    "# threshold determining"
   ]
  },
  {
   "cell_type": "code",
   "execution_count": 3,
   "metadata": {},
   "outputs": [
    {
     "data": {
      "text/html": [
       "<div>\n",
       "<style scoped>\n",
       "    .dataframe tbody tr th:only-of-type {\n",
       "        vertical-align: middle;\n",
       "    }\n",
       "\n",
       "    .dataframe tbody tr th {\n",
       "        vertical-align: top;\n",
       "    }\n",
       "\n",
       "    .dataframe thead th {\n",
       "        text-align: right;\n",
       "    }\n",
       "</style>\n",
       "<table border=\"1\" class=\"dataframe\">\n",
       "  <thead>\n",
       "    <tr style=\"text-align: right;\">\n",
       "      <th></th>\n",
       "      <th>participant_id</th>\n",
       "      <th>song_no</th>\n",
       "      <th>song_id</th>\n",
       "      <th>valence_rating</th>\n",
       "      <th>valence</th>\n",
       "      <th>arousal_rating</th>\n",
       "      <th>arousal</th>\n",
       "    </tr>\n",
       "  </thead>\n",
       "  <tbody>\n",
       "    <tr>\n",
       "      <th>0</th>\n",
       "      <td>hku1919</td>\n",
       "      <td>16</td>\n",
       "      <td>370177</td>\n",
       "      <td>9.3</td>\n",
       "      <td>1</td>\n",
       "      <td>1.0</td>\n",
       "      <td>1</td>\n",
       "    </tr>\n",
       "    <tr>\n",
       "      <th>1</th>\n",
       "      <td>hku1919</td>\n",
       "      <td>8</td>\n",
       "      <td>1119687</td>\n",
       "      <td>9.8</td>\n",
       "      <td>1</td>\n",
       "      <td>-3.0</td>\n",
       "      <td>0</td>\n",
       "    </tr>\n",
       "    <tr>\n",
       "      <th>2</th>\n",
       "      <td>hku1919</td>\n",
       "      <td>18</td>\n",
       "      <td>77933</td>\n",
       "      <td>-0.1</td>\n",
       "      <td>0</td>\n",
       "      <td>1.9</td>\n",
       "      <td>1</td>\n",
       "    </tr>\n",
       "    <tr>\n",
       "      <th>3</th>\n",
       "      <td>hku1919</td>\n",
       "      <td>14</td>\n",
       "      <td>238585</td>\n",
       "      <td>1.0</td>\n",
       "      <td>1</td>\n",
       "      <td>-1.8</td>\n",
       "      <td>0</td>\n",
       "    </tr>\n",
       "    <tr>\n",
       "      <th>4</th>\n",
       "      <td>hku1919</td>\n",
       "      <td>20</td>\n",
       "      <td>1168711</td>\n",
       "      <td>0.2</td>\n",
       "      <td>1</td>\n",
       "      <td>-3.4</td>\n",
       "      <td>0</td>\n",
       "    </tr>\n",
       "  </tbody>\n",
       "</table>\n",
       "</div>"
      ],
      "text/plain": [
       "  participant_id  song_no  song_id  valence_rating  valence  arousal_rating  \\\n",
       "0        hku1919       16   370177             9.3        1             1.0   \n",
       "1        hku1919        8  1119687             9.8        1            -3.0   \n",
       "2        hku1919       18    77933            -0.1        0             1.9   \n",
       "3        hku1919       14   238585             1.0        1            -1.8   \n",
       "4        hku1919       20  1168711             0.2        1            -3.4   \n",
       "\n",
       "   arousal  \n",
       "0        1  \n",
       "1        0  \n",
       "2        1  \n",
       "3        0  \n",
       "4        0  "
      ]
     },
     "execution_count": 3,
     "metadata": {},
     "output_type": "execute_result"
    }
   ],
   "source": [
    "av_rating = pd.read_csv(r'./HKU956/3. AV_ratings_duration.csv')\n",
    "av_rating['valence'] = av_rating['valence'].apply(lambda x: 1 if x == 'positive' else 0)\n",
    "av_rating['arousal'] = av_rating['arousal'].apply(lambda x: 1 if x == 'positive' else 0)\n",
    "del av_rating['play_duration']\n",
    "av_rating.head()"
   ]
  },
  {
   "cell_type": "code",
   "execution_count": 34,
   "metadata": {},
   "outputs": [
    {
     "data": {
      "text/html": [
       "<div>\n",
       "<style scoped>\n",
       "    .dataframe tbody tr th:only-of-type {\n",
       "        vertical-align: middle;\n",
       "    }\n",
       "\n",
       "    .dataframe tbody tr th {\n",
       "        vertical-align: top;\n",
       "    }\n",
       "\n",
       "    .dataframe thead th {\n",
       "        text-align: right;\n",
       "    }\n",
       "</style>\n",
       "<table border=\"1\" class=\"dataframe\">\n",
       "  <thead>\n",
       "    <tr style=\"text-align: right;\">\n",
       "      <th></th>\n",
       "      <th>participant_id</th>\n",
       "      <th>song_no</th>\n",
       "      <th>song_id</th>\n",
       "      <th>valence_rating</th>\n",
       "      <th>valence</th>\n",
       "      <th>arousal_rating</th>\n",
       "      <th>arousal</th>\n",
       "    </tr>\n",
       "  </thead>\n",
       "  <tbody>\n",
       "    <tr>\n",
       "      <th>239</th>\n",
       "      <td>hku1929</td>\n",
       "      <td>7</td>\n",
       "      <td>1119024</td>\n",
       "      <td></td>\n",
       "      <td>1</td>\n",
       "      <td>6.0</td>\n",
       "      <td>1</td>\n",
       "    </tr>\n",
       "  </tbody>\n",
       "</table>\n",
       "</div>"
      ],
      "text/plain": [
       "    participant_id  song_no  song_id valence_rating  valence  arousal_rating  \\\n",
       "239        hku1929        7  1119024                       1             6.0   \n",
       "\n",
       "     arousal  \n",
       "239        1  "
      ]
     },
     "execution_count": 34,
     "metadata": {},
     "output_type": "execute_result"
    }
   ],
   "source": [
    "# av_rating[av_rating['valence_rating']==' ']"
   ]
  },
  {
   "cell_type": "code",
   "execution_count": 37,
   "metadata": {},
   "outputs": [],
   "source": [
    "# minmax_scale(av_rating['valence_rating'])"
   ]
  },
  {
   "cell_type": "code",
   "execution_count": 4,
   "metadata": {},
   "outputs": [],
   "source": [
    "from sklearn.cluster import KMeans"
   ]
  },
  {
   "cell_type": "markdown",
   "metadata": {},
   "source": [
    "## clutering before minmax"
   ]
  },
  {
   "cell_type": "code",
   "execution_count": 5,
   "metadata": {},
   "outputs": [
    {
     "data": {
      "text/plain": [
       "array([2.11724875, 1.1193303 ])"
      ]
     },
     "execution_count": 5,
     "metadata": {},
     "output_type": "execute_result"
    },
    {
     "data": {
      "image/png": "[encoded data removed]",
      "text/plain": [
       "<Figure size 432x288 with 1 Axes>"
      ]
     },
     "metadata": {
      "needs_background": "light"
     },
     "output_type": "display_data"
    }
   ],
   "source": [
    "colors = [\"#4EACC5\", \"#FF9C34\", \"#4E9A06\"]\n",
    "\n",
    "kmeans = KMeans(n_clusters=2, random_state=0).fit(av_rating[['valence_rating', 'arousal_rating']])\n",
    "plt.scatter(y=av_rating['arousal_rating'], x=av_rating['valence_rating'], \n",
    "            facecolors='none', edgecolors=['#4EACC5' if i==0 else '#FF9C34' for i in kmeans.labels_ ], s=4)\n",
    "plt.ylabel('arousal')\n",
    "plt.xlabel('valence')\n",
    "plt.plot(kmeans.cluster_centers_.T[0], kmeans.cluster_centers_.T[1], c='red', marker=\"o\", markersize=5)\n",
    "threshold = kmeans.cluster_centers_.sum(axis=0)/2\n",
    "plt.plot(threshold[0], threshold[1], c='red', marker=\"X\", markersize=10)\n",
    "kmeans.cluster_centers_.sum(axis=0)/2"
   ]
  },
  {
   "cell_type": "code",
   "execution_count": 6,
   "metadata": {},
   "outputs": [
    {
     "data": {
      "text/html": [
       "<div>\n",
       "<style scoped>\n",
       "    .dataframe tbody tr th:only-of-type {\n",
       "        vertical-align: middle;\n",
       "    }\n",
       "\n",
       "    .dataframe tbody tr th {\n",
       "        vertical-align: top;\n",
       "    }\n",
       "\n",
       "    .dataframe thead th {\n",
       "        text-align: right;\n",
       "    }\n",
       "</style>\n",
       "<table border=\"1\" class=\"dataframe\">\n",
       "  <thead>\n",
       "    <tr style=\"text-align: right;\">\n",
       "      <th></th>\n",
       "      <th>participant_id</th>\n",
       "      <th>song_no</th>\n",
       "      <th>song_id</th>\n",
       "      <th>valence_rating</th>\n",
       "      <th>valence</th>\n",
       "      <th>arousal_rating</th>\n",
       "      <th>arousal</th>\n",
       "      <th>valence_label</th>\n",
       "      <th>arousal_label</th>\n",
       "    </tr>\n",
       "  </thead>\n",
       "  <tbody>\n",
       "    <tr>\n",
       "      <th>0</th>\n",
       "      <td>hku1919</td>\n",
       "      <td>16</td>\n",
       "      <td>370177</td>\n",
       "      <td>9.3</td>\n",
       "      <td>1</td>\n",
       "      <td>1.0</td>\n",
       "      <td>1</td>\n",
       "      <td>1</td>\n",
       "      <td>0</td>\n",
       "    </tr>\n",
       "    <tr>\n",
       "      <th>1</th>\n",
       "      <td>hku1919</td>\n",
       "      <td>8</td>\n",
       "      <td>1119687</td>\n",
       "      <td>9.8</td>\n",
       "      <td>1</td>\n",
       "      <td>-3.0</td>\n",
       "      <td>0</td>\n",
       "      <td>1</td>\n",
       "      <td>0</td>\n",
       "    </tr>\n",
       "    <tr>\n",
       "      <th>2</th>\n",
       "      <td>hku1919</td>\n",
       "      <td>18</td>\n",
       "      <td>77933</td>\n",
       "      <td>-0.1</td>\n",
       "      <td>0</td>\n",
       "      <td>1.9</td>\n",
       "      <td>1</td>\n",
       "      <td>0</td>\n",
       "      <td>1</td>\n",
       "    </tr>\n",
       "    <tr>\n",
       "      <th>3</th>\n",
       "      <td>hku1919</td>\n",
       "      <td>14</td>\n",
       "      <td>238585</td>\n",
       "      <td>1.0</td>\n",
       "      <td>1</td>\n",
       "      <td>-1.8</td>\n",
       "      <td>0</td>\n",
       "      <td>0</td>\n",
       "      <td>0</td>\n",
       "    </tr>\n",
       "    <tr>\n",
       "      <th>4</th>\n",
       "      <td>hku1919</td>\n",
       "      <td>20</td>\n",
       "      <td>1168711</td>\n",
       "      <td>0.2</td>\n",
       "      <td>1</td>\n",
       "      <td>-3.4</td>\n",
       "      <td>0</td>\n",
       "      <td>0</td>\n",
       "      <td>0</td>\n",
       "    </tr>\n",
       "  </tbody>\n",
       "</table>\n",
       "</div>"
      ],
      "text/plain": [
       "  participant_id  song_no  song_id  valence_rating  valence  arousal_rating  \\\n",
       "0        hku1919       16   370177             9.3        1             1.0   \n",
       "1        hku1919        8  1119687             9.8        1            -3.0   \n",
       "2        hku1919       18    77933            -0.1        0             1.9   \n",
       "3        hku1919       14   238585             1.0        1            -1.8   \n",
       "4        hku1919       20  1168711             0.2        1            -3.4   \n",
       "\n",
       "   arousal  valence_label  arousal_label  \n",
       "0        1              1              0  \n",
       "1        0              1              0  \n",
       "2        1              0              1  \n",
       "3        0              0              0  \n",
       "4        0              0              0  "
      ]
     },
     "execution_count": 6,
     "metadata": {},
     "output_type": "execute_result"
    }
   ],
   "source": [
    "midpoint = kmeans.cluster_centers_.sum(axis=0)/2\n",
    "av_rating['valence_label'] = av_rating['valence_rating'].apply(lambda x: 1 if x>midpoint[0] else 0)\n",
    "av_rating['arousal_label'] = av_rating['arousal_rating'].apply(lambda x: 1 if x>midpoint[1] else 0)\n",
    "av_rating.head()"
   ]
  },
  {
   "cell_type": "code",
   "execution_count": 7,
   "metadata": {},
   "outputs": [
    {
     "data": {
      "text/plain": [
       "1    489\n",
       "0    467\n",
       "Name: valence_label, dtype: int64"
      ]
     },
     "execution_count": 7,
     "metadata": {},
     "output_type": "execute_result"
    }
   ],
   "source": [
    "av_rating['valence_label'].value_counts()"
   ]
  },
  {
   "cell_type": "code",
   "execution_count": 8,
   "metadata": {},
   "outputs": [
    {
     "data": {
      "text/plain": [
       "1    502\n",
       "0    454\n",
       "Name: arousal_label, dtype: int64"
      ]
     },
     "execution_count": 8,
     "metadata": {},
     "output_type": "execute_result"
    }
   ],
   "source": [
    "av_rating['arousal_label'].value_counts()"
   ]
  },
  {
   "cell_type": "markdown",
   "metadata": {},
   "source": [
    "# signal processing"
   ]
  },
  {
   "cell_type": "code",
   "execution_count": 9,
   "metadata": {},
   "outputs": [],
   "source": [
    "def signal_processer(user, signal_name, signal_files, win_size=4, step=2):\n",
    "    all_signals = {}\n",
    "    tmp_signals = []\n",
    "    va_info_col = ['participant_id', 'song_no', 'song_id', 'valence_rating',\n",
    "                   'valence', 'arousal_rating', 'arousal', 'play_duration']\n",
    "    for file in signal_files:\n",
    "        try:\n",
    "            filename = os.path.split(file)[-1]\n",
    "            filename, file_extension = os.path.splitext(filename)\n",
    "            if file_extension != '.csv':\n",
    "                continue\n",
    "            # songno, songid = filename.split('_')\n",
    "            \n",
    "            signal = pd.read_csv(file, header=None).iloc[:,0].values\n",
    "\n",
    "            # bandpass or lowpass filtering & resampling\n",
    "            if signal_name == 'EDA':\n",
    "                signal = butter_lowpass_filter(signal, cutOff=CUTOFF['EDA'], fs=SAMPLERATE['EDA'])\n",
    "                signal = resample_by_interpolation(signal, input_fs=SAMPLERATE['EDA'], output_fs=100)\n",
    "            elif signal_name in ['TEMP', 'BVP']:\n",
    "                signal = butter_bandpass_filter(signal, lowcut=CUTOFF[signal_name][0], highcut=CUTOFF[signal_name][1], fs=SAMPLERATE[signal_name])\n",
    "                signal = resample_by_interpolation(signal, input_fs=SAMPLERATE[signal_name], output_fs=100)\n",
    "            elif signal_name == 'HR':\n",
    "                # signal = chauvenet_filter(signal)\n",
    "                # print(signal)\n",
    "                signal = resample_by_interpolation(signal, input_fs=SAMPLERATE[signal_name], output_fs=100)\n",
    "            else: # IBI\n",
    "                continue\n",
    "\n",
    "            tmp_signals.extend(signal.tolist())\n",
    "            all_signals[filename] = signal\n",
    "            \n",
    "        except Exception as e:\n",
    "            print(e, file)\n",
    "            raise e\n",
    "        \n",
    "    signal_max = np.max(tmp_signals)\n",
    "    signal_min = np.min(tmp_signals)\n",
    "\n",
    "    del tmp_signals\n",
    "\n",
    "    signal_df = []\n",
    "\n",
    "    # normalization, segmentation, $ concatenation\n",
    "    for filename, signal in all_signals.items():\n",
    "        song_no, song_id = filename.split('_')\n",
    "        signal = (signal - signal_min) / (signal_max - signal_min)\n",
    "        signal = pd.Series(signal).interpolate().tolist()\n",
    "        \n",
    "        segments = np.array(segment_generator(signal, win_size=win_size*100, step=step*100)[1:])\n",
    "        seg_cols = ['{}_seg{}'.format(signal_name, i) for i in range(segments.shape[1])]\n",
    "        segment_df = pd.DataFrame(columns=seg_cols, data=segments)\n",
    "\n",
    "        segment_df['segment_id'] = segment_df.index.tolist()\n",
    "        segment_df['song_no'] = int(song_no)\n",
    "        segment_df['song_id'] = int(song_id)\n",
    "        segment_df['participant_id'] = user\n",
    "\n",
    "        # va_info = [av_rating[(av_rating['participant_id']==user) & (av_rating['song_no']==int(songno)) & (av_rating['song_id']==int(songid))].values.tolist()[0] for _ in range(len(segments))]\n",
    "        # tmp_va_info = pd.DataFrame(columns=va_info_col, data=va_info)\n",
    "        # segment_df = pd.concat([tmp_va_info, segment_df], axis=1)\n",
    "        \n",
    "        signal_df.append(segment_df)\n",
    "    \n",
    "    return pd.concat(signal_df)"
   ]
  },
  {
   "cell_type": "code",
   "execution_count": 11,
   "metadata": {},
   "outputs": [
    {
     "name": "stdout",
     "output_type": "stream",
     "text": [
      "BVP (22727, 404)\n",
      "EDA (22727, 404)\n",
      "HR (22727, 404)\n",
      "TEMP (22727, 404)\n"
     ]
    }
   ],
   "source": [
    "users = os.listdir(HKU_DIR)\n",
    "signal_dfs = {}\n",
    "\n",
    "# for signal_name in ['HR']:\n",
    "for signal_name in SIGNALS:\n",
    "    if signal_name == 'IBI':\n",
    "        continue\n",
    "    signals = []\n",
    "    for user in users:\n",
    "        signal_files = get_folder_files(os.path.join(HKU_DIR, user, signal_name))\n",
    "        signal_df = signal_processer(user, signal_name, signal_files)\n",
    "        signals.append(signal_df)\n",
    "        # break\n",
    "    signals = pd.concat(signals)\n",
    "    # signals.to_csv(os.path.join(PROCESSED_DIR, 'HKU956', '{}.csv'.format(signal_name)), index=False)\n",
    "    print(signal_name, signals.shape)\n",
    "    signal_dfs[signal_name] = signals"
   ]
  },
  {
   "cell_type": "code",
   "execution_count": 12,
   "metadata": {},
   "outputs": [
    {
     "name": "stdout",
     "output_type": "stream",
     "text": [
      "0 (22727, 1604)\n"
     ]
    },
    {
     "data": {
      "text/plain": [
       "3608"
      ]
     },
     "execution_count": 12,
     "metadata": {},
     "output_type": "execute_result"
    }
   ],
   "source": [
    "bvp_eda_df = signal_dfs['BVP'].merge(signal_dfs['EDA'], on=['segment_id', 'song_no', 'song_id', 'participant_id'], how='left')\n",
    "bvp_eda_hr_df = bvp_eda_df.merge(signal_dfs['HR'], on=['segment_id', 'song_no', 'song_id', 'participant_id'], how='left')\n",
    "del bvp_eda_df\n",
    "bvp_eda_hr_temp_df = bvp_eda_hr_df.merge(signal_dfs['TEMP'], on=['segment_id', 'song_no', 'song_id', 'participant_id'], how='left')\n",
    "del bvp_eda_hr_df\n",
    "print(bvp_eda_hr_temp_df.isnull().sum().sum(), bvp_eda_hr_temp_df.shape)\n",
    "# bvp_eda_hr_temp_df = reduce_mem_usage(bvp_eda_hr_temp_df, un_process=['segment_id', 'song_no', 'song_id', 'participant_id'])\n",
    "gc.collect()"
   ]
  },
  {
   "cell_type": "code",
   "execution_count": 13,
   "metadata": {},
   "outputs": [
    {
     "name": "stdout",
     "output_type": "stream",
     "text": [
      "<class 'pandas.core.frame.DataFrame'>\n",
      "Int64Index: 22727 entries, 0 to 22726\n",
      "Columns: 1608 entries, BVP_seg0 to arousal_label\n",
      "dtypes: float64(1602), int64(5), object(1)\n",
      "memory usage: 279.0+ MB\n",
      "None\n"
     ]
    },
    {
     "data": {
      "text/plain": [
       "0"
      ]
     },
     "execution_count": 13,
     "metadata": {},
     "output_type": "execute_result"
    }
   ],
   "source": [
    "all_signals_df = bvp_eda_hr_temp_df.merge(av_rating, on=['participant_id', 'song_no', 'song_id'])\n",
    "del all_signals_df['segment_id'], all_signals_df['song_no'], bvp_eda_hr_temp_df\n",
    "print(all_signals_df.info())\n",
    "gc.collect()"
   ]
  },
  {
   "cell_type": "code",
   "execution_count": 140,
   "metadata": {},
   "outputs": [
    {
     "data": {
      "text/plain": [
       "0"
      ]
     },
     "execution_count": 140,
     "metadata": {},
     "output_type": "execute_result"
    }
   ],
   "source": [
    "all_signals_df.isnull().sum().sum()"
   ]
  },
  {
   "cell_type": "code",
   "execution_count": 25,
   "metadata": {},
   "outputs": [],
   "source": [
    "all_signals_df.to_csv(r'./processed_signal/HKU956/400_4s_step_2s.csv', index=False)\n",
    "# all_signals_df.to_pickle(r'./processed_signal/HKU956/400_4s_step_2s.pkl')"
   ]
  },
  {
   "cell_type": "code",
   "execution_count": 143,
   "metadata": {},
   "outputs": [
    {
     "data": {
      "text/plain": [
       "1    12034\n",
       "0    10693\n",
       "Name: valence_label, dtype: int64"
      ]
     },
     "execution_count": 143,
     "metadata": {},
     "output_type": "execute_result"
    }
   ],
   "source": [
    "all_signals_df['valence_label'].value_counts()"
   ]
  },
  {
   "cell_type": "code",
   "execution_count": 144,
   "metadata": {},
   "outputs": [
    {
     "data": {
      "text/plain": [
       "1    11764\n",
       "0    10963\n",
       "Name: arousal_label, dtype: int64"
      ]
     },
     "execution_count": 144,
     "metadata": {},
     "output_type": "execute_result"
    }
   ],
   "source": [
    "all_signals_df['arousal_label'].value_counts()"
   ]
  },
  {
   "cell_type": "markdown",
   "metadata": {},
   "source": [
    "# generating train_test spliter"
   ]
  },
  {
   "cell_type": "code",
   "execution_count": 146,
   "metadata": {},
   "outputs": [],
   "source": [
    "from sklearn.model_selection import StratifiedKFold\n",
    "from sklearn.model_selection import StratifiedGroupKFold"
   ]
  },
  {
   "cell_type": "code",
   "execution_count": 151,
   "metadata": {},
   "outputs": [],
   "source": [
    "feature_cols = [fea for fea in all_signals_df.columns.values if fea.split('_')[0] in SIGNALS]\n",
    "target_cols = ['valence', 'arousal', 'arousal_rating', 'valence_rating', 'arousal_label', 'valence_label']\n",
    "group_cols = ['participant_id', 'song_id']\n",
    "\n",
    "spliter = {'cv': [], 'loso': [], 'loao': []}"
   ]
  },
  {
   "cell_type": "code",
   "execution_count": 148,
   "metadata": {},
   "outputs": [],
   "source": [
    "skf = StratifiedKFold(n_splits=5, shuffle=True, random_state=31)\n",
    "for train_index, test_index in skf.split(all_signals_df[feature_cols], all_signals_df['valence_label']):\n",
    "    spliter['cv'].append({'train_index': train_index, 'test_index': test_index})\n",
    "\n",
    "loso_skgf = StratifiedGroupKFold(n_splits=5, shuffle=True, random_state=31)\n",
    "for train_index, test_index in loso_skgf.split(all_signals_df[feature_cols], all_signals_df['valence_label'], groups=all_signals_df['participant_id']):\n",
    "    spliter['loso'].append({'train_index': train_index, 'test_index': test_index})\n",
    "\n",
    "loao_skgf = StratifiedGroupKFold(n_splits=5, shuffle=True, random_state=31)\n",
    "for train_index, test_index in loao_skgf.split(all_signals_df[feature_cols], all_signals_df['valence_label'], groups=all_signals_df['song_id']):\n",
    "    spliter['loao'].append({'train_index': train_index, 'test_index': test_index})"
   ]
  },
  {
   "cell_type": "code",
   "execution_count": 149,
   "metadata": {},
   "outputs": [
    {
     "name": "stdout",
     "output_type": "stream",
     "text": [
      "./processed_signal/HKU956/400_4s_step_2s_spliter.pkl saved done!\n"
     ]
    }
   ],
   "source": [
    "save_model(r'./processed_signal/HKU956/400_4s_step_2s_spliter.pkl', spliter)"
   ]
  },
  {
   "cell_type": "code",
   "execution_count": 159,
   "metadata": {},
   "outputs": [],
   "source": [
    "spliter = load_model(r'./processed_signal/HKU956/400_4s_step_2s_spliter.pkl')"
   ]
  },
  {
   "cell_type": "code",
   "execution_count": 160,
   "metadata": {},
   "outputs": [
    {
     "name": "stdout",
     "output_type": "stream",
     "text": [
      "18089 4638\n",
      "18512 4215\n",
      "18181 4546\n"
     ]
    }
   ],
   "source": [
    "print(len(spliter['loso'][0]['train_index']), len(spliter['loso'][0]['test_index']))\n",
    "print(len(spliter['loao'][0]['train_index']), len(spliter['loao'][0]['test_index']))\n",
    "print(len(spliter['cv'][0]['train_index']), len(spliter['cv'][0]['test_index']))"
   ]
  },
  {
   "cell_type": "markdown",
   "metadata": {},
   "source": [
    "# data generator"
   ]
  },
  {
   "cell_type": "code",
   "execution_count": 161,
   "metadata": {},
   "outputs": [],
   "source": [
    "def join_signals(df, target='valence'):\n",
    "    bvp_cols = [fea for fea in all_signals_df.columns.values if fea.split('_')[0] in ['BVP']]\n",
    "    eda_cols = [fea for fea in all_signals_df.columns.values if fea.split('_')[0] in ['EDA']]\n",
    "    temp_cols = [fea for fea in all_signals_df.columns.values if fea.split('_')[0] in ['TEMP']]\n",
    "    hr_cols = [fea for fea in all_signals_df.columns.values if fea.split('_')[0] in ['HR']]\n",
    "\n",
    "    target_cols = ['valence', 'arousal', 'arousal_rating', 'valence_rating']\n",
    "    group_cols = ['participant_id', 'song_id']\n",
    "\n",
    "    signal_concats = []\n",
    "    for bvp, eda, temp, hr in zip(df[bvp_cols].values, df[eda_cols].values, df[temp_cols].values, df[hr_cols].values):\n",
    "        signal_concats.append([bvp, eda, temp, hr])\n",
    "\n",
    "    return np.array(signal_concats), df[target].values"
   ]
  },
  {
   "cell_type": "code",
   "execution_count": 162,
   "metadata": {},
   "outputs": [],
   "source": [
    "train_index = spliter['loso'][0]['train_index']\n",
    "test_index = spliter['loso'][0]['test_index']\n",
    "\n",
    "target_col = 'valence'\n",
    "\n",
    "df = pd.read_pickle(r'./processed_signal/HKU956/400_4s_step_2s.pkl')\n",
    "# train_df = df.iloc[train_index]\n",
    "# test_df = df.iloc[test_index]\n",
    "X, y = join_signals(df, target='valence')"
   ]
  },
  {
   "cell_type": "code",
   "execution_count": 165,
   "metadata": {},
   "outputs": [
    {
     "data": {
      "text/plain": [
       "((18089, 4, 400), (18089,), (4638, 4, 400), (4638,))"
      ]
     },
     "execution_count": 165,
     "metadata": {},
     "output_type": "execute_result"
    }
   ],
   "source": [
    "train_X, train_y, test_X, test_y = X[train_index], y[train_index], X[test_index], y[test_index]\n",
    "train_X.shape, train_y.shape, test_X.shape, test_y.shape"
   ]
  },
  {
   "cell_type": "code",
   "execution_count": null,
   "metadata": {},
   "outputs": [],
   "source": []
  }
 ],
 "metadata": {
  "kernelspec": {
   "display_name": "Python 3.8.12 ('base')",
   "language": "python",
   "name": "python3"
  },
  "language_info": {
   "codemirror_mode": {
    "name": "ipython",
    "version": 3
   },
   "file_extension": ".py",
   "mimetype": "text/x-python",
   "name": "python",
   "nbconvert_exporter": "python",
   "pygments_lexer": "ipython3",
   "version": "3.8.12"
  },
  "orig_nbformat": 4,
  "vscode": {
   "interpreter": {
    "hash": "1d5334fe9b82e8c016b8b2657765205a9a9ba0b9bc469dbf5ca7c631ff3e3ab7"
   }
  }
 },
 "nbformat": 4,
 "nbformat_minor": 2
}
