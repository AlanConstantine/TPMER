{
 "cells": [
  {
   "cell_type": "code",
   "execution_count": 1,
   "metadata": {},
   "outputs": [
    {
     "name": "stdout",
     "output_type": "stream",
     "text": [
      "using cuda\n"
     ]
    }
   ],
   "source": [
    "from CONSTANT import *\n",
    "from tools import *\n",
    "import pandas as pd\n",
    "import numpy as np\n",
    "from torch.utils.data import (TensorDataset, DataLoader, SequentialSampler, WeightedRandomSampler)\n",
    "\n",
    "from torch.nn import TransformerEncoder, TransformerEncoderLayer, TransformerDecoderLayer, TransformerDecoder\n",
    "\n",
    "from models import *\n",
    "\n",
    "import torch\n",
    "\n",
    "from torch import nn\n",
    "import torch.nn.functional as F\n",
    "from tqdm import tqdm\n",
    "\n",
    "\n",
    "use_cuda = True\n",
    "valid='loso'\n",
    "\n",
    "device = torch.device('cuda' if torch.cuda.is_available() and use_cuda else 'cpu')\n",
    "print('using', device)\n",
    "\n",
    "from representation.SigRepre import MultiSignalRepresentation"
   ]
  },
  {
   "cell_type": "code",
   "execution_count": 2,
   "metadata": {},
   "outputs": [],
   "source": [
    "class Params(object):\n",
    "    def __init__(self, lr=0.001, epoch=100, valid='cv', target='valence', batch_size=16, use_cuda=use_cuda):\n",
    "        self.batch_size = batch_size\n",
    "        self.valid = valid\n",
    "        self.target = target\n",
    "        self.epoch = epoch\n",
    "        self.lr = lr\n",
    "        self.metrics_dict = {}\n",
    "        self.debug = False\n",
    "        self.out_channels = 32\n",
    "        self.out_channels = 32\n",
    "        self.hidden_size = 64\n",
    "        self.num_layers = 1\n",
    "        self.fcn_input = 50432\n",
    "        self.dropout=0.2\n",
    "        self.use_cuda=use_cuda\n",
    "        self.device=torch.device(\n",
    "            'cuda' if torch.cuda.is_available() and self.use_cuda else 'cpu')"
   ]
  },
  {
   "cell_type": "code",
   "execution_count": 12,
   "metadata": {},
   "outputs": [],
   "source": [
    "from lightgbm import LGBMClassifier\n",
    "from lightgbm import LGBMRegressor\n",
    "from sklearn.metrics import classification_report\n",
    "from sklearn.metrics import mean_squared_error"
   ]
  },
  {
   "cell_type": "code",
   "execution_count": 5,
   "metadata": {},
   "outputs": [
    {
     "data": {
      "text/plain": [
       "<All keys matched successfully>"
      ]
     },
     "execution_count": 5,
     "metadata": {},
     "output_type": "execute_result"
    }
   ],
   "source": [
    "args = Params()\n",
    "\n",
    "model = MultiSignalRepresentation(output_size=40, device=args.device)\n",
    "model = model.to(args.device)\n",
    "model.load_state_dict(torch.load(r'./output/0.0001_256_maskp0.8_checkpoint.pt'))"
   ]
  },
  {
   "cell_type": "code",
   "execution_count": 7,
   "metadata": {},
   "outputs": [],
   "source": [
    "def encoder(data):\n",
    "    encoded_signals = []\n",
    "\n",
    "    for i, (x, y) in tqdm(enumerate(data)):\n",
    "        encodedx = model.encoder(x).flatten(start_dim=1).cpu().detach().numpy()\n",
    "        encoded_signals.append(encodedx)\n",
    "    return np.concatenate(encoded_signals, axis=0)"
   ]
  },
  {
   "cell_type": "code",
   "execution_count": 14,
   "metadata": {},
   "outputs": [
    {
     "name": "stdout",
     "output_type": "stream",
     "text": [
      "Fold 0\n",
      "(5412, 4, 400) (5412, 1) (324, 4, 400) (324, 1)\n"
     ]
    },
    {
     "name": "stderr",
     "output_type": "stream",
     "text": [
      "1353it [01:29, 15.11it/s]\n",
      "81it [00:05, 16.07it/s]\n"
     ]
    },
    {
     "name": "stdout",
     "output_type": "stream",
     "text": [
      "4.012040563342592\n",
      "Fold 1\n",
      "(5154, 4, 400) (5154, 1) (582, 4, 400) (582, 1)\n"
     ]
    },
    {
     "name": "stderr",
     "output_type": "stream",
     "text": [
      "1289it [01:20, 16.10it/s]\n",
      "146it [00:08, 16.44it/s]\n"
     ]
    },
    {
     "name": "stdout",
     "output_type": "stream",
     "text": [
      "4.497242710822926\n",
      "Fold 2\n",
      "(5232, 4, 400) (5232, 1) (504, 4, 400) (504, 1)\n"
     ]
    },
    {
     "name": "stderr",
     "output_type": "stream",
     "text": [
      "1308it [01:20, 16.31it/s]\n",
      "126it [00:07, 16.17it/s]\n"
     ]
    },
    {
     "name": "stdout",
     "output_type": "stream",
     "text": [
      "4.7282222669647975\n",
      "Fold 3\n",
      "(4914, 4, 400) (4914, 1) (822, 4, 400) (822, 1)\n"
     ]
    },
    {
     "name": "stderr",
     "output_type": "stream",
     "text": [
      "1229it [01:16, 16.05it/s]\n",
      "206it [00:13, 15.73it/s]\n"
     ]
    },
    {
     "name": "stdout",
     "output_type": "stream",
     "text": [
      "4.254756452928732\n",
      "Fold 4\n",
      "(5064, 4, 400) (5064, 1) (672, 4, 400) (672, 1)\n"
     ]
    },
    {
     "name": "stderr",
     "output_type": "stream",
     "text": [
      "1266it [01:19, 15.87it/s]\n",
      "168it [00:10, 15.29it/s]\n"
     ]
    },
    {
     "name": "stdout",
     "output_type": "stream",
     "text": [
      "5.475422481414118\n",
      "Fold 5\n",
      "(5232, 4, 400) (5232, 1) (504, 4, 400) (504, 1)\n"
     ]
    },
    {
     "name": "stderr",
     "output_type": "stream",
     "text": [
      "1308it [01:25, 15.38it/s]\n",
      "126it [00:08, 15.29it/s]\n"
     ]
    },
    {
     "name": "stdout",
     "output_type": "stream",
     "text": [
      "4.567622317877296\n",
      "Fold 6\n",
      "(4902, 4, 400) (4902, 1) (834, 4, 400) (834, 1)\n"
     ]
    },
    {
     "name": "stderr",
     "output_type": "stream",
     "text": [
      "1226it [01:19, 15.47it/s]\n",
      "209it [00:13, 15.87it/s]\n"
     ]
    },
    {
     "name": "stdout",
     "output_type": "stream",
     "text": [
      "5.091509847384163\n",
      "Fold 7\n",
      "(5172, 4, 400) (5172, 1) (564, 4, 400) (564, 1)\n"
     ]
    },
    {
     "name": "stderr",
     "output_type": "stream",
     "text": [
      "1293it [01:18, 16.39it/s]\n",
      "141it [00:08, 15.74it/s]\n"
     ]
    },
    {
     "name": "stdout",
     "output_type": "stream",
     "text": [
      "4.809018828922758\n",
      "Fold 8\n",
      "(5262, 4, 400) (5262, 1) (474, 4, 400) (474, 1)\n"
     ]
    },
    {
     "name": "stderr",
     "output_type": "stream",
     "text": [
      "1316it [01:20, 16.37it/s]\n",
      "119it [00:07, 16.25it/s]\n"
     ]
    },
    {
     "name": "stdout",
     "output_type": "stream",
     "text": [
      "2.8992933553344797\n",
      "Fold 9\n",
      "(5280, 4, 400) (5280, 1) (456, 4, 400) (456, 1)\n"
     ]
    },
    {
     "name": "stderr",
     "output_type": "stream",
     "text": [
      "1320it [01:22, 16.09it/s]\n",
      "114it [00:07, 15.01it/s]\n"
     ]
    },
    {
     "name": "stdout",
     "output_type": "stream",
     "text": [
      "4.854482256502285\n"
     ]
    }
   ],
   "source": [
    "spliter = load_model(r'./processed_signal/HKU956/last15_400_4s_step_2s_spliter10.pkl')\n",
    "data = pd.read_pickle(r'./processed_signal/HKU956/last15_400_4s_step_2s.pkl')\n",
    "# data = pd.read_csv(r'./processed_signal/HKU956/400_4s_step_2s.csv')\n",
    "\n",
    "all_res = []\n",
    "\n",
    "for i, k in enumerate(spliter[valid]):\n",
    "    print('Fold', i)\n",
    "    train_index = k['train_index']\n",
    "    test_index = k['test_index']\n",
    "    dataprepare = DataPrepare(args=args, target='valence_rating', data=data, train_index=train_index, test_index=test_index, device=device, batch_size=4)\n",
    "    ytest = dataprepare.ytest\n",
    "    ytrain = dataprepare.ytrain\n",
    "    train_data, test_data = dataprepare.get_data()\n",
    "\n",
    "    X_train = encoder(train_data)\n",
    "    X_test = encoder(test_data)\n",
    "    y_train = ytrain.reshape(-1, ).cpu().detach().numpy()\n",
    "    y_test = ytest.reshape(-1, ).cpu().detach().numpy()\n",
    "\n",
    "    # clf = LGBMClassifier()\n",
    "    clf = LGBMRegressor()\n",
    "    clf.fit(X_train, y_train)\n",
    "    pred = clf.predict(X_test)\n",
    "    print(np.sqrt(mean_squared_error(y_test, pred)))\n",
    "    # results = classification_report(y_test, pred, output_dict=True)\n",
    "    # print(results['accuracy'])\n",
    "    # all_res.append(results)"
   ]
  },
  {
   "cell_type": "code",
   "execution_count": 10,
   "metadata": {},
   "outputs": [
    {
     "data": {
      "text/plain": [
       "{'0.0': {'precision': 0.4351464435146444,\n",
       "  'recall': 0.48148148148148145,\n",
       "  'f1-score': 0.4571428571428572,\n",
       "  'support': 216},\n",
       " '1.0': {'precision': 0.5773584905660377,\n",
       "  'recall': 0.53125,\n",
       "  'f1-score': 0.5533453887884267,\n",
       "  'support': 288},\n",
       " 'accuracy': 0.5099206349206349,\n",
       " 'macro avg': {'precision': 0.506252467040341,\n",
       "  'recall': 0.5063657407407407,\n",
       "  'f1-score': 0.5052441229656419,\n",
       "  'support': 504},\n",
       " 'weighted avg': {'precision': 0.5164104704011548,\n",
       "  'recall': 0.5099206349206349,\n",
       "  'f1-score': 0.5121157323688968,\n",
       "  'support': 504}}"
      ]
     },
     "execution_count": 10,
     "metadata": {},
     "output_type": "execute_result"
    }
   ],
   "source": [
    "all_res[5]"
   ]
  },
  {
   "cell_type": "code",
   "execution_count": 12,
   "metadata": {},
   "outputs": [
    {
     "name": "stdout",
     "output_type": "stream",
     "text": [
      "(5280, 4, 400) (5280, 1) (456, 4, 400) (456, 1)\n"
     ]
    }
   ],
   "source": [
    "args = Params()\n",
    "dataprepare = DataPrepare(args=args, target='valence', data=data, train_index=train_index, test_index=test_index, device=device, batch_size=4)\n",
    "# train_dataloader, test_dataloader = dataprepare.get_data()"
   ]
  },
  {
   "cell_type": "code",
   "execution_count": 13,
   "metadata": {},
   "outputs": [
    {
     "data": {
      "text/plain": [
       "(torch.Size([456, 4, 400]),\n",
       " torch.Size([5280, 4, 400]),\n",
       " torch.Size([456, 1]),\n",
       " torch.Size([5280, 1]))"
      ]
     },
     "execution_count": 13,
     "metadata": {},
     "output_type": "execute_result"
    }
   ],
   "source": [
    "xtest = dataprepare.xtest\n",
    "xtrain = dataprepare.xtrain\n",
    "ytest = dataprepare.ytest\n",
    "ytrain = dataprepare.ytrain\n",
    "xtest.shape, xtrain.shape, ytest.shape, ytrain.shape"
   ]
  },
  {
   "cell_type": "code",
   "execution_count": 25,
   "metadata": {},
   "outputs": [],
   "source": [
    "from models import MER"
   ]
  },
  {
   "cell_type": "code",
   "execution_count": 14,
   "metadata": {},
   "outputs": [],
   "source": [
    "model.output_layer = MER.MERClassifer(args, 2)"
   ]
  },
  {
   "cell_type": "code",
   "execution_count": 15,
   "metadata": {},
   "outputs": [],
   "source": [
    "model = model.to(args.device)"
   ]
  },
  {
   "cell_type": "code",
   "execution_count": 16,
   "metadata": {},
   "outputs": [
    {
     "data": {
      "text/plain": [
       "torch.Size([5, 2])"
      ]
     },
     "execution_count": 16,
     "metadata": {},
     "output_type": "execute_result"
    }
   ],
   "source": [
    "model(xtest[:5]).shape"
   ]
  },
  {
   "cell_type": "code",
   "execution_count": 15,
   "metadata": {},
   "outputs": [],
   "source": [
    "data = load_model(r'./processed_signal/HKU956/400_4s_step_2s.pkl')"
   ]
  },
  {
   "cell_type": "code",
   "execution_count": 20,
   "metadata": {},
   "outputs": [
    {
     "data": {
      "text/plain": [
       " 0.0    790\n",
       " 6.2    524\n",
       " 1.4    523\n",
       " 1.8    479\n",
       " 2.2    434\n",
       "       ... \n",
       "-2.5     14\n",
       "-7.8     14\n",
       "-4.6     14\n",
       " 7.7     14\n",
       "-1.6     13\n",
       "Name: valence_rating, Length: 185, dtype: int64"
      ]
     },
     "execution_count": 20,
     "metadata": {},
     "output_type": "execute_result"
    }
   ],
   "source": [
    "data['valence_rating'].value_counts()"
   ]
  },
  {
   "cell_type": "code",
   "execution_count": null,
   "metadata": {},
   "outputs": [],
   "source": [
    "# encoded_xtrain = model.encoder(xtrain).flatten(start_dim=1)\n",
    "# encoded_xtrain.shape"
   ]
  },
  {
   "cell_type": "code",
   "execution_count": 39,
   "metadata": {},
   "outputs": [
    {
     "name": "stderr",
     "output_type": "stream",
     "text": [
      "1353it [01:27, 15.40it/s]\n",
      "81it [00:05, 14.70it/s]\n"
     ]
    }
   ],
   "source": []
  },
  {
   "cell_type": "code",
   "execution_count": 41,
   "metadata": {},
   "outputs": [],
   "source": []
  },
  {
   "cell_type": "code",
   "execution_count": 43,
   "metadata": {},
   "outputs": [
    {
     "data": {
      "text/plain": [
       "{'0.0': {'precision': 0.4,\n",
       "  'recall': 0.0625,\n",
       "  'f1-score': 0.10810810810810811,\n",
       "  'support': 96},\n",
       " '1.0': {'precision': 0.7087378640776699,\n",
       "  'recall': 0.9605263157894737,\n",
       "  'f1-score': 0.8156424581005587,\n",
       "  'support': 228},\n",
       " 'accuracy': 0.6944444444444444,\n",
       " 'macro avg': {'precision': 0.554368932038835,\n",
       "  'recall': 0.5115131578947368,\n",
       "  'f1-score': 0.4618752831043334,\n",
       "  'support': 324},\n",
       " 'weighted avg': {'precision': 0.617259978425027,\n",
       "  'recall': 0.6944444444444444,\n",
       "  'f1-score': 0.6060026506953882,\n",
       "  'support': 324}}"
      ]
     },
     "execution_count": 43,
     "metadata": {},
     "output_type": "execute_result"
    }
   ],
   "source": []
  },
  {
   "cell_type": "code",
   "execution_count": 50,
   "metadata": {},
   "outputs": [
    {
     "data": {
      "text/plain": [
       "1    2934\n",
       "0    2802\n",
       "Name: valence_label, dtype: int64"
      ]
     },
     "execution_count": 50,
     "metadata": {},
     "output_type": "execute_result"
    }
   ],
   "source": [
    "data = load_model(r'./processed_signal/HKU956/last15_400_4s_step_2s.pkl')\n",
    "data['valence_label'].value_counts()"
   ]
  },
  {
   "cell_type": "code",
   "execution_count": 49,
   "metadata": {},
   "outputs": [
    {
     "data": {
      "text/plain": [
       "1    2934\n",
       "0    2802\n",
       "Name: valence_label, dtype: int64"
      ]
     },
     "execution_count": 49,
     "metadata": {},
     "output_type": "execute_result"
    }
   ],
   "source": []
  },
  {
   "cell_type": "code",
   "execution_count": null,
   "metadata": {},
   "outputs": [],
   "source": []
  }
 ],
 "metadata": {
  "kernelspec": {
   "display_name": "base",
   "language": "python",
   "name": "python3"
  },
  "language_info": {
   "codemirror_mode": {
    "name": "ipython",
    "version": 3
   },
   "file_extension": ".py",
   "mimetype": "text/x-python",
   "name": "python",
   "nbconvert_exporter": "python",
   "pygments_lexer": "ipython3",
   "version": "3.9.13"
  },
  "orig_nbformat": 4,
  "vscode": {
   "interpreter": {
    "hash": "c2b388c6fce79e00fd9c43dd7c300c62775de93114fdc7222b9aeb8ab89a5a93"
   }
  }
 },
 "nbformat": 4,
 "nbformat_minor": 2
}
