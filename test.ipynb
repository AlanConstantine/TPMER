{
 "cells": [
  {
   "cell_type": "code",
   "execution_count": 9,
   "metadata": {},
   "outputs": [
    {
     "name": "stdout",
     "output_type": "stream",
     "text": [
      "using cuda\n"
     ]
    }
   ],
   "source": [
    "from CONSTANT import *\n",
    "from tools import *\n",
    "import pandas as pd\n",
    "import numpy as np\n",
    "from torch.utils.data import (TensorDataset, DataLoader, SequentialSampler, WeightedRandomSampler)\n",
    "\n",
    "import torch\n",
    "\n",
    "from torch import nn\n",
    "\n",
    "use_cuda = True\n",
    "valid='loso'\n",
    "\n",
    "device = torch.device('cuda' if torch.cuda.is_available() and use_cuda else 'cpu')\n",
    "print('using', device)"
   ]
  },
  {
   "cell_type": "code",
   "execution_count": 17,
   "metadata": {},
   "outputs": [],
   "source": [
    "class DataPrepare(object):\n",
    "    def __init__(self, target, data, train_index, test_index, batch_size=64,):\n",
    "\n",
    "        X, y = join_signals(data, target=target)\n",
    "        xtrain, ytrain, xtest, ytest = X[train_index], y[train_index], X[test_index], y[test_index]\n",
    "        print(xtrain.shape, ytrain.shape, xtest.shape, ytest.shape)\n",
    "        \n",
    "        self.xtrain = torch.from_numpy(xtrain).to(device).to (torch.float32)\n",
    "        self.xtest = torch.from_numpy(xtest).to(device).to (torch.float32)\n",
    "        \n",
    "        self.ytrain = torch.from_numpy(ytrain).to(device).to (torch.float32)\n",
    "        self.ytest = torch.from_numpy(ytest).to(device).to (torch.float32)\n",
    "        \n",
    "        print(self.xtrain.isnan().any(), self.xtest.isnan().any(), \n",
    "              self.ytrain.isnan().any(), self.ytest.isnan().any(),)\n",
    "        \n",
    "        self.batch_size = batch_size\n",
    "        \n",
    "    \n",
    "    def get_data(self):\n",
    "        train_data = TensorDataset(self.xtrain, self.ytrain)\n",
    "        test_data = TensorDataset(self.xtest, self.ytest)\n",
    "        \n",
    "        train_sampler = SequentialSampler(train_data)\n",
    "        train_dataloader = DataLoader(train_data, sampler=train_sampler, batch_size=self.batch_size, drop_last=True)\n",
    "        \n",
    "        test_sampler = SequentialSampler(test_data)\n",
    "        test_dataloader = DataLoader(test_data, sampler=test_sampler, batch_size=self.batch_size, drop_last=True)\n",
    "\n",
    "        return train_dataloader, test_dataloader"
   ]
  },
  {
   "cell_type": "code",
   "execution_count": 12,
   "metadata": {},
   "outputs": [],
   "source": [
    "spliter = load_model(r'./processed_signal/HKU956/400_4s_step_2s_spliter.pkl')\n",
    "\n",
    "\n",
    "# data = pd.read_pickle(r'./processed_signal/HKU956/400_4s_step_2s.pkl')\n",
    "data = pd.read_csv(r'./processed_signal/HKU956/400_4s_step_2s.csv')\n",
    "\n",
    "for k in spliter[valid]:\n",
    "    train_index = k['train_index']\n",
    "    test_index = k['test_index']\n",
    "    break"
   ]
  },
  {
   "cell_type": "code",
   "execution_count": 18,
   "metadata": {},
   "outputs": [
    {
     "name": "stdout",
     "output_type": "stream",
     "text": [
      "(18089, 4, 400) (18089,) (4638, 4, 400) (4638,)\n",
      "tensor(False, device='cuda:0') tensor(False, device='cuda:0') tensor(False, device='cuda:0') tensor(False, device='cuda:0')\n"
     ]
    }
   ],
   "source": [
    "dataprepare = DataPrepare(target='valence', data=data, train_index=train_index, test_index=test_index)\n",
    "train_dataloader, test_dataloader = dataprepare.get_data()"
   ]
  },
  {
   "cell_type": "code",
   "execution_count": 7,
   "metadata": {},
   "outputs": [],
   "source": [
    "class Params(object):\n",
    "    def __init__(self, lr=0.001, epoch=100, valid='loso', target='valence', batch_size=64,):\n",
    "        self.batch_size = batch_size\n",
    "        self.valid = valid\n",
    "        self.target = target\n",
    "        self.epoch = epoch\n",
    "        self.lr = lr\n",
    "        self.metrics_dict = {}"
   ]
  },
  {
   "cell_type": "code",
   "execution_count": 31,
   "metadata": {},
   "outputs": [],
   "source": [
    "import warnings\n",
    "warnings.filterwarnings(\"ignore\")"
   ]
  },
  {
   "cell_type": "code",
   "execution_count": 19,
   "metadata": {},
   "outputs": [
    {
     "data": {
      "text/plain": [
       "torch.Size([2, 4, 400])"
      ]
     },
     "execution_count": 19,
     "metadata": {},
     "output_type": "execute_result"
    }
   ],
   "source": [
    "xtest = dataprepare.xtest[:2]\n",
    "xtest.shape"
   ]
  },
  {
   "cell_type": "code",
   "execution_count": 20,
   "metadata": {},
   "outputs": [],
   "source": [
    "xtest = xtest.to(device)"
   ]
  },
  {
   "cell_type": "code",
   "execution_count": 60,
   "metadata": {},
   "outputs": [
    {
     "data": {
      "text/plain": [
       "Sequential(\n",
       "  (0): Dropout(p=0.5, inplace=False)\n",
       "  (1): Linear(in_features=256, out_features=1024, bias=True)\n",
       "  (2): ReLU(inplace=True)\n",
       "  (3): Dropout(p=0.5, inplace=False)\n",
       "  (4): Linear(in_features=1024, out_features=512, bias=True)\n",
       "  (5): ReLU(inplace=True)\n",
       "  (6): Linear(in_features=512, out_features=2, bias=True)\n",
       ")"
      ]
     },
     "execution_count": 60,
     "metadata": {},
     "output_type": "execute_result"
    }
   ],
   "source": [
    "# https://blog.csdn.net/Cyril_KI/article/details/125439045\n",
    "# https://github.com/ozancanozdemir/CNN-LSTM/blob/main/cnn-lstm.py\n",
    "\n",
    "cnns = nn.Sequential(\n",
    "    nn.Conv1d(4, 32, 3),\n",
    "    nn.ReLU(inplace=True),\n",
    "    nn.MaxPool1d(kernel_size=2, stride=1),\n",
    "    nn.BatchNorm1d(32),\n",
    "    nn.Conv1d(32, 64, 3),\n",
    "    nn.MaxPool1d(kernel_size=2, stride=1),\n",
    "    nn.BatchNorm1d(64),\n",
    "    nn.ReLU(inplace=True),\n",
    ")\n",
    "\n",
    "lstm1 = nn.LSTM(input_size=64, \n",
    "            hidden_size=256,\n",
    "            num_layers=3, batch_first=True,\n",
    "            bidirectional=True, dropout=0.5\n",
    "            )\n",
    "\n",
    "lstm2 = nn.LSTM(input_size=256, \n",
    "            hidden_size=256,\n",
    "            num_layers=3, batch_first=True,\n",
    "            bidirectional=True, dropout=0.5\n",
    "            )\n",
    "    \n",
    "\n",
    "classifier = nn.Sequential(\n",
    "            nn.Dropout(p=0.5),\n",
    "            nn.Linear(256, 1024),\n",
    "            nn.ReLU(inplace=True),\n",
    "            nn.Dropout(p=0.5),\n",
    "            nn.Linear(1024, 512),\n",
    "            nn.ReLU(inplace=True),\n",
    "            nn.Linear(512, 2)\n",
    "        )\n",
    "\n",
    "cnns.to(device)\n",
    "lstms.to(device)\n",
    "classifier.to(device)"
   ]
  },
  {
   "cell_type": "code",
   "execution_count": 78,
   "metadata": {},
   "outputs": [],
   "source": [
    "lstm = nn.Sequential(nn.LSTM(input_size=64, \n",
    "            hidden_size=256,\n",
    "            num_layers=3, batch_first=True,\n",
    "            bidirectional=True, dropout=0.5\n",
    "            )).to(device)\n",
    "\n",
    "lstm2 = nn.LSTM(input_size=512, \n",
    "            hidden_size=512,\n",
    "            num_layers=3, batch_first=True,\n",
    "            bidirectional=True, dropout=0.5\n",
    "            ).to(device)\n",
    "\n",
    "bn1 = nn.Sequential(nn.BatchNorm1d(256*2),\n",
    "                    nn.ReLU(inplace=True),\n",
    "        ).to(device)\n",
    "\n",
    "bn2 = nn.Sequential(nn.BatchNorm1d(512*2),\n",
    "                    nn.ReLU(inplace=True),\n",
    "        ).to(device)"
   ]
  },
  {
   "cell_type": "code",
   "execution_count": 80,
   "metadata": {},
   "outputs": [],
   "source": [
    "x = cnns(xtest) # output [batch_size, channels, seq_len]\n",
    "x = x.permute(0, 2, 1)\n",
    "x, _ = lstm(x) # output [batch_size, seq_len, Hin]\n",
    "x = x.permute(0, 2, 1)\n",
    "x = bn1(x)  # output [batch_size, Hin, seq_len]\n",
    "x = x.permute(0, 2, 1)\n",
    "x, _ = lstm2(x) # output [batch_size, seq_len, Hin]\n",
    "x = x.permute(0, 2, 1)\n",
    "x = bn2(x) # output [batch_size, Hin, seq_len]"
   ]
  },
  {
   "cell_type": "code",
   "execution_count": 82,
   "metadata": {},
   "outputs": [
    {
     "data": {
      "text/plain": [
       "torch.Size([2, 1024, 2])"
      ]
     },
     "execution_count": 82,
     "metadata": {},
     "output_type": "execute_result"
    }
   ],
   "source": [
    "classifier(x).shape"
   ]
  },
  {
   "cell_type": "code",
   "execution_count": null,
   "metadata": {},
   "outputs": [],
   "source": [
    "x = cnns(xtest) # output [batch_size, channels, seq_len]\n",
    "x = x.permute(0, 2, 1)\n",
    "x, _ = lstms(x) # output [batch_size, seq_len, Hin]\n",
    "# classifier(x).shape"
   ]
  },
  {
   "cell_type": "code",
   "execution_count": 57,
   "metadata": {},
   "outputs": [
    {
     "data": {
      "text/plain": [
       "torch.Size([2, 394, 512])"
      ]
     },
     "execution_count": 57,
     "metadata": {},
     "output_type": "execute_result"
    }
   ],
   "source": [
    "x.shape"
   ]
  },
  {
   "cell_type": "code",
   "execution_count": null,
   "metadata": {},
   "outputs": [],
   "source": [
    "cnns(xtest)"
   ]
  },
  {
   "cell_type": "code",
   "execution_count": 92,
   "metadata": {},
   "outputs": [],
   "source": [
    "class CNNBiLSTM(nn.Module):\n",
    "    def __init__(self, args):\n",
    "        super().__init__()\n",
    "        self.args = args\n",
    "        self.cnns = nn.Sequential(\n",
    "            nn.Conv1d(4, 32, 3),\n",
    "            nn.ReLU(inplace=True),\n",
    "            nn.MaxPool1d(kernel_size=2, stride=1),\n",
    "            nn.BatchNorm1d(32),\n",
    "            nn.Conv1d(32, args.out_channels, 3),\n",
    "            nn.MaxPool1d(kernel_size=2, stride=1),\n",
    "            nn.BatchNorm1d(64),\n",
    "            nn.ReLU(inplace=True),\n",
    "        )\n",
    "\n",
    "        self.lstm1 = nn.LSTM(input_size=args.out_channels, \n",
    "                    hidden_size=512,\n",
    "                    num_layers=args.num_layers, batch_first=True,\n",
    "                    bidirectional=True\n",
    "                    )\n",
    "\n",
    "        self.lstm2 = nn.LSTM(input_size=512 * 2, \n",
    "                    hidden_size=args.hidden_size,\n",
    "                    num_layers=args.num_layers, batch_first=True,\n",
    "                    bidirectional=True\n",
    "                    )\n",
    "\n",
    "        self.classifier = nn.Sequential(\n",
    "            nn.Dropout(p=0.5),\n",
    "            nn.Linear(args.hidden_size, 1024),\n",
    "            nn.ReLU(inplace=True),\n",
    "            nn.Dropout(p=0.5),\n",
    "            nn.Linear(1024, 512),\n",
    "            nn.ReLU(inplace=True),\n",
    "            nn.Linear(512, 2)\n",
    "        )\n",
    "\n",
    "        self.relu = nn.ReLU(inplace=True)\n",
    "\n",
    "    def forward(self, x):\n",
    "        \"\"\"\n",
    "        input [batch_size, channels, seq_len]\n",
    "        \"\"\"\n",
    "        x = self.cnns(x) # output [batch_size, channels, seq_len]\n",
    "        x = x.permute(0, 2, 1)\n",
    "        x, _ = self.lstm1(x) # output [batch_size, seq_len, Hin]\n",
    "        x = self.relu(x)\n",
    "        x, _ = self.lstm2(x) # output [batch_size, seq_len, Hin]\n",
    "        x = self.relu(x)\n",
    "        output = classifier(x)\n",
    "        return output"
   ]
  },
  {
   "cell_type": "code",
   "execution_count": 93,
   "metadata": {},
   "outputs": [],
   "source": [
    "class Params(object):\n",
    "    def __init__(self):\n",
    "        super().__init__()\n",
    "        self.out_channels = 64\n",
    "        self.hidden_size = 256\n",
    "        self.num_layers = 3"
   ]
  },
  {
   "cell_type": "code",
   "execution_count": 94,
   "metadata": {},
   "outputs": [],
   "source": [
    "args = Params()\n",
    "net = CNNBiLSTM(args).to(device)"
   ]
  },
  {
   "cell_type": "code",
   "execution_count": 96,
   "metadata": {},
   "outputs": [
    {
     "data": {
      "text/plain": [
       "torch.Size([2, 394, 2])"
      ]
     },
     "execution_count": 96,
     "metadata": {},
     "output_type": "execute_result"
    }
   ],
   "source": [
    "net(xtest).shape"
   ]
  },
  {
   "cell_type": "code",
   "execution_count": null,
   "metadata": {},
   "outputs": [],
   "source": []
  }
 ],
 "metadata": {
  "kernelspec": {
   "display_name": "Python 3.8.12 ('base')",
   "language": "python",
   "name": "python3"
  },
  "language_info": {
   "codemirror_mode": {
    "name": "ipython",
    "version": 3
   },
   "file_extension": ".py",
   "mimetype": "text/x-python",
   "name": "python",
   "nbconvert_exporter": "python",
   "pygments_lexer": "ipython3",
   "version": "3.8.12"
  },
  "orig_nbformat": 4,
  "vscode": {
   "interpreter": {
    "hash": "1d5334fe9b82e8c016b8b2657765205a9a9ba0b9bc469dbf5ca7c631ff3e3ab7"
   }
  }
 },
 "nbformat": 4,
 "nbformat_minor": 2
}
