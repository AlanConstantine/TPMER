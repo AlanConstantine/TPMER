{
 "cells": [
  {
   "cell_type": "code",
   "execution_count": 6,
   "metadata": {},
   "outputs": [
    {
     "name": "stdout",
     "output_type": "stream",
     "text": [
      "using cpu\n"
     ]
    }
   ],
   "source": [
    "from CONSTANT import *\n",
    "from tools import *\n",
    "import pandas as pd\n",
    "import numpy as np\n",
    "from torch.utils.data import (TensorDataset, DataLoader, SequentialSampler, WeightedRandomSampler)\n",
    "\n",
    "import torch\n",
    "\n",
    "from torch import nn\n",
    "\n",
    "use_cuda = False\n",
    "valid='loso'\n",
    "\n",
    "device = torch.device('cuda' if torch.cuda.is_available() and use_cuda else 'cpu')\n",
    "print('using', device)"
   ]
  },
  {
   "cell_type": "code",
   "execution_count": 8,
   "metadata": {},
   "outputs": [],
   "source": [
    "class DataPrepare(object):\n",
    "    def __init__(self, tag, data, train_index, test_index, batch_size=64,):\n",
    "\n",
    "        X, y = join_signals(data, target=tag)\n",
    "        xtrain, ytrain, xtest, ytest = X[train_index], y[train_index], X[test_index], y[test_index]\n",
    "        print(xtrain.shape, ytrain.shape, xtest.shape, ytest.shape)\n",
    "        \n",
    "        self.xtrain = torch.from_numpy(xtrain).to(device)\n",
    "        self.xtest = torch.from_numpy(xtest).to(device)\n",
    "        \n",
    "        self.ytrain = torch.from_numpy(ytrain).to(device)\n",
    "        self.ytest = torch.from_numpy(ytest).to(device) \n",
    "        \n",
    "        print(self.xtrain.isnan().any(), self.xtest.isnan().any(), \n",
    "              self.ytrain.isnan().any(), self.ytest.isnan().any(),)\n",
    "        \n",
    "        self.batch_size = batch_size\n",
    "        \n",
    "    \n",
    "    def get_data(self):\n",
    "        train_data = TensorDataset(self.xtrain, self.ytrain)\n",
    "        test_data = TensorDataset(self.xtest, self.ytest)\n",
    "        \n",
    "        train_sampler = SequentialSampler(train_data)\n",
    "        train_dataloader = DataLoader(train_data, sampler=train_sampler, batch_size=self.batch_size, drop_last=True)\n",
    "        \n",
    "        test_sampler = SequentialSampler(test_data)\n",
    "        test_dataloader = DataLoader(test_data, sampler=test_sampler, batch_size=self.batch_size, drop_last=True)\n",
    "\n",
    "        return train_dataloader, test_dataloader"
   ]
  },
  {
   "cell_type": "code",
   "execution_count": 12,
   "metadata": {},
   "outputs": [],
   "source": [
    "spliter = load_model(r'./processed_signal/HKU956/400_4s_step_2s_spliter.pkl')\n",
    "data = pd.read_pickle(r'./processed_signal/HKU956/400_4s_step_2s.pkl')\n",
    "for k in spliter[valid]:\n",
    "    train_index = k['train_index']\n",
    "    test_index = k['test_index']\n",
    "    break"
   ]
  },
  {
   "cell_type": "code",
   "execution_count": 13,
   "metadata": {},
   "outputs": [
    {
     "name": "stdout",
     "output_type": "stream",
     "text": [
      "(18089, 4, 400) (18089,) (4638, 4, 400) (4638,)\n",
      "tensor(False) tensor(False) tensor(False) tensor(False)\n"
     ]
    }
   ],
   "source": [
    "dataprepare = DataPrepare(tag='valence', data=data, train_index=train_index, test_index=test_index, )\n",
    "train_dataloader, test_dataloader = dataprepare.get_data()"
   ]
  },
  {
   "cell_type": "code",
   "execution_count": null,
   "metadata": {},
   "outputs": [],
   "source": []
  }
 ],
 "metadata": {
  "kernelspec": {
   "display_name": "Python 3.8.12 ('base')",
   "language": "python",
   "name": "python3"
  },
  "language_info": {
   "codemirror_mode": {
    "name": "ipython",
    "version": 3
   },
   "file_extension": ".py",
   "mimetype": "text/x-python",
   "name": "python",
   "nbconvert_exporter": "python",
   "pygments_lexer": "ipython3",
   "version": "3.8.12"
  },
  "orig_nbformat": 4,
  "vscode": {
   "interpreter": {
    "hash": "1d5334fe9b82e8c016b8b2657765205a9a9ba0b9bc469dbf5ca7c631ff3e3ab7"
   }
  }
 },
 "nbformat": 4,
 "nbformat_minor": 2
}
