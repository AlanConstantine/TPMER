{
 "cells": [
  {
   "cell_type": "code",
   "execution_count": 1,
   "metadata": {},
   "outputs": [],
   "source": [
    "import warnings\n",
    "warnings.filterwarnings('ignore')\n",
    "\n",
    "import gc\n",
    "\n",
    "import numpy as np\n",
    "import pandas as pd\n",
    "from tqdm import tqdm\n",
    "\n",
    "from tools import *"
   ]
  },
  {
   "cell_type": "code",
   "execution_count": 2,
   "metadata": {},
   "outputs": [],
   "source": [
    "s_features = ['B_HYC_NH4', 'B_HYC_XD', 'B_HYC_MLSS', 'B_HYC_JS_DO', 'B_HYC_DO',\n",
    "       'B_CS_MQ_SSLL', 'B_QY_ORP']\n",
    "n_features = ['N_HYC_NH4', 'N_HYC_XD', 'N_HYC_MLSS',\n",
    "       'N_HYC_JS_DO', 'N_HYC_DO', 'N_CS_MQ_SSLL', 'N_QY_ORP']\n",
    "base_features = ['JS_NH3', 'CS_NH3', 'JS_TN', 'CS_TN', 'JS_LL', 'CS_LL',\n",
    "       'MCCS_NH4', 'MCCS_NO3', 'JS_COD', 'CS_COD', 'JS_SW', 'CS_SW',]"
   ]
  },
  {
   "cell_type": "code",
   "execution_count": null,
   "metadata": {},
   "outputs": [],
   "source": [
    "train_data = pd.read_csv(r'./data/train_dataset.csv')\n",
    "test_data = pd.read_csv(r'./data/evaluation_public.csv')\n",
    "\n",
    "train_data['istest'] = 0\n",
    "test_data['istest'] = 1\n",
    "data = pd.concat([train_data, test_data], axis=0, ignore_index=True)\n",
    "del train_data, test_data\n",
    "gc.collect()\n",
    "data.shape"
   ]
  },
  {
   "cell_type": "code",
   "execution_count": null,
   "metadata": {},
   "outputs": [],
   "source": [
    "data['time'] = pd.to_datetime(data['time'])\n",
    "\n",
    "data['month'] = data['time'].dt.month\n",
    "data['minute'] = data['time'].dt.minute\n",
    "\n",
    "data['day'] = data['time'].dt.day\n",
    "data['hour'] = data['time'].dt.hour\n",
    "data['dayofweek'] = data['time'].dt.dayofweek\n",
    "\n",
    "data['minute10'] = (data['minute'] // 10) * 10\n",
    "\n",
    "data['hourl'] = data['day'] * 24 + data['hour']\n",
    "data['hourl'] = data['hourl'] - data['hourl'].min() # 将时转换成连续递增序列\n",
    "\n",
    "data['minute10l'] = data['hourl'] * 60 + data['minute10']\n",
    "data['minute10l'] = data['minute10l'] - data['minute10l'].min()  # 将分转换成连续递增序列\n",
    "data['ts'] = pd.to_datetime(data['time'], format='%Y/%m/%d %H:%M').dt.strftime(\"%Y%m%d%H%M\")\n",
    "\n",
    "data = data.sort_values(by='ts')"
   ]
  },
  {
   "cell_type": "markdown",
   "metadata": {},
   "source": [
    "# plot"
   ]
  }
 ],
 "metadata": {
  "kernelspec": {
   "display_name": "Python 3.9.12 ('base')",
   "language": "python",
   "name": "python3"
  },
  "language_info": {
   "codemirror_mode": {
    "name": "ipython",
    "version": 3
   },
   "file_extension": ".py",
   "mimetype": "text/x-python",
   "name": "python",
   "nbconvert_exporter": "python",
   "pygments_lexer": "ipython3",
   "version": "3.9.12"
  },
  "orig_nbformat": 4,
  "vscode": {
   "interpreter": {
    "hash": "c2b388c6fce79e00fd9c43dd7c300c62775de93114fdc7222b9aeb8ab89a5a93"
   }
  }
 },
 "nbformat": 4,
 "nbformat_minor": 2
}
