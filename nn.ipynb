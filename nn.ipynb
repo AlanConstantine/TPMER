{
 "cells": [
  {
   "cell_type": "code",
   "execution_count": 2,
   "metadata": {},
   "outputs": [],
   "source": [
    "import torch\n",
    "from torch import nn\n",
    "from torch.utils.data import DataLoader\n",
    "from torchvision import datasets, transforms"
   ]
  },
  {
   "cell_type": "code",
   "execution_count": 14,
   "metadata": {},
   "outputs": [],
   "source": [
    "batch_size = 64\n",
    "learning_rate = 1e-2\n",
    "num_epochs = 3 # 训练次数\n",
    "# 判断GPU是否可用\n",
    "use_gpu = torch.cuda.is_available()\n",
    "\n",
    "# # 下载训练集 MNIST 手写数字训练集\n",
    "# # 数据是datasets类型的\n",
    "# train_dataset = datasets.FashionMNIST(\n",
    "#     root='./datasets', train=True, transform=transforms.ToTensor(), download=True)\n",
    "\n",
    "# test_dataset = datasets.FashionMNIST(\n",
    "#     root='./datasets', train=False, transform=transforms.ToTensor())\n",
    "# #　将数据处理成 DataLoader\n",
    "# train_loader = DataLoader(train_dataset, batch_size=batch_size, shuffle=True) # 选择打乱数据\n",
    "# test_loader = DataLoader(test_dataset, batch_size=batch_size, shuffle=False) # 选择不打乱数据"
   ]
  },
  {
   "cell_type": "code",
   "execution_count": 5,
   "metadata": {},
   "outputs": [],
   "source": [
    "class neuralNetwork(nn.Module):\n",
    "    def __init__(self, in_dim, n_hidden_1, n_hidden_2, out_dim):\n",
    "        super(neuralNetwork, self).__init__() # super() 函数是用于调用父类(超类)的一个方法\n",
    "# Sequential()表示将一个有序的模块写在一起，也就相当于将神经网络的层按顺序放在一起，这样可以方便结构显示\n",
    "        self.layer1 = nn.Sequential(\n",
    "            nn.Linear(in_dim, n_hidden_1),\n",
    "            nn.ReLU(True)) # 表示使用ReLU激活函数\n",
    "        self.layer2 = nn.Sequential(\n",
    "            nn.Linear(n_hidden_1, n_hidden_2),\n",
    "            nn.ReLU(True))\n",
    "        self.layer3 = nn.Sequential(\n",
    "            nn.Linear(n_hidden_2, out_dim),\n",
    "            nn.ReLU(True))\n",
    "\n",
    "# 定义向前传播\n",
    "    def forward(self, x):\n",
    "        x = self.layer1(x)\n",
    "        x = self.layer2(x)\n",
    "        x = self.layer3(x)\n",
    "        return x"
   ]
  },
  {
   "cell_type": "code",
   "execution_count": 6,
   "metadata": {},
   "outputs": [],
   "source": [
    "model = neuralNetwork(28 * 28, 300, 100, 10)"
   ]
  },
  {
   "cell_type": "code",
   "execution_count": 7,
   "metadata": {},
   "outputs": [],
   "source": [
    "criterion = nn.CrossEntropyLoss() # 定义损失函数类型，使用交叉熵\n",
    "optimizer = torch.optim.SGD(model.parameters(), lr=learning_rate) # 定义优化器，使用随机梯度下降"
   ]
  },
  {
   "cell_type": "code",
   "execution_count": 13,
   "metadata": {},
   "outputs": [
    {
     "name": "stdout",
     "output_type": "stream",
     "text": [
      "**********\n",
      "epoch 1\n",
      "[1/5] Loss: 0.794353, Acc: 0.765260\n",
      "[1/5] Loss: 0.792761, Acc: 0.765260\n",
      "[1/5] Loss: 0.795929, Acc: 0.765434\n",
      "Finish 1 epoch, Loss: 0.796212, Acc: 0.765375\n",
      "layer3.0.bias -->grad_requirs: True\n",
      "layer3.0.bias -->grad_value: tensor(0.0013)\n",
      "**********\n",
      "epoch 2\n",
      "[2/5] Loss: 0.796180, Acc: 0.762656\n",
      "[2/5] Loss: 0.790753, Acc: 0.765938\n",
      "[2/5] Loss: 0.789586, Acc: 0.767483\n",
      "Finish 2 epoch, Loss: 0.790850, Acc: 0.767807\n",
      "layer3.0.bias -->grad_requirs: True\n",
      "layer3.0.bias -->grad_value: tensor(0.0036)\n",
      "**********\n",
      "epoch 3\n",
      "[3/5] Loss: 0.789247, Acc: 0.766927\n",
      "[3/5] Loss: 0.784501, Acc: 0.770312\n",
      "[3/5] Loss: 0.784194, Acc: 0.770174\n",
      "Finish 3 epoch, Loss: 0.785919, Acc: 0.769723\n",
      "layer3.0.bias -->grad_requirs: True\n",
      "layer3.0.bias -->grad_value: tensor(-0.0075)\n",
      "**********\n",
      "epoch 4\n",
      "[4/5] Loss: 0.790819, Acc: 0.768385\n",
      "[4/5] Loss: 0.784552, Acc: 0.770339\n",
      "[4/5] Loss: 0.778672, Acc: 0.772899\n",
      "Finish 4 epoch, Loss: 0.780221, Acc: 0.772455\n",
      "layer3.0.bias -->grad_requirs: True\n",
      "layer3.0.bias -->grad_value: tensor(-0.0103)\n",
      "**********\n",
      "epoch 5\n",
      "[5/5] Loss: 0.780701, Acc: 0.774844\n",
      "[5/5] Loss: 0.778920, Acc: 0.773411\n",
      "[5/5] Loss: 0.776493, Acc: 0.773212\n",
      "Finish 5 epoch, Loss: 0.776583, Acc: 0.773138\n",
      "layer3.0.bias -->grad_requirs: True\n",
      "layer3.0.bias -->grad_value: tensor(0.0026)\n"
     ]
    }
   ],
   "source": [
    "# 开始模型训练\n",
    "for epoch in range(num_epochs):\n",
    "    print('*' * 10)\n",
    "    print(f'epoch {epoch+1}')\n",
    "    running_loss = 0.0 # 初始值\n",
    "    running_acc = 0.0\n",
    "    for i, data in enumerate(train_loader, 1): # 枚举函数enumerate返回下标和值\n",
    "        img, label = data\n",
    "        img = img.view(img.size(0), -1) # 将图片展开为28*28\n",
    "        # 使用GPU？\n",
    "        if use_gpu:\n",
    "            img = img.cuda()\n",
    "            label = label.cuda()\n",
    "        # 向前传播\n",
    "        out = model(img) # 前向传播\n",
    "        loss = criterion(out, label) # 计算loss\n",
    "        running_loss += loss.item() # loss求和\n",
    "        _, pred = torch.max(out, 1)\n",
    "        running_acc += (pred == label).float().mean()\n",
    "        # 向后传播\n",
    "        optimizer.zero_grad() # 梯度归零\n",
    "        loss.backward() # 后向传播\n",
    "        optimizer.step() # 更新参数\n",
    "\n",
    "        if i % 300 == 0:\n",
    "            print(f'[{epoch+1}/{num_epochs}] Loss: {running_loss/i:.6f}, Acc: {running_acc/i:.6f}')\n",
    "    print(f'Finish {epoch+1} epoch, Loss: {running_loss/i:.6f}, Acc: {running_acc/i:.6f}')\n",
    "    for name, parms in model.named_parameters():\n",
    "        if name in ['layer3.0.bias', 'layer3.0.bias']:\n",
    "            # print('-->name:', name)\n",
    "            print(name, '-->grad_requirs:', parms.requires_grad)\n",
    "            # print('--weight', torch.mean(parms.data))\n",
    "            print(name, '-->grad_value:', torch.mean(parms.grad))\n",
    "            # if name == 'cnns.0.weight':\n",
    "            # print(name, torch.mean(parms.data))"
   ]
  },
  {
   "cell_type": "code",
   "execution_count": 16,
   "metadata": {},
   "outputs": [
    {
     "name": "stdout",
     "output_type": "stream",
     "text": [
      "False\n",
      "None\n"
     ]
    }
   ],
   "source": [
    "for i, data in enumerate(train_loader, 1): # 枚举函数enumerate返回下标和值\n",
    "        img, label = data\n",
    "        print(img.requires_grad)\n",
    "        print(img.grad)\n",
    "        break"
   ]
  },
  {
   "cell_type": "code",
   "execution_count": null,
   "metadata": {},
   "outputs": [],
   "source": []
  }
 ],
 "metadata": {
  "kernelspec": {
   "display_name": "Python 3.7.11 ('base')",
   "language": "python",
   "name": "python3"
  },
  "language_info": {
   "codemirror_mode": {
    "name": "ipython",
    "version": 3
   },
   "file_extension": ".py",
   "mimetype": "text/x-python",
   "name": "python",
   "nbconvert_exporter": "python",
   "pygments_lexer": "ipython3",
   "version": "3.7.11"
  },
  "orig_nbformat": 4,
  "vscode": {
   "interpreter": {
    "hash": "13e5bb8e298584c2ac3139085defc83b48703aa1260fc05df28d0eb98c842854"
   }
  }
 },
 "nbformat": 4,
 "nbformat_minor": 2
}
