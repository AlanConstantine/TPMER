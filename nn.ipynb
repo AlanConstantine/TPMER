{
 "cells": [
  {
   "cell_type": "code",
   "execution_count": 11,
   "metadata": {},
   "outputs": [],
   "source": [
    "import torch\n",
    "from torch import nn\n",
    "from torch.utils.data import DataLoader\n",
    "from torchvision import datasets, transforms\n",
    "import pandas as pred\n",
    "import numpy as np\n",
    "from CONSTANT import *\n",
    "from tools import *\n",
    "import torch.nn.functional as F\n",
    "from torch.utils.data import (\n",
    "    TensorDataset, DataLoader, SequentialSampler, WeightedRandomSampler)"
   ]
  },
  {
   "cell_type": "code",
   "execution_count": 2,
   "metadata": {},
   "outputs": [],
   "source": [
    "\n",
    "use_gpu = torch.cuda.is_available()"
   ]
  },
  {
   "cell_type": "code",
   "execution_count": 8,
   "metadata": {},
   "outputs": [],
   "source": [
    "class DatasetProvider(torch.utils.data.Dataset):\n",
    "    def __init__(self, target, file_name, train_index, test_index, batch_size):\n",
    "        self.batch_size = batch_size\n",
    "        data = pd.read_csv(file_name)\n",
    "        X, y = join_signals(data, target=target)\n",
    "\n",
    "        xtrain, ytrain, xtest, ytest = X[train_index], y[train_index], X[test_index], y[test_index]\n",
    "\n",
    "        self.xtrain = torch.tensor(xtrain, dtype=torch.float32)\n",
    "        self.xtest = torch.tensor(xtest, dtype=torch.float32)\n",
    "\n",
    "        self.ytrain = torch.tensor(ytrain, dtype=torch.long)\n",
    "        self.ytest = torch.tensor(ytest, dtype=torch.long)\n",
    "\n",
    "        \n",
    "\n",
    "        print(self.xtrain.shape, self.ytrain.shape, self.xtest.shape, self.ytest.shape)\n",
    "\n",
    "    def get_data(self):\n",
    "        train_set = TensorDataset(self.xtrain, self.ytrain)\n",
    "        test_set = TensorDataset(self.xtest, self.ytest)\n",
    "\n",
    "        train_loader = DataLoader(train_set,batch_size=self.batch_size, shuffle=True, drop_last=False)\n",
    "        test_loader = DataLoader(test_set, batch_size=self.batch_size,drop_last=False)\n",
    "\n",
    "        return train_loader, test_loader"
   ]
  },
  {
   "cell_type": "code",
   "execution_count": 4,
   "metadata": {},
   "outputs": [],
   "source": [
    "spliter = load_model(\n",
    "        r'./processed_signal/HKU956/400_4s_step_2s_spliter.pkl')"
   ]
  },
  {
   "cell_type": "code",
   "execution_count": 5,
   "metadata": {},
   "outputs": [],
   "source": [
    "for k in spliter['loso']:\n",
    "    train_index = k['train_index']\n",
    "    test_index = k['test_index']\n",
    "    break"
   ]
  },
  {
   "cell_type": "code",
   "execution_count": 108,
   "metadata": {},
   "outputs": [
    {
     "name": "stdout",
     "output_type": "stream",
     "text": [
      "torch.Size([18089, 4, 400]) torch.Size([18089, 1]) torch.Size([4638, 4, 400]) torch.Size([4638, 1])\n"
     ]
    }
   ],
   "source": [
    "dataprovider = DatasetProvider(target='valence_label',\n",
    "                               file_name=r'./processed_signal/HKU956/400_4s_step_2s.csv',\n",
    "                               train_index=train_index,\n",
    "                               test_index=test_index,\n",
    "                               batch_size=256\n",
    "                            )"
   ]
  },
  {
   "cell_type": "code",
   "execution_count": 109,
   "metadata": {},
   "outputs": [],
   "source": [
    "train_loader, test_loader = dataprovider.get_data()"
   ]
  },
  {
   "cell_type": "code",
   "execution_count": 117,
   "metadata": {},
   "outputs": [],
   "source": [
    "class neuralNetwork(nn.Module):\n",
    "    def __init__(self, in_dim, layer_num, n_hidden_1, n_hidden_2, out_dim):\n",
    "        super(neuralNetwork, self).__init__() # super() 函数是用于调用父类(超类)的一个方法\n",
    "# Sequential()表示将一个有序的模块写在一起，也就相当于将神经网络的层按顺序放在一起，这样可以方便结构显示\n",
    "        self.layer1 = nn.Sequential(\n",
    "            nn.Linear(in_dim, n_hidden_1),\n",
    "            nn.ReLU(True)) # 表示使用ReLU激活函数\n",
    "        self.layer2 = nn.Sequential(\n",
    "            nn.Linear(n_hidden_1, n_hidden_2),\n",
    "            nn.ReLU(True))\n",
    "        self.layer_m = nn.ModuleList([nn.Linear(n_hidden_2, n_hidden_2) for _ in range(layer_num)])\n",
    "        self.layer3 = nn.Sequential(\n",
    "            nn.Linear(n_hidden_2, out_dim),\n",
    "            nn.ReLU(True))\n",
    "\n",
    "        # self.sigmoid = nn.Sigmoid()\n",
    "\n",
    "# 定义向前传播\n",
    "    def forward(self, x):\n",
    "        x = x.flatten(start_dim=1)\n",
    "        x = self.layer1(x)\n",
    "        x = self.layer2(x)\n",
    "        for m in self.layer_m:\n",
    "            x = m(x)\n",
    "            x = F.relu(x)\n",
    "        x = self.layer3(x)\n",
    "        # x = self.sigmoid(x)\n",
    "        return x"
   ]
  },
  {
   "cell_type": "code",
   "execution_count": 118,
   "metadata": {},
   "outputs": [],
   "source": [
    "model = neuralNetwork(4*400, 1, 1024, 512, 2)\n",
    "if use_gpu:\n",
    "    model = model.cuda()\n",
    "\n",
    "for param in model.parameters():\n",
    "    nn.init.normal_(param, mean=0, std=0.01)"
   ]
  },
  {
   "cell_type": "code",
   "execution_count": 119,
   "metadata": {},
   "outputs": [
    {
     "data": {
      "text/plain": [
       "1    9715\n",
       "0    8374\n",
       "dtype: int64"
      ]
     },
     "execution_count": 119,
     "metadata": {},
     "output_type": "execute_result"
    }
   ],
   "source": [
    "ytrain = dataprovider.ytrain\n",
    "pd.Series(ytrain.reshape(1, -1)[0]).value_counts()"
   ]
  },
  {
   "cell_type": "code",
   "execution_count": 135,
   "metadata": {},
   "outputs": [],
   "source": [
    "device = torch.device('cpu')\n",
    "\n",
    "# criterion = nn.CrossEntropyLoss() # 定义损失函数类型，使用交叉熵\n",
    "# criterion = nn.BCELoss()\n",
    "# criterion = nn.NLLLoss()\n",
    "criterion = nn.BCEWithLogitsLoss().to(device)\n",
    "\n",
    "\n",
    "# optimizer = torch.optim.AdamW(model.parameters(), lr=0.00001) # 定义优化器，使用随机梯度下降\n",
    "optimizer = torch.optim.AdamW(model.parameters(), lr=0.00001) # 定义优化器，使用随机梯度下降\n",
    "# optimizer = torch.optim.Adadelta(model.parameters(), lr=0.01) # 定义优化器，使用随机梯度下降\n",
    "# optimizer = torch.optim.Adagrad(model.parameters(), lr=0.01) # 定义优化器，使用随机梯度下降\n"
   ]
  },
  {
   "cell_type": "code",
   "execution_count": 139,
   "metadata": {},
   "outputs": [
    {
     "name": "stdout",
     "output_type": "stream",
     "text": [
      "Finish 1 epoch, Loss: 0.693147, Acc: 0.463153\n"
     ]
    },
    {
     "ename": "TypeError",
     "evalue": "mean(): argument 'input' (position 1) must be Tensor, not NoneType",
     "output_type": "error",
     "traceback": [
      "\u001b[0;31m---------------------------------------------------------------------------\u001b[0m",
      "\u001b[0;31mTypeError\u001b[0m                                 Traceback (most recent call last)",
      "\u001b[0;32m/var/folders/8g/3sc7r5dj7qz94wqgk5mfx4tc0000gn/T/ipykernel_62522/2204712796.py\u001b[0m in \u001b[0;36m<module>\u001b[0;34m\u001b[0m\n\u001b[1;32m     38\u001b[0m             print('\\t', name, 'grad_requirs:', parms.requires_grad, \n\u001b[1;32m     39\u001b[0m                   \u001b[0;34m'weight'\u001b[0m\u001b[0;34m,\u001b[0m \u001b[0mtorch\u001b[0m\u001b[0;34m.\u001b[0m\u001b[0mmean\u001b[0m\u001b[0;34m(\u001b[0m\u001b[0mparms\u001b[0m\u001b[0;34m.\u001b[0m\u001b[0mdata\u001b[0m\u001b[0;34m)\u001b[0m\u001b[0;34m,\u001b[0m\u001b[0;34m\u001b[0m\u001b[0;34m\u001b[0m\u001b[0m\n\u001b[0;32m---> 40\u001b[0;31m                   \u001b[0;34m'grad_value:'\u001b[0m\u001b[0;34m,\u001b[0m \u001b[0mtorch\u001b[0m\u001b[0;34m.\u001b[0m\u001b[0mmean\u001b[0m\u001b[0;34m(\u001b[0m\u001b[0mparms\u001b[0m\u001b[0;34m.\u001b[0m\u001b[0mgrad\u001b[0m\u001b[0;34m)\u001b[0m\u001b[0;34m\u001b[0m\u001b[0;34m\u001b[0m\u001b[0m\n\u001b[0m\u001b[1;32m     41\u001b[0m                   )\n",
      "\u001b[0;31mTypeError\u001b[0m: mean(): argument 'input' (position 1) must be Tensor, not NoneType"
     ]
    }
   ],
   "source": [
    "num_epochs = 100\n",
    "# 开始模型训练\n",
    "for epoch in range(num_epochs):\n",
    "    # print('*' * 10)\n",
    "    # print(f'epoch {epoch+1}')\n",
    "    running_loss = 0.0 # 初始值\n",
    "    running_acc = 0.0\n",
    "    for i, batch in enumerate(train_loader, 1): # 枚举函数enumerate返回下标和值\n",
    "        data, label = batch\n",
    "\n",
    "        label = label.reshape(1, -1)[0]\n",
    "        # 使用GPU？\n",
    "        if use_gpu:\n",
    "            data = data.cuda()\n",
    "            label = label.cuda()\n",
    "        # 向前传播\n",
    "        out = model(data) # 前向传播\n",
    "        # print(label)\n",
    "        # loss = criterion(out, label) # 计算loss\n",
    "        # print(torch.argmax(out, dim=1).float())\n",
    "        loss = criterion(torch.argmax(out, dim=1).float(), label.float()) # 计算loss\n",
    "        # loss = criterion(torch.argmax(out, dim=1), label) # 计算loss\n",
    "        # loss = F.binary_cross_entropy_with_logits(torch.argmax(out, dim=1).float(), label.float())\n",
    "        loss.requires_grad = True\n",
    "        running_loss += loss.item() # loss求和\n",
    "        _, pred = torch.max(out, 1)\n",
    "        running_acc += (pred == label).float().mean()\n",
    "        # 向后传播\n",
    "        optimizer.zero_grad() # 梯度归零\n",
    "        loss.backward() # 后向传播\n",
    "        optimizer.step() # 更新参数\n",
    "\n",
    "        if i % 300 == 0:\n",
    "            print(f'[{epoch+1}/{num_epochs}] Loss: {running_loss/i:.6f}, Acc: {running_acc/i:.6f}')\n",
    "    print(f'Finish {epoch+1} epoch, Loss: {running_loss/i:.6f}, Acc: {running_acc/i:.6f}')\n",
    "    \n",
    "    for name, parms in model.named_parameters():\n",
    "        if name in ['layer3.0.bias', 'layer3.0.bias']:\n",
    "            print('\\t', name, 'grad_requirs:', parms.requires_grad, \n",
    "                  'weight', torch.mean(parms.data),\n",
    "                  'grad_value:', torch.mean(parms.grad)\n",
    "                  )"
   ]
  },
  {
   "cell_type": "code",
   "execution_count": 140,
   "metadata": {},
   "outputs": [
    {
     "data": {
      "text/plain": [
       "tensor([1, 0, 1, 1, 1, 0, 1, 0, 0, 0, 0, 0, 1, 0, 0, 0, 1, 1, 0, 1, 1, 1, 1, 0,\n",
       "        0, 0, 0, 0, 0, 0, 1, 0, 1, 0, 1, 1, 0, 0, 1, 1, 1, 0, 1, 0, 1, 1, 0, 1,\n",
       "        1, 0, 1, 1, 0, 1, 0, 1, 0, 1, 0, 1, 0, 0, 0, 0, 0, 0, 0, 1, 0, 1, 0, 1,\n",
       "        0, 1, 1, 0, 0, 1, 0, 0, 0, 1, 1, 1, 0, 0, 1, 0, 1, 0, 0, 1, 1, 0, 1, 0,\n",
       "        1, 1, 1, 0, 1, 1, 1, 1, 1, 0, 0, 1, 0, 1, 0, 1, 1, 1, 0, 1, 0, 1, 1, 0,\n",
       "        1, 1, 1, 1, 0, 0, 0, 0, 0, 0, 1, 0, 0, 1, 1, 0, 1, 0, 0, 1, 1, 0, 0, 1,\n",
       "        1, 0, 0, 0, 1, 0, 0, 1, 1, 0, 1, 0, 0, 1, 1, 0, 0, 1, 1, 1, 0, 1, 1, 0,\n",
       "        0])"
      ]
     },
     "execution_count": 140,
     "metadata": {},
     "output_type": "execute_result"
    }
   ],
   "source": [
    "label"
   ]
  },
  {
   "cell_type": "code",
   "execution_count": 21,
   "metadata": {},
   "outputs": [
    {
     "name": "stdout",
     "output_type": "stream",
     "text": [
      "False\n",
      "None\n"
     ]
    }
   ],
   "source": [
    "for i, batch in enumerate(train_loader, 1): # 枚举函数enumerate返回下标和值\n",
    "        data, label = batch\n",
    "        print(data.requires_grad)\n",
    "        print(data.grad)\n",
    "        break"
   ]
  },
  {
   "cell_type": "code",
   "execution_count": 22,
   "metadata": {},
   "outputs": [
    {
     "data": {
      "text/plain": [
       "torch.Size([64, 4, 400])"
      ]
     },
     "execution_count": 22,
     "metadata": {},
     "output_type": "execute_result"
    }
   ],
   "source": [
    "data.shape"
   ]
  },
  {
   "cell_type": "code",
   "execution_count": null,
   "metadata": {},
   "outputs": [],
   "source": []
  }
 ],
 "metadata": {
  "kernelspec": {
   "display_name": "Python 3.7.11 ('base')",
   "language": "python",
   "name": "python3"
  },
  "language_info": {
   "codemirror_mode": {
    "name": "ipython",
    "version": 3
   },
   "file_extension": ".py",
   "mimetype": "text/x-python",
   "name": "python",
   "nbconvert_exporter": "python",
   "pygments_lexer": "ipython3",
   "version": "3.7.11"
  },
  "orig_nbformat": 4,
  "vscode": {
   "interpreter": {
    "hash": "13e5bb8e298584c2ac3139085defc83b48703aa1260fc05df28d0eb98c842854"
   }
  }
 },
 "nbformat": 4,
 "nbformat_minor": 2
}
